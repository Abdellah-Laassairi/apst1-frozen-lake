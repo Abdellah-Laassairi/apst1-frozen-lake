{
 "cells": [
  {
   "cell_type": "markdown",
   "id": "47e95e94",
   "metadata": {},
   "source": [
    "# REINFORCE : Acrobot"
   ]
  },
  {
   "cell_type": "code",
   "execution_count": 1,
   "id": "74a56892",
   "metadata": {},
   "outputs": [],
   "source": [
    "import numpy as np\n",
    "import gymnasium as gym"
   ]
  },
  {
   "cell_type": "code",
   "execution_count": 2,
   "id": "aaa77d5b",
   "metadata": {},
   "outputs": [],
   "source": [
    "env = gym.make(\"Acrobot-v1\", render_mode = None)\n",
    "n_actions = env.action_space.n\n",
    "shape_states = env.observation_space.shape"
   ]
  },
  {
   "cell_type": "code",
   "execution_count": 3,
   "id": "096a0b50",
   "metadata": {},
   "outputs": [
    {
     "data": {
      "text/plain": [
       "(array([ 0.9969371 ,  0.07820751,  0.9953352 ,  0.09647713, -0.02728626,\n",
       "        -0.04081814], dtype=float32),\n",
       " {})"
      ]
     },
     "execution_count": 3,
     "metadata": {},
     "output_type": "execute_result"
    }
   ],
   "source": [
    "env.reset()"
   ]
  },
  {
   "cell_type": "markdown",
   "id": "f41c5252",
   "metadata": {},
   "source": [
    "## REINFORCE par paramétrisation"
   ]
  },
  {
   "cell_type": "markdown",
   "id": "d94883ea",
   "metadata": {},
   "source": [
    "On va utiliser la fonction softmax pour paramétriser la politique. La fonction softmax prend en entrée un vecteur de paramètres $\\theta$ et renvoie un vecteur de probabilité de même taille. "
   ]
  },
  {
   "cell_type": "markdown",
   "id": "dbf99b94",
   "metadata": {},
   "source": [
    "The log-softmax function is defined as follows:\n",
    "\n",
    "$$\\log\\left(\\frac{\\exp(z_i)}{\\sum_j \\exp(z_j)}\\right)$$\n",
    "\n",
    "where $z_i$ is the $i$-th element of a vector of logits. The gradient of the log-softmax function with respect to the logits is:\n",
    "\n",
    "$$\\frac{\\partial}{\\partial z_i} \\log\\left(\\frac{\\exp(z_i)}{\\sum_j \\exp(z_j)}\\right) = \\frac{\\partial}{\\partial z_i} \\left( z_i - \\log\\left(\\sum_j \\exp(z_j)\\right) \\right)$$\n",
    "\n",
    "To compute this gradient, we can start by taking the derivative of the logarithm term:\n",
    "\n",
    "$$\\frac{\\partial}{\\partial z_i} \\log\\left(\\sum_j \\exp(z_j)\\right) = \\frac{1}{\\sum_j \\exp(z_j)} \\cdot \\frac{\\partial}{\\partial z_i} \\sum_j \\exp(z_j)$$\n",
    "\n",
    "Note that the sum in the denominator is over all the logits $z_j$, and the sum in the numerator is only over the logits that correspond to the $i$-th action. Therefore, we can simplify the expression as follows:\n",
    "\n",
    "$$\\frac{\\partial}{\\partial z_i} \\log\\left(\\sum_j \\exp(z_j)\\right) = \\frac{\\exp(z_i)}{\\sum_j \\exp(z_j)}$$\n",
    "\n",
    "Next, we can use the chain rule to compute the derivative of the entire log-softmax function:\n",
    "\n",
    "$$\\frac{\\partial}{\\partial z_i} \\log\\left(\\frac{\\exp(z_i)}{\\sum_j \\exp(z_j)}\\right) = \\frac{\\partial}{\\partial z_i} \\left( z_i - \\log\\left(\\sum_j \\exp(z_j)\\right) \\right) = 1 - \\frac{\\exp(z_i)}{\\sum_j \\exp(z_j)} = 1 - \\mathrm{softmax}(z)_i$$\n",
    "\n",
    "where $\\mathrm{softmax}(z)_i$ is the $i$-th element of the softmax function applied to the logits $z$. Therefore, the gradient of the log-softmax function with respect to the logits is simply the difference between 1 and the probability of selecting the $i$-th action according to the softmax function"
   ]
  },
  {
   "cell_type": "code",
   "execution_count": 4,
   "id": "28baa8ff",
   "metadata": {},
   "outputs": [],
   "source": [
    "def softmax(alpha) :\n",
    "    proba = np.exp(alpha)\n",
    "    return proba/proba.sum()\n",
    "\n",
    "def parametrization(x, theta) :\n",
    "    return softmax(np.dot(np.transpose(x), theta))"
   ]
  },
  {
   "cell_type": "code",
   "execution_count": 5,
   "id": "4d842686",
   "metadata": {},
   "outputs": [],
   "source": [
    "def REINFORCE(env, learning_rate, initial_param, episodes, steps, gamma) :\n",
    "    \n",
    "    params = initial_param\n",
    "    \n",
    "    for ep in range(episodes) :\n",
    "        env.reset()\n",
    "        \n",
    "        states = []\n",
    "        actions = []\n",
    "        rewards = []\n",
    "        proba = []\n",
    "        \n",
    "        for stp in range(steps) :\n",
    "            \n",
    "            state = env.state\n",
    "            states.append(state)\n",
    "\n",
    "            proba_vector = parametrization(state, params)\n",
    "            proba.append(proba_vector)\n",
    "\n",
    "            action = np.random.choice([0, 1, 2], p = proba_vector)\n",
    "                \n",
    "            actions.append(action)\n",
    "            \n",
    "            observation, reward, terminated, truncated, info = env.step(action)\n",
    "            \n",
    "            rewards.append(reward)\n",
    "            \n",
    "            if terminated or truncated :\n",
    "                break\n",
    "        \n",
    "        for t in range(len(actions)) :\n",
    "            G = 0\n",
    "            for k in range(t+1, len(actions)) :\n",
    "                G += gamma**(k - t - 1)*rewards[k]\n",
    "\n",
    "            params[: , actions[t]] += learning_rate*gamma**t*G*(1 - proba[t])[actions[t]]\n",
    "            \n",
    "    return params"
   ]
  },
  {
   "cell_type": "code",
   "execution_count": 6,
   "id": "a736b1ef",
   "metadata": {},
   "outputs": [],
   "source": [
    "param_opt = REINFORCE(env, learning_rate = 0.0001, initial_param = np.ones((4, 3)), episodes = 10000, steps = 100, gamma = 0.8)"
   ]
  },
  {
   "cell_type": "code",
   "execution_count": 7,
   "id": "5719e88c",
   "metadata": {},
   "outputs": [
    {
     "data": {
      "text/plain": [
       "array([[-4.55779489, -4.56020871, -4.54849338],\n",
       "       [-4.55779489, -4.56020871, -4.54849338],\n",
       "       [-4.55779489, -4.56020871, -4.54849338],\n",
       "       [-4.55779489, -4.56020871, -4.54849338]])"
      ]
     },
     "execution_count": 7,
     "metadata": {},
     "output_type": "execute_result"
    }
   ],
   "source": [
    "param_opt"
   ]
  },
  {
   "cell_type": "code",
   "execution_count": 10,
   "id": "7b906740",
   "metadata": {},
   "outputs": [],
   "source": [
    "env = gym.make(\"Acrobot-v1\", render_mode = 'human')\n",
    "obs, info = env.reset()\n",
    "\n",
    "reward = 0\n",
    "while True :\n",
    "    \n",
    "    proba = parametrization(env.state, param_opt)\n",
    "    action = np.random.choice([0, 1, 2], p = proba)\n",
    "    \n",
    "    s, r, done, tr,_ = env.step(action)\n",
    "    \n",
    "    reward += r\n",
    "    \n",
    "    if done :\n",
    "        break\n",
    "        \n",
    "env.close()"
   ]
  }
 ],
 "metadata": {
  "kernelspec": {
   "display_name": "Python 3",
   "language": "python",
   "name": "python3"
  },
  "language_info": {
   "codemirror_mode": {
    "name": "ipython",
    "version": 3
   },
   "file_extension": ".py",
   "mimetype": "text/x-python",
   "name": "python",
   "nbconvert_exporter": "python",
   "pygments_lexer": "ipython3",
   "version": "3.10.6"
  },
  "vscode": {
   "interpreter": {
    "hash": "916dbcbb3f70747c44a77c7bcd40155683ae19c65e1c03b4aa3499c5328201f1"
   }
  }
 },
 "nbformat": 4,
 "nbformat_minor": 5
}
