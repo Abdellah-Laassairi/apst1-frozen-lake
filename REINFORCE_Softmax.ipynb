{
 "cells": [
  {
   "cell_type": "markdown",
   "id": "47e95e94",
   "metadata": {},
   "source": [
    "# REINFORCE : Acrobot"
   ]
  },
  {
   "cell_type": "code",
   "execution_count": 1,
   "id": "74a56892",
   "metadata": {},
   "outputs": [],
   "source": [
    "import numpy as np\n",
    "import gymnasium as gym"
   ]
  },
  {
   "cell_type": "code",
   "execution_count": 8,
   "id": "aaa77d5b",
   "metadata": {},
   "outputs": [],
   "source": [
    "env = gym.make(\"Acrobot-v1\", render_mode = None)\n",
    "n_actions = env.action_space.n\n",
    "shape_states = env.observation_space.shape"
   ]
  },
  {
   "cell_type": "code",
   "execution_count": 9,
   "id": "096a0b50",
   "metadata": {},
   "outputs": [
    {
     "data": {
      "text/plain": [
       "(array([ 0.99830556, -0.05818904,  0.9965354 , -0.08316938, -0.05834483,\n",
       "        -0.0116648 ], dtype=float32),\n",
       " {})"
      ]
     },
     "execution_count": 9,
     "metadata": {},
     "output_type": "execute_result"
    }
   ],
   "source": [
    "env.reset()"
   ]
  },
  {
   "cell_type": "markdown",
   "id": "f41c5252",
   "metadata": {},
   "source": [
    "## REINFORCE par paramétrisation"
   ]
  },
  {
   "cell_type": "markdown",
   "id": "d94883ea",
   "metadata": {},
   "source": [
    "On va utiliser la fonction softmax pour paramétriser la politique. La fonction softmax prend en entrée un vecteur de paramètres $\\theta$ et renvoie un vecteur de probabilité de même taille. "
   ]
  },
  {
   "cell_type": "markdown",
   "id": "dbf99b94",
   "metadata": {},
   "source": [
    "The log-softmax function is defined as follows:\n",
    "\n",
    "$$\\log\\left(\\frac{\\exp(z_i)}{\\sum_j \\exp(z_j)}\\right)$$\n",
    "\n",
    "where $z_i$ is the $i$-th element of a vector of logits. The gradient of the log-softmax function with respect to the logits is:\n",
    "\n",
    "$$\\frac{\\partial}{\\partial z_i} \\log\\left(\\frac{\\exp(z_i)}{\\sum_j \\exp(z_j)}\\right) = \\frac{\\partial}{\\partial z_i} \\left( z_i - \\log\\left(\\sum_j \\exp(z_j)\\right) \\right)$$\n",
    "\n",
    "To compute this gradient, we can start by taking the derivative of the logarithm term:\n",
    "\n",
    "$$\\frac{\\partial}{\\partial z_i} \\log\\left(\\sum_j \\exp(z_j)\\right) = \\frac{1}{\\sum_j \\exp(z_j)} \\cdot \\frac{\\partial}{\\partial z_i} \\sum_j \\exp(z_j)$$\n",
    "\n",
    "Note that the sum in the denominator is over all the logits $z_j$, and the sum in the numerator is only over the logits that correspond to the $i$-th action. Therefore, we can simplify the expression as follows:\n",
    "\n",
    "$$\\frac{\\partial}{\\partial z_i} \\log\\left(\\sum_j \\exp(z_j)\\right) = \\frac{\\exp(z_i)}{\\sum_j \\exp(z_j)}$$\n",
    "\n",
    "Next, we can use the chain rule to compute the derivative of the entire log-softmax function:\n",
    "\n",
    "$$\\frac{\\partial}{\\partial z_i} \\log\\left(\\frac{\\exp(z_i)}{\\sum_j \\exp(z_j)}\\right) = \\frac{\\partial}{\\partial z_i} \\left( z_i - \\log\\left(\\sum_j \\exp(z_j)\\right) \\right) = 1 - \\frac{\\exp(z_i)}{\\sum_j \\exp(z_j)} = 1 - \\mathrm{softmax}(z)_i$$\n",
    "\n",
    "where $\\mathrm{softmax}(z)_i$ is the $i$-th element of the softmax function applied to the logits $z$. Therefore, the gradient of the log-softmax function with respect to the logits is simply the difference between 1 and the probability of selecting the $i$-th action according to the softmax function"
   ]
  },
  {
   "cell_type": "code",
   "execution_count": 17,
   "id": "28baa8ff",
   "metadata": {},
   "outputs": [],
   "source": [
    "def softmax(alpha) :\n",
    "    proba = np.exp(alpha)\n",
    "    return proba/proba.sum()\n",
    "\n",
    "def parametrization(x, theta) :\n",
    "    return softmax(np.dot(np.transpose(x), theta))"
   ]
  },
  {
   "cell_type": "code",
   "execution_count": 51,
   "id": "4d842686",
   "metadata": {},
   "outputs": [],
   "source": [
    "def REINFORCE(env, learning_rate, initial_param, episodes, steps, gamma) :\n",
    "    \n",
    "    params = initial_param\n",
    "    \n",
    "    for ep in range(episodes) :\n",
    "        env.reset()\n",
    "        \n",
    "        states = []\n",
    "        actions = []\n",
    "        rewards = []\n",
    "        proba = []\n",
    "        \n",
    "        for stp in range(steps) :\n",
    "            \n",
    "            state = env.state\n",
    "            states.append(state)\n",
    "\n",
    "            proba_vector = parametrization(state, params)\n",
    "            proba.append(proba_vector)\n",
    "\n",
    "            action = np.random.choice([0, 1, 2], p = proba_vector)\n",
    "                \n",
    "            actions.append(action)\n",
    "            \n",
    "            observation, reward, terminated, truncated, info = env.step(action)\n",
    "            \n",
    "            rewards.append(reward)\n",
    "            \n",
    "            if terminated or truncated :\n",
    "                break\n",
    "        \n",
    "        for t in range(len(actions)) :\n",
    "            G = 0\n",
    "            for k in range(t+1, len(actions)) :\n",
    "                G += gamma**(k - t - 1)*rewards[k]\n",
    "\n",
    "            params[: , actions[t]] += learning_rate*gamma**t*G*(1 - proba[t])[actions[t]]\n",
    "            \n",
    "    return params"
   ]
  },
  {
   "cell_type": "code",
   "execution_count": 53,
   "id": "a736b1ef",
   "metadata": {},
   "outputs": [],
   "source": [
    "param_opt = REINFORCE(env, learning_rate = 0.0001, initial_param = np.ones((4, 3)), episodes = 10000, steps = 100, gamma = 0.8)"
   ]
  },
  {
   "cell_type": "code",
   "execution_count": 54,
   "id": "5719e88c",
   "metadata": {},
   "outputs": [
    {
     "data": {
      "text/plain": [
       "array([[-4.54859299, -4.57261727, -4.54538462],\n",
       "       [-4.54859299, -4.57261727, -4.54538462],\n",
       "       [-4.54859299, -4.57261727, -4.54538462],\n",
       "       [-4.54859299, -4.57261727, -4.54538462]])"
      ]
     },
     "execution_count": 54,
     "metadata": {},
     "output_type": "execute_result"
    }
   ],
   "source": [
    "param_opt"
   ]
  },
  {
   "cell_type": "code",
   "execution_count": 56,
   "id": "7b906740",
   "metadata": {},
   "outputs": [
    {
     "ename": "KeyboardInterrupt",
     "evalue": "",
     "output_type": "error",
     "traceback": [
      "\u001b[1;31m---------------------------------------------------------------------------\u001b[0m",
      "\u001b[1;31mKeyboardInterrupt\u001b[0m                         Traceback (most recent call last)",
      "Input \u001b[1;32mIn [56]\u001b[0m, in \u001b[0;36m<cell line: 7>\u001b[1;34m()\u001b[0m\n\u001b[0;32m      7\u001b[0m proba \u001b[38;5;241m=\u001b[39m parametrization(env\u001b[38;5;241m.\u001b[39mstate, param_opt)\n\u001b[0;32m      8\u001b[0m action \u001b[38;5;241m=\u001b[39m np\u001b[38;5;241m.\u001b[39mrandom\u001b[38;5;241m.\u001b[39mchoice([\u001b[38;5;241m0\u001b[39m, \u001b[38;5;241m1\u001b[39m, \u001b[38;5;241m2\u001b[39m], p \u001b[38;5;241m=\u001b[39m proba)\n\u001b[1;32m---> 10\u001b[0m s, r, done, tr,_ \u001b[38;5;241m=\u001b[39m \u001b[43menv\u001b[49m\u001b[38;5;241;43m.\u001b[39;49m\u001b[43mstep\u001b[49m\u001b[43m(\u001b[49m\u001b[43maction\u001b[49m\u001b[43m)\u001b[49m\n\u001b[0;32m     12\u001b[0m reward \u001b[38;5;241m+\u001b[39m\u001b[38;5;241m=\u001b[39m r\n\u001b[0;32m     14\u001b[0m \u001b[38;5;28;01mif\u001b[39;00m terminated \u001b[38;5;129;01mor\u001b[39;00m truncated :\n",
      "File \u001b[1;32m~\\anaconda3\\lib\\site-packages\\gymnasium\\wrappers\\time_limit.py:51\u001b[0m, in \u001b[0;36mTimeLimit.step\u001b[1;34m(self, action)\u001b[0m\n\u001b[0;32m     40\u001b[0m \u001b[38;5;28;01mdef\u001b[39;00m \u001b[38;5;21mstep\u001b[39m(\u001b[38;5;28mself\u001b[39m, action):\n\u001b[0;32m     41\u001b[0m     \u001b[38;5;124;03m\"\"\"Steps through the environment and if the number of steps elapsed exceeds ``max_episode_steps`` then truncate.\u001b[39;00m\n\u001b[0;32m     42\u001b[0m \n\u001b[0;32m     43\u001b[0m \u001b[38;5;124;03m    Args:\u001b[39;00m\n\u001b[1;32m   (...)\u001b[0m\n\u001b[0;32m     49\u001b[0m \n\u001b[0;32m     50\u001b[0m \u001b[38;5;124;03m    \"\"\"\u001b[39;00m\n\u001b[1;32m---> 51\u001b[0m     observation, reward, terminated, truncated, info \u001b[38;5;241m=\u001b[39m \u001b[38;5;28;43mself\u001b[39;49m\u001b[38;5;241;43m.\u001b[39;49m\u001b[43menv\u001b[49m\u001b[38;5;241;43m.\u001b[39;49m\u001b[43mstep\u001b[49m\u001b[43m(\u001b[49m\u001b[43maction\u001b[49m\u001b[43m)\u001b[49m\n\u001b[0;32m     52\u001b[0m     \u001b[38;5;28mself\u001b[39m\u001b[38;5;241m.\u001b[39m_elapsed_steps \u001b[38;5;241m+\u001b[39m\u001b[38;5;241m=\u001b[39m \u001b[38;5;241m1\u001b[39m\n\u001b[0;32m     54\u001b[0m     \u001b[38;5;28;01mif\u001b[39;00m \u001b[38;5;28mself\u001b[39m\u001b[38;5;241m.\u001b[39m_elapsed_steps \u001b[38;5;241m>\u001b[39m\u001b[38;5;241m=\u001b[39m \u001b[38;5;28mself\u001b[39m\u001b[38;5;241m.\u001b[39m_max_episode_steps:\n",
      "File \u001b[1;32m~\\anaconda3\\lib\\site-packages\\gymnasium\\wrappers\\order_enforcing.py:38\u001b[0m, in \u001b[0;36mOrderEnforcing.step\u001b[1;34m(self, action)\u001b[0m\n\u001b[0;32m     36\u001b[0m \u001b[38;5;28;01mif\u001b[39;00m \u001b[38;5;129;01mnot\u001b[39;00m \u001b[38;5;28mself\u001b[39m\u001b[38;5;241m.\u001b[39m_has_reset:\n\u001b[0;32m     37\u001b[0m     \u001b[38;5;28;01mraise\u001b[39;00m ResetNeeded(\u001b[38;5;124m\"\u001b[39m\u001b[38;5;124mCannot call env.step() before calling env.reset()\u001b[39m\u001b[38;5;124m\"\u001b[39m)\n\u001b[1;32m---> 38\u001b[0m \u001b[38;5;28;01mreturn\u001b[39;00m \u001b[38;5;28;43mself\u001b[39;49m\u001b[38;5;241;43m.\u001b[39;49m\u001b[43menv\u001b[49m\u001b[38;5;241;43m.\u001b[39;49m\u001b[43mstep\u001b[49m\u001b[43m(\u001b[49m\u001b[43maction\u001b[49m\u001b[43m)\u001b[49m\n",
      "File \u001b[1;32m~\\anaconda3\\lib\\site-packages\\gymnasium\\wrappers\\env_checker.py:39\u001b[0m, in \u001b[0;36mPassiveEnvChecker.step\u001b[1;34m(self, action)\u001b[0m\n\u001b[0;32m     37\u001b[0m     \u001b[38;5;28;01mreturn\u001b[39;00m env_step_passive_checker(\u001b[38;5;28mself\u001b[39m\u001b[38;5;241m.\u001b[39menv, action)\n\u001b[0;32m     38\u001b[0m \u001b[38;5;28;01melse\u001b[39;00m:\n\u001b[1;32m---> 39\u001b[0m     \u001b[38;5;28;01mreturn\u001b[39;00m \u001b[38;5;28;43mself\u001b[39;49m\u001b[38;5;241;43m.\u001b[39;49m\u001b[43menv\u001b[49m\u001b[38;5;241;43m.\u001b[39;49m\u001b[43mstep\u001b[49m\u001b[43m(\u001b[49m\u001b[43maction\u001b[49m\u001b[43m)\u001b[49m\n",
      "File \u001b[1;32m~\\anaconda3\\lib\\site-packages\\gymnasium\\envs\\classic_control\\acrobot.py:227\u001b[0m, in \u001b[0;36mAcrobotEnv.step\u001b[1;34m(self, a)\u001b[0m\n\u001b[0;32m    224\u001b[0m reward \u001b[38;5;241m=\u001b[39m \u001b[38;5;241m-\u001b[39m\u001b[38;5;241m1.0\u001b[39m \u001b[38;5;28;01mif\u001b[39;00m \u001b[38;5;129;01mnot\u001b[39;00m terminated \u001b[38;5;28;01melse\u001b[39;00m \u001b[38;5;241m0.0\u001b[39m\n\u001b[0;32m    226\u001b[0m \u001b[38;5;28;01mif\u001b[39;00m \u001b[38;5;28mself\u001b[39m\u001b[38;5;241m.\u001b[39mrender_mode \u001b[38;5;241m==\u001b[39m \u001b[38;5;124m\"\u001b[39m\u001b[38;5;124mhuman\u001b[39m\u001b[38;5;124m\"\u001b[39m:\n\u001b[1;32m--> 227\u001b[0m     \u001b[38;5;28;43mself\u001b[39;49m\u001b[38;5;241;43m.\u001b[39;49m\u001b[43mrender\u001b[49m\u001b[43m(\u001b[49m\u001b[43m)\u001b[49m\n\u001b[0;32m    228\u001b[0m \u001b[38;5;28;01mreturn\u001b[39;00m (\u001b[38;5;28mself\u001b[39m\u001b[38;5;241m.\u001b[39m_get_ob(), reward, terminated, \u001b[38;5;28;01mFalse\u001b[39;00m, {})\n",
      "File \u001b[1;32m~\\anaconda3\\lib\\site-packages\\gymnasium\\envs\\classic_control\\acrobot.py:367\u001b[0m, in \u001b[0;36mAcrobotEnv.render\u001b[1;34m(self)\u001b[0m\n\u001b[0;32m    365\u001b[0m \u001b[38;5;28;01mif\u001b[39;00m \u001b[38;5;28mself\u001b[39m\u001b[38;5;241m.\u001b[39mrender_mode \u001b[38;5;241m==\u001b[39m \u001b[38;5;124m\"\u001b[39m\u001b[38;5;124mhuman\u001b[39m\u001b[38;5;124m\"\u001b[39m:\n\u001b[0;32m    366\u001b[0m     pygame\u001b[38;5;241m.\u001b[39mevent\u001b[38;5;241m.\u001b[39mpump()\n\u001b[1;32m--> 367\u001b[0m     \u001b[38;5;28;43mself\u001b[39;49m\u001b[38;5;241;43m.\u001b[39;49m\u001b[43mclock\u001b[49m\u001b[38;5;241;43m.\u001b[39;49m\u001b[43mtick\u001b[49m\u001b[43m(\u001b[49m\u001b[38;5;28;43mself\u001b[39;49m\u001b[38;5;241;43m.\u001b[39;49m\u001b[43mmetadata\u001b[49m\u001b[43m[\u001b[49m\u001b[38;5;124;43m\"\u001b[39;49m\u001b[38;5;124;43mrender_fps\u001b[39;49m\u001b[38;5;124;43m\"\u001b[39;49m\u001b[43m]\u001b[49m\u001b[43m)\u001b[49m\n\u001b[0;32m    368\u001b[0m     pygame\u001b[38;5;241m.\u001b[39mdisplay\u001b[38;5;241m.\u001b[39mflip()\n\u001b[0;32m    370\u001b[0m \u001b[38;5;28;01melif\u001b[39;00m \u001b[38;5;28mself\u001b[39m\u001b[38;5;241m.\u001b[39mrender_mode \u001b[38;5;241m==\u001b[39m \u001b[38;5;124m\"\u001b[39m\u001b[38;5;124mrgb_array\u001b[39m\u001b[38;5;124m\"\u001b[39m:\n",
      "\u001b[1;31mKeyboardInterrupt\u001b[0m: "
     ]
    }
   ],
   "source": [
    "env = gym.make(\"Acrobot-v1\", render_mode = 'human')\n",
    "obs, info = env.reset()\n",
    "\n",
    "reward = 0\n",
    "while True :\n",
    "    \n",
    "    proba = parametrization(env.state, param_opt)\n",
    "    action = np.random.choice([0, 1, 2], p = proba)\n",
    "    \n",
    "    s, r, done, tr,_ = env.step(action)\n",
    "    \n",
    "    reward += r\n",
    "    \n",
    "    if terminated or truncated :\n",
    "        break\n",
    "        \n",
    "env.close()"
   ]
  },
  {
   "cell_type": "code",
   "execution_count": null,
   "id": "e5f7b30f",
   "metadata": {},
   "outputs": [],
   "source": []
  }
 ],
 "metadata": {
  "kernelspec": {
   "display_name": "Python 3 (ipykernel)",
   "language": "python",
   "name": "python3"
  },
  "language_info": {
   "codemirror_mode": {
    "name": "ipython",
    "version": 3
   },
   "file_extension": ".py",
   "mimetype": "text/x-python",
   "name": "python",
   "nbconvert_exporter": "python",
   "pygments_lexer": "ipython3",
   "version": "3.9.12"
  }
 },
 "nbformat": 4,
 "nbformat_minor": 5
}
