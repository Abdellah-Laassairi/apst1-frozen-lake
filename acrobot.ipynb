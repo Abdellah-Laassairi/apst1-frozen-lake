{
 "cells": [
  {
   "cell_type": "markdown",
   "id": "47e95e94",
   "metadata": {},
   "source": [
    "# Acrobot : Reinforcement Learning\n",
    "\n",
    "![image](images/acrobot.gif)\n",
    "\n",
    "## Description\n",
    "The system consists of two links connected linearly to form a chain, with one end of the chain fixed. The joint between the two links is actuated. The goal is to apply torques on the actuated joint to swing the free end of the linear chain above a given height while starting from the initial state of hanging downwards.\n",
    "\n",
    "### Action Space\n",
    "The action is discrete, deterministic, and represents the torque applied on the actuated joint between the two links.\n",
    "- 0 : apply -1 torque to the actuated joint\n",
    "- 1 : apply 0 torque to the actuated joint\n",
    "- 2 : apply 1 torque to the actuated joint\n",
    "\n",
    "### Observation Space\n",
    "The observation is a ndarray with shape (6,) that provides information about the two rotational joint angles as well as their angular velocities.\n",
    "- 0 : cosine of theta1 [-1, 1]\n",
    "- 1 : sine of theta1 [-1, 1]\n",
    "- 2 : cosine of theta2 [-1, 1]\n",
    "- 3 : sine of theta2 [-1, 1]\n",
    "- 4 : angular velocity of theta1 [-12.567 (-4 * pi), 12.567 (4 * pi)]\n",
    "- 5 : angular velocity of theta2 [-28.274 (-9 * pi), 28.274 (9 * pi)]\n",
    "\n",
    "### Starting State\n",
    "Each parameter in the underlying state (theta1, theta2, and the two angular velocities) is initialized uniformly between -0.1 and 0.1. This means both links are pointing downwards with some initial stochasticity.\n",
    "\n",
    "### Reward\n",
    "The goal is to have the free end reach a designated target height in as few steps as possible, and as such all steps that do not reach the goal incur a reward of -1. Achieving the target height results in termination with a reward of 0. The reward threshold is -100.\n",
    "\n",
    "### Episode End\n",
    "The episode ends if one of the following occurs:\n",
    "- Termination: The free end reaches the target height, which is constructed as: -cos(theta1) - cos(theta2 + theta1) > 1.0\n",
    "- Truncation: Episode length is greater than 500 (200 for v0)"
   ]
  },
  {
   "cell_type": "code",
   "execution_count": 2,
   "id": "74a56892",
   "metadata": {},
   "outputs": [],
   "source": [
    "import numpy as np\n",
    "import gymnasium as gym\n",
    "from tqdm import *\n",
    "import matplotlib.pyplot as plt"
   ]
  },
  {
   "cell_type": "code",
   "execution_count": 3,
   "id": "aaa77d5b",
   "metadata": {},
   "outputs": [],
   "source": [
    "env = gym.make(\"Acrobot-v1\", render_mode = None)\n",
    "n_actions = env.action_space.n\n",
    "shape_states = env.observation_space.shape\n",
    "np.random.seed(42)"
   ]
  },
  {
   "cell_type": "markdown",
   "id": "f41c5252",
   "metadata": {},
   "source": [
    "## I. REINFORCE par paramétrisation"
   ]
  },
  {
   "cell_type": "markdown",
   "id": "80a4b025",
   "metadata": {},
   "source": [
    "## Softmax Code"
   ]
  },
  {
   "cell_type": "markdown",
   "id": "d94883ea",
   "metadata": {},
   "source": [
    "On va utiliser la fonction softmax pour paramétriser la politique. La fonction softmax prend en entrée un vecteur de paramètres $\\theta$ et renvoie un vecteur de probabilité de même taille. "
   ]
  },
  {
   "cell_type": "markdown",
   "id": "dbf99b94",
   "metadata": {},
   "source": [
    "The log-softmax function is defined as follows:\n",
    "\n",
    "$$\\log\\left(\\frac{\\exp(z_i)}{\\sum_j \\exp(z_j)}\\right)$$\n",
    "\n",
    "where $z_i$ is the $i$-th element of a vector of logits. The gradient of the log-softmax function with respect to the logits is:\n",
    "\n",
    "$$\\frac{\\partial}{\\partial z_i} \\log\\left(\\frac{\\exp(z_i)}{\\sum_j \\exp(z_j)}\\right) = \\frac{\\partial}{\\partial z_i} \\left( z_i - \\log\\left(\\sum_j \\exp(z_j)\\right) \\right)$$\n",
    "\n",
    "To compute this gradient, we can start by taking the derivative of the logarithm term:\n",
    "\n",
    "$$\\frac{\\partial}{\\partial z_i} \\log\\left(\\sum_j \\exp(z_j)\\right) = \\frac{1}{\\sum_j \\exp(z_j)} \\cdot \\frac{\\partial}{\\partial z_i} \\sum_j \\exp(z_j)$$\n",
    "\n",
    "Note that the sum in the denominator is over all the logits $z_j$, and the sum in the numerator is only over the logits that correspond to the $i$-th action. Therefore, we can simplify the expression as follows:\n",
    "\n",
    "$$\\frac{\\partial}{\\partial z_i} \\log\\left(\\sum_j \\exp(z_j)\\right) = \\frac{\\exp(z_i)}{\\sum_j \\exp(z_j)}$$\n",
    "\n",
    "Next, we can use the chain rule to compute the derivative of the entire log-softmax function:\n",
    "\n",
    "$$\\frac{\\partial}{\\partial z_i} \\log\\left(\\frac{\\exp(z_i)}{\\sum_j \\exp(z_j)}\\right) = \\frac{\\partial}{\\partial z_i} \\left( z_i - \\log\\left(\\sum_j \\exp(z_j)\\right) \\right) = 1 - \\frac{\\exp(z_i)}{\\sum_j \\exp(z_j)} = 1 - \\mathrm{softmax}(z)_i$$\n",
    "\n",
    "where $\\mathrm{softmax}(z)_i$ is the $i$-th element of the softmax function applied to the logits $z$. Therefore, the gradient of the log-softmax function with respect to the logits is simply the difference between 1 and the probability of selecting the $i$-th action according to the softmax function"
   ]
  },
  {
   "cell_type": "code",
   "execution_count": 3,
   "id": "28baa8ff",
   "metadata": {},
   "outputs": [],
   "source": [
    "def softmax(alpha) :\n",
    "    proba = np.exp(alpha)\n",
    "    return proba/proba.sum()\n",
    "\n",
    "def softmax_grad(softmax):\n",
    "    s = softmax.reshape(-1,1)\n",
    "    return np.diagflat(s) - np.dot(s, s.T)\n",
    "\n",
    "def parametrization(x,theta):\n",
    "    z = x.dot(theta)\n",
    "    return softmax(z)"
   ]
  },
  {
   "cell_type": "code",
   "execution_count": 4,
   "id": "175959d8",
   "metadata": {},
   "outputs": [],
   "source": [
    "def REINFORCE(env, learning_rate =0.000025,gamma = 0.99, num_episodes = 10000, max_steps=500):\n",
    "\n",
    "    n_actions = env.action_space.n\n",
    "    params = np.random.rand(6,n_actions)\n",
    "\n",
    "    print(\"Started REINFORCE Learning\")\n",
    "    for _ in trange(num_episodes):\n",
    "\n",
    "        state = env.reset()[0][None,:]\n",
    "\n",
    "        grads = []\n",
    "        rewards = []\n",
    "        score = 0\n",
    "\n",
    "        for _ in range(max_steps):\n",
    "\n",
    "            probs = parametrization(state,params)\n",
    "            action = np.random.choice(n_actions,p=probs[0])\n",
    "            next_state,reward,done,truncated, _ = env.step(action)\n",
    "            next_state = next_state[None,:] # For shape correctness\n",
    "\n",
    "            dsoftmax = softmax_grad(probs)[action,:]\n",
    "            dlog = dsoftmax / probs[0,action]\n",
    "            grad = state.T.dot(dlog[None,:])\n",
    "\n",
    "            grads.append(grad)\n",
    "            rewards.append(reward)\n",
    "\n",
    "            score+=reward\n",
    "\n",
    "            state = next_state\n",
    "\n",
    "            if done or truncated:\n",
    "                break\n",
    "\n",
    "        for i in range(len(grads)):\n",
    "            params += learning_rate * grads[i] * sum([ r * (gamma ** r) for t,r in enumerate(rewards[i:])])\n",
    "\n",
    "    print(\"Finished REINFORCE Learning\")\n",
    "    return params"
   ]
  },
  {
   "cell_type": "code",
   "execution_count": 5,
   "id": "7c057794",
   "metadata": {},
   "outputs": [
    {
     "name": "stdout",
     "output_type": "stream",
     "text": [
      "Started REINFORCE Learning\n"
     ]
    },
    {
     "name": "stderr",
     "output_type": "stream",
     "text": [
      "100%|██████████| 10000/10000 [02:57<00:00, 56.34it/s]"
     ]
    },
    {
     "name": "stdout",
     "output_type": "stream",
     "text": [
      "Finished REINFORCE Learning\n"
     ]
    },
    {
     "name": "stderr",
     "output_type": "stream",
     "text": [
      "\n"
     ]
    }
   ],
   "source": [
    "params = REINFORCE(env)"
   ]
  },
  {
   "cell_type": "code",
   "execution_count": 6,
   "id": "b54aa24f",
   "metadata": {},
   "outputs": [
    {
     "data": {
      "text/plain": [
       "(6, 3)"
      ]
     },
     "execution_count": 6,
     "metadata": {},
     "output_type": "execute_result"
    }
   ],
   "source": [
    "params.shape"
   ]
  },
  {
   "cell_type": "markdown",
   "id": "703a25a1",
   "metadata": {},
   "source": [
    "## Softmax Results"
   ]
  },
  {
   "cell_type": "code",
   "execution_count": 4,
   "id": "2ba4899b",
   "metadata": {},
   "outputs": [],
   "source": [
    "env = gym.make(\"Acrobot-v1\", render_mode = None)\n",
    "obs, info = env.reset()\n",
    "\n",
    "def agent_play(env, max_n_episodes=1000, max_steps=10000):\n",
    "    count = 0\n",
    "    rewards = []\n",
    "    num_steps = []\n",
    "    for _ in trange(max_n_episodes):\n",
    "        s=env.reset()[0][None,:]\n",
    "        total_reward = 0\n",
    "        for i in range(max_steps):\n",
    "            proba = parametrization(s, params)\n",
    "\n",
    "            action = np.random.choice([0, 1, 2], p = proba[0])\n",
    "            s, r, done, tr,_ = env.step(action)\n",
    "            s = s[None,:]\n",
    "            total_reward+=r\n",
    "            if done or tr: \n",
    "                rewards.append(total_reward)\n",
    "                num_steps.append(i+1)\n",
    "                count+=1\n",
    "                break\n",
    "    avg_num_steps = np.mean(num_steps)\n",
    "    print(f'Average number of steps = {avg_num_steps}')\n",
    "    return rewards, num_steps"
   ]
  },
  {
   "cell_type": "code",
   "execution_count": 8,
   "id": "6eac14f1",
   "metadata": {},
   "outputs": [
    {
     "name": "stderr",
     "output_type": "stream",
     "text": [
      "100%|██████████| 1000/1000 [00:14<00:00, 71.36it/s]"
     ]
    },
    {
     "name": "stdout",
     "output_type": "stream",
     "text": [
      "Average number of steps = 86.659\n"
     ]
    },
    {
     "name": "stderr",
     "output_type": "stream",
     "text": [
      "\n"
     ]
    }
   ],
   "source": [
    "rewards, num_steps = agent_play(env)"
   ]
  },
  {
   "cell_type": "code",
   "execution_count": 9,
   "id": "18731b67",
   "metadata": {},
   "outputs": [
    {
     "name": "stderr",
     "output_type": "stream",
     "text": [
      "C:\\Users\\leche\\AppData\\Local\\Temp\\ipykernel_74044\\3679638419.py:2: RuntimeWarning: divide by zero encountered in true_divide\n",
      "  plt.plot(np.arange(len(rewards)), np.cumsum(rewards)/np.arange(len(rewards)), label=\"Cumulative Average Reward for Reinforce algorithms\")\n"
     ]
    },
    {
     "data": {
      "image/png": "[encoded data removed]",
      "text/plain": [
       "<Figure size 1400x600 with 1 Axes>"
      ]
     },
     "metadata": {},
     "output_type": "display_data"
    }
   ],
   "source": [
    "fig, axes = plt.subplots(figsize=(14, 6))\n",
    "plt.plot(np.arange(len(rewards)), np.cumsum(rewards)/np.arange(len(rewards)), label=\"Cumulative Average Reward for Reinforce algorithms\")\n",
    "\n",
    "axes.set(xlabel='Episode', ylabel='Success Rate', title='Average Reward for Reinforce algorithms ')\n",
    "plt.legend()\n",
    "plt.show()"
   ]
  },
  {
   "cell_type": "markdown",
   "id": "a8a0b3aa",
   "metadata": {},
   "source": [
    "## Corrected Arctan Code"
   ]
  },
  {
   "cell_type": "code",
   "execution_count": 169,
   "id": "de04f0a1",
   "metadata": {},
   "outputs": [],
   "source": [
    "def corr_arctan(alpha):\n",
    "    proba = np.arctan(alpha)+np.array([np.pi/2 for a in alpha]) # pour avoir des proba non négatives\n",
    "    return proba/proba.sum()\n",
    "\n",
    "def corr_arctan_grad(alpha):\n",
    "    s = np.arctan(alpha)+np.array([np.pi/2 for a in alpha])\n",
    "    size = len(alpha)\n",
    "    grad = [[0 for a in range(size)] for b in range(size)]\n",
    "    for i in range(size):\n",
    "        for j in range(size):\n",
    "            if j!=i:\n",
    "                grad[j][i] = -s[i]/((1+alpha[j]**2)*(sum(s)**2))\n",
    "            else:\n",
    "                grad[j][i] = float((sum(s)-s[i])/((1+alpha[j]**2)*(sum(s)**2)))\n",
    "    return np.array(grad)\n",
    "\n",
    "def parametrization(x,theta):\n",
    "    z = x.dot(theta)\n",
    "    return corr_arctan(z)"
   ]
  },
  {
   "cell_type": "code",
   "execution_count": 170,
   "id": "fbf563ae",
   "metadata": {},
   "outputs": [],
   "source": [
    "def REINFORCE(env, learning_rate =0.000025,gamma = 0.99, num_episodes = 10000, max_steps=500):\n",
    "\n",
    "    n_actions = env.action_space.n\n",
    "    params = np.random.rand(6,n_actions)\n",
    "\n",
    "    print(\"Started REINFORCE Learning\")\n",
    "    for _ in trange(num_episodes):\n",
    "\n",
    "        state = env.reset()[0][None,:]\n",
    "\n",
    "        grads = []\n",
    "        rewards = []\n",
    "        score = 0\n",
    "\n",
    "        for _ in range(max_steps):\n",
    "\n",
    "            probs = parametrization(state,params)\n",
    "            action = np.random.choice(n_actions,p=probs[0])\n",
    "            next_state,reward,done,truncated, _ = env.step(action)\n",
    "            next_state = next_state[None,:] # For shape correctness\n",
    "\n",
    "            dcorr_arctan = corr_arctan_grad(probs[0])[action,:] # probs[0] au lieu de probs\n",
    "            dlog = dcorr_arctan / probs[0,action]\n",
    "            grad = state.T.dot(dlog[None,:])\n",
    "\n",
    "            grads.append(grad)\n",
    "            rewards.append(reward)\n",
    "\n",
    "            score+=reward\n",
    "\n",
    "            state = next_state\n",
    "\n",
    "            if done or truncated:\n",
    "                break\n",
    "\n",
    "        for i in range(len(grads)):\n",
    "            params += learning_rate * grads[i] * sum([ r * (gamma ** r) for t,r in enumerate(rewards[i:])])\n",
    "\n",
    "    print(\"Finished REINFORCE Learning\")\n",
    "    return params"
   ]
  },
  {
   "cell_type": "code",
   "execution_count": 171,
   "id": "8d09c0e9",
   "metadata": {},
   "outputs": [
    {
     "name": "stdout",
     "output_type": "stream",
     "text": [
      "Started REINFORCE Learning\n"
     ]
    },
    {
     "name": "stderr",
     "output_type": "stream",
     "text": [
      "100%|██████████| 10000/10000 [04:44<00:00, 35.10it/s]"
     ]
    },
    {
     "name": "stdout",
     "output_type": "stream",
     "text": [
      "Finished REINFORCE Learning\n"
     ]
    },
    {
     "name": "stderr",
     "output_type": "stream",
     "text": [
      "\n"
     ]
    }
   ],
   "source": [
    "params = REINFORCE(env)"
   ]
  },
  {
   "cell_type": "markdown",
   "id": "817456a0",
   "metadata": {},
   "source": [
    "## Corrected Arctan Results"
   ]
  },
  {
   "cell_type": "code",
   "execution_count": 172,
   "id": "83c704de",
   "metadata": {},
   "outputs": [
    {
     "name": "stderr",
     "output_type": "stream",
     "text": [
      "100%|██████████| 1000/1000 [00:20<00:00, 48.64it/s]"
     ]
    },
    {
     "name": "stdout",
     "output_type": "stream",
     "text": [
      "Average number of steps = 118.891\n"
     ]
    },
    {
     "name": "stderr",
     "output_type": "stream",
     "text": [
      "\n"
     ]
    }
   ],
   "source": [
    "env = gym.make(\"Acrobot-v1\", render_mode = None)\n",
    "obs, info = env.reset()\n",
    "\n",
    "rewards, num_steps = agent_play(env)"
   ]
  },
  {
   "cell_type": "code",
   "execution_count": 173,
   "id": "02a44da5",
   "metadata": {},
   "outputs": [
    {
     "name": "stderr",
     "output_type": "stream",
     "text": [
      "C:\\Users\\leche\\AppData\\Local\\Temp\\ipykernel_74044\\3471814334.py:2: RuntimeWarning: divide by zero encountered in true_divide\n",
      "  plt.plot(np.arange(len(rewards)), np.cumsum(rewards)/np.arange(len(rewards)), label=\"Cumulative Average Reward for Reinforce algorithms\")\n"
     ]
    },
    {
     "data": {
      "image/png": "[encoded data removed]",
      "text/plain": [
       "<Figure size 1400x600 with 1 Axes>"
      ]
     },
     "metadata": {},
     "output_type": "display_data"
    }
   ],
   "source": [
    "fig, axes = plt.subplots(figsize=(14, 6))\n",
    "plt.plot(np.arange(len(rewards)), np.cumsum(rewards)/np.arange(len(rewards)), label=\"Cumulative Average Reward for Reinforce algorithms\")\n",
    "\n",
    "axes.set(xlabel='Episode', ylabel='Success Rate', title='Average Reward for Reinforce algorithms with Corrected Arctan function')\n",
    "plt.legend()\n",
    "plt.show()"
   ]
  },
  {
   "cell_type": "markdown",
   "id": "ee0bb9bd",
   "metadata": {},
   "source": [
    "## Ln(1+Exp(x)) Code"
   ]
  },
  {
   "cell_type": "code",
   "execution_count": 5,
   "id": "8a892808",
   "metadata": {},
   "outputs": [],
   "source": [
    "def ln_exp(alpha):\n",
    "    proba = np.log(1+np.exp(alpha))\n",
    "    return proba/proba.sum()\n",
    "\n",
    "def ln_exp_grad(alpha):\n",
    "    s = np.log(1+np.exp(alpha))\n",
    "    size = len(alpha)\n",
    "    grad = [[0 for a in range(size)] for b in range(size)]\n",
    "    for i in range(size):\n",
    "        for j in range(size):\n",
    "            if j!=i:\n",
    "                grad[j][i] = -np.exp(alpha[j])*s[j]/((1+np.exp(alpha[j]))*(sum(s)**2))\n",
    "            else:\n",
    "                grad[j][i] = np.exp(alpha[i])*(sum(s)-s[i])/((1+np.exp(alpha[i]))*(sum(s)**2))\n",
    "    return np.array(grad)\n",
    "\n",
    "def parametrization(x,theta):\n",
    "    z = x.dot(theta)\n",
    "    return ln_exp(z)"
   ]
  },
  {
   "cell_type": "code",
   "execution_count": 6,
   "id": "46035ec3",
   "metadata": {},
   "outputs": [],
   "source": [
    "def REINFORCE(env, learning_rate =0.000025,gamma = 0.99, num_episodes = 10000, max_steps=500):\n",
    "\n",
    "    n_actions = env.action_space.n\n",
    "    params = np.random.rand(6,n_actions)\n",
    "\n",
    "    print(\"Started REINFORCE Learning\")\n",
    "    for _ in trange(num_episodes):\n",
    "\n",
    "        state = env.reset()[0][None,:]\n",
    "\n",
    "        grads = []\n",
    "        rewards = []\n",
    "        score = 0\n",
    "\n",
    "        for _ in range(max_steps):\n",
    "\n",
    "            probs = parametrization(state,params)\n",
    "            action = np.random.choice(n_actions,p=probs[0])\n",
    "            next_state,reward,done,truncated, _ = env.step(action)\n",
    "            next_state = next_state[None,:] # For shape correctness\n",
    "\n",
    "            dln_exp = ln_exp_grad(probs[0])[action,:] # probs[0] au lieu de probs\n",
    "            dlog = dln_exp / probs[0,action]\n",
    "            grad = state.T.dot(dlog[None,:])\n",
    "\n",
    "            grads.append(grad)\n",
    "            rewards.append(reward)\n",
    "\n",
    "            score+=reward\n",
    "\n",
    "            state = next_state\n",
    "\n",
    "            if done or truncated:\n",
    "                break\n",
    "\n",
    "        for i in range(len(grads)):\n",
    "            params += learning_rate * grads[i] * sum([ r * (gamma ** r) for t,r in enumerate(rewards[i:])])\n",
    "\n",
    "    print(\"Finished REINFORCE Learning\")\n",
    "    return params"
   ]
  },
  {
   "cell_type": "code",
   "execution_count": 7,
   "id": "5cddb9dc",
   "metadata": {},
   "outputs": [
    {
     "name": "stdout",
     "output_type": "stream",
     "text": [
      "Started REINFORCE Learning\n"
     ]
    },
    {
     "name": "stderr",
     "output_type": "stream",
     "text": [
      "100%|██████████| 10000/10000 [12:46<00:00, 13.05it/s]"
     ]
    },
    {
     "name": "stdout",
     "output_type": "stream",
     "text": [
      "Finished REINFORCE Learning\n"
     ]
    },
    {
     "name": "stderr",
     "output_type": "stream",
     "text": [
      "\n"
     ]
    }
   ],
   "source": [
    "params = REINFORCE(env)"
   ]
  },
  {
   "cell_type": "markdown",
   "id": "4228ef7d",
   "metadata": {},
   "source": [
    "## Ln(1+Exp(x)) Results"
   ]
  },
  {
   "cell_type": "code",
   "execution_count": 8,
   "id": "f6cbd6b9",
   "metadata": {},
   "outputs": [
    {
     "name": "stderr",
     "output_type": "stream",
     "text": [
      "100%|██████████| 1000/1000 [00:30<00:00, 33.05it/s]"
     ]
    },
    {
     "name": "stdout",
     "output_type": "stream",
     "text": [
      "Average number of steps = 254.396\n"
     ]
    },
    {
     "name": "stderr",
     "output_type": "stream",
     "text": [
      "\n"
     ]
    }
   ],
   "source": [
    "env = gym.make(\"Acrobot-v1\", render_mode = None)\n",
    "obs, info = env.reset()\n",
    "\n",
    "rewards, num_steps = agent_play(env)"
   ]
  },
  {
   "cell_type": "code",
   "execution_count": null,
   "id": "154e2ab4",
   "metadata": {},
   "outputs": [
    {
     "name": "stderr",
     "output_type": "stream",
     "text": [
      "C:\\Users\\leche\\AppData\\Local\\Temp\\ipykernel_94512\\644960734.py:2: RuntimeWarning: divide by zero encountered in true_divide\n",
      "  plt.plot(np.arange(len(rewards)), np.cumsum(rewards)/np.arange(len(rewards)), label=\"Cumulative Average Reward for Reinforce algorithms\")\n"
     ]
    }
   ],
   "source": [
    "fig, axes = plt.subplots(figsize=(14, 6))\n",
    "plt.plot(np.arange(len(rewards)), np.cumsum(rewards)/np.arange(len(rewards)), label=\"Cumulative Average Reward for Reinforce algorithms\")\n",
    "\n",
    "axes.set(xlabel='Episode', ylabel='Success Rate', title='Average Reward for Reinforce algorithms with Ln(1+Exp(x)) function')\n",
    "plt.legend()\n",
    "plt.show()"
   ]
  },
  {
   "cell_type": "code",
   "execution_count": null,
   "id": "c479a262",
   "metadata": {},
   "outputs": [],
   "source": []
  },
  {
   "cell_type": "code",
   "execution_count": null,
   "id": "61f4a891",
   "metadata": {},
   "outputs": [],
   "source": []
  }
 ],
 "metadata": {
  "kernelspec": {
   "display_name": "Python 3 (ipykernel)",
   "language": "python",
   "name": "python3"
  },
  "language_info": {
   "codemirror_mode": {
    "name": "ipython",
    "version": 3
   },
   "file_extension": ".py",
   "mimetype": "text/x-python",
   "name": "python",
   "nbconvert_exporter": "python",
   "pygments_lexer": "ipython3",
   "version": "3.9.12"
  },
  "vscode": {
   "interpreter": {
    "hash": "916dbcbb3f70747c44a77c7bcd40155683ae19c65e1c03b4aa3499c5328201f1"
   }
  }
 },
 "nbformat": 4,
 "nbformat_minor": 5
}
