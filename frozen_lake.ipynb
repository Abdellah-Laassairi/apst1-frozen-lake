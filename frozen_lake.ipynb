{
 "cells": [
  {
   "attachments": {},
   "cell_type": "markdown",
   "metadata": {},
   "source": [
    "# Frozen lake : Reinforcement Learning\n",
    "![ Frozen lake](images/frozen_lake.gif) \n",
    "\n",
    "For the first part of the project we will tackle the frozen lake Envirement which involves crossing a frozen lake from the start position to a predetermined goal without falling into any holes. The solution isn't deterministic as the player can slip on the ice.\n",
    " \n",
    "## Envirement description : \n",
    "\n",
    "### 1. Action Space\n",
    "The action shape is as follows : \n",
    "- 0: Move left\n",
    "- 1: Move down\n",
    "- 2: Move right\n",
    "- 3: Move up\n",
    "\n",
    "### 2. Observation Space\n",
    "The observation is a value representing the player’s current position= and it ranges from 0 to the map's width*height-1.\n",
    "\n",
    "### 3. Starting State\n",
    "The episode starts with the player in state [0] at the location [0, 0] in the map.\n",
    "\n",
    "### 4. Rewards : \n",
    "Reward can be defined as follows : \n",
    "- Reach goal: +1\n",
    "- Reach hole: 0\n",
    "- Reach frozen: 0\n",
    "\n",
    "### 5. Episode End : \n",
    "The episode ends if the following happens:\n",
    "- Termination:\n",
    "    - The player moves into a hole.\n",
    "    - The player reaches the goal at max(width) * max(height) - 1 (location [width-1, height-1]).\n",
    "- Truncation :\n",
    "    - The length of the episode is 100 for 4x4 environment, 200 for 8x8 environment.\n"
   ]
  },
  {
   "attachments": {},
   "cell_type": "markdown",
   "metadata": {},
   "source": [
    "Uploading the necessary libraries and modules needed for our experiment."
   ]
  },
  {
   "cell_type": "code",
   "execution_count": 1,
   "metadata": {},
   "outputs": [],
   "source": [
    "import gymnasium as gym\n",
    "import pygame\n",
    "import sys\n",
    "import argparse\n",
    "from tools.qlearning import *\n",
    "import numpy as np\n",
    "import matplotlib.pyplot   as plt"
   ]
  },
  {
   "cell_type": "code",
   "execution_count": 2,
   "metadata": {},
   "outputs": [],
   "source": [
    "# To speed up the process we will set the render_mode as None.\n",
    "env = gym.make(\"FrozenLake-v1\", is_slippery=True, render_mode=None)\n",
    "observation, info = env.reset(seed=42)\n",
    "num_actions = env.action_space.n\n",
    "num_states = env.observation_space.n"
   ]
  },
  {
   "attachments": {},
   "cell_type": "markdown",
   "metadata": {},
   "source": [
    "## 1. Q-Learning\n",
    "### 1.1 Q-Learning"
   ]
  },
  {
   "cell_type": "code",
   "execution_count": 15,
   "metadata": {},
   "outputs": [],
   "source": [
    "import numpy as np\n",
    "from tqdm import *\n",
    "def q_train(env, alpha=0.99, gamma=0.8, max_n_steps=100, n_episodes=30000, weights=\"data/q_table.npy\"):\n",
    "    \"\"\" Q-learning algorithm \n",
    "    \n",
    "    \"\"\"\n",
    "    num_actions = env.action_space.n\n",
    "    num_states = env.observation_space.n\n",
    "    \n",
    "    try :\n",
    "        print(\"Loading Q-table saved weights...\")\n",
    "        q_table = np.load(weights)\n",
    "\n",
    "    except :\n",
    "        print(\"Error loading Q-table saved weights\")\n",
    "        print(\"Initiating new Q-table...\")\n",
    "        q_table = np.zeros((num_states, num_actions))\n",
    "\n",
    "    rewards = []\n",
    "\n",
    "    print(\"Starting Q-learning algorithm...\")\n",
    "    for _ in trange(n_episodes):\n",
    "        s = env.reset()[0]\n",
    "        total_reward = 0\n",
    "        for i in range(max_n_steps):   \n",
    "            a = np.argmax(q_table[s]) # Select action a given s (state) following policy derived from q;\n",
    "            \n",
    "            s_new, r, done, _ , _= env.step(a) # Take action a and observe the reward and next state s_new and reward r\n",
    "            \n",
    "            # Update Q-table\n",
    "            q_table[s, a] = (1-alpha)*q_table[s, a] + alpha*(r + gamma*np.max(q_table[s_new]))\n",
    "            \n",
    "            # update state and total reward\n",
    "            s, total_reward = s_new, total_reward+r\n",
    "\n",
    "            # if s is a terminal state then go to next episode;\n",
    "            if done: \n",
    "                rewards.append(total_reward) \n",
    "                break\n",
    "            \n",
    "    env.close()\n",
    "    print(\"Finished Q-learning algorithm.\")\n",
    "    print(\"Average reward is : {}\".format(np.mean(rewards)))\n",
    "\n",
    "    return q_table\n",
    "\n"
   ]
  },
  {
   "cell_type": "code",
   "execution_count": 17,
   "metadata": {},
   "outputs": [
    {
     "name": "stdout",
     "output_type": "stream",
     "text": [
      "Loading Q-table saved weights...\n",
      "Error loading Q-table saved weights\n",
      "Initiating new Q-table...\n",
      "Starting Q-learning algorithm...\n"
     ]
    },
    {
     "name": "stderr",
     "output_type": "stream",
     "text": [
      "100%|██████████| 30000/30000 [00:15<00:00, 1928.79it/s]"
     ]
    },
    {
     "name": "stdout",
     "output_type": "stream",
     "text": [
      "Finished Q-learning algorithm.\n",
      "Average reward is : 0.0\n"
     ]
    },
    {
     "name": "stderr",
     "output_type": "stream",
     "text": [
      "\n"
     ]
    }
   ],
   "source": [
    "q_table = q_train(env, weights=\"None\")"
   ]
  },
  {
   "attachments": {},
   "cell_type": "markdown",
   "metadata": {},
   "source": [
    "### 1.1 Q-Learning ( $\\epsilon-greedy$ )"
   ]
  },
  {
   "cell_type": "code",
   "execution_count": 6,
   "metadata": {},
   "outputs": [],
   "source": [
    "def q_train_greedy(env, alpha=0.99, gamma=0.8, epsilon=0.01, max_n_steps=100, n_episodes=30000, weights=\"data/q_table.npy\"):\n",
    "    \"\"\" Q-learning algorithm (epsilon-greedy)\n",
    "    \n",
    "    \"\"\"\n",
    "    num_actions = env.action_space.n\n",
    "    num_states = env.observation_space.n\n",
    "    \n",
    "    try :\n",
    "        print(\"Loading Q-table saved weights...\")\n",
    "        q_table = np.load(weights)\n",
    "\n",
    "    except :\n",
    "        print(\"Error loading Q-table saved weights\")\n",
    "        print(\"Initiating new Q-table...\")\n",
    "        q_table = np.zeros((num_states, num_actions))\n",
    "\n",
    "    rewards = []\n",
    "\n",
    "    print(\"Starting Q-learning algorithm...\")\n",
    "    for _ in trange(n_episodes):\n",
    "        s = env.reset()[0]\n",
    "        total_reward = 0\n",
    "        for i in range(max_n_steps):\n",
    "            U = np.random.uniform(0, 1)\n",
    "            if U < epsilon:\n",
    "                a = env.action_space.sample() # selecting action a at random from A \n",
    "            else:\n",
    "                a = np.argmax(q_table[s]) # Select action a given s (state) following policy derived from q;\n",
    "            \n",
    "            s_new, r, done, _ , _= env.step(a)\n",
    "            \n",
    "            # Update Q-table\n",
    "            q_table[s, a] = (1-alpha)*q_table[s, a] + alpha*(r + gamma*np.max(q_table[s_new]))\n",
    "            \n",
    "            # update state and total reward\n",
    "            s, total_reward = s_new, total_reward+r\n",
    "\n",
    "            # if s is a terminal state then go to next episode;\n",
    "            if done: \n",
    "                rewards.append(total_reward) \n",
    "                break\n",
    "            \n",
    "    env.close()\n",
    "    print(\"Finished Q-learning algorithm.\")\n",
    "    print(\"Average reward is : {}\".format(np.mean(rewards)))\n",
    "    return q_table"
   ]
  },
  {
   "cell_type": "code",
   "execution_count": 18,
   "metadata": {},
   "outputs": [
    {
     "name": "stdout",
     "output_type": "stream",
     "text": [
      "Loading Q-table saved weights...\n",
      "Error loading Q-table saved weights\n",
      "Initiating new Q-table...\n",
      "Starting Q-learning algorithm...\n"
     ]
    },
    {
     "name": "stderr",
     "output_type": "stream",
     "text": [
      "100%|██████████| 30000/30000 [00:17<00:00, 1754.51it/s]"
     ]
    },
    {
     "name": "stdout",
     "output_type": "stream",
     "text": [
      "Finished Q-learning algorithm.\n",
      "Average reward is : 0.0\n"
     ]
    },
    {
     "name": "stderr",
     "output_type": "stream",
     "text": [
      "\n"
     ]
    }
   ],
   "source": [
    "q_table_greedy = q_train_greedy(env,weights=\"None\")"
   ]
  },
  {
   "attachments": {},
   "cell_type": "markdown",
   "metadata": {},
   "source": [
    "Then we'll define a play function for our game to test the performance"
   ]
  },
  {
   "cell_type": "code",
   "execution_count": 9,
   "metadata": {},
   "outputs": [],
   "source": [
    "def agent_play(env,q_table, max_n_episodes=30000, max_steps=100):\n",
    "    count = 0\n",
    "    rewards = []\n",
    "    num_steps = []\n",
    "    for _ in trange(max_n_episodes):\n",
    "        s = env.reset()[0]\n",
    "        total_reward = 0\n",
    "        for i in range(max_steps):\n",
    "            a = np.argmax(q_table[s, :])\n",
    "            s, r, done, _,_ = env.step(a)\n",
    "            total_reward+=r\n",
    "            if done: \n",
    "                rewards.append(total_reward)\n",
    "                num_steps.append(i+1)\n",
    "                count+=1\n",
    "                break\n",
    "    success_rate = np.mean(rewards)\n",
    "    avg_num_steps = np.mean(num_steps)\n",
    "    print(f'Success rate is = {100*success_rate} %')\n",
    "    print(f'Average number of steps to succed is = {avg_num_steps}')\n",
    "    return rewards, success_rate, avg_num_steps"
   ]
  },
  {
   "cell_type": "code",
   "execution_count": 20,
   "metadata": {},
   "outputs": [
    {
     "name": "stderr",
     "output_type": "stream",
     "text": [
      "100%|██████████| 30000/30000 [00:14<00:00, 2111.66it/s]"
     ]
    },
    {
     "name": "stdout",
     "output_type": "stream",
     "text": [
      "Success rate is = 0.0 %\n",
      "Average number of steps to succed is = 17.910571819608105\n"
     ]
    },
    {
     "name": "stderr",
     "output_type": "stream",
     "text": [
      "\n"
     ]
    }
   ],
   "source": [
    "rewards_q, success_rate_q, avg_num_steps_q= agent_play(env, q_table=q_table)"
   ]
  },
  {
   "cell_type": "code",
   "execution_count": 21,
   "metadata": {},
   "outputs": [
    {
     "name": "stderr",
     "output_type": "stream",
     "text": [
      "100%|██████████| 30000/30000 [00:14<00:00, 2003.76it/s]"
     ]
    },
    {
     "name": "stdout",
     "output_type": "stream",
     "text": [
      "Success rate is = 0.0 %\n",
      "Average number of steps to succed is = 17.84331720340397\n"
     ]
    },
    {
     "name": "stderr",
     "output_type": "stream",
     "text": [
      "\n"
     ]
    }
   ],
   "source": [
    "rewards_q_greedy, success_rate_q_greedy, avg_num_steps_q_greedy= agent_play(env, q_table=q_table_greedy)"
   ]
  },
  {
   "cell_type": "code",
   "execution_count": 14,
   "metadata": {},
   "outputs": [
    {
     "name": "stderr",
     "output_type": "stream",
     "text": [
      "/tmp/ipykernel_789611/1861954785.py:2: RuntimeWarning: divide by zero encountered in divide\n",
      "  plt.plot(np.arange(len(rewards_q)), np.cumsum(rewards_q)/np.arange(len(rewards_q)), label=\"Cumulative Average success rate for Q-learning\")\n",
      "/tmp/ipykernel_789611/1861954785.py:3: RuntimeWarning: invalid value encountered in divide\n",
      "  plt.plot(np.arange(len(rewards_q_greedy)), np.cumsum(rewards_q_greedy)/np.arange(len(rewards_q_greedy)), label=\"Cumulative Average success rate for Q-learning Greedy\")\n"
     ]
    },
    {
     "data": {
      "image/png": "[encoded data removed]",
      "text/plain": [
       "<Figure size 1400x600 with 1 Axes>"
      ]
     },
     "metadata": {},
     "output_type": "display_data"
    }
   ],
   "source": [
    "fig, axes = plt.subplots(figsize=(14, 6))\n",
    "plt.plot(np.arange(len(rewards_q)), np.cumsum(rewards_q)/np.arange(len(rewards_q)), label=\"Cumulative Average success rate for Q-learning\")\n",
    "plt.plot(np.arange(len(rewards_q_greedy)), np.cumsum(rewards_q_greedy)/np.arange(len(rewards_q_greedy)), label=\"Cumulative Average success rate for Q-learning Greedy\")\n",
    "\n",
    "axes.set(xlabel='Episode', ylabel='Success Rate', title='Average Success Rate of Q-learning algorithms')\n",
    "plt.legend()\n",
    "plt.show()"
   ]
  },
  {
   "attachments": {},
   "cell_type": "markdown",
   "metadata": {},
   "source": [
    "Visualizing the learned Q Table"
   ]
  },
  {
   "cell_type": "code",
   "execution_count": 62,
   "metadata": {},
   "outputs": [],
   "source": [
    "q_table = np.load(\"data/q_table.npy\")"
   ]
  },
  {
   "cell_type": "code",
   "execution_count": 66,
   "metadata": {},
   "outputs": [
    {
     "data": {
      "text/plain": [
       "array([2.49602315e-04, 3.46955736e-07, 3.84728288e-08, 2.27636339e-04])"
      ]
     },
     "execution_count": 66,
     "metadata": {},
     "output_type": "execute_result"
    }
   ],
   "source": [
    "q_table[0]"
   ]
  }
 ],
 "metadata": {
  "kernelspec": {
   "display_name": "Python 3",
   "language": "python",
   "name": "python3"
  },
  "language_info": {
   "codemirror_mode": {
    "name": "ipython",
    "version": 3
   },
   "file_extension": ".py",
   "mimetype": "text/x-python",
   "name": "python",
   "nbconvert_exporter": "python",
   "pygments_lexer": "ipython3",
   "version": "3.10.6"
  },
  "orig_nbformat": 4,
  "vscode": {
   "interpreter": {
    "hash": "916dbcbb3f70747c44a77c7bcd40155683ae19c65e1c03b4aa3499c5328201f1"
   }
  }
 },
 "nbformat": 4,
 "nbformat_minor": 2
}
