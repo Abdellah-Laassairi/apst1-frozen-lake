{
 "cells": [
  {
   "cell_type": "markdown",
   "metadata": {},
   "source": [
    "# Frozen lake : Reinforcement Learning\n",
    "![ Frozen lake](images/frozen_lake.gif) \n",
    "\n",
    "For the first part of the project we will tackle the frozen lake Envirement which involves crossing a frozen lake from the start position to a predetermined goal without falling into any holes. The solution isn't deterministic as the player can slip on the ice.\n",
    " \n",
    "## Envirement description : \n",
    "\n",
    "### 1. Action Space\n",
    "The action shape is as follows : \n",
    "- 0: Move left\n",
    "- 1: Move down\n",
    "- 2: Move right\n",
    "- 3: Move up\n",
    "\n",
    "### 2. Observation Space\n",
    "The observation is a value representing the player’s current position= and it ranges from 0 to the map's width*height-1.\n",
    "\n",
    "### 3. Starting State\n",
    "The episode starts with the player in state [0] at the location [0, 0] in the map.\n",
    "\n",
    "### 4. Rewards : \n",
    "Reward can be defined as follows : \n",
    "- Reach goal: +1\n",
    "- Reach hole: 0\n",
    "- Reach frozen: 0\n",
    "\n",
    "### 5. Episode End : \n",
    "The episode ends if the following happens:\n",
    "- Termination:\n",
    "    - The player moves into a hole.\n",
    "    - The player reaches the goal at max(width) * max(height) - 1 (location [width-1, height-1]).\n",
    "- Truncation :\n",
    "    - The length of the episode is 100 for 4x4 environment, 200 for 8x8 environment.\n"
   ]
  },
  {
   "cell_type": "markdown",
   "metadata": {},
   "source": [
    "Uploading the necessary libraries and modules needed for our experiment."
   ]
  },
  {
   "cell_type": "code",
   "execution_count": 1,
   "metadata": {},
   "outputs": [],
   "source": [
    "import gymnasium as gym\n",
    "#from tools.qlearning import *\n",
    "import numpy as np\n",
    "import matplotlib.pyplot   as plt\n",
    "import pandas as pd"
   ]
  },
  {
   "cell_type": "markdown",
   "metadata": {},
   "source": [
    "We will experiment with both conditions `is_slippery=True` and `is_slippery=False`. The last condition means that the agent realizes the action it has decided, and thus that the policy in this case is deterministic. On the contrary, the conditions `is_slippery = True` means that the agent actually has a probability $\\frac{1}{3}$ to go on the direction decided by the action, and a probability $\\frac{1}{3}$ to go on one of the perpendicular direction. In this case, the policy is a stochastic one. We will first start with the deterministic one, and then we will work with the stochastic one."
   ]
  },
  {
   "cell_type": "code",
   "execution_count": 22,
   "metadata": {},
   "outputs": [],
   "source": [
    "# To speed up the process we will set the render_mode as None.\n",
    "env = gym.make(\"FrozenLake-v1\", is_slippery=False, render_mode=None)\n",
    "np.random.seed(42)\n",
    "observation, info = env.reset(seed=42)\n",
    "num_actions = env.action_space.n\n",
    "num_states = env.observation_space.n"
   ]
  },
  {
   "cell_type": "markdown",
   "metadata": {},
   "source": [
    "First, let's upload the optimal policy that we built ourselves, by looking at the map."
   ]
  },
  {
   "cell_type": "code",
   "execution_count": 23,
   "metadata": {},
   "outputs": [
    {
     "data": {
      "text/plain": [
       "array([[0, 1, 0, 0],\n",
       "       [0, 0, 1, 0],\n",
       "       [0, 1, 0, 0],\n",
       "       [1, 0, 0, 0],\n",
       "       [0, 1, 0, 0],\n",
       "       [0, 0, 0, 0],\n",
       "       [0, 1, 0, 0],\n",
       "       [0, 0, 0, 0],\n",
       "       [0, 0, 1, 0],\n",
       "       [0, 1, 0, 0],\n",
       "       [0, 1, 0, 0],\n",
       "       [0, 0, 0, 0],\n",
       "       [0, 0, 0, 0],\n",
       "       [0, 0, 1, 0],\n",
       "       [0, 0, 1, 0],\n",
       "       [0, 0, 0, 0]], dtype=int64)"
      ]
     },
     "execution_count": 23,
     "metadata": {},
     "output_type": "execute_result"
    }
   ],
   "source": [
    "deterministic_q_table = np.load(\".\\data\\deterministic_q_table.npy\")\n",
    "deterministic_q_table"
   ]
  },
  {
   "cell_type": "markdown",
   "metadata": {},
   "source": [
    "# 1. Algorithms\n",
    "### 1.1 Q-Learning"
   ]
  },
  {
   "cell_type": "code",
   "execution_count": 24,
   "metadata": {},
   "outputs": [],
   "source": [
    "import numpy as np\n",
    "from tqdm import *\n",
    "def q_train(env, alpha=0.01, gamma=0.9, max_n_steps=100, n_episodes=10000, weights=None):\n",
    "    \"\"\" Q-learning algorithm \n",
    "    \n",
    "    \"\"\"\n",
    "    rewards =[]\n",
    "    num_actions = env.action_space.n\n",
    "    num_states = env.observation_space.n\n",
    "    \n",
    "    try :\n",
    "        print(\"Loading Q-table saved weights...\")\n",
    "        q_table = np.load(weights)\n",
    "\n",
    "    except :\n",
    "        print(\"Error loading Q-table saved weights\")\n",
    "        print(\"Initiating new Q-table...\")\n",
    "        q_table = np.zeros((num_states, num_actions))\n",
    "\n",
    "    print(\"Starting Q-learning algorithm...\")\n",
    "    for _ in trange(n_episodes):\n",
    "        s = env.reset()[0]\n",
    "        total_reward = 0\n",
    "        for i in range(max_n_steps):\n",
    "            a = np.argmax(q_table[s]) # Select action a given s (state) following policy derived from q;\n",
    "            \n",
    "            s_new, r, done, truncated , info = env.step(a) # Take action a and observe the reward and next state s_new and reward r\n",
    "            #print(s, a, r, s_new, done)\n",
    "            \n",
    "            # Update Q-table\n",
    "            q_table[s, a] = (1-alpha)*q_table[s, a] + alpha*(r + gamma*np.max(q_table[s_new]))\n",
    "            \n",
    "            # update state and total reward\n",
    "            s = s_new\n",
    "            total_reward = total_reward + r\n",
    "\n",
    "            # if s is a terminal state then go to next episode;\n",
    "            if done or truncated: \n",
    "                rewards.append(total_reward) \n",
    "                break\n",
    "            \n",
    "    env.close()\n",
    "    print(\"Finished Q-learning algorithm.\")\n",
    "    print(\"Average reward is : {}\".format(np.mean(rewards)))\n",
    "\n",
    "    return q_table\n",
    "\n"
   ]
  },
  {
   "cell_type": "code",
   "execution_count": 25,
   "metadata": {},
   "outputs": [
    {
     "name": "stdout",
     "output_type": "stream",
     "text": [
      "Loading Q-table saved weights...\n",
      "Error loading Q-table saved weights\n",
      "Initiating new Q-table...\n",
      "Starting Q-learning algorithm...\n"
     ]
    },
    {
     "name": "stderr",
     "output_type": "stream",
     "text": [
      "100%|██████████| 10000/10000 [00:27<00:00, 363.47it/s]"
     ]
    },
    {
     "name": "stdout",
     "output_type": "stream",
     "text": [
      "Finished Q-learning algorithm.\n",
      "Average reward is : 0.0\n"
     ]
    },
    {
     "name": "stderr",
     "output_type": "stream",
     "text": [
      "\n"
     ]
    }
   ],
   "source": [
    "q_table = q_train(env)\n",
    "\n",
    "# q_table = q_train(env, weights=\"data/q_table.npy\")\n",
    "# np.save('data/q_table.npy', q_table)"
   ]
  },
  {
   "cell_type": "markdown",
   "metadata": {},
   "source": [
    "### 1.2 Q-Learning ( $\\epsilon-greedy$)\n",
    "\n",
    "$\\epsilon-greedy$ is an good strategy for balancing exploration and exploitation."
   ]
  },
  {
   "cell_type": "code",
   "execution_count": 34,
   "metadata": {},
   "outputs": [],
   "source": [
    "def q_train_greedy(env, alpha=0.99, gamma=0.9, epsilon=0.5, max_n_steps=100, n_episodes=10000, weights=None):\n",
    "    \"\"\" Q-learning algorithm (epsilon-greedy)\n",
    "    \n",
    "    \"\"\"\n",
    "    num_actions = env.action_space.n\n",
    "    num_states = env.observation_space.n\n",
    "    \n",
    "    try :\n",
    "        print(\"Loading Q-table saved weights...\")\n",
    "        q_table = np.load(weights)\n",
    "\n",
    "    except :\n",
    "        print(\"Error loading Q-table saved weights\")\n",
    "        print(\"Initiating new Q-table...\")\n",
    "        q_table = np.zeros((num_states, num_actions))\n",
    "\n",
    "    rewards = []\n",
    "\n",
    "    print(\"Starting Q-learning algorithm...\")\n",
    "    for _ in trange(n_episodes):\n",
    "        s = env.reset()[0]\n",
    "        total_reward = 0\n",
    "        for i in range(max_n_steps):\n",
    "            U = np.random.uniform(0, 1)\n",
    "            if U < epsilon:\n",
    "                a = env.action_space.sample() # selecting action a at random from A \n",
    "            else:\n",
    "                a = np.argmax(q_table[s]) # Select action a given s (state) following policy derived from q;\n",
    "            \n",
    "            s_new, r, done, _ , _= env.step(a)\n",
    "            \n",
    "            # Update Q-table\n",
    "            q_table[s, a] = (1-alpha)*q_table[s, a] + alpha*(r + gamma*np.max(q_table[s_new]))\n",
    "            \n",
    "            # update state and total reward\n",
    "            s, total_reward = s_new, total_reward+r\n",
    "\n",
    "            # if s is a terminal state then go to next episode;\n",
    "            if done: \n",
    "                rewards.append(total_reward) \n",
    "                break\n",
    "    env.close()\n",
    "    print(\"Finished Q-learning algorithm.\")\n",
    "    print(\"Average reward is : {}\".format(np.mean(rewards)))\n",
    "    return q_table"
   ]
  },
  {
   "cell_type": "code",
   "execution_count": 35,
   "metadata": {},
   "outputs": [
    {
     "name": "stdout",
     "output_type": "stream",
     "text": [
      "Loading Q-table saved weights...\n",
      "Error loading Q-table saved weights\n",
      "Initiating new Q-table...\n",
      "Starting Q-learning algorithm...\n"
     ]
    },
    {
     "name": "stderr",
     "output_type": "stream",
     "text": [
      "100%|██████████| 10000/10000 [00:02<00:00, 3987.66it/s]"
     ]
    },
    {
     "name": "stdout",
     "output_type": "stream",
     "text": [
      "Finished Q-learning algorithm.\n",
      "Average reward is : 0.41114111411141113\n"
     ]
    },
    {
     "name": "stderr",
     "output_type": "stream",
     "text": [
      "\n"
     ]
    }
   ],
   "source": [
    "q_table_greedy = q_train_greedy(env)\n",
    "# q_table_greedy = q_train_greedy(env,weights=\"data/q_table_greedy.npy\")\n",
    "# np.save('data/q_table_greedy.npy', q_table_greedy)"
   ]
  },
  {
   "cell_type": "markdown",
   "metadata": {},
   "source": [
    "\n",
    "### 1.3 Q-learning epsilon decay\n",
    "The concept of decay : \n",
    "During the lifecycle of an agent that does not have sufficient information on its environment, exploration is more important than exploitation. Once the agent has enough information about the environment, we can then start to exploit that information to improve the agent's performance [Source](https://arxiv.org/pdf/1910.13701.pdf). That's why we'll use the concept of decay by starting with a maximum value of epsilon and then decaying it gradually across every episode. \n",
    "\n"
   ]
  },
  {
   "cell_type": "code",
   "execution_count": 28,
   "metadata": {},
   "outputs": [],
   "source": [
    "def q_train_greedy_decay(env, alpha=0.8, gamma=0.9,min_epsilon=0.005, decay_rate=0.001, max_n_steps=100, n_episodes=10000, weights=None):\n",
    "    \"\"\" Q-learning algorithm (epsilon-greedy) with exponential epsilon decay\n",
    "    \n",
    "    \"\"\"\n",
    "    num_actions = env.action_space.n\n",
    "    num_states = env.observation_space.n\n",
    "    \n",
    "    try :\n",
    "        print(\"Loading Q-table saved weights...\")\n",
    "        q_table = np.load(weights)\n",
    "\n",
    "    except :\n",
    "        print(\"Error loading Q-table saved weights\")\n",
    "        print(\"Initiating new Q-table...\")\n",
    "        q_table = np.zeros((num_states, num_actions))\n",
    "\n",
    "    rewards = []\n",
    "    epsilon = 1\n",
    "    \n",
    "    print(\"Starting Q-learning algorithm...\")\n",
    "    for episode in trange(n_episodes):\n",
    "        s = env.reset()[0]\n",
    "        total_reward = 0\n",
    "        for i in range(max_n_steps):\n",
    "            U = np.random.uniform(0, 1)\n",
    "            if U < epsilon:\n",
    "                a = env.action_space.sample() # selecting action a at random from A \n",
    "            else:\n",
    "                a = np.argmax(q_table[s]) # Select action a given s (state) following policy derived from q;\n",
    "            \n",
    "            s_new, r, done, _ , _= env.step(a)\n",
    "\n",
    "            # Update Q-table\n",
    "            q_table[s, a] = (1-alpha)*q_table[s, a] + alpha*(r + gamma*np.max(q_table[s_new]))\n",
    "            \n",
    "            # update state and total reward\n",
    "            s, total_reward = s_new, total_reward+r\n",
    "\n",
    "            # if s is a terminal state then go to next episode;\n",
    "            if done: \n",
    "                # Epsilon exponential decay\n",
    "                epsilon = min_epsilon + (1-min_epsilon)*np.exp(-decay_rate*episode)\n",
    "                rewards.append(total_reward) \n",
    "                break\n",
    "            \n",
    "    env.close()\n",
    "    print(\"Finished Q-learning algorithm.\")\n",
    "    print(\"Average reward is : {}\".format(np.mean(rewards)))\n",
    "    return q_table"
   ]
  },
  {
   "cell_type": "code",
   "execution_count": 29,
   "metadata": {},
   "outputs": [
    {
     "name": "stdout",
     "output_type": "stream",
     "text": [
      "Loading Q-table saved weights...\n",
      "Error loading Q-table saved weights\n",
      "Initiating new Q-table...\n",
      "Starting Q-learning algorithm...\n"
     ]
    },
    {
     "name": "stderr",
     "output_type": "stream",
     "text": [
      "100%|██████████| 10000/10000 [00:04<00:00, 2030.76it/s]"
     ]
    },
    {
     "name": "stdout",
     "output_type": "stream",
     "text": [
      "Finished Q-learning algorithm.\n",
      "Average reward is : 0.8819\n"
     ]
    },
    {
     "name": "stderr",
     "output_type": "stream",
     "text": [
      "\n"
     ]
    }
   ],
   "source": [
    "q_table_greedy_decay=q_train_greedy_decay(env)\n",
    "# q_table_greedy_decay=q_train_greedy_decay(env, weights=\"data/q_table_greedy_decay.npy\")\n",
    "# np.save(\"data/q_table_greedy_decay.npy\", q_table_greedy)"
   ]
  },
  {
   "cell_type": "markdown",
   "metadata": {},
   "source": [
    "### 1.4 SARSA"
   ]
  },
  {
   "cell_type": "code",
   "execution_count": 30,
   "metadata": {},
   "outputs": [],
   "source": [
    "def sarsa_train(env, alpha=0.1, gamma=1, epsilon=0.5, episodes=10000, steps=1000) :\n",
    "    \"SARSA algorithme : les paramètres par défaut n'ont pas été ajustés.\"\n",
    "    \n",
    "    num_actions = env.action_space.n\n",
    "    num_states = env.observation_space.n\n",
    "    q = np.zeros((num_states, num_actions))\n",
    "\n",
    "    for ep in trange(episodes) : \n",
    "        \n",
    "        env.reset()\n",
    "        state = env.s\n",
    "\n",
    "        if np.random.uniform() < epsilon :\n",
    "            action = env.action_space.sample()\n",
    "        else :\n",
    "            action = np.argmax(q[state, :])\n",
    "            \n",
    "        for _ in range(steps) :\n",
    "            nw_state, reward, terminated, truncated, info = env.step(action)\n",
    "            \n",
    "            if np.random.uniform() < epsilon :\n",
    "                nw_action = env.action_space.sample()\n",
    "            else :\n",
    "                nw_action = np.argmax(q[nw_state, :])\n",
    "                \n",
    "            q[state, action] = (1-alpha)*q[state, action] + \\\n",
    "                alpha*(reward + gamma*q[nw_state, nw_action])\n",
    "                \n",
    "            state = nw_state\n",
    "            action = nw_action\n",
    "            \n",
    "            if terminated or truncated :\n",
    "                break\n",
    "    \n",
    "    env.close()\n",
    "    \n",
    "    return q"
   ]
  },
  {
   "cell_type": "code",
   "execution_count": 31,
   "metadata": {},
   "outputs": [
    {
     "name": "stderr",
     "output_type": "stream",
     "text": [
      "100%|██████████| 10000/10000 [00:03<00:00, 2911.94it/s]\n"
     ]
    }
   ],
   "source": [
    "sarsa_table = sarsa_train(env)"
   ]
  },
  {
   "cell_type": "markdown",
   "metadata": {},
   "source": [
    "## 2. Results with condition `is_slippery=False`"
   ]
  },
  {
   "cell_type": "markdown",
   "metadata": {},
   "source": [
    "### 2.1. Algorithms' results"
   ]
  },
  {
   "cell_type": "code",
   "execution_count": 32,
   "metadata": {},
   "outputs": [],
   "source": [
    "def agent_play(env,q_table, max_n_episodes=10000, max_steps=100):\n",
    "    count = 0\n",
    "    rewards = []\n",
    "    num_steps = []\n",
    "    for _ in trange(max_n_episodes):\n",
    "        s = env.reset()[0]\n",
    "        total_reward = 0\n",
    "        for i in range(max_steps):\n",
    "            a = np.argmax(q_table[s])\n",
    "            s, r, done, tr,_ = env.step(a)\n",
    "            total_reward+=r\n",
    "            if done or tr: \n",
    "                rewards.append(total_reward)\n",
    "                num_steps.append(i+1)\n",
    "                count+=1\n",
    "                break\n",
    "    success_rate = np.mean(rewards)\n",
    "    avg_num_steps = np.mean(num_steps)\n",
    "    print(f'Success rate is = {100*success_rate} %')\n",
    "    print(f'Average number of steps before end (success or fall) = {avg_num_steps}')\n",
    "    return rewards, success_rate, avg_num_steps"
   ]
  },
  {
   "cell_type": "code",
   "execution_count": 36,
   "metadata": {
    "scrolled": true
   },
   "outputs": [
    {
     "name": "stderr",
     "output_type": "stream",
     "text": [
      "100%|██████████| 10000/10000 [00:01<00:00, 8962.45it/s]\n"
     ]
    },
    {
     "name": "stdout",
     "output_type": "stream",
     "text": [
      "Success rate is = 100.0 %\n",
      "Average number of steps before end (success or fall) = 6.0\n"
     ]
    },
    {
     "name": "stderr",
     "output_type": "stream",
     "text": [
      "100%|██████████| 10000/10000 [00:19<00:00, 520.92it/s]\n"
     ]
    },
    {
     "name": "stdout",
     "output_type": "stream",
     "text": [
      "Success rate is = 0.0 %\n",
      "Average number of steps before end (success or fall) = 100.0\n"
     ]
    },
    {
     "name": "stderr",
     "output_type": "stream",
     "text": [
      "100%|██████████| 10000/10000 [00:01<00:00, 5255.35it/s]\n"
     ]
    },
    {
     "name": "stdout",
     "output_type": "stream",
     "text": [
      "Success rate is = 100.0 %\n",
      "Average number of steps before end (success or fall) = 6.0\n"
     ]
    },
    {
     "name": "stderr",
     "output_type": "stream",
     "text": [
      "100%|██████████| 10000/10000 [00:01<00:00, 5910.60it/s]\n"
     ]
    },
    {
     "name": "stdout",
     "output_type": "stream",
     "text": [
      "Success rate is = 100.0 %\n",
      "Average number of steps before end (success or fall) = 6.0\n"
     ]
    },
    {
     "name": "stderr",
     "output_type": "stream",
     "text": [
      "100%|██████████| 10000/10000 [00:01<00:00, 8695.16it/s]"
     ]
    },
    {
     "name": "stdout",
     "output_type": "stream",
     "text": [
      "Success rate is = 100.0 %\n",
      "Average number of steps before end (success or fall) = 6.0\n"
     ]
    },
    {
     "name": "stderr",
     "output_type": "stream",
     "text": [
      "\n"
     ]
    }
   ],
   "source": [
    "rewards_d, success_rate_d, avg_num_steps_d= agent_play(env, q_table=deterministic_q_table)\n",
    "rewards_q, success_rate_q, avg_num_steps_q= agent_play(env, q_table=q_table)\n",
    "rewards_q_greedy, success_rate_q_greedy, avg_num_steps_q_greedy= agent_play(env, q_table=q_table_greedy)\n",
    "rewards_q_greedy_decay, success_rate_q_greedy_decay, avg_num_steps_q_greedy_decay= agent_play(env, q_table=q_table_greedy_decay)\n",
    "rewards_sarsa, success_rate_sarsa, avg_num_steps_sarsa= agent_play(env, q_table=sarsa_table)\n"
   ]
  },
  {
   "cell_type": "markdown",
   "metadata": {},
   "source": [
    "> Let's make some comments.\n",
    "\n",
    "In the deterministic case, an optimal policy always exists. \n",
    "There is no surprise that the deterministic table provided at the beginning has a 100% success rate. The agent simply follows the path by selecting the action corresponding to the ones in the table.\n",
    "\n",
    "The basic Q-learning algorithm, however, has a 0% success rate. It will always be this way, as soon as we start with an initial table filled with 0. Indeed, since Python `np.argmax` function always gives the first action maximizing, and since we start with everything at 0, this function will always return 0, meaning that the agent will always try to go left. Due to `is_slippery = False`, the agent will always try to go left, thus it will never move. It will never reach the goal and never get any reward, and the updating policy stage will never modify any value. We also tried to start with a complete random q matrix, but the agent still can't manage : with a complete random policy, the probability to get to the goal is really low.\n",
    "\n",
    "This problem is solved by using the $\\epsilon$-greedy Q-learning algorithms, and also the SARSA algorithm. Since it add some randomness in the actions' choice, the agent won't always try to go the same way and will reach the goal eventually. Once it has, it can start learning. Please note that the $\\epsilon$-greedy Q-learning algorithm, with no decay, is very sensitive to the value of $\\epsilon$. A too small value will hardly change anything, compared to the basic Q-learning, and a too high will only create randomness."
   ]
  },
  {
   "cell_type": "markdown",
   "metadata": {},
   "source": [
    "### 2.2. Comparison"
   ]
  },
  {
   "cell_type": "code",
   "execution_count": 39,
   "metadata": {},
   "outputs": [
    {
     "data": {
      "image/png": "[encoded data removed]",
      "text/plain": [
       "<Figure size 1800x504 with 5 Axes>"
      ]
     },
     "metadata": {
      "needs_background": "light"
     },
     "output_type": "display_data"
    }
   ],
   "source": [
    "deterministic_q_table = np.load(\"data/deterministic_q_table.npy\")\n",
    "\n",
    "fig, ax = plt.subplots(1, 5)\n",
    "fig.suptitle(\"Q-table for is_slippery=False\", fontsize=16)\n",
    "\n",
    "fig.set_size_inches(25, 7)\n",
    "# im = Image.open('images/frozen_lake.jpg')\n",
    "plt.title(\"Q-table of the game\")\n",
    "\n",
    "# Creating the heat maps\n",
    "map_q = np.sum(q_table, axis = 1)\n",
    "map_q= map_q.reshape(4, 4)\n",
    "\n",
    "map_d = np.sum(deterministic_q_table, axis = 1)\n",
    "map_d= map_d.reshape(4, 4)\n",
    "\n",
    "map_g = np.sum(q_table_greedy, axis = 1)\n",
    "map_g= map_g.reshape(4, 4)\n",
    "\n",
    "map_e = np.sum(q_table_greedy_decay, axis = 1)\n",
    "map_e= map_e.reshape(4, 4)\n",
    "\n",
    "map_s = np.sum(sarsa_table, axis = 1)\n",
    "map_s= map_s.reshape(4, 4)\n",
    "\n",
    "\n",
    "# ax[0].imshow(im, alpha=1)\n",
    "# ax[1].imshow(im, alpha=1)\n",
    "\n",
    "ax[0].matshow(map_d, cmap='winter')\n",
    "ax[1].matshow(map_q, cmap='winter')\n",
    "ax[2].matshow(map_g, cmap='winter')\n",
    "ax[3].matshow(map_e, cmap='winter')\n",
    "ax[4].matshow(map_s, cmap='winter')\n",
    "\n",
    "pos=[0,1,2,3]\n",
    "\n",
    "deterministic_q_table_reshaped=deterministic_q_table.reshape((4,4,4))\n",
    "q_table_reshaped=q_table.reshape((4,4,4))\n",
    "greedy_reshaped=q_table_greedy.reshape((4,4,4))\n",
    "q_table_greedy_decay_reshaped =q_table_greedy_decay.reshape((4,4,4))\n",
    "sarsa_reshaped =sarsa_table.reshape((4,4,4))\n",
    "\n",
    "\n",
    "deviation = 0.2\n",
    "for i in pos: # rows\n",
    "    for j in pos: # cols\n",
    "\n",
    "        ax[0].text(j-deviation, i, '{:0.2f}'.format(deterministic_q_table_reshaped[i][j][0]), ha='center', va='center') # 0 Left\n",
    "        ax[0].text(j, i+deviation, '{:0.2f}'.format(deterministic_q_table_reshaped[i][j][1]), ha='center', va='center') # 1 Down\n",
    "        ax[0].text(j+deviation, i, '{:0.2f}'.format(deterministic_q_table_reshaped[i][j][2]), ha='center', va='center') # 2 right\n",
    "        ax[0].text(j, i-deviation, '{:0.2f}'.format(deterministic_q_table_reshaped[i][j][3]), ha='center', va='center') # 3 up\n",
    "        ax[0].set_title(f\"Deterministic Q-table \\n success rate = {100*round(success_rate_d,2)} %\")\n",
    "\n",
    "        ax[1].text(j-deviation, i, '{:0.2f}'.format(q_table_reshaped[i][j][0]), ha='center', va='center') # 0 Left\n",
    "        ax[1].text(j, i+deviation, '{:0.2f}'.format(q_table_reshaped[i][j][1]), ha='center', va='center') # 1 Down\n",
    "        ax[1].text(j+deviation, i, '{:0.2f}'.format(q_table_reshaped[i][j][2]), ha='center', va='center') # 2 right\n",
    "        ax[1].text(j, i-deviation, '{:0.2f}'.format(q_table_reshaped[i][j][3]), ha='center', va='center') # 3 up\n",
    "        ax[1].set_title(f\"Q-learning Q-table \\n success rate = {100*round(success_rate_q,2)} %\")\n",
    "\n",
    "        ax[2].text(j-deviation, i, '{:0.2f}'.format(greedy_reshaped[i][j][0]), ha='center', va='center') # 0 Left\n",
    "        ax[2].text(j, i+deviation, '{:0.2f}'.format(greedy_reshaped[i][j][1]), ha='center', va='center') # 1 Down\n",
    "        ax[2].text(j+deviation, i, '{:0.2f}'.format(greedy_reshaped[i][j][2]), ha='center', va='center') # 2 right\n",
    "        ax[2].text(j, i-deviation, '{:0.2f}'.format(greedy_reshaped[i][j][3]), ha='center', va='center') # 3 up\n",
    "        ax[2].set_title(f\"Eps greedy Q-learning Q-table  \\n success rate = {100*round(success_rate_q_greedy,2)} %\")\n",
    "\n",
    "\n",
    "        ax[3].text(j-deviation, i, '{:0.2f}'.format(q_table_greedy_decay_reshaped[i][j][0]), ha='center', va='center') # 0 Left\n",
    "        ax[3].text(j, i+deviation, '{:0.2f}'.format(q_table_greedy_decay_reshaped[i][j][1]), ha='center', va='center') # 1 Down\n",
    "        ax[3].text(j+deviation, i, '{:0.2f}'.format(q_table_greedy_decay_reshaped[i][j][2]), ha='center', va='center') # 2 right\n",
    "        ax[3].text(j, i-deviation, '{:0.2f}'.format(q_table_greedy_decay_reshaped[i][j][3]), ha='center', va='center') # 3 up\n",
    "        ax[3].set_title(f\"Eps greedy decay Q-learning Q-table \\n success rate = {100*round(success_rate_q_greedy_decay,2)} %\")\n",
    "\n",
    "        ax[4].text(j-deviation, i, '{:0.2f}'.format(sarsa_reshaped[i][j][0]), ha='center', va='center') # 0 Left\n",
    "        ax[4].text(j, i+deviation, '{:0.2f}'.format(sarsa_reshaped[i][j][1]), ha='center', va='center') # 1 Down\n",
    "        ax[4].text(j+deviation, i, '{:0.2f}'.format(sarsa_reshaped[i][j][2]), ha='center', va='center') # 2 right\n",
    "        ax[4].text(j, i-deviation, '{:0.2f}'.format(sarsa_reshaped[i][j][3]), ha='center', va='center') # 3 up\n",
    "        ax[4].set_title(f\"SARSA table \\n success rate = {100*round(success_rate_sarsa,2)} %\")\n",
    "plt.show()"
   ]
  },
  {
   "cell_type": "markdown",
   "metadata": {},
   "source": [
    "Then we'll define a play function for our game to test the performance"
   ]
  },
  {
   "cell_type": "code",
   "execution_count": 41,
   "metadata": {},
   "outputs": [
    {
     "name": "stderr",
     "output_type": "stream",
     "text": [
      "C:\\Users\\roman\\AppData\\Local\\Temp\\ipykernel_8356\\3416567757.py:2: RuntimeWarning: divide by zero encountered in true_divide\n",
      "  plt.plot(np.arange(len(rewards_d)), np.cumsum(rewards_d)/np.arange(len(rewards_d)), label=\"Cumulative Average success rate for a deterministic policy\")\n",
      "C:\\Users\\roman\\AppData\\Local\\Temp\\ipykernel_8356\\3416567757.py:3: RuntimeWarning: invalid value encountered in true_divide\n",
      "  plt.plot(np.arange(len(rewards_q)), np.cumsum(rewards_q)/np.arange(len(rewards_q)), label=\"Cumulative Average success rate for Q-learning\")\n",
      "C:\\Users\\roman\\AppData\\Local\\Temp\\ipykernel_8356\\3416567757.py:4: RuntimeWarning: divide by zero encountered in true_divide\n",
      "  plt.plot(np.arange(len(rewards_q_greedy)), np.cumsum(rewards_q_greedy)/np.arange(len(rewards_q_greedy)), label=\"Cumulative Average success rate for Q-learning epsilon Greedy\")\n",
      "C:\\Users\\roman\\AppData\\Local\\Temp\\ipykernel_8356\\3416567757.py:5: RuntimeWarning: divide by zero encountered in true_divide\n",
      "  plt.plot(np.arange(len(rewards_q_greedy_decay)), np.cumsum(rewards_q_greedy_decay)/np.arange(len(rewards_q_greedy_decay)), label=\"Cumulative Average success rate for Q-learning epsilon greedy with decay\")\n",
      "C:\\Users\\roman\\AppData\\Local\\Temp\\ipykernel_8356\\3416567757.py:6: RuntimeWarning: divide by zero encountered in true_divide\n",
      "  plt.plot(np.arange(len(rewards_sarsa)), np.cumsum(rewards_sarsa)/np.arange(len(rewards_sarsa)), label=\"Cumulative Average success rate for SARSA\")\n"
     ]
    },
    {
     "data": {
      "image/png": "[encoded data removed]",
      "text/plain": [
       "<Figure size 1008x432 with 1 Axes>"
      ]
     },
     "metadata": {
      "needs_background": "light"
     },
     "output_type": "display_data"
    }
   ],
   "source": [
    "fig, axes = plt.subplots(figsize=(14, 6))\n",
    "plt.plot(np.arange(len(rewards_d)), np.cumsum(rewards_d)/np.arange(len(rewards_d)), label=\"Cumulative Average success rate for a deterministic policy\")\n",
    "plt.plot(np.arange(len(rewards_q)), np.cumsum(rewards_q)/np.arange(len(rewards_q)), label=\"Cumulative Average success rate for Q-learning\")\n",
    "plt.plot(np.arange(len(rewards_q_greedy)), np.cumsum(rewards_q_greedy)/np.arange(len(rewards_q_greedy)), label=\"Cumulative Average success rate for Q-learning epsilon Greedy\")\n",
    "plt.plot(np.arange(len(rewards_q_greedy_decay)), np.cumsum(rewards_q_greedy_decay)/np.arange(len(rewards_q_greedy_decay)), label=\"Cumulative Average success rate for Q-learning epsilon greedy with decay\")\n",
    "plt.plot(np.arange(len(rewards_sarsa)), np.cumsum(rewards_sarsa)/np.arange(len(rewards_sarsa)), label=\"Cumulative Average success rate for SARSA\")\n",
    "\n",
    "axes.set(xlabel='Episode', ylabel='Success Rate', title='Average Success Rate of Q-learning algorithms for is_learning=False')\n",
    "plt.legend()\n",
    "plt.show()"
   ]
  },
  {
   "cell_type": "markdown",
   "metadata": {},
   "source": [
    "## 3. Results with the condition `is_slippery = True`"
   ]
  },
  {
   "cell_type": "code",
   "execution_count": 42,
   "metadata": {},
   "outputs": [],
   "source": [
    "env_slip = gym.make(\"FrozenLake-v1\", is_slippery=True, render_mode=None)\n",
    "np.random.seed(42)\n",
    "observation, info = env.reset(seed=42)"
   ]
  },
  {
   "cell_type": "markdown",
   "metadata": {},
   "source": [
    "### 3.1. Algorithms' results"
   ]
  },
  {
   "cell_type": "code",
   "execution_count": 43,
   "metadata": {},
   "outputs": [
    {
     "name": "stdout",
     "output_type": "stream",
     "text": [
      "Loading Q-table saved weights...\n",
      "Error loading Q-table saved weights\n",
      "Initiating new Q-table...\n",
      "Starting Q-learning algorithm...\n"
     ]
    },
    {
     "name": "stderr",
     "output_type": "stream",
     "text": [
      "100%|██████████| 10000/10000 [00:05<00:00, 1991.17it/s]\n"
     ]
    },
    {
     "name": "stdout",
     "output_type": "stream",
     "text": [
      "Finished Q-learning algorithm.\n",
      "Average reward is : 0.0\n",
      "Loading Q-table saved weights...\n",
      "Error loading Q-table saved weights\n",
      "Initiating new Q-table...\n",
      "Starting Q-learning algorithm...\n"
     ]
    },
    {
     "name": "stderr",
     "output_type": "stream",
     "text": [
      "100%|██████████| 10000/10000 [00:03<00:00, 2895.17it/s]\n"
     ]
    },
    {
     "name": "stdout",
     "output_type": "stream",
     "text": [
      "Finished Q-learning algorithm.\n",
      "Average reward is : 0.0262\n",
      "Loading Q-table saved weights...\n",
      "Error loading Q-table saved weights\n",
      "Initiating new Q-table...\n",
      "Starting Q-learning algorithm...\n"
     ]
    },
    {
     "name": "stderr",
     "output_type": "stream",
     "text": [
      "100%|██████████| 10000/10000 [00:04<00:00, 2043.66it/s]\n"
     ]
    },
    {
     "name": "stdout",
     "output_type": "stream",
     "text": [
      "Finished Q-learning algorithm.\n",
      "Average reward is : 0.0598\n"
     ]
    },
    {
     "name": "stderr",
     "output_type": "stream",
     "text": [
      "100%|██████████| 10000/10000 [00:03<00:00, 2659.10it/s]\n"
     ]
    }
   ],
   "source": [
    "q_table = q_train(env_slip)\n",
    "q_table_greedy = q_train_greedy(env_slip)\n",
    "q_table_greedy_decay=q_train_greedy_decay(env_slip, alpha = 0.1, gamma = 0.99, min_epsilon=0.5)\n",
    "sarsa_table = sarsa_train(env_slip)"
   ]
  },
  {
   "cell_type": "code",
   "execution_count": 44,
   "metadata": {},
   "outputs": [
    {
     "name": "stderr",
     "output_type": "stream",
     "text": [
      "100%|██████████| 10000/10000 [00:01<00:00, 9423.88it/s]\n"
     ]
    },
    {
     "name": "stdout",
     "output_type": "stream",
     "text": [
      "Success rate is = 4.47 %\n",
      "Average number of steps before end (success or fall) = 5.0712\n"
     ]
    },
    {
     "name": "stderr",
     "output_type": "stream",
     "text": [
      "100%|██████████| 10000/10000 [00:03<00:00, 3001.98it/s]\n"
     ]
    },
    {
     "name": "stdout",
     "output_type": "stream",
     "text": [
      "Success rate is = 0.0 %\n",
      "Average number of steps before end (success or fall) = 18.1309\n"
     ]
    },
    {
     "name": "stderr",
     "output_type": "stream",
     "text": [
      "100%|██████████| 10000/10000 [00:03<00:00, 2770.17it/s]\n"
     ]
    },
    {
     "name": "stdout",
     "output_type": "stream",
     "text": [
      "Success rate is = 0.0 %\n",
      "Average number of steps before end (success or fall) = 17.8625\n"
     ]
    },
    {
     "name": "stderr",
     "output_type": "stream",
     "text": [
      "100%|██████████| 10000/10000 [00:09<00:00, 1080.32it/s]\n"
     ]
    },
    {
     "name": "stdout",
     "output_type": "stream",
     "text": [
      "Success rate is = 65.02 %\n",
      "Average number of steps before end (success or fall) = 45.4563\n"
     ]
    },
    {
     "name": "stderr",
     "output_type": "stream",
     "text": [
      "100%|██████████| 10000/10000 [00:04<00:00, 2326.40it/s]"
     ]
    },
    {
     "name": "stdout",
     "output_type": "stream",
     "text": [
      "Success rate is = 18.09 %\n",
      "Average number of steps before end (success or fall) = 16.8706\n"
     ]
    },
    {
     "name": "stderr",
     "output_type": "stream",
     "text": [
      "\n"
     ]
    }
   ],
   "source": [
    "rewards_d, success_rate_d, avg_num_steps_d= agent_play(env_slip, q_table=deterministic_q_table)\n",
    "rewards_q, success_rate_q, avg_num_steps_q= agent_play(env_slip, q_table=q_table)\n",
    "rewards_q_greedy, success_rate_q_greedy, avg_num_steps_q_greedy= agent_play(env_slip, q_table=q_table_greedy)\n",
    "rewards_q_greedy_decay, success_rate_q_greedy_decay, avg_num_steps_q_greedy_decay= agent_play(env_slip, q_table=q_table_greedy_decay)\n",
    "rewards_sarsa, success_rate_sarsa, avg_num_steps_sarsa= agent_play(env_slip, q_table=sarsa_table)"
   ]
  },
  {
   "cell_type": "markdown",
   "metadata": {},
   "source": [
    "> Let's make some comments.\n",
    "\n",
    "Keep in mind that we are in the situation where `is_slippery = True`, meaning that when the agent choose to go one way, the probability that he really goes this way is $\\frac{1}{3}$, and he could go on a perpendicular direction with probability $\\frac{1}{3}$, for each perpendicular direction. In this case, it is impossible to reach 100% success. \n",
    "The deterministic table, with only ones or zeros, has no flexibility : the agent always want to use the same path, but due to the randomness, he almost always fails.\n",
    "\n",
    "With the basic Q-learning algorithm, we will always get a 0% success rate if we start with a initial q-table filled with 0. Indeed, since Python `np.argmax` function always give the first action maximizing, and since we start with everything at 0, this function will always return 0, meaning that the agent will always try to go left. Due to `is_slippery = True`, the agent may or may not move (going left, when starting, is not possible), but won't get any reward (no reward are granted until the goal is reached). Thus, at next step, the agent will again try to go left (the q-table updating stage won't modify any values). With such a policy, the agent is unlikely to ever reach the goal.\n",
    "\n",
    "The two other Q-learning algorithms help avoid this problem, by allowing the agent taking random actions, and not always the same one \"going left\". This increases the probability to reach the goal. The SARSA algorithm also uses randomness to choose actions. The parameters, such as `gamma`, `epsilon` or `alpha` may have great influence on the results. Some parameters tuning may be useful in this case."
   ]
  },
  {
   "cell_type": "markdown",
   "metadata": {},
   "source": [
    "### 3.2. Hyperparameter tuning"
   ]
  },
  {
   "cell_type": "markdown",
   "metadata": {},
   "source": [
    "Considering that the results may be highly influenced by the parameters, let's try some tuning, for the $\\epsilon$-greedy decay Q-learning and SARSA algorithms."
   ]
  },
  {
   "cell_type": "code",
   "execution_count": null,
   "metadata": {},
   "outputs": [],
   "source": [
    "# Qlearning optimization\n",
    "alpha = [0.01, 0.05, 0.1, 0.5, 0.8, 0.9, 0.99]\n",
    "gamma = [0.5, 0.8, 0.9, 0.95, 0.99, 1]\n",
    "epsilon = [0.01, 0.05, 0.1, 0.5]\n",
    "\n",
    "alphas=[]\n",
    "success_rates = []\n",
    "gammas=[]\n",
    "epsilons=[]\n",
    "rewards =[]\n",
    "for al in alpha :\n",
    "    for ga in gamma :\n",
    "        for ep in epsilon :\n",
    "            q_table = q_train_greedy_decay(env_slip, alpha=al, gamma=ga, min_epsilon=ep)\n",
    "            reward, success_rate, avg_nb_steps = agent_play(env_slip, q_table)\n",
    "            success_rates.append(success_rate)\n",
    "            alphas.append(al)\n",
    "            gammas.append(ga)\n",
    "            epsilons.append(ep)\n",
    "            rewards.append(reward)"
   ]
  },
  {
   "cell_type": "code",
   "execution_count": 48,
   "metadata": {},
   "outputs": [
    {
     "data": {
      "text/html": [
       "<div>\n",
       "<style scoped>\n",
       "    .dataframe tbody tr th:only-of-type {\n",
       "        vertical-align: middle;\n",
       "    }\n",
       "\n",
       "    .dataframe tbody tr th {\n",
       "        vertical-align: top;\n",
       "    }\n",
       "\n",
       "    .dataframe thead th {\n",
       "        text-align: right;\n",
       "    }\n",
       "</style>\n",
       "<table border=\"1\" class=\"dataframe\">\n",
       "  <thead>\n",
       "    <tr style=\"text-align: right;\">\n",
       "      <th></th>\n",
       "      <th>alpha</th>\n",
       "      <th>gamma</th>\n",
       "      <th>epsilon</th>\n",
       "      <th>success_rate</th>\n",
       "    </tr>\n",
       "  </thead>\n",
       "  <tbody>\n",
       "    <tr>\n",
       "      <th>64</th>\n",
       "      <td>0.10</td>\n",
       "      <td>0.99</td>\n",
       "      <td>0.01</td>\n",
       "      <td>0.7435</td>\n",
       "    </tr>\n",
       "    <tr>\n",
       "      <th>43</th>\n",
       "      <td>0.05</td>\n",
       "      <td>0.99</td>\n",
       "      <td>0.50</td>\n",
       "      <td>0.7422</td>\n",
       "    </tr>\n",
       "    <tr>\n",
       "      <th>62</th>\n",
       "      <td>0.10</td>\n",
       "      <td>0.95</td>\n",
       "      <td>0.10</td>\n",
       "      <td>0.7421</td>\n",
       "    </tr>\n",
       "    <tr>\n",
       "      <th>41</th>\n",
       "      <td>0.05</td>\n",
       "      <td>0.99</td>\n",
       "      <td>0.05</td>\n",
       "      <td>0.7409</td>\n",
       "    </tr>\n",
       "    <tr>\n",
       "      <th>42</th>\n",
       "      <td>0.05</td>\n",
       "      <td>0.99</td>\n",
       "      <td>0.10</td>\n",
       "      <td>0.7392</td>\n",
       "    </tr>\n",
       "    <tr>\n",
       "      <th>...</th>\n",
       "      <td>...</td>\n",
       "      <td>...</td>\n",
       "      <td>...</td>\n",
       "      <td>...</td>\n",
       "    </tr>\n",
       "    <tr>\n",
       "      <th>140</th>\n",
       "      <td>0.90</td>\n",
       "      <td>1.00</td>\n",
       "      <td>0.01</td>\n",
       "      <td>0.0000</td>\n",
       "    </tr>\n",
       "    <tr>\n",
       "      <th>141</th>\n",
       "      <td>0.90</td>\n",
       "      <td>1.00</td>\n",
       "      <td>0.05</td>\n",
       "      <td>0.0000</td>\n",
       "    </tr>\n",
       "    <tr>\n",
       "      <th>142</th>\n",
       "      <td>0.90</td>\n",
       "      <td>1.00</td>\n",
       "      <td>0.10</td>\n",
       "      <td>0.0000</td>\n",
       "    </tr>\n",
       "    <tr>\n",
       "      <th>143</th>\n",
       "      <td>0.90</td>\n",
       "      <td>1.00</td>\n",
       "      <td>0.50</td>\n",
       "      <td>0.0000</td>\n",
       "    </tr>\n",
       "    <tr>\n",
       "      <th>167</th>\n",
       "      <td>0.99</td>\n",
       "      <td>1.00</td>\n",
       "      <td>0.50</td>\n",
       "      <td>0.0000</td>\n",
       "    </tr>\n",
       "  </tbody>\n",
       "</table>\n",
       "<p>168 rows × 4 columns</p>\n",
       "</div>"
      ],
      "text/plain": [
       "     alpha  gamma  epsilon  success_rate\n",
       "64    0.10   0.99     0.01        0.7435\n",
       "43    0.05   0.99     0.50        0.7422\n",
       "62    0.10   0.95     0.10        0.7421\n",
       "41    0.05   0.99     0.05        0.7409\n",
       "42    0.05   0.99     0.10        0.7392\n",
       "..     ...    ...      ...           ...\n",
       "140   0.90   1.00     0.01        0.0000\n",
       "141   0.90   1.00     0.05        0.0000\n",
       "142   0.90   1.00     0.10        0.0000\n",
       "143   0.90   1.00     0.50        0.0000\n",
       "167   0.99   1.00     0.50        0.0000\n",
       "\n",
       "[168 rows x 4 columns]"
      ]
     },
     "execution_count": 48,
     "metadata": {},
     "output_type": "execute_result"
    }
   ],
   "source": [
    "df = pd.DataFrame()\n",
    "df[\"alpha\"]=alphas\n",
    "df[\"gamma\"]=gammas\n",
    "df[\"epsilon\"]=epsilons\n",
    "df[\"success_rate\"]=success_rates\n",
    "df = df.sort_values(by=\"success_rate\", ascending=False)\n",
    "df"
   ]
  },
  {
   "cell_type": "code",
   "execution_count": null,
   "metadata": {},
   "outputs": [],
   "source": [
    "fig, axes = plt.subplots(figsize=(14, 6))\n",
    "title = f\"Cummulative Average reward for Q-epsilon greedy decay for different parameters \\n best success rate : {round(100*df.iloc[0]['success_rate'],2)} % \\n best parameters : alpha = {df.iloc[0]['alpha']}, epsilon = {df.iloc[0]['epsilon']}, gamma = {df.iloc[0]['gamma']} \"\n",
    "plt.title(title)\n",
    "for i in range(len(df)):\n",
    "    plt.plot(np.arange(len(rewards[i])), np.cumsum(rewards[i])/np.arange(len(rewards[i])))\n",
    "plt.legend()\n",
    "plt.show()"
   ]
  },
  {
   "cell_type": "markdown",
   "metadata": {},
   "source": [
    "![images/output0.png](images/output0.png)"
   ]
  },
  {
   "cell_type": "code",
   "execution_count": 50,
   "metadata": {},
   "outputs": [
    {
     "name": "stdout",
     "output_type": "stream",
     "text": [
      "Loading Q-table saved weights...\n",
      "Error loading Q-table saved weights\n",
      "Initiating new Q-table...\n",
      "Starting Q-learning algorithm...\n"
     ]
    },
    {
     "name": "stderr",
     "output_type": "stream",
     "text": [
      "100%|██████████| 10000/10000 [00:05<00:00, 1923.74it/s]"
     ]
    },
    {
     "name": "stdout",
     "output_type": "stream",
     "text": [
      "Finished Q-learning algorithm.\n",
      "Average reward is : 0.0603\n"
     ]
    },
    {
     "name": "stderr",
     "output_type": "stream",
     "text": [
      "\n"
     ]
    }
   ],
   "source": [
    "q_table_greedy_decay = q_train_greedy_decay(env_slip, alpha = 0.1, gamma = 0.99, min_epsilon=0.5)"
   ]
  },
  {
   "cell_type": "code",
   "execution_count": null,
   "metadata": {},
   "outputs": [],
   "source": [
    "# SARSA optimization\n",
    "alpha = [0.01, 0.05, 0.1, 0.5, 0.8, 0.9, 0.99]\n",
    "gamma = [0.5, 0.8, 0.9, 0.95, 0.99, 1]\n",
    "epsilon = [0.01, 0.05, 0.1, 0.5]\n",
    "alphas=[]\n",
    "success_rates = []\n",
    "gammas=[]\n",
    "epsilons=[]\n",
    "rewards=[]\n",
    "for al in alpha :\n",
    "    for ga in gamma :\n",
    "        for eps in epsilon :\n",
    "            sarsa_table = sarsa_train(env_slip, al, ga, eps, episodes = 10000, steps = 100)\n",
    "            reward, success_rate, avg_nb_steps = agent_play(env_slip, sarsa_table)\n",
    "            success_rates.append(success_rate)\n",
    "            alphas.append(al)\n",
    "            gammas.append(ga)\n",
    "            epsilons.append(eps)\n",
    "            rewards.append(reward)\n"
   ]
  },
  {
   "cell_type": "code",
   "execution_count": 52,
   "metadata": {},
   "outputs": [
    {
     "data": {
      "text/html": [
       "<div>\n",
       "<style scoped>\n",
       "    .dataframe tbody tr th:only-of-type {\n",
       "        vertical-align: middle;\n",
       "    }\n",
       "\n",
       "    .dataframe tbody tr th {\n",
       "        vertical-align: top;\n",
       "    }\n",
       "\n",
       "    .dataframe thead th {\n",
       "        text-align: right;\n",
       "    }\n",
       "</style>\n",
       "<table border=\"1\" class=\"dataframe\">\n",
       "  <thead>\n",
       "    <tr style=\"text-align: right;\">\n",
       "      <th></th>\n",
       "      <th>epsilon</th>\n",
       "      <th>alpha</th>\n",
       "      <th>gamma</th>\n",
       "      <th>success_rate</th>\n",
       "    </tr>\n",
       "  </thead>\n",
       "  <tbody>\n",
       "    <tr>\n",
       "      <th>23</th>\n",
       "      <td>0.50</td>\n",
       "      <td>0.01</td>\n",
       "      <td>1.00</td>\n",
       "      <td>0.7382</td>\n",
       "    </tr>\n",
       "    <tr>\n",
       "      <th>19</th>\n",
       "      <td>0.50</td>\n",
       "      <td>0.01</td>\n",
       "      <td>0.99</td>\n",
       "      <td>0.7376</td>\n",
       "    </tr>\n",
       "    <tr>\n",
       "      <th>33</th>\n",
       "      <td>0.05</td>\n",
       "      <td>0.05</td>\n",
       "      <td>0.90</td>\n",
       "      <td>0.7339</td>\n",
       "    </tr>\n",
       "    <tr>\n",
       "      <th>70</th>\n",
       "      <td>0.10</td>\n",
       "      <td>0.10</td>\n",
       "      <td>1.00</td>\n",
       "      <td>0.7328</td>\n",
       "    </tr>\n",
       "    <tr>\n",
       "      <th>66</th>\n",
       "      <td>0.10</td>\n",
       "      <td>0.10</td>\n",
       "      <td>0.99</td>\n",
       "      <td>0.7298</td>\n",
       "    </tr>\n",
       "    <tr>\n",
       "      <th>...</th>\n",
       "      <td>...</td>\n",
       "      <td>...</td>\n",
       "      <td>...</td>\n",
       "      <td>...</td>\n",
       "    </tr>\n",
       "    <tr>\n",
       "      <th>64</th>\n",
       "      <td>0.01</td>\n",
       "      <td>0.10</td>\n",
       "      <td>0.99</td>\n",
       "      <td>0.0000</td>\n",
       "    </tr>\n",
       "    <tr>\n",
       "      <th>61</th>\n",
       "      <td>0.05</td>\n",
       "      <td>0.10</td>\n",
       "      <td>0.95</td>\n",
       "      <td>0.0000</td>\n",
       "    </tr>\n",
       "    <tr>\n",
       "      <th>60</th>\n",
       "      <td>0.01</td>\n",
       "      <td>0.10</td>\n",
       "      <td>0.95</td>\n",
       "      <td>0.0000</td>\n",
       "    </tr>\n",
       "    <tr>\n",
       "      <th>57</th>\n",
       "      <td>0.05</td>\n",
       "      <td>0.10</td>\n",
       "      <td>0.90</td>\n",
       "      <td>0.0000</td>\n",
       "    </tr>\n",
       "    <tr>\n",
       "      <th>84</th>\n",
       "      <td>0.01</td>\n",
       "      <td>0.50</td>\n",
       "      <td>0.95</td>\n",
       "      <td>0.0000</td>\n",
       "    </tr>\n",
       "  </tbody>\n",
       "</table>\n",
       "<p>168 rows × 4 columns</p>\n",
       "</div>"
      ],
      "text/plain": [
       "    epsilon  alpha  gamma  success_rate\n",
       "23     0.50   0.01   1.00        0.7382\n",
       "19     0.50   0.01   0.99        0.7376\n",
       "33     0.05   0.05   0.90        0.7339\n",
       "70     0.10   0.10   1.00        0.7328\n",
       "66     0.10   0.10   0.99        0.7298\n",
       "..      ...    ...    ...           ...\n",
       "64     0.01   0.10   0.99        0.0000\n",
       "61     0.05   0.10   0.95        0.0000\n",
       "60     0.01   0.10   0.95        0.0000\n",
       "57     0.05   0.10   0.90        0.0000\n",
       "84     0.01   0.50   0.95        0.0000\n",
       "\n",
       "[168 rows x 4 columns]"
      ]
     },
     "execution_count": 52,
     "metadata": {},
     "output_type": "execute_result"
    }
   ],
   "source": [
    "df = pd.DataFrame()\n",
    "\n",
    "df[\"epsilon\"]=epsilons\n",
    "df[\"alpha\"]=alphas\n",
    "df[\"gamma\"]=gammas\n",
    "df[\"success_rate\"]=success_rates\n",
    "df = df.sort_values(by=\"success_rate\", ascending=False)\n",
    "df"
   ]
  },
  {
   "cell_type": "code",
   "execution_count": null,
   "metadata": {},
   "outputs": [],
   "source": [
    "fig, axes = plt.subplots(figsize=(14, 6))\n",
    "title = f\"Cummulative Average reward for SARSA for different parameters \\n best success rate : {round(100*df.iloc[0]['success_rate'],2)} % \\n best parameters : alpha = {df.iloc[0]['alpha']}, epsilon = {df.iloc[0]['epsilon']}, gamma = {df.iloc[0]['gamma']} \"\n",
    "plt.title(title)\n",
    "for i in range(len(df)):\n",
    "    plt.plot(np.arange(len(rewards[i])), np.cumsum(rewards[i])/np.arange(len(rewards[i])))\n",
    "plt.legend()\n",
    "plt.show()"
   ]
  },
  {
   "cell_type": "markdown",
   "metadata": {},
   "source": [
    "![images/output.png](images/output.png)"
   ]
  },
  {
   "cell_type": "code",
   "execution_count": 54,
   "metadata": {},
   "outputs": [
    {
     "name": "stderr",
     "output_type": "stream",
     "text": [
      "100%|██████████| 10000/10000 [00:13<00:00, 766.07it/s]\n"
     ]
    }
   ],
   "source": [
    "sarsa_table = sarsa_train(env_slip, alpha = 0.1, gamma = 0.99, epsilon = 0.1, episodes = 10000, steps = 100)"
   ]
  },
  {
   "cell_type": "markdown",
   "metadata": {},
   "source": [
    "Recalculting the performances..."
   ]
  },
  {
   "cell_type": "code",
   "execution_count": 55,
   "metadata": {},
   "outputs": [
    {
     "name": "stderr",
     "output_type": "stream",
     "text": [
      "100%|██████████| 10000/10000 [00:02<00:00, 4996.66it/s]\n"
     ]
    },
    {
     "name": "stdout",
     "output_type": "stream",
     "text": [
      "Success rate is = 4.1000000000000005 %\n",
      "Average number of steps before end (success or fall) = 5.0587\n"
     ]
    },
    {
     "name": "stderr",
     "output_type": "stream",
     "text": [
      "100%|██████████| 10000/10000 [00:34<00:00, 287.83it/s]\n"
     ]
    },
    {
     "name": "stdout",
     "output_type": "stream",
     "text": [
      "Success rate is = 0.0 %\n",
      "Average number of steps before end (success or fall) = 100.0\n"
     ]
    },
    {
     "name": "stderr",
     "output_type": "stream",
     "text": [
      "100%|██████████| 10000/10000 [00:07<00:00, 1355.67it/s]\n"
     ]
    },
    {
     "name": "stdout",
     "output_type": "stream",
     "text": [
      "Success rate is = 0.0 %\n",
      "Average number of steps before end (success or fall) = 18.1053\n"
     ]
    },
    {
     "name": "stderr",
     "output_type": "stream",
     "text": [
      "100%|██████████| 10000/10000 [00:17<00:00, 560.51it/s]\n"
     ]
    },
    {
     "name": "stdout",
     "output_type": "stream",
     "text": [
      "Success rate is = 74.08 %\n",
      "Average number of steps before end (success or fall) = 44.3898\n"
     ]
    },
    {
     "name": "stderr",
     "output_type": "stream",
     "text": [
      "100%|██████████| 10000/10000 [00:10<00:00, 921.88it/s]"
     ]
    },
    {
     "name": "stdout",
     "output_type": "stream",
     "text": [
      "Success rate is = 72.8 %\n",
      "Average number of steps before end (success or fall) = 41.1874\n"
     ]
    },
    {
     "name": "stderr",
     "output_type": "stream",
     "text": [
      "\n"
     ]
    }
   ],
   "source": [
    "rewards_d, success_rate_d, avg_num_steps_d= agent_play(env_slip, q_table=deterministic_q_table)\n",
    "rewards_q, success_rate_q, avg_num_steps_q= agent_play(env_slip, q_table=q_table)\n",
    "rewards_q_greedy, success_rate_q_greedy, avg_num_steps_q_greedy= agent_play(env_slip, q_table=q_table_greedy)\n",
    "rewards_q_greedy_decay, success_rate_q_greedy_decay, avg_num_steps_q_greedy_decay= agent_play(env_slip, q_table=q_table_greedy_decay)\n",
    "rewards_sarsa, success_rate_sarsa, avg_num_steps_sarsa= agent_play(env_slip, q_table=sarsa_table)"
   ]
  },
  {
   "cell_type": "markdown",
   "metadata": {},
   "source": [
    "As we can, the performances of both the $\\epsilon$-greedy decay Q-learning algorithm and the SARSA algorithm have been increased."
   ]
  },
  {
   "cell_type": "markdown",
   "metadata": {},
   "source": [
    "### 3.3. Comparison"
   ]
  },
  {
   "cell_type": "code",
   "execution_count": 56,
   "metadata": {},
   "outputs": [
    {
     "data": {
      "image/png": "[encoded data removed]",
      "text/plain": [
       "<Figure size 1800x504 with 5 Axes>"
      ]
     },
     "metadata": {
      "needs_background": "light"
     },
     "output_type": "display_data"
    }
   ],
   "source": [
    "fig, ax = plt.subplots(1, 5)\n",
    "fig.set_size_inches(25, 7)\n",
    "# im = Image.open('images/frozen_lake.jpg')\n",
    "fig.suptitle(\"Q-table for is_slippery=True\", fontsize=16)\n",
    "\n",
    "# Creating the heat maps\n",
    "map_q = np.sum(q_table, axis = 1)\n",
    "map_q= map_q.reshape(4, 4)\n",
    "\n",
    "map_d = np.sum(deterministic_q_table, axis = 1)\n",
    "map_d= map_d.reshape(4, 4)\n",
    "\n",
    "map_g = np.sum(q_table_greedy, axis = 1)\n",
    "map_g= map_g.reshape(4, 4)\n",
    "\n",
    "map_e = np.sum(q_table_greedy_decay, axis = 1)\n",
    "map_e= map_e.reshape(4, 4)\n",
    "\n",
    "map_s = np.sum(sarsa_table, axis = 1)\n",
    "map_s= map_s.reshape(4, 4)\n",
    "\n",
    "\n",
    "# ax[0].imshow(im, alpha=1)\n",
    "# ax[1].imshow(im, alpha=1)\n",
    "\n",
    "ax[0].matshow(map_d, cmap='winter')\n",
    "ax[1].matshow(map_q, cmap='winter')\n",
    "ax[2].matshow(map_g, cmap='winter')\n",
    "ax[3].matshow(map_e, cmap='winter')\n",
    "ax[4].matshow(map_s, cmap='winter')\n",
    "\n",
    "pos=[0,1,2,3]\n",
    "\n",
    "deterministic_q_table_reshaped=deterministic_q_table.reshape((4,4,4))\n",
    "q_table_reshaped=q_table.reshape((4,4,4))\n",
    "greedy_reshaped=q_table_greedy.reshape((4,4,4))\n",
    "q_table_greedy_decay_reshaped =q_table_greedy_decay.reshape((4,4,4))\n",
    "sarsa_reshaped =sarsa_table.reshape((4,4,4))\n",
    "\n",
    "\n",
    "deviation = 0.2\n",
    "for i in pos: # rows\n",
    "    for j in pos: # cols\n",
    "\n",
    "        ax[0].text(j-deviation, i, '{:0.2f}'.format(deterministic_q_table_reshaped[i][j][0]), ha='center', va='center') # 0 Left\n",
    "        ax[0].text(j, i+deviation, '{:0.2f}'.format(deterministic_q_table_reshaped[i][j][1]), ha='center', va='center') # 1 Down\n",
    "        ax[0].text(j+deviation, i, '{:0.2f}'.format(deterministic_q_table_reshaped[i][j][2]), ha='center', va='center') # 2 right\n",
    "        ax[0].text(j, i-deviation, '{:0.2f}'.format(deterministic_q_table_reshaped[i][j][3]), ha='center', va='center') # 3 up\n",
    "        ax[0].set_title(f\"Deterministic Q-table \\n success rate = {round(100*success_rate_d,2)} %\")\n",
    "\n",
    "        ax[1].text(j-deviation, i, '{:0.2f}'.format(q_table_reshaped[i][j][0]), ha='center', va='center') # 0 Left\n",
    "        ax[1].text(j, i+deviation, '{:0.2f}'.format(q_table_reshaped[i][j][1]), ha='center', va='center') # 1 Down\n",
    "        ax[1].text(j+deviation, i, '{:0.2f}'.format(q_table_reshaped[i][j][2]), ha='center', va='center') # 2 right\n",
    "        ax[1].text(j, i-deviation, '{:0.2f}'.format(q_table_reshaped[i][j][3]), ha='center', va='center') # 3 up\n",
    "        ax[1].set_title(f\"Q-learning Q-table \\n success rate = {round(100*success_rate_q,2)} %\")\n",
    "\n",
    "        ax[2].text(j-deviation, i, '{:0.2f}'.format(greedy_reshaped[i][j][0]), ha='center', va='center') # 0 Left\n",
    "        ax[2].text(j, i+deviation, '{:0.2f}'.format(greedy_reshaped[i][j][1]), ha='center', va='center') # 1 Down\n",
    "        ax[2].text(j+deviation, i, '{:0.2f}'.format(greedy_reshaped[i][j][2]), ha='center', va='center') # 2 right\n",
    "        ax[2].text(j, i-deviation, '{:0.2f}'.format(greedy_reshaped[i][j][3]), ha='center', va='center') # 3 up\n",
    "        ax[2].set_title(f\"Eps greedy Q-learning Q-table  \\n success rate = {round(100*success_rate_q_greedy,2)} %\")\n",
    "\n",
    "\n",
    "        ax[3].text(j-deviation, i, '{:0.2f}'.format(q_table_greedy_decay_reshaped[i][j][0]), ha='center', va='center') # 0 Left\n",
    "        ax[3].text(j, i+deviation, '{:0.2f}'.format(q_table_greedy_decay_reshaped[i][j][1]), ha='center', va='center') # 1 Down\n",
    "        ax[3].text(j+deviation, i, '{:0.2f}'.format(q_table_greedy_decay_reshaped[i][j][2]), ha='center', va='center') # 2 right\n",
    "        ax[3].text(j, i-deviation, '{:0.2f}'.format(q_table_greedy_decay_reshaped[i][j][3]), ha='center', va='center') # 3 up\n",
    "        ax[3].set_title(f\"Eps greedy decay Q-learning Q-table \\n success rate = {round(100*success_rate_q_greedy_decay,2)} %\")\n",
    "\n",
    "        ax[4].text(j-deviation, i, '{:0.2f}'.format(sarsa_reshaped[i][j][0]), ha='center', va='center') # 0 Left\n",
    "        ax[4].text(j, i+deviation, '{:0.2f}'.format(sarsa_reshaped[i][j][1]), ha='center', va='center') # 1 Down\n",
    "        ax[4].text(j+deviation, i, '{:0.2f}'.format(sarsa_reshaped[i][j][2]), ha='center', va='center') # 2 right\n",
    "        ax[4].text(j, i-deviation, '{:0.2f}'.format(sarsa_reshaped[i][j][3]), ha='center', va='center') # 3 up\n",
    "        ax[4].set_title(f\"SARSA table \\n success rate = {round(100*success_rate_sarsa,2)} %\")\n",
    "plt.show()"
   ]
  },
  {
   "cell_type": "code",
   "execution_count": 57,
   "metadata": {
    "scrolled": false
   },
   "outputs": [
    {
     "name": "stderr",
     "output_type": "stream",
     "text": [
      "C:\\Users\\roman\\AppData\\Local\\Temp\\ipykernel_8356\\995146866.py:2: RuntimeWarning: invalid value encountered in true_divide\n",
      "  plt.plot(np.arange(len(rewards_d)), np.cumsum(rewards_d)/np.arange(len(rewards_d)), label=\"Cumulative Average success rate for a deterministic policy\")\n",
      "C:\\Users\\roman\\AppData\\Local\\Temp\\ipykernel_8356\\995146866.py:3: RuntimeWarning: invalid value encountered in true_divide\n",
      "  plt.plot(np.arange(len(rewards_q)), np.cumsum(rewards_q)/np.arange(len(rewards_q)), label=\"Cumulative Average success rate for Q-learning\")\n",
      "C:\\Users\\roman\\AppData\\Local\\Temp\\ipykernel_8356\\995146866.py:4: RuntimeWarning: invalid value encountered in true_divide\n",
      "  plt.plot(np.arange(len(rewards_q_greedy)), np.cumsum(rewards_q_greedy)/np.arange(len(rewards_q_greedy)), label=\"Cumulative Average success rate for Q-learning epsilon Greedy\")\n",
      "C:\\Users\\roman\\AppData\\Local\\Temp\\ipykernel_8356\\995146866.py:5: RuntimeWarning: divide by zero encountered in true_divide\n",
      "  plt.plot(np.arange(len(rewards_q_greedy_decay)), np.cumsum(rewards_q_greedy_decay)/np.arange(len(rewards_q_greedy_decay)), label=\"Cumulative Average success rate for Q-learning epsilon greedy with decay\")\n",
      "C:\\Users\\roman\\AppData\\Local\\Temp\\ipykernel_8356\\995146866.py:6: RuntimeWarning: divide by zero encountered in true_divide\n",
      "  plt.plot(np.arange(len(rewards_sarsa)), np.cumsum(rewards_sarsa)/np.arange(len(rewards_sarsa)), label=\"Cumulative Average success rate for SARSA\")\n"
     ]
    },
    {
     "data": {
      "image/png": "[encoded data removed]",
      "text/plain": [
       "<Figure size 1008x432 with 1 Axes>"
      ]
     },
     "metadata": {
      "needs_background": "light"
     },
     "output_type": "display_data"
    }
   ],
   "source": [
    "fig, axes = plt.subplots(figsize=(14, 6))\n",
    "plt.plot(np.arange(len(rewards_d)), np.cumsum(rewards_d)/np.arange(len(rewards_d)), label=\"Cumulative Average success rate for a deterministic policy\")\n",
    "plt.plot(np.arange(len(rewards_q)), np.cumsum(rewards_q)/np.arange(len(rewards_q)), label=\"Cumulative Average success rate for Q-learning\")\n",
    "plt.plot(np.arange(len(rewards_q_greedy)), np.cumsum(rewards_q_greedy)/np.arange(len(rewards_q_greedy)), label=\"Cumulative Average success rate for Q-learning epsilon Greedy\")\n",
    "plt.plot(np.arange(len(rewards_q_greedy_decay)), np.cumsum(rewards_q_greedy_decay)/np.arange(len(rewards_q_greedy_decay)), label=\"Cumulative Average success rate for Q-learning epsilon greedy with decay\")\n",
    "plt.plot(np.arange(len(rewards_sarsa)), np.cumsum(rewards_sarsa)/np.arange(len(rewards_sarsa)), label=\"Cumulative Average success rate for SARSA\")\n",
    "\n",
    "axes.set(xlabel='Episode', ylabel='Success Rate', title='Average Success Rate of Q-learning algorithms for is_learning=True')\n",
    "plt.legend()\n",
    "plt.show()"
   ]
  },
  {
   "cell_type": "markdown",
   "metadata": {},
   "source": [
    "## 4. Conclusion :\n",
    "We've established 3 variations of the Q-learning algorithm. As well as the SARSA algorithm, we've benchmarked their performance for both `slippery` and `non-slippery` environments. Furthermore, we've optimized their performance through a manual grid search of the hyperparameters."
   ]
  }
 ],
 "metadata": {
  "kernelspec": {
   "display_name": "Python 3 (ipykernel)",
   "language": "python",
   "name": "python3"
  },
  "language_info": {
   "codemirror_mode": {
    "name": "ipython",
    "version": 3
   },
   "file_extension": ".py",
   "mimetype": "text/x-python",
   "name": "python",
   "nbconvert_exporter": "python",
   "pygments_lexer": "ipython3",
   "version": "3.10.6 (main, Nov 14 2022, 16:10:14) [GCC 11.3.0]"
  },
  "vscode": {
   "interpreter": {
    "hash": "916dbcbb3f70747c44a77c7bcd40155683ae19c65e1c03b4aa3499c5328201f1"
   }
  }
 },
 "nbformat": 4,
 "nbformat_minor": 2
}
