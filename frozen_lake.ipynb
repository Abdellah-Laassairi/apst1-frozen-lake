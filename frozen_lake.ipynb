{
 "cells": [
  {
   "cell_type": "markdown",
   "metadata": {},
   "source": [
    "# Frozen lake : Reinforcement Learning\n",
    "![ Frozen lake](images/frozen_lake.gif) \n",
    "\n",
    "For the first part of the project we will tackle the frozen lake Envirement which involves crossing a frozen lake from the start position to a predetermined goal without falling into any holes. The solution isn't deterministic as the player can slip on the ice.\n",
    " \n",
    "## Envirement description : \n",
    "\n",
    "### 1. Action Space\n",
    "The action shape is as follows : \n",
    "- 0: Move left\n",
    "- 1: Move down\n",
    "- 2: Move right\n",
    "- 3: Move up\n",
    "\n",
    "### 2. Observation Space\n",
    "The observation is a value representing the player’s current position= and it ranges from 0 to the map's width*height-1.\n",
    "\n",
    "### 3. Starting State\n",
    "The episode starts with the player in state [0] at the location [0, 0] in the map.\n",
    "\n",
    "### 4. Rewards : \n",
    "Reward can be defined as follows : \n",
    "- Reach goal: +1\n",
    "- Reach hole: 0\n",
    "- Reach frozen: 0\n",
    "\n",
    "### 5. Episode End : \n",
    "The episode ends if the following happens:\n",
    "- Termination:\n",
    "    - The player moves into a hole.\n",
    "    - The player reaches the goal at max(width) * max(height) - 1 (location [width-1, height-1]).\n",
    "- Truncation :\n",
    "    - The length of the episode is 100 for 4x4 environment, 200 for 8x8 environment.\n"
   ]
  },
  {
   "cell_type": "markdown",
   "metadata": {},
   "source": [
    "Uploading the necessary libraries and modules needed for our experiment."
   ]
  },
  {
   "cell_type": "code",
   "execution_count": 51,
   "metadata": {},
   "outputs": [],
   "source": [
    "import gymnasium as gym\n",
    "#from tools.qlearning import *\n",
    "import numpy as np\n",
    "import matplotlib.pyplot   as plt\n",
    "import pandas as pd"
   ]
  },
  {
   "attachments": {},
   "cell_type": "markdown",
   "metadata": {},
   "source": [
    "We will experiment with both conditions `is_slippery=True` and `is_slippery=False`"
   ]
  },
  {
   "cell_type": "code",
   "execution_count": 38,
   "metadata": {},
   "outputs": [],
   "source": [
    "# To speed up the process we will set the render_mode as None.\n",
    "env = gym.make(\"FrozenLake-v1\", is_slippery=True, render_mode=None)\n",
    "np.random.seed(42)\n",
    "observation, info = env.reset(seed=42)\n",
    "num_actions = env.action_space.n\n",
    "num_states = env.observation_space.n"
   ]
  },
  {
   "attachments": {},
   "cell_type": "markdown",
   "metadata": {},
   "source": [
    "# 1. Algorithms\n",
    "### 1.1 Q-Learning"
   ]
  },
  {
   "cell_type": "code",
   "execution_count": 39,
   "metadata": {},
   "outputs": [],
   "source": [
    "import numpy as np\n",
    "from tqdm import *\n",
    "def q_train(env, alpha=0.99, gamma=0.9, max_n_steps=100, n_episodes=10000, weights=\"data/q_table.npy\"):\n",
    "    \"\"\" Q-learning algorithm \n",
    "    \n",
    "    \"\"\"\n",
    "    rewards =[]\n",
    "    num_actions = env.action_space.n\n",
    "    num_states = env.observation_space.n\n",
    "    \n",
    "    try :\n",
    "        print(\"Loading Q-table saved weights...\")\n",
    "        q_table = np.load(weights)\n",
    "\n",
    "    except :\n",
    "        print(\"Error loading Q-table saved weights\")\n",
    "        print(\"Initiating new Q-table...\")\n",
    "        q_table = np.zeros((num_states, num_actions))\n",
    "\n",
    "    print(\"Starting Q-learning algorithm...\")\n",
    "    for _ in trange(n_episodes):\n",
    "        s = env.reset()[0]\n",
    "        total_reward = 0\n",
    "        for i in range(max_n_steps):\n",
    "            a = np.argmax(q_table[s]) # Select action a given s (state) following policy derived from q;\n",
    "            \n",
    "            s_new, r, done, truncated , info = env.step(a) # Take action a and observe the reward and next state s_new and reward r\n",
    "            #print(s, a, r, s_new, done)\n",
    "            \n",
    "            # Update Q-table\n",
    "            q_table[s, a] = (1-alpha)*q_table[s, a] + alpha*(r + gamma*np.max(q_table[s_new]))\n",
    "            \n",
    "            # update state and total reward\n",
    "            s = s_new\n",
    "            total_reward = total_reward + r\n",
    "\n",
    "            # if s is a terminal state then go to next episode;\n",
    "            if done: \n",
    "                rewards.append(total_reward) \n",
    "                break\n",
    "            \n",
    "    env.close()\n",
    "    print(\"Finished Q-learning algorithm.\")\n",
    "    print(\"Average reward is : {}\".format(np.mean(rewards)))\n",
    "\n",
    "    return q_table\n",
    "\n"
   ]
  },
  {
   "cell_type": "code",
   "execution_count": 40,
   "metadata": {},
   "outputs": [
    {
     "name": "stdout",
     "output_type": "stream",
     "text": [
      "Loading Q-table saved weights...\n",
      "Starting Q-learning algorithm...\n"
     ]
    },
    {
     "name": "stderr",
     "output_type": "stream",
     "text": [
      "100%|██████████| 100000/100000 [00:48<00:00, 2071.17it/s]"
     ]
    },
    {
     "name": "stdout",
     "output_type": "stream",
     "text": [
      "Finished Q-learning algorithm.\n",
      "Average reward is : 0.0\n"
     ]
    },
    {
     "name": "stderr",
     "output_type": "stream",
     "text": [
      "\n"
     ]
    }
   ],
   "source": [
    "q_table = q_train(env, weights=\"q_table.npy\")\n",
    "np.save('q_table.npy', q_table)"
   ]
  },
  {
   "attachments": {},
   "cell_type": "markdown",
   "metadata": {},
   "source": [
    "### 1.2 Q-Learning ( $\\epsilon-greedy$)\n",
    "\n",
    "$\\epsilon-greedy$ is an good strategy for balancing exploration and exploitation."
   ]
  },
  {
   "cell_type": "code",
   "execution_count": 41,
   "metadata": {},
   "outputs": [],
   "source": [
    "def q_train_greedy(env, alpha=0.8, gamma=0.95, epsilon=0.05, max_n_steps=100, n_episodes=10001000000, weights=\"data/q_table.npy\"):\n",
    "    \"\"\" Q-learning algorithm (epsilon-greedy)\n",
    "    \n",
    "    \"\"\"\n",
    "    num_actions = env.action_space.n\n",
    "    num_states = env.observation_space.n\n",
    "    \n",
    "    try :\n",
    "        print(\"Loading Q-table saved weights...\")\n",
    "        q_table = np.load(weights)\n",
    "\n",
    "    except :\n",
    "        print(\"Error loading Q-table saved weights\")\n",
    "        print(\"Initiating new Q-table...\")\n",
    "        q_table = np.zeros((num_states, num_actions))\n",
    "\n",
    "    rewards = []\n",
    "\n",
    "    print(\"Starting Q-learning algorithm...\")\n",
    "    for _ in trange(n_episodes):\n",
    "        s = env.reset()[0]\n",
    "        total_reward = 0\n",
    "        for i in range(max_n_steps):\n",
    "            U = np.random.uniform(0, 1)\n",
    "            if U < epsilon:\n",
    "                a = env.action_space.sample() # selecting action a at random from A \n",
    "            else:\n",
    "                a = np.argmax(q_table[s]) # Select action a given s (state) following policy derived from q;\n",
    "            \n",
    "            s_new, r, done, _ , _= env.step(a)\n",
    "            \n",
    "            # Update Q-table\n",
    "            q_table[s, a] = (1-alpha)*q_table[s, a] + alpha*(r + gamma*np.max(q_table[s_new]))\n",
    "            \n",
    "            # update state and total reward\n",
    "            s, total_reward = s_new, total_reward+r\n",
    "\n",
    "            # if s is a terminal state then go to next episode;\n",
    "            if done: \n",
    "                rewards.append(total_reward) \n",
    "                break\n",
    "    env.close()\n",
    "    print(\"Finished Q-learning algorithm.\")\n",
    "    print(\"Average reward is : {}\".format(np.mean(rewards)))\n",
    "    return q_table"
   ]
  },
  {
   "cell_type": "code",
   "execution_count": 42,
   "metadata": {},
   "outputs": [
    {
     "name": "stdout",
     "output_type": "stream",
     "text": [
      "Loading Q-table saved weights...\n",
      "Starting Q-learning algorithm...\n"
     ]
    },
    {
     "name": "stderr",
     "output_type": "stream",
     "text": [
      "100%|██████████| 100000/100000 [02:11<00:00, 762.24it/s]"
     ]
    },
    {
     "name": "stdout",
     "output_type": "stream",
     "text": [
      "Finished Q-learning algorithm.\n",
      "Average reward is : 0.27235620018028783\n"
     ]
    },
    {
     "name": "stderr",
     "output_type": "stream",
     "text": [
      "\n"
     ]
    }
   ],
   "source": [
    "q_table_greedy = q_train_greedy(env,weights=\"data/q_table_greedy.npy\")\n",
    "np.save('data/q_table_greedy.npy', q_table_greedy)"
   ]
  },
  {
   "cell_type": "markdown",
   "metadata": {},
   "source": [
    "\n",
    "### 1.3 Q-learning epsilon decay\n",
    "The concept of decay : \n",
    "During the lifecycle of an agent that does not have sufficient information on its environment, exploration is more important than exploitation. Once the agent has enough information about the environment, we can then start to exploit that information to improve the agent's performance [Source](https://arxiv.org/pdf/1910.13701.pdf). That's why we'll use the concept of decay by starting with a maximum value of epsilon and then decaying it gradually across every episode. \n",
    "\n"
   ]
  },
  {
   "cell_type": "code",
   "execution_count": 43,
   "metadata": {},
   "outputs": [],
   "source": [
    "\n",
    "def q_train_greedy_decay(env, alpha=0.8, gamma=0.9,min_epsilon=0.005, decay_rate=0.001, max_n_steps=100, n_episodes=10000, weights=None):\n",
    "    \"\"\" Q-learning algorithm (epsilon-greedy) with exponential epsilon decay\n",
    "    \n",
    "    \"\"\"\n",
    "    num_actions = env.action_space.n\n",
    "    num_states = env.observation_space.n\n",
    "    \n",
    "    try :\n",
    "        print(\"Loading Q-table saved weights...\")\n",
    "        q_table = np.load(weights)\n",
    "\n",
    "    except :\n",
    "        print(\"Error loading Q-table saved weights\")\n",
    "        print(\"Initiating new Q-table...\")\n",
    "        q_table = np.zeros((num_states, num_actions))\n",
    "\n",
    "    rewards = []\n",
    "    epsilon = 1\n",
    "    \n",
    "    print(\"Starting Q-learning algorithm...\")\n",
    "    for episode in trange(n_episodes):\n",
    "        s = env.reset()[0]\n",
    "        total_reward = 0\n",
    "        for i in range(max_n_steps):\n",
    "            U = np.random.uniform(0, 1)\n",
    "            if U < epsilon:\n",
    "                a = env.action_space.sample() # selecting action a at random from A \n",
    "            else:\n",
    "                a = np.argmax(q_table[s]) # Select action a given s (state) following policy derived from q;\n",
    "            \n",
    "            s_new, r, done, _ , _= env.step(a)\n",
    "\n",
    "            # Update Q-table\n",
    "            q_table[s, a] = (1-alpha)*q_table[s, a] + alpha*(r + gamma*np.max(q_table[s_new]))\n",
    "            \n",
    "            # update state and total reward\n",
    "            s, total_reward = s_new, total_reward+r\n",
    "\n",
    "            # if s is a terminal state then go to next episode;\n",
    "            if done: \n",
    "                # Epsilon exponential decay\n",
    "                epsilon = min_epsilon + (1-min_epsilon)*np.exp(-decay_rate*episode)\n",
    "                rewards.append(total_reward) \n",
    "                break\n",
    "            \n",
    "    env.close()\n",
    "    print(\"Finished Q-learning algorithm.\")\n",
    "    print(\"Average reward is : {}\".format(np.mean(rewards)))\n",
    "    return q_table"
   ]
  },
  {
   "cell_type": "code",
   "execution_count": 44,
   "metadata": {},
   "outputs": [
    {
     "name": "stdout",
     "output_type": "stream",
     "text": [
      "Loading Q-table saved weights...\n",
      "Starting Q-learning algorithm...\n"
     ]
    },
    {
     "name": "stderr",
     "output_type": "stream",
     "text": [
      "100%|██████████| 100000/100000 [03:18<00:00, 503.37it/s]"
     ]
    },
    {
     "name": "stdout",
     "output_type": "stream",
     "text": [
      "Finished Q-learning algorithm.\n",
      "Average reward is : 0.5164906750722353\n"
     ]
    },
    {
     "name": "stderr",
     "output_type": "stream",
     "text": [
      "\n"
     ]
    }
   ],
   "source": [
    "q_table_greedy_decay=q_train_greedy_decay(env, weights=\"data/q_table_greedy_decay.npy\")\n",
    "np.save(\"data/q_table_greedy_decay.npy\", q_table_greedy)"
   ]
  },
  {
   "attachments": {},
   "cell_type": "markdown",
   "metadata": {},
   "source": [
    "### 1.4 SARSA"
   ]
  },
  {
   "cell_type": "code",
   "execution_count": 59,
   "metadata": {},
   "outputs": [],
   "source": [
    "def sarsa_train(env, alpha=0.1, gamma=1, epsilon=0.5, episodes=10000, steps=1000) :\n",
    "\n",
    "    num_actions = env.action_space.n\n",
    "    num_states = env.observation_space.n\n",
    "    q = np.zeros((num_states, num_actions))\n",
    "\n",
    "    for ep in trange(episodes) : \n",
    "        \n",
    "        env.reset()\n",
    "        state = env.s\n",
    "\n",
    "        \n",
    "        if np.random.uniform() < epsilon :\n",
    "            action = env.action_space.sample()\n",
    "        else :\n",
    "            action = np.argmax(q[state, :])\n",
    "            \n",
    "        for _ in range(steps) :\n",
    "            nw_state, reward, terminated, truncated, info = env.step(action)\n",
    "            \n",
    "            if np.random.uniform() < epsilon :\n",
    "                nw_action = env.action_space.sample()\n",
    "            else :\n",
    "                nw_action = np.argmax(q[nw_state, :])\n",
    "                \n",
    "            q[state, action] = (1-alpha)*q[state, action] + \\\n",
    "                alpha*(reward + gamma*q[nw_state, nw_action])\n",
    "                \n",
    "            state = nw_state\n",
    "            action = nw_action\n",
    "            \n",
    "            if terminated or truncated :\n",
    "                break\n",
    "    \n",
    "    env.close()\n",
    "    \n",
    "    return q"
   ]
  },
  {
   "cell_type": "code",
   "execution_count": null,
   "metadata": {},
   "outputs": [
    {
     "name": "stderr",
     "output_type": "stream",
     "text": [
      "100%|██████████| 10000/10000 [00:03<00:00, 3239.24it/s]\n"
     ]
    }
   ],
   "source": [
    "sarsa_table = sarsa_train(env, alpha = 0.1, gamma = 1, epsilon = 0.5, episodes = 10000, steps = 1000)"
   ]
  },
  {
   "cell_type": "code",
   "execution_count": null,
   "metadata": {},
   "outputs": [
    {
     "data": {
      "text/plain": [
       "array([[0.36891058, 0.41185842, 0.31384139, 0.37521863],\n",
       "       [0.35361373, 0.        , 0.41221516, 0.34212102],\n",
       "       [0.3252032 , 0.42384812, 0.33385528, 0.33779337],\n",
       "       [0.4019159 , 0.        , 0.25490529, 0.2602109 ],\n",
       "       [0.36953254, 0.50235119, 0.        , 0.37332153],\n",
       "       [0.        , 0.        , 0.        , 0.        ],\n",
       "       [0.        , 0.63962134, 0.        , 0.40252542],\n",
       "       [0.        , 0.        , 0.        , 0.        ],\n",
       "       [0.52132867, 0.        , 0.69743288, 0.38572916],\n",
       "       [0.48848103, 0.82522238, 0.71084374, 0.        ],\n",
       "       [0.61458226, 0.90921673, 0.        , 0.48671253],\n",
       "       [0.        , 0.        , 0.        , 0.        ],\n",
       "       [0.        , 0.        , 0.        , 0.        ],\n",
       "       [0.        , 0.78306854, 0.91275251, 0.6627036 ],\n",
       "       [0.67717062, 0.89781978, 1.        , 0.66799847],\n",
       "       [0.        , 0.        , 0.        , 0.        ]])"
      ]
     },
     "execution_count": 17,
     "metadata": {},
     "output_type": "execute_result"
    }
   ],
   "source": [
    "sarsa_table"
   ]
  },
  {
   "cell_type": "code",
   "execution_count": null,
   "metadata": {},
   "outputs": [
    {
     "name": "stderr",
     "output_type": "stream",
     "text": [
      "100%|██████████| 100000/100000 [00:10<00:00, 9696.62it/s]"
     ]
    },
    {
     "name": "stdout",
     "output_type": "stream",
     "text": [
      "Success rate is = 100.0 %\n",
      "Average number of steps to succeed is = 6.0\n"
     ]
    },
    {
     "name": "stderr",
     "output_type": "stream",
     "text": [
      "\n"
     ]
    }
   ],
   "source": [
    "reward_sarsa, success_rate_sarsa, avg_nb_steps_sarsa = agent_play(env, sarsa_table)"
   ]
  },
  {
   "attachments": {},
   "cell_type": "markdown",
   "metadata": {},
   "source": [
    "## 2. comparaison"
   ]
  },
  {
   "cell_type": "code",
   "execution_count": null,
   "metadata": {},
   "outputs": [
    {
     "data": {
      "image/png": "[encoded data removed]",
      "text/plain": [
       "<Figure size 2500x700 with 5 Axes>"
      ]
     },
     "metadata": {},
     "output_type": "display_data"
    }
   ],
   "source": [
    "deterministic_q_table = np.load(\"data/deterministic_q_table.npy\")\n",
    "\n",
    "fig, ax = plt.subplots(1, 5)\n",
    "fig.set_size_inches(25, 7)\n",
    "# im = Image.open('images/frozen_lake.jpg')\n",
    "plt.title(\"Q-table of the game\")\n",
    "\n",
    "# Creating the heat maps\n",
    "map_q = np.sum(q_table, axis = 1)\n",
    "map_q= map_q.reshape(4, 4)\n",
    "\n",
    "map_d = np.sum(deterministic_q_table, axis = 1)\n",
    "map_d= map_d.reshape(4, 4)\n",
    "\n",
    "map_g = np.sum(q_table_greedy, axis = 1)\n",
    "map_g= map_g.reshape(4, 4)\n",
    "\n",
    "map_e = np.sum(q_table_greedy_decay, axis = 1)\n",
    "map_e= map_e.reshape(4, 4)\n",
    "\n",
    "map_s = np.sum(sarsa_table, axis = 1)\n",
    "map_s= map_s.reshape(4, 4)\n",
    "\n",
    "\n",
    "# ax[0].imshow(im, alpha=1)\n",
    "# ax[1].imshow(im, alpha=1)\n",
    "\n",
    "ax[0].matshow(map_d, cmap='winter')\n",
    "ax[1].matshow(map_q, cmap='winter')\n",
    "ax[2].matshow(map_g, cmap='winter')\n",
    "ax[3].matshow(map_e, cmap='winter')\n",
    "ax[4].matshow(map_s, cmap='winter')\n",
    "\n",
    "pos=[0,1,2,3]\n",
    "\n",
    "deterministic_q_table_reshaped=deterministic_q_table.reshape((4,4,4))\n",
    "q_table_reshaped=q_table.reshape((4,4,4))\n",
    "greedy_reshaped=q_table_greedy.reshape((4,4,4))\n",
    "q_table_greedy_decay_reshaped =q_table_greedy_decay.reshape((4,4,4))\n",
    "sarsa_reshaped =sarsa_table.reshape((4,4,4))\n",
    "\n",
    "\n",
    "deviation = 0.2\n",
    "for i in pos: # rows\n",
    "    for j in pos: # cols\n",
    "\n",
    "        ax[0].text(j-deviation, i, '{:0.2f}'.format(deterministic_q_table_reshaped[i][j][0]), ha='center', va='center') # 0 Left\n",
    "        ax[0].text(j, i+deviation, '{:0.2f}'.format(deterministic_q_table_reshaped[i][j][1]), ha='center', va='center') # 1 Down\n",
    "        ax[0].text(j+deviation, i, '{:0.2f}'.format(deterministic_q_table_reshaped[i][j][2]), ha='center', va='center') # 2 right\n",
    "        ax[0].text(j, i-deviation, '{:0.2f}'.format(deterministic_q_table_reshaped[i][j][3]), ha='center', va='center') # 3 up\n",
    "        ax[0].set_title(\"Deterministic Q-table\")\n",
    "\n",
    "        ax[1].text(j-deviation, i, '{:0.2f}'.format(q_table_reshaped[i][j][0]), ha='center', va='center') # 0 Left\n",
    "        ax[1].text(j, i+deviation, '{:0.2f}'.format(q_table_reshaped[i][j][1]), ha='center', va='center') # 1 Down\n",
    "        ax[1].text(j+deviation, i, '{:0.2f}'.format(q_table_reshaped[i][j][2]), ha='center', va='center') # 2 right\n",
    "        ax[1].text(j, i-deviation, '{:0.2f}'.format(q_table_reshaped[i][j][3]), ha='center', va='center') # 3 up\n",
    "        ax[1].set_title(\"Q-learning Q-table\")\n",
    "\n",
    "        ax[2].text(j-deviation, i, '{:0.2f}'.format(greedy_reshaped[i][j][0]), ha='center', va='center') # 0 Left\n",
    "        ax[2].text(j, i+deviation, '{:0.2f}'.format(greedy_reshaped[i][j][1]), ha='center', va='center') # 1 Down\n",
    "        ax[2].text(j+deviation, i, '{:0.2f}'.format(greedy_reshaped[i][j][2]), ha='center', va='center') # 2 right\n",
    "        ax[2].text(j, i-deviation, '{:0.2f}'.format(greedy_reshaped[i][j][3]), ha='center', va='center') # 3 up\n",
    "        ax[2].set_title(\"eps greedy Q-learning Q-table\")\n",
    "\n",
    "\n",
    "        ax[3].text(j-deviation, i, '{:0.2f}'.format(q_table_greedy_decay_reshaped[i][j][0]), ha='center', va='center') # 0 Left\n",
    "        ax[3].text(j, i+deviation, '{:0.2f}'.format(q_table_greedy_decay_reshaped[i][j][1]), ha='center', va='center') # 1 Down\n",
    "        ax[3].text(j+deviation, i, '{:0.2f}'.format(q_table_greedy_decay_reshaped[i][j][2]), ha='center', va='center') # 2 right\n",
    "        ax[3].text(j, i-deviation, '{:0.2f}'.format(q_table_greedy_decay_reshaped[i][j][3]), ha='center', va='center') # 3 up\n",
    "        ax[3].set_title(\"decay greedy Q-learning Q-table\")\n",
    "\n",
    "        ax[4].text(j-deviation, i, '{:0.2f}'.format(sarsa_reshaped[i][j][0]), ha='center', va='center') # 0 Left\n",
    "        ax[4].text(j, i+deviation, '{:0.2f}'.format(sarsa_reshaped[i][j][1]), ha='center', va='center') # 1 Down\n",
    "        ax[4].text(j+deviation, i, '{:0.2f}'.format(sarsa_reshaped[i][j][2]), ha='center', va='center') # 2 right\n",
    "        ax[4].text(j, i-deviation, '{:0.2f}'.format(sarsa_reshaped[i][j][3]), ha='center', va='center') # 3 up\n",
    "        ax[4].set_title(\"SARSA table\")\n",
    "plt.show()"
   ]
  },
  {
   "cell_type": "markdown",
   "metadata": {},
   "source": [
    "Then we'll define a play function for our game to test the performance"
   ]
  },
  {
   "cell_type": "code",
   "execution_count": 57,
   "metadata": {},
   "outputs": [],
   "source": [
    "def agent_play(env,q_table, max_n_episodes=10000, max_steps=100):\n",
    "    count = 0\n",
    "    rewards = []\n",
    "    num_steps = []\n",
    "    for _ in trange(max_n_episodes):\n",
    "        s = env.reset()[0]\n",
    "        total_reward = 0\n",
    "        for i in range(max_steps):\n",
    "            a = np.argmax(q_table[s])\n",
    "            s, r, done, _,_ = env.step(a)\n",
    "            total_reward+=r\n",
    "            if done: \n",
    "                rewards.append(total_reward)\n",
    "                num_steps.append(i+1)\n",
    "                count+=1\n",
    "                break\n",
    "    success_rate = np.mean(rewards)\n",
    "    avg_num_steps = np.mean(num_steps)\n",
    "    print(f'Success rate is = {100*success_rate} %')\n",
    "    print(f'Average number of steps to succeed is = {avg_num_steps}')\n",
    "    return rewards, success_rate, avg_num_steps"
   ]
  },
  {
   "cell_type": "code",
   "execution_count": 60,
   "metadata": {},
   "outputs": [
    {
     "name": "stderr",
     "output_type": "stream",
     "text": [
      "100%|██████████| 10000/10000 [00:01<00:00, 9940.92it/s]\n"
     ]
    },
    {
     "name": "stdout",
     "output_type": "stream",
     "text": [
      "Success rate is = 4.17 %\n",
      "Average number of steps to succeed is = 5.0541\n"
     ]
    },
    {
     "name": "stderr",
     "output_type": "stream",
     "text": [
      "100%|██████████| 10000/10000 [00:03<00:00, 2511.51it/s]\n"
     ]
    },
    {
     "name": "stdout",
     "output_type": "stream",
     "text": [
      "Success rate is = 0.0 %\n",
      "Average number of steps to succeed is = 17.93225935561337\n"
     ]
    },
    {
     "name": "stderr",
     "output_type": "stream",
     "text": [
      "100%|██████████| 10000/10000 [00:04<00:00, 2351.88it/s]\n"
     ]
    },
    {
     "name": "stdout",
     "output_type": "stream",
     "text": [
      "Success rate is = 0.0 %\n",
      "Average number of steps to succeed is = 17.84112523776154\n"
     ]
    },
    {
     "name": "stderr",
     "output_type": "stream",
     "text": [
      "100%|██████████| 10000/10000 [00:05<00:00, 1910.01it/s]\n"
     ]
    },
    {
     "name": "stdout",
     "output_type": "stream",
     "text": [
      "Success rate is = 52.00653528030226 %\n",
      "Average number of steps to succeed is = 28.741345859287247\n"
     ]
    },
    {
     "name": "stderr",
     "output_type": "stream",
     "text": [
      "100%|██████████| 10000/10000 [00:03<00:00, 3301.14it/s]"
     ]
    },
    {
     "name": "stdout",
     "output_type": "stream",
     "text": [
      "Success rate is = 0.0 %\n",
      "Average number of steps to succeed is = 17.91853482786229\n"
     ]
    },
    {
     "name": "stderr",
     "output_type": "stream",
     "text": [
      "\n"
     ]
    }
   ],
   "source": [
    "rewards_d, success_rate_d, avg_num_steps_d= agent_play(env, q_table=deterministic_q_table)\n",
    "rewards_q, success_rate_q, avg_num_steps_q= agent_play(env, q_table=q_table)\n",
    "rewards_q_greedy, success_rate_q_greedy, avg_num_steps_q_greedy= agent_play(env, q_table=q_table_greedy)\n",
    "rewards_q_greedy_decay, success_rate_q_greedy_decay, avg_num_steps_q_greedy_decay= agent_play(env, q_table=q_table_greedy_decay)\n",
    "rewards_sarsa, success_rate_sarsa, avg_num_steps_sarsa= agent_play(env, q_table=sarsa_table)\n"
   ]
  },
  {
   "cell_type": "code",
   "execution_count": 50,
   "metadata": {
    "scrolled": false
   },
   "outputs": [
    {
     "name": "stderr",
     "output_type": "stream",
     "text": [
      "/tmp/ipykernel_57852/995146866.py:2: RuntimeWarning: invalid value encountered in divide\n",
      "  plt.plot(np.arange(len(rewards_d)), np.cumsum(rewards_d)/np.arange(len(rewards_d)), label=\"Cumulative Average success rate for a deterministic policy\")\n",
      "/tmp/ipykernel_57852/995146866.py:3: RuntimeWarning: invalid value encountered in divide\n",
      "  plt.plot(np.arange(len(rewards_q)), np.cumsum(rewards_q)/np.arange(len(rewards_q)), label=\"Cumulative Average success rate for Q-learning\")\n",
      "/tmp/ipykernel_57852/995146866.py:4: RuntimeWarning: invalid value encountered in divide\n",
      "  plt.plot(np.arange(len(rewards_q_greedy)), np.cumsum(rewards_q_greedy)/np.arange(len(rewards_q_greedy)), label=\"Cumulative Average success rate for Q-learning epsilon Greedy\")\n",
      "/tmp/ipykernel_57852/995146866.py:5: RuntimeWarning: invalid value encountered in divide\n",
      "  plt.plot(np.arange(len(rewards_q_greedy_decay)), np.cumsum(rewards_q_greedy_decay)/np.arange(len(rewards_q_greedy_decay)), label=\"Cumulative Average success rate for Q-learning epsilon greedy with decay\")\n",
      "/tmp/ipykernel_57852/995146866.py:6: RuntimeWarning: invalid value encountered in divide\n",
      "  plt.plot(np.arange(len(rewards_sarsa)), np.cumsum(rewards_sarsa)/np.arange(len(rewards_sarsa)), label=\"Cumulative Average success rate for SARSA\")\n"
     ]
    },
    {
     "data": {
      "image/png": "[encoded data removed]",
      "text/plain": [
       "<Figure size 1400x600 with 1 Axes>"
      ]
     },
     "metadata": {},
     "output_type": "display_data"
    }
   ],
   "source": [
    "fig, axes = plt.subplots(figsize=(14, 6))\n",
    "plt.plot(np.arange(len(rewards_d)), np.cumsum(rewards_d)/np.arange(len(rewards_d)), label=\"Cumulative Average success rate for a deterministic policy\")\n",
    "plt.plot(np.arange(len(rewards_q)), np.cumsum(rewards_q)/np.arange(len(rewards_q)), label=\"Cumulative Average success rate for Q-learning\")\n",
    "plt.plot(np.arange(len(rewards_q_greedy)), np.cumsum(rewards_q_greedy)/np.arange(len(rewards_q_greedy)), label=\"Cumulative Average success rate for Q-learning epsilon Greedy\")\n",
    "plt.plot(np.arange(len(rewards_q_greedy_decay)), np.cumsum(rewards_q_greedy_decay)/np.arange(len(rewards_q_greedy_decay)), label=\"Cumulative Average success rate for Q-learning epsilon greedy with decay\")\n",
    "plt.plot(np.arange(len(rewards_sarsa)), np.cumsum(rewards_sarsa)/np.arange(len(rewards_sarsa)), label=\"Cumulative Average success rate for SARSA\")\n",
    "\n",
    "axes.set(xlabel='Episode', ylabel='Success Rate', title='Average Success Rate of Q-learning algorithms for is_learning=True')\n",
    "plt.legend()\n",
    "plt.show()"
   ]
  },
  {
   "attachments": {},
   "cell_type": "markdown",
   "metadata": {},
   "source": [
    "## 3. Hyperparameter tuning"
   ]
  },
  {
   "cell_type": "code",
   "execution_count": 85,
   "metadata": {},
   "outputs": [
    {
     "name": "stdout",
     "output_type": "stream",
     "text": [
      "Loading Q-table saved weights...\n",
      "Starting Q-learning algorithm...\n"
     ]
    },
    {
     "name": "stderr",
     "output_type": "stream",
     "text": [
      " 20%|██        | 20064/100000 [00:22<01:29, 889.42it/s] \n"
     ]
    },
    {
     "ename": "KeyboardInterrupt",
     "evalue": "",
     "output_type": "error",
     "traceback": [
      "\u001b[0;31m---------------------------------------------------------------------------\u001b[0m",
      "\u001b[0;31mKeyboardInterrupt\u001b[0m                         Traceback (most recent call last)",
      "Cell \u001b[0;32mIn[85], line 12\u001b[0m\n\u001b[1;32m     10\u001b[0m \u001b[39mfor\u001b[39;00m al \u001b[39min\u001b[39;00m alpha :\n\u001b[1;32m     11\u001b[0m     \u001b[39mfor\u001b[39;00m ga \u001b[39min\u001b[39;00m gamma :\n\u001b[0;32m---> 12\u001b[0m             q_table \u001b[39m=\u001b[39m q_train(env, alpha\u001b[39m=\u001b[39;49mal, gamma\u001b[39m=\u001b[39;49mga)\n\u001b[1;32m     13\u001b[0m             reward, success_rate, avg_nb_steps \u001b[39m=\u001b[39m agent_play(env, q_table)\n\u001b[1;32m     14\u001b[0m             success_rates\u001b[39m.\u001b[39mappend(success_rate)\n",
      "Cell \u001b[0;32mIn[39], line 38\u001b[0m, in \u001b[0;36mq_train\u001b[0;34m(env, alpha, gamma, max_n_steps, n_episodes, weights)\u001b[0m\n\u001b[1;32m     35\u001b[0m total_reward \u001b[39m=\u001b[39m total_reward \u001b[39m+\u001b[39m r\n\u001b[1;32m     37\u001b[0m \u001b[39m# if s is a terminal state then go to next episode;\u001b[39;00m\n\u001b[0;32m---> 38\u001b[0m \u001b[39mif\u001b[39;00m done: \n\u001b[1;32m     39\u001b[0m     rewards\u001b[39m.\u001b[39mappend(total_reward) \n\u001b[1;32m     40\u001b[0m     \u001b[39mbreak\u001b[39;00m\n",
      "\u001b[0;31mKeyboardInterrupt\u001b[0m: "
     ]
    }
   ],
   "source": [
    "# Qlearning optimization\n",
    "alpha = [0.01, 0.05, 0.1, 0.5, 0.8, 0.9, 0.59]\n",
    "gamma = [0.5, 0.8, 0.9, 0.95, 0.99, 1]\n",
    "\n",
    "alphas=[]\n",
    "success_rates = []\n",
    "gammas=[]\n",
    "epsilons=[]\n",
    "\n",
    "for al in alpha :\n",
    "    for ga in gamma :\n",
    "            q_table = q_train(env, alpha=al, gamma=ga)\n",
    "            reward, success_rate, avg_nb_steps = agent_play(env, q_table)\n",
    "            success_rates.append(success_rate)\n",
    "            alphas.append(al)\n",
    "            gammas.append(ga)\n",
    "\n"
   ]
  },
  {
   "cell_type": "code",
   "execution_count": null,
   "metadata": {},
   "outputs": [
    {
     "data": {
      "text/html": [
       "<div>\n",
       "<style scoped>\n",
       "    .dataframe tbody tr th:only-of-type {\n",
       "        vertical-align: middle;\n",
       "    }\n",
       "\n",
       "    .dataframe tbody tr th {\n",
       "        vertical-align: top;\n",
       "    }\n",
       "\n",
       "    .dataframe thead th {\n",
       "        text-align: right;\n",
       "    }\n",
       "</style>\n",
       "<table border=\"1\" class=\"dataframe\">\n",
       "  <thead>\n",
       "    <tr style=\"text-align: right;\">\n",
       "      <th></th>\n",
       "      <th>eps</th>\n",
       "      <th>alpha</th>\n",
       "      <th>gamma</th>\n",
       "      <th>success_rate</th>\n",
       "    </tr>\n",
       "  </thead>\n",
       "  <tbody>\n",
       "    <tr>\n",
       "      <th>23</th>\n",
       "      <td>0.50</td>\n",
       "      <td>0.05</td>\n",
       "      <td>0.95</td>\n",
       "      <td>0.781998</td>\n",
       "    </tr>\n",
       "    <tr>\n",
       "      <th>22</th>\n",
       "      <td>0.10</td>\n",
       "      <td>0.05</td>\n",
       "      <td>0.95</td>\n",
       "      <td>0.779391</td>\n",
       "    </tr>\n",
       "    <tr>\n",
       "      <th>38</th>\n",
       "      <td>0.10</td>\n",
       "      <td>0.10</td>\n",
       "      <td>0.95</td>\n",
       "      <td>0.774100</td>\n",
       "    </tr>\n",
       "    <tr>\n",
       "      <th>30</th>\n",
       "      <td>0.10</td>\n",
       "      <td>0.05</td>\n",
       "      <td>1.00</td>\n",
       "      <td>0.770606</td>\n",
       "    </tr>\n",
       "    <tr>\n",
       "      <th>2</th>\n",
       "      <td>0.10</td>\n",
       "      <td>0.01</td>\n",
       "      <td>0.90</td>\n",
       "      <td>0.722275</td>\n",
       "    </tr>\n",
       "    <tr>\n",
       "      <th>...</th>\n",
       "      <td>...</td>\n",
       "      <td>...</td>\n",
       "      <td>...</td>\n",
       "      <td>...</td>\n",
       "    </tr>\n",
       "    <tr>\n",
       "      <th>1</th>\n",
       "      <td>0.05</td>\n",
       "      <td>0.01</td>\n",
       "      <td>0.90</td>\n",
       "      <td>0.000000</td>\n",
       "    </tr>\n",
       "    <tr>\n",
       "      <th>33</th>\n",
       "      <td>0.05</td>\n",
       "      <td>0.10</td>\n",
       "      <td>0.90</td>\n",
       "      <td>0.000000</td>\n",
       "    </tr>\n",
       "    <tr>\n",
       "      <th>36</th>\n",
       "      <td>0.01</td>\n",
       "      <td>0.10</td>\n",
       "      <td>0.95</td>\n",
       "      <td>0.000000</td>\n",
       "    </tr>\n",
       "    <tr>\n",
       "      <th>37</th>\n",
       "      <td>0.05</td>\n",
       "      <td>0.10</td>\n",
       "      <td>0.95</td>\n",
       "      <td>0.000000</td>\n",
       "    </tr>\n",
       "    <tr>\n",
       "      <th>63</th>\n",
       "      <td>0.50</td>\n",
       "      <td>0.50</td>\n",
       "      <td>1.00</td>\n",
       "      <td>0.000000</td>\n",
       "    </tr>\n",
       "  </tbody>\n",
       "</table>\n",
       "<p>64 rows × 4 columns</p>\n",
       "</div>"
      ],
      "text/plain": [
       "     eps  alpha  gamma  success_rate\n",
       "23  0.50   0.05   0.95      0.781998\n",
       "22  0.10   0.05   0.95      0.779391\n",
       "38  0.10   0.10   0.95      0.774100\n",
       "30  0.10   0.05   1.00      0.770606\n",
       "2   0.10   0.01   0.90      0.722275\n",
       "..   ...    ...    ...           ...\n",
       "1   0.05   0.01   0.90      0.000000\n",
       "33  0.05   0.10   0.90      0.000000\n",
       "36  0.01   0.10   0.95      0.000000\n",
       "37  0.05   0.10   0.95      0.000000\n",
       "63  0.50   0.50   1.00      0.000000\n",
       "\n",
       "[64 rows x 4 columns]"
      ]
     },
     "metadata": {},
     "output_type": "display_data"
    }
   ],
   "source": [
    "df = pd.DataFrame()\n",
    "df[\"alpha\"]=alphas\n",
    "df[\"gamma\"]=gammas\n",
    "df[\"success_rate\"]=success_rates\n",
    "df = df.sort_values(by=\"success_rate\", ascending=False)\n",
    "df"
   ]
  },
  {
   "cell_type": "code",
   "execution_count": null,
   "metadata": {},
   "outputs": [
    {
     "data": {
      "text/plain": [
       "eps             0.500000\n",
       "alpha           0.050000\n",
       "gamma           0.950000\n",
       "success_rate    0.781998\n",
       "Name: 23, dtype: float64"
      ]
     },
     "metadata": {},
     "output_type": "display_data"
    }
   ],
   "source": [
    "df.iloc[0]"
   ]
  },
  {
   "cell_type": "code",
   "execution_count": null,
   "metadata": {},
   "outputs": [
    {
     "name": "stderr",
     "output_type": "stream",
     "text": [
      "100%|██████████| 100000/100000 [00:36<00:00, 2717.80it/s]\n"
     ]
    }
   ],
   "source": [
    "q_table = q_train(env, alpha = 0.05, gamma = 0.95,episodes = 100000, steps = 100)"
   ]
  },
  {
   "cell_type": "code",
   "execution_count": null,
   "metadata": {},
   "outputs": [
    {
     "name": "stderr",
     "output_type": "stream",
     "text": [
      "100%|██████████| 100000/100000 [01:26<00:00, 1158.15it/s]"
     ]
    }
   ],
   "source": [
    "rewards_sarsa, success_rate_sarsa, avg_num_steps_sarsa= agent_play(env, q_table=sarsa_table, max_n_episodes=100000)\n"
   ]
  },
  {
   "cell_type": "code",
   "execution_count": 61,
   "metadata": {},
   "outputs": [
    {
     "name": "stderr",
     "output_type": "stream",
     "text": [
      "100%|██████████| 10000/10000 [00:04<00:00, 2371.57it/s]\n",
      "100%|██████████| 10000/10000 [00:02<00:00, 3501.99it/s]\n"
     ]
    },
    {
     "name": "stdout",
     "output_type": "stream",
     "text": [
      "Success rate is = 0.0 %\n",
      "Average number of steps to succeed is = 18.005105105105105\n"
     ]
    },
    {
     "name": "stderr",
     "output_type": "stream",
     "text": [
      "100%|██████████| 10000/10000 [00:03<00:00, 2550.96it/s]\n",
      "100%|██████████| 10000/10000 [00:02<00:00, 3533.39it/s]\n"
     ]
    },
    {
     "name": "stdout",
     "output_type": "stream",
     "text": [
      "Success rate is = 0.0 %\n",
      "Average number of steps to succeed is = 17.99469310103134\n"
     ]
    },
    {
     "name": "stderr",
     "output_type": "stream",
     "text": [
      "100%|██████████| 10000/10000 [00:05<00:00, 1710.41it/s]\n",
      "100%|██████████| 10000/10000 [00:06<00:00, 1611.01it/s]\n"
     ]
    },
    {
     "name": "stdout",
     "output_type": "stream",
     "text": [
      "Success rate is = 72.22745837260446 %\n",
      "Average number of steps to succeed is = 36.3610849303592\n"
     ]
    },
    {
     "name": "stderr",
     "output_type": "stream",
     "text": [
      "100%|██████████| 10000/10000 [00:03<00:00, 2841.03it/s]\n",
      "100%|██████████| 10000/10000 [00:05<00:00, 1956.13it/s]\n"
     ]
    },
    {
     "name": "stdout",
     "output_type": "stream",
     "text": [
      "Success rate is = 13.203766780204369 %\n",
      "Average number of steps to succeed is = 20.882288118613506\n"
     ]
    },
    {
     "name": "stderr",
     "output_type": "stream",
     "text": [
      "100%|██████████| 10000/10000 [00:06<00:00, 1578.00it/s]\n",
      "100%|██████████| 10000/10000 [00:04<00:00, 2350.89it/s]\n"
     ]
    },
    {
     "name": "stdout",
     "output_type": "stream",
     "text": [
      "Success rate is = 0.0 %\n",
      "Average number of steps to succeed is = 17.998697916666668\n"
     ]
    },
    {
     "name": "stderr",
     "output_type": "stream",
     "text": [
      "100%|██████████| 10000/10000 [00:05<00:00, 1703.60it/s]\n",
      "100%|██████████| 10000/10000 [00:04<00:00, 2243.87it/s]\n"
     ]
    },
    {
     "name": "stdout",
     "output_type": "stream",
     "text": [
      "Success rate is = 0.0 %\n",
      "Average number of steps to succeed is = 17.744770293263937\n"
     ]
    },
    {
     "name": "stderr",
     "output_type": "stream",
     "text": [
      "100%|██████████| 10000/10000 [00:05<00:00, 1752.55it/s]\n",
      "100%|██████████| 10000/10000 [00:04<00:00, 2375.88it/s]\n"
     ]
    },
    {
     "name": "stdout",
     "output_type": "stream",
     "text": [
      "Success rate is = 0.0 %\n",
      "Average number of steps to succeed is = 17.657654951436868\n"
     ]
    },
    {
     "name": "stderr",
     "output_type": "stream",
     "text": [
      "100%|██████████| 10000/10000 [00:04<00:00, 2468.49it/s]\n",
      "100%|██████████| 10000/10000 [00:04<00:00, 2042.04it/s]\n"
     ]
    },
    {
     "name": "stdout",
     "output_type": "stream",
     "text": [
      "Success rate is = 18.993180906538306 %\n",
      "Average number of steps to succeed is = 21.51554352186121\n"
     ]
    },
    {
     "name": "stderr",
     "output_type": "stream",
     "text": [
      "100%|██████████| 10000/10000 [00:06<00:00, 1542.18it/s]\n",
      "100%|██████████| 10000/10000 [00:04<00:00, 2404.94it/s]\n"
     ]
    },
    {
     "name": "stdout",
     "output_type": "stream",
     "text": [
      "Success rate is = 0.0 %\n",
      "Average number of steps to succeed is = 17.843659293364027\n"
     ]
    },
    {
     "name": "stderr",
     "output_type": "stream",
     "text": [
      "100%|██████████| 10000/10000 [00:06<00:00, 1538.08it/s]\n",
      "100%|██████████| 10000/10000 [00:04<00:00, 2273.99it/s]\n"
     ]
    },
    {
     "name": "stdout",
     "output_type": "stream",
     "text": [
      "Success rate is = 0.0 %\n",
      "Average number of steps to succeed is = 17.89351898226986\n"
     ]
    },
    {
     "name": "stderr",
     "output_type": "stream",
     "text": [
      "100%|██████████| 10000/10000 [00:05<00:00, 1914.61it/s]\n",
      "100%|██████████| 10000/10000 [00:02<00:00, 3576.49it/s]\n"
     ]
    },
    {
     "name": "stdout",
     "output_type": "stream",
     "text": [
      "Success rate is = 4.6899999999999995 %\n",
      "Average number of steps to succeed is = 12.2206\n"
     ]
    },
    {
     "name": "stderr",
     "output_type": "stream",
     "text": [
      "100%|██████████| 10000/10000 [00:05<00:00, 1965.72it/s]\n",
      "100%|██████████| 10000/10000 [00:09<00:00, 1097.93it/s]\n"
     ]
    },
    {
     "name": "stdout",
     "output_type": "stream",
     "text": [
      "Success rate is = 50.580618641455146 %\n",
      "Average number of steps to succeed is = 31.78080361730552\n"
     ]
    },
    {
     "name": "stderr",
     "output_type": "stream",
     "text": [
      "100%|██████████| 10000/10000 [00:06<00:00, 1643.39it/s]\n",
      "100%|██████████| 10000/10000 [00:03<00:00, 2668.47it/s]\n"
     ]
    },
    {
     "name": "stdout",
     "output_type": "stream",
     "text": [
      "Success rate is = 0.0 %\n",
      "Average number of steps to succeed is = 17.833333333333332\n"
     ]
    },
    {
     "name": "stderr",
     "output_type": "stream",
     "text": [
      "100%|██████████| 10000/10000 [00:05<00:00, 1777.30it/s]\n",
      "100%|██████████| 10000/10000 [00:03<00:00, 2533.13it/s]\n"
     ]
    },
    {
     "name": "stdout",
     "output_type": "stream",
     "text": [
      "Success rate is = 0.0 %\n",
      "Average number of steps to succeed is = 17.910411864916323\n"
     ]
    },
    {
     "name": "stderr",
     "output_type": "stream",
     "text": [
      "100%|██████████| 10000/10000 [00:04<00:00, 2322.89it/s]\n",
      "100%|██████████| 10000/10000 [00:02<00:00, 4269.24it/s]\n"
     ]
    },
    {
     "name": "stdout",
     "output_type": "stream",
     "text": [
      "Success rate is = 6.21 %\n",
      "Average number of steps to succeed is = 9.7742\n"
     ]
    },
    {
     "name": "stderr",
     "output_type": "stream",
     "text": [
      "100%|██████████| 10000/10000 [00:04<00:00, 2431.25it/s]\n",
      "100%|██████████| 10000/10000 [00:07<00:00, 1375.74it/s]\n"
     ]
    },
    {
     "name": "stdout",
     "output_type": "stream",
     "text": [
      "Success rate is = 27.298587828913952 %\n",
      "Average number of steps to succeed is = 28.35995123437976\n"
     ]
    },
    {
     "name": "stderr",
     "output_type": "stream",
     "text": [
      "100%|██████████| 10000/10000 [00:04<00:00, 2101.31it/s]\n",
      "100%|██████████| 10000/10000 [00:02<00:00, 3580.49it/s]\n"
     ]
    },
    {
     "name": "stdout",
     "output_type": "stream",
     "text": [
      "Success rate is = 0.0 %\n",
      "Average number of steps to succeed is = 17.672574346650645\n"
     ]
    },
    {
     "name": "stderr",
     "output_type": "stream",
     "text": [
      "100%|██████████| 10000/10000 [00:05<00:00, 1807.97it/s]\n",
      "100%|██████████| 10000/10000 [00:06<00:00, 1514.83it/s]\n"
     ]
    },
    {
     "name": "stdout",
     "output_type": "stream",
     "text": [
      "Success rate is = 67.87924045231492 %\n",
      "Average number of steps to succeed is = 36.49530616599104\n"
     ]
    },
    {
     "name": "stderr",
     "output_type": "stream",
     "text": [
      "100%|██████████| 10000/10000 [00:05<00:00, 1711.88it/s]\n",
      "100%|██████████| 10000/10000 [00:03<00:00, 3225.34it/s]\n"
     ]
    },
    {
     "name": "stdout",
     "output_type": "stream",
     "text": [
      "Success rate is = 18.026223601241117 %\n",
      "Average number of steps to succeed is = 17.920628565709137\n"
     ]
    },
    {
     "name": "stderr",
     "output_type": "stream",
     "text": [
      "100%|██████████| 10000/10000 [00:03<00:00, 2991.98it/s]\n",
      "100%|██████████| 10000/10000 [00:05<00:00, 1908.40it/s]\n"
     ]
    },
    {
     "name": "stdout",
     "output_type": "stream",
     "text": [
      "Success rate is = 32.30160340978283 %\n",
      "Average number of steps to succeed is = 27.633346864217575\n"
     ]
    },
    {
     "name": "stderr",
     "output_type": "stream",
     "text": [
      "100%|██████████| 10000/10000 [00:04<00:00, 2046.30it/s]\n",
      "100%|██████████| 10000/10000 [00:03<00:00, 2972.36it/s]\n"
     ]
    },
    {
     "name": "stdout",
     "output_type": "stream",
     "text": [
      "Success rate is = 0.0 %\n",
      "Average number of steps to succeed is = 17.925325325325325\n"
     ]
    },
    {
     "name": "stderr",
     "output_type": "stream",
     "text": [
      "100%|██████████| 10000/10000 [00:04<00:00, 2135.43it/s]\n",
      "100%|██████████| 10000/10000 [00:05<00:00, 1974.87it/s]\n"
     ]
    },
    {
     "name": "stdout",
     "output_type": "stream",
     "text": [
      "Success rate is = 0.0 %\n",
      "Average number of steps to succeed is = 17.657494496698018\n"
     ]
    },
    {
     "name": "stderr",
     "output_type": "stream",
     "text": [
      "100%|██████████| 10000/10000 [00:06<00:00, 1623.42it/s]\n",
      "100%|██████████| 10000/10000 [00:08<00:00, 1183.05it/s]\n"
     ]
    },
    {
     "name": "stdout",
     "output_type": "stream",
     "text": [
      "Success rate is = 77.93913507741591 %\n",
      "Average number of steps to succeed is = 37.158889482114255\n"
     ]
    },
    {
     "name": "stderr",
     "output_type": "stream",
     "text": [
      "100%|██████████| 10000/10000 [00:04<00:00, 2256.12it/s]\n",
      "100%|██████████| 10000/10000 [00:08<00:00, 1148.37it/s]\n"
     ]
    },
    {
     "name": "stdout",
     "output_type": "stream",
     "text": [
      "Success rate is = 78.19976397382256 %\n",
      "Average number of steps to succeed is = 37.16832957837142\n"
     ]
    },
    {
     "name": "stderr",
     "output_type": "stream",
     "text": [
      "100%|██████████| 10000/10000 [00:05<00:00, 1704.88it/s]\n",
      "100%|██████████| 10000/10000 [00:04<00:00, 2375.51it/s]\n"
     ]
    },
    {
     "name": "stdout",
     "output_type": "stream",
     "text": [
      "Success rate is = 0.0 %\n",
      "Average number of steps to succeed is = 17.688719847863076\n"
     ]
    },
    {
     "name": "stderr",
     "output_type": "stream",
     "text": [
      "100%|██████████| 10000/10000 [00:05<00:00, 1823.15it/s]\n",
      "100%|██████████| 10000/10000 [00:03<00:00, 2544.79it/s]\n"
     ]
    },
    {
     "name": "stdout",
     "output_type": "stream",
     "text": [
      "Success rate is = 0.0 %\n",
      "Average number of steps to succeed is = 18.142599639495295\n"
     ]
    },
    {
     "name": "stderr",
     "output_type": "stream",
     "text": [
      "100%|██████████| 10000/10000 [00:05<00:00, 1779.27it/s]\n",
      "100%|██████████| 10000/10000 [00:03<00:00, 2510.63it/s]\n"
     ]
    },
    {
     "name": "stdout",
     "output_type": "stream",
     "text": [
      "Success rate is = 0.0 %\n",
      "Average number of steps to succeed is = 18.169771634615383\n"
     ]
    },
    {
     "name": "stderr",
     "output_type": "stream",
     "text": [
      "100%|██████████| 10000/10000 [00:04<00:00, 2149.92it/s]\n",
      "100%|██████████| 10000/10000 [00:07<00:00, 1397.58it/s]\n"
     ]
    },
    {
     "name": "stdout",
     "output_type": "stream",
     "text": [
      "Success rate is = 41.53798641136504 %\n",
      "Average number of steps to succeed is = 31.143504220712373\n"
     ]
    },
    {
     "name": "stderr",
     "output_type": "stream",
     "text": [
      "100%|██████████| 10000/10000 [00:06<00:00, 1616.51it/s]\n",
      "100%|██████████| 10000/10000 [00:03<00:00, 2549.54it/s]\n"
     ]
    },
    {
     "name": "stdout",
     "output_type": "stream",
     "text": [
      "Success rate is = 0.0 %\n",
      "Average number of steps to succeed is = 18.047647647647647\n"
     ]
    },
    {
     "name": "stderr",
     "output_type": "stream",
     "text": [
      "100%|██████████| 10000/10000 [00:05<00:00, 1679.35it/s]\n",
      "100%|██████████| 10000/10000 [00:05<00:00, 1791.12it/s]\n"
     ]
    },
    {
     "name": "stdout",
     "output_type": "stream",
     "text": [
      "Success rate is = 12.494957644211375 %\n",
      "Average number of steps to succeed is = 25.194735780556677\n"
     ]
    },
    {
     "name": "stderr",
     "output_type": "stream",
     "text": [
      "100%|██████████| 10000/10000 [00:05<00:00, 1852.29it/s]\n",
      "100%|██████████| 10000/10000 [00:06<00:00, 1572.32it/s]\n"
     ]
    },
    {
     "name": "stdout",
     "output_type": "stream",
     "text": [
      "Success rate is = 77.06058659815885 %\n",
      "Average number of steps to succeed is = 37.08873902804539\n"
     ]
    },
    {
     "name": "stderr",
     "output_type": "stream",
     "text": [
      "100%|██████████| 10000/10000 [00:03<00:00, 2928.46it/s]\n",
      "100%|██████████| 10000/10000 [00:06<00:00, 1507.30it/s]\n"
     ]
    },
    {
     "name": "stdout",
     "output_type": "stream",
     "text": [
      "Success rate is = 68.09122881807525 %\n",
      "Average number of steps to succeed is = 36.97037194926995\n"
     ]
    },
    {
     "name": "stderr",
     "output_type": "stream",
     "text": [
      "100%|██████████| 10000/10000 [00:05<00:00, 1993.59it/s]\n",
      "100%|██████████| 10000/10000 [00:05<00:00, 1854.11it/s]\n"
     ]
    },
    {
     "name": "stdout",
     "output_type": "stream",
     "text": [
      "Success rate is = 0.0 %\n",
      "Average number of steps to succeed is = 17.68014816297928\n"
     ]
    },
    {
     "name": "stderr",
     "output_type": "stream",
     "text": [
      "100%|██████████| 10000/10000 [00:07<00:00, 1334.38it/s]\n",
      "100%|██████████| 10000/10000 [00:05<00:00, 1860.21it/s]\n"
     ]
    },
    {
     "name": "stdout",
     "output_type": "stream",
     "text": [
      "Success rate is = 0.0 %\n",
      "Average number of steps to succeed is = 17.748323155471017\n"
     ]
    },
    {
     "name": "stderr",
     "output_type": "stream",
     "text": [
      "100%|██████████| 10000/10000 [00:07<00:00, 1407.17it/s]\n",
      "100%|██████████| 10000/10000 [00:08<00:00, 1221.03it/s]\n"
     ]
    },
    {
     "name": "stdout",
     "output_type": "stream",
     "text": [
      "Success rate is = 68.56011981172443 %\n",
      "Average number of steps to succeed is = 37.28080872913992\n"
     ]
    },
    {
     "name": "stderr",
     "output_type": "stream",
     "text": [
      "100%|██████████| 10000/10000 [00:03<00:00, 2815.39it/s]\n",
      "100%|██████████| 10000/10000 [00:02<00:00, 3349.17it/s]\n"
     ]
    },
    {
     "name": "stdout",
     "output_type": "stream",
     "text": [
      "Success rate is = 11.450000000000001 %\n",
      "Average number of steps to succeed is = 14.1843\n"
     ]
    },
    {
     "name": "stderr",
     "output_type": "stream",
     "text": [
      "100%|██████████| 10000/10000 [00:05<00:00, 1811.95it/s]\n",
      "100%|██████████| 10000/10000 [00:03<00:00, 2722.86it/s]\n"
     ]
    },
    {
     "name": "stdout",
     "output_type": "stream",
     "text": [
      "Success rate is = 0.0 %\n",
      "Average number of steps to succeed is = 17.97967357564834\n"
     ]
    },
    {
     "name": "stderr",
     "output_type": "stream",
     "text": [
      "100%|██████████| 10000/10000 [00:05<00:00, 1994.13it/s]\n",
      "100%|██████████| 10000/10000 [00:03<00:00, 2735.32it/s]\n"
     ]
    },
    {
     "name": "stdout",
     "output_type": "stream",
     "text": [
      "Success rate is = 0.0 %\n",
      "Average number of steps to succeed is = 17.514766242867154\n"
     ]
    },
    {
     "name": "stderr",
     "output_type": "stream",
     "text": [
      "100%|██████████| 10000/10000 [00:06<00:00, 1457.10it/s]\n",
      "100%|██████████| 10000/10000 [00:07<00:00, 1363.99it/s]\n"
     ]
    },
    {
     "name": "stdout",
     "output_type": "stream",
     "text": [
      "Success rate is = 77.40999462654486 %\n",
      "Average number of steps to succeed is = 37.22869425040301\n"
     ]
    },
    {
     "name": "stderr",
     "output_type": "stream",
     "text": [
      "100%|██████████| 10000/10000 [00:02<00:00, 3496.81it/s]\n",
      "100%|██████████| 10000/10000 [00:03<00:00, 3176.25it/s]\n"
     ]
    },
    {
     "name": "stdout",
     "output_type": "stream",
     "text": [
      "Success rate is = 24.636664327954293 %\n",
      "Average number of steps to succeed is = 21.413851859276335\n"
     ]
    },
    {
     "name": "stderr",
     "output_type": "stream",
     "text": [
      "100%|██████████| 10000/10000 [00:03<00:00, 2508.95it/s]\n",
      "100%|██████████| 10000/10000 [00:02<00:00, 3741.03it/s]\n"
     ]
    },
    {
     "name": "stdout",
     "output_type": "stream",
     "text": [
      "Success rate is = 0.0 %\n",
      "Average number of steps to succeed is = 17.781981981981982\n"
     ]
    },
    {
     "name": "stderr",
     "output_type": "stream",
     "text": [
      "100%|██████████| 10000/10000 [00:03<00:00, 2656.27it/s]\n",
      "100%|██████████| 10000/10000 [00:02<00:00, 3491.23it/s]\n"
     ]
    },
    {
     "name": "stdout",
     "output_type": "stream",
     "text": [
      "Success rate is = 0.0 %\n",
      "Average number of steps to succeed is = 17.916199439327194\n"
     ]
    },
    {
     "name": "stderr",
     "output_type": "stream",
     "text": [
      "100%|██████████| 10000/10000 [00:04<00:00, 2128.14it/s]\n",
      "100%|██████████| 10000/10000 [00:05<00:00, 1988.93it/s]\n"
     ]
    },
    {
     "name": "stdout",
     "output_type": "stream",
     "text": [
      "Success rate is = 50.339576044453594 %\n",
      "Average number of steps to succeed is = 32.0670919942375\n"
     ]
    },
    {
     "name": "stderr",
     "output_type": "stream",
     "text": [
      "100%|██████████| 10000/10000 [00:03<00:00, 3274.89it/s]\n",
      "100%|██████████| 10000/10000 [00:04<00:00, 2390.28it/s]\n"
     ]
    },
    {
     "name": "stdout",
     "output_type": "stream",
     "text": [
      "Success rate is = 33.231892878880096 %\n",
      "Average number of steps to succeed is = 27.770135930208966\n"
     ]
    },
    {
     "name": "stderr",
     "output_type": "stream",
     "text": [
      "100%|██████████| 10000/10000 [00:04<00:00, 2476.19it/s]\n",
      "100%|██████████| 10000/10000 [00:02<00:00, 3750.72it/s]\n"
     ]
    },
    {
     "name": "stdout",
     "output_type": "stream",
     "text": [
      "Success rate is = 0.0 %\n",
      "Average number of steps to succeed is = 18.030545818728093\n"
     ]
    },
    {
     "name": "stderr",
     "output_type": "stream",
     "text": [
      "100%|██████████| 10000/10000 [00:03<00:00, 2532.27it/s]\n",
      "100%|██████████| 10000/10000 [00:03<00:00, 2720.22it/s]\n"
     ]
    },
    {
     "name": "stdout",
     "output_type": "stream",
     "text": [
      "Success rate is = 0.0 %\n",
      "Average number of steps to succeed is = 17.643450415290705\n"
     ]
    },
    {
     "name": "stderr",
     "output_type": "stream",
     "text": [
      "100%|██████████| 10000/10000 [00:05<00:00, 1998.16it/s]\n",
      "100%|██████████| 10000/10000 [00:04<00:00, 2287.20it/s]\n"
     ]
    },
    {
     "name": "stdout",
     "output_type": "stream",
     "text": [
      "Success rate is = 22.88661858974359 %\n",
      "Average number of steps to succeed is = 21.658754006410255\n"
     ]
    },
    {
     "name": "stderr",
     "output_type": "stream",
     "text": [
      "100%|██████████| 10000/10000 [00:04<00:00, 2437.76it/s]\n",
      "100%|██████████| 10000/10000 [00:05<00:00, 1977.07it/s]\n"
     ]
    },
    {
     "name": "stdout",
     "output_type": "stream",
     "text": [
      "Success rate is = 40.012070006035 %\n",
      "Average number of steps to succeed is = 23.694327097163548\n"
     ]
    },
    {
     "name": "stderr",
     "output_type": "stream",
     "text": [
      "100%|██████████| 10000/10000 [00:05<00:00, 1875.68it/s]\n",
      "100%|██████████| 10000/10000 [00:03<00:00, 2767.74it/s]\n"
     ]
    },
    {
     "name": "stdout",
     "output_type": "stream",
     "text": [
      "Success rate is = 0.0 %\n",
      "Average number of steps to succeed is = 17.73898678414097\n"
     ]
    },
    {
     "name": "stderr",
     "output_type": "stream",
     "text": [
      "100%|██████████| 10000/10000 [00:04<00:00, 2010.09it/s]\n",
      "100%|██████████| 10000/10000 [00:03<00:00, 2788.39it/s]\n"
     ]
    },
    {
     "name": "stdout",
     "output_type": "stream",
     "text": [
      "Success rate is = 0.0 %\n",
      "Average number of steps to succeed is = 17.868494795836668\n"
     ]
    },
    {
     "name": "stderr",
     "output_type": "stream",
     "text": [
      "100%|██████████| 10000/10000 [00:04<00:00, 2016.48it/s]\n",
      "100%|██████████| 10000/10000 [00:03<00:00, 2689.52it/s]\n"
     ]
    },
    {
     "name": "stdout",
     "output_type": "stream",
     "text": [
      "Success rate is = 0.0 %\n",
      "Average number of steps to succeed is = 17.78286114726199\n"
     ]
    },
    {
     "name": "stderr",
     "output_type": "stream",
     "text": [
      "100%|██████████| 10000/10000 [00:03<00:00, 3014.27it/s]\n",
      "100%|██████████| 10000/10000 [00:01<00:00, 5679.28it/s]\n"
     ]
    },
    {
     "name": "stdout",
     "output_type": "stream",
     "text": [
      "Success rate is = 6.4399999999999995 %\n",
      "Average number of steps to succeed is = 9.368\n"
     ]
    },
    {
     "name": "stderr",
     "output_type": "stream",
     "text": [
      "100%|██████████| 10000/10000 [00:04<00:00, 2477.61it/s]\n",
      "100%|██████████| 10000/10000 [00:02<00:00, 3765.58it/s]\n"
     ]
    },
    {
     "name": "stdout",
     "output_type": "stream",
     "text": [
      "Success rate is = 0.0 %\n",
      "Average number of steps to succeed is = 17.863863863863862\n"
     ]
    },
    {
     "name": "stderr",
     "output_type": "stream",
     "text": [
      "100%|██████████| 10000/10000 [00:03<00:00, 2625.51it/s]\n",
      "100%|██████████| 10000/10000 [00:03<00:00, 3299.80it/s]\n"
     ]
    },
    {
     "name": "stdout",
     "output_type": "stream",
     "text": [
      "Success rate is = 0.0 %\n",
      "Average number of steps to succeed is = 18.035270541082163\n"
     ]
    },
    {
     "name": "stderr",
     "output_type": "stream",
     "text": [
      "100%|██████████| 10000/10000 [00:03<00:00, 2763.85it/s]\n",
      "100%|██████████| 10000/10000 [00:02<00:00, 3537.47it/s]\n"
     ]
    },
    {
     "name": "stdout",
     "output_type": "stream",
     "text": [
      "Success rate is = 0.0 %\n",
      "Average number of steps to succeed is = 17.885994790623123\n"
     ]
    },
    {
     "name": "stderr",
     "output_type": "stream",
     "text": [
      "100%|██████████| 10000/10000 [00:02<00:00, 3994.85it/s]\n",
      "100%|██████████| 10000/10000 [00:03<00:00, 2932.09it/s]\n"
     ]
    },
    {
     "name": "stdout",
     "output_type": "stream",
     "text": [
      "Success rate is = 0.0 %\n",
      "Average number of steps to succeed is = 17.75826156619267\n"
     ]
    },
    {
     "name": "stderr",
     "output_type": "stream",
     "text": [
      "100%|██████████| 10000/10000 [00:04<00:00, 2022.28it/s]\n",
      "100%|██████████| 10000/10000 [00:02<00:00, 3345.95it/s]\n"
     ]
    },
    {
     "name": "stdout",
     "output_type": "stream",
     "text": [
      "Success rate is = 0.0 %\n",
      "Average number of steps to succeed is = 17.82375325455638\n"
     ]
    },
    {
     "name": "stderr",
     "output_type": "stream",
     "text": [
      "100%|██████████| 10000/10000 [00:04<00:00, 2201.58it/s]\n",
      "100%|██████████| 10000/10000 [00:03<00:00, 2800.80it/s]\n"
     ]
    },
    {
     "name": "stdout",
     "output_type": "stream",
     "text": [
      "Success rate is = 0.0 %\n",
      "Average number of steps to succeed is = 17.98968968968969\n"
     ]
    },
    {
     "name": "stderr",
     "output_type": "stream",
     "text": [
      "100%|██████████| 10000/10000 [00:05<00:00, 1954.57it/s]\n",
      "100%|██████████| 10000/10000 [00:02<00:00, 4257.26it/s]\n"
     ]
    },
    {
     "name": "stdout",
     "output_type": "stream",
     "text": [
      "Success rate is = 9.161832366473295 %\n",
      "Average number of steps to succeed is = 12.59761952390478\n"
     ]
    },
    {
     "name": "stderr",
     "output_type": "stream",
     "text": [
      "100%|██████████| 10000/10000 [00:02<00:00, 3518.34it/s]\n",
      "100%|██████████| 10000/10000 [00:01<00:00, 5445.30it/s]\n"
     ]
    },
    {
     "name": "stdout",
     "output_type": "stream",
     "text": [
      "Success rate is = 6.4 %\n",
      "Average number of steps to succeed is = 9.4849\n"
     ]
    },
    {
     "name": "stderr",
     "output_type": "stream",
     "text": [
      "100%|██████████| 10000/10000 [00:04<00:00, 2045.27it/s]\n",
      "100%|██████████| 10000/10000 [00:03<00:00, 3213.67it/s]\n"
     ]
    },
    {
     "name": "stdout",
     "output_type": "stream",
     "text": [
      "Success rate is = 0.0 %\n",
      "Average number of steps to succeed is = 17.706855081178592\n"
     ]
    },
    {
     "name": "stderr",
     "output_type": "stream",
     "text": [
      "100%|██████████| 10000/10000 [00:04<00:00, 2159.02it/s]\n",
      "100%|██████████| 10000/10000 [00:03<00:00, 2941.30it/s]\n"
     ]
    },
    {
     "name": "stdout",
     "output_type": "stream",
     "text": [
      "Success rate is = 0.0 %\n",
      "Average number of steps to succeed is = 17.93893893893894\n"
     ]
    },
    {
     "name": "stderr",
     "output_type": "stream",
     "text": [
      "100%|██████████| 10000/10000 [00:05<00:00, 1675.67it/s]\n",
      "100%|██████████| 10000/10000 [00:02<00:00, 4057.21it/s]\n"
     ]
    },
    {
     "name": "stdout",
     "output_type": "stream",
     "text": [
      "Success rate is = 17.18 %\n",
      "Average number of steps to succeed is = 13.5155\n"
     ]
    },
    {
     "name": "stderr",
     "output_type": "stream",
     "text": [
      "100%|██████████| 10000/10000 [00:03<00:00, 3183.01it/s]\n",
      "100%|██████████| 10000/10000 [00:04<00:00, 2287.33it/s]"
     ]
    },
    {
     "name": "stdout",
     "output_type": "stream",
     "text": [
      "Success rate is = 0.0 %\n",
      "Average number of steps to succeed is = 17.955555555555556\n"
     ]
    },
    {
     "name": "stderr",
     "output_type": "stream",
     "text": [
      "\n"
     ]
    }
   ],
   "source": [
    "# SARSA optimization\n",
    "alpha = [0.01, 0.05, 0.1, 0.5]\n",
    "gamma = [0.9, 0.95, 0.99, 1]\n",
    "epsilon = [0.01, 0.05, 0.1, 0.5]\n",
    "\n",
    "alphas=[]\n",
    "success_rates = []\n",
    "gammas=[]\n",
    "epsilons=[]\n",
    "\n",
    "for al in alpha :\n",
    "    for ga in gamma :\n",
    "        for eps in epsilon :\n",
    "            sarsa_table = sarsa_train(env, al, ga, eps, episodes = 10000, steps = 100)\n",
    "            reward, success_rate, avg_nb_steps = agent_play(env, sarsa_table)\n",
    "            success_rates.append(success_rate)\n",
    "            alphas.append(al)\n",
    "            gammas.append(ga)\n",
    "            epsilons.append(eps)\n",
    "\n"
   ]
  },
  {
   "cell_type": "code",
   "execution_count": 69,
   "metadata": {},
   "outputs": [
    {
     "data": {
      "text/html": [
       "<div>\n",
       "<style scoped>\n",
       "    .dataframe tbody tr th:only-of-type {\n",
       "        vertical-align: middle;\n",
       "    }\n",
       "\n",
       "    .dataframe tbody tr th {\n",
       "        vertical-align: top;\n",
       "    }\n",
       "\n",
       "    .dataframe thead th {\n",
       "        text-align: right;\n",
       "    }\n",
       "</style>\n",
       "<table border=\"1\" class=\"dataframe\">\n",
       "  <thead>\n",
       "    <tr style=\"text-align: right;\">\n",
       "      <th></th>\n",
       "      <th>eps</th>\n",
       "      <th>alpha</th>\n",
       "      <th>gamma</th>\n",
       "      <th>success_rate</th>\n",
       "    </tr>\n",
       "  </thead>\n",
       "  <tbody>\n",
       "    <tr>\n",
       "      <th>23</th>\n",
       "      <td>0.50</td>\n",
       "      <td>0.05</td>\n",
       "      <td>0.95</td>\n",
       "      <td>0.781998</td>\n",
       "    </tr>\n",
       "    <tr>\n",
       "      <th>22</th>\n",
       "      <td>0.10</td>\n",
       "      <td>0.05</td>\n",
       "      <td>0.95</td>\n",
       "      <td>0.779391</td>\n",
       "    </tr>\n",
       "    <tr>\n",
       "      <th>38</th>\n",
       "      <td>0.10</td>\n",
       "      <td>0.10</td>\n",
       "      <td>0.95</td>\n",
       "      <td>0.774100</td>\n",
       "    </tr>\n",
       "    <tr>\n",
       "      <th>30</th>\n",
       "      <td>0.10</td>\n",
       "      <td>0.05</td>\n",
       "      <td>1.00</td>\n",
       "      <td>0.770606</td>\n",
       "    </tr>\n",
       "    <tr>\n",
       "      <th>2</th>\n",
       "      <td>0.10</td>\n",
       "      <td>0.01</td>\n",
       "      <td>0.90</td>\n",
       "      <td>0.722275</td>\n",
       "    </tr>\n",
       "    <tr>\n",
       "      <th>...</th>\n",
       "      <td>...</td>\n",
       "      <td>...</td>\n",
       "      <td>...</td>\n",
       "      <td>...</td>\n",
       "    </tr>\n",
       "    <tr>\n",
       "      <th>1</th>\n",
       "      <td>0.05</td>\n",
       "      <td>0.01</td>\n",
       "      <td>0.90</td>\n",
       "      <td>0.000000</td>\n",
       "    </tr>\n",
       "    <tr>\n",
       "      <th>33</th>\n",
       "      <td>0.05</td>\n",
       "      <td>0.10</td>\n",
       "      <td>0.90</td>\n",
       "      <td>0.000000</td>\n",
       "    </tr>\n",
       "    <tr>\n",
       "      <th>36</th>\n",
       "      <td>0.01</td>\n",
       "      <td>0.10</td>\n",
       "      <td>0.95</td>\n",
       "      <td>0.000000</td>\n",
       "    </tr>\n",
       "    <tr>\n",
       "      <th>37</th>\n",
       "      <td>0.05</td>\n",
       "      <td>0.10</td>\n",
       "      <td>0.95</td>\n",
       "      <td>0.000000</td>\n",
       "    </tr>\n",
       "    <tr>\n",
       "      <th>63</th>\n",
       "      <td>0.50</td>\n",
       "      <td>0.50</td>\n",
       "      <td>1.00</td>\n",
       "      <td>0.000000</td>\n",
       "    </tr>\n",
       "  </tbody>\n",
       "</table>\n",
       "<p>64 rows × 4 columns</p>\n",
       "</div>"
      ],
      "text/plain": [
       "     eps  alpha  gamma  success_rate\n",
       "23  0.50   0.05   0.95      0.781998\n",
       "22  0.10   0.05   0.95      0.779391\n",
       "38  0.10   0.10   0.95      0.774100\n",
       "30  0.10   0.05   1.00      0.770606\n",
       "2   0.10   0.01   0.90      0.722275\n",
       "..   ...    ...    ...           ...\n",
       "1   0.05   0.01   0.90      0.000000\n",
       "33  0.05   0.10   0.90      0.000000\n",
       "36  0.01   0.10   0.95      0.000000\n",
       "37  0.05   0.10   0.95      0.000000\n",
       "63  0.50   0.50   1.00      0.000000\n",
       "\n",
       "[64 rows x 4 columns]"
      ]
     },
     "execution_count": 69,
     "metadata": {},
     "output_type": "execute_result"
    }
   ],
   "source": [
    "df = pd.DataFrame()\n",
    "\n",
    "df[\"eps\"]=epsilons\n",
    "df[\"alpha\"]=alphas\n",
    "df[\"gamma\"]=gammas\n",
    "df[\"success_rate\"]=success_rates\n",
    "df = df.sort_values(by=\"success_rate\", ascending=False)\n",
    "df"
   ]
  },
  {
   "cell_type": "code",
   "execution_count": 70,
   "metadata": {},
   "outputs": [
    {
     "data": {
      "text/plain": [
       "eps             0.500000\n",
       "alpha           0.050000\n",
       "gamma           0.950000\n",
       "success_rate    0.781998\n",
       "Name: 23, dtype: float64"
      ]
     },
     "execution_count": 70,
     "metadata": {},
     "output_type": "execute_result"
    }
   ],
   "source": [
    "df.iloc[0]"
   ]
  },
  {
   "cell_type": "code",
   "execution_count": 81,
   "metadata": {},
   "outputs": [
    {
     "name": "stderr",
     "output_type": "stream",
     "text": [
      "100%|██████████| 100000/100000 [00:36<00:00, 2717.80it/s]\n"
     ]
    }
   ],
   "source": [
    "sarsa_table = sarsa_train(env, alpha = 0.05, gamma = 0.95, epsilon = 0.5, episodes = 100000, steps = 100)"
   ]
  },
  {
   "cell_type": "code",
   "execution_count": 82,
   "metadata": {},
   "outputs": [
    {
     "name": "stderr",
     "output_type": "stream",
     "text": [
      "100%|██████████| 100000/100000 [01:26<00:00, 1158.15it/s]"
     ]
    },
    {
     "name": "stdout",
     "output_type": "stream",
     "text": [
      "Success rate is = 64.12522007042254 %\n",
      "Average number of steps to succeed is = 39.274361795774645\n"
     ]
    },
    {
     "name": "stderr",
     "output_type": "stream",
     "text": [
      "\n"
     ]
    }
   ],
   "source": [
    "rewards_sarsa, success_rate_sarsa, avg_num_steps_sarsa= agent_play(env, q_table=sarsa_table, max_n_episodes=100000)\n"
   ]
  },
  {
   "attachments": {},
   "cell_type": "markdown",
   "metadata": {},
   "source": [
    "New frozen lake environment with `is_slippery=False`"
   ]
  },
  {
   "cell_type": "code",
   "execution_count": null,
   "metadata": {},
   "outputs": [],
   "source": [
    "env_no_slip = gym.make(\"FrozenLake-v1\", is_slippery=False, render_mode=None)\n",
    "np.random.seed(42)\n",
    "observation, info = env.reset(seed=42)\n",
    "num_actions = env.action_space.n\n",
    "num_states = env.observation_space.n"
   ]
  },
  {
   "attachments": {},
   "cell_type": "markdown",
   "metadata": {},
   "source": [
    "Re-training for the new environment"
   ]
  },
  {
   "cell_type": "code",
   "execution_count": null,
   "metadata": {},
   "outputs": [],
   "source": [
    "q_table = q_train(env_no_slip, weights=\"q_table.npy\")\n",
    "q_table_greedy = q_train_greedy(env_no_slip,weights=\"data/q_table_greedy.npy\")\n",
    "q_table_greedy_decay=q_train_greedy_decay(env_no_slip, weights=\"data/q_table_greedy_decay.npy\")\n",
    "sarsa_table = sarsa_train(env_no_slip, alpha = 0.1, gamma = 1, epsilon = 0.5, episodes = 10000, steps = 1000)"
   ]
  },
  {
   "attachments": {},
   "cell_type": "markdown",
   "metadata": {},
   "source": [
    "Re-calculating the performance "
   ]
  },
  {
   "cell_type": "code",
   "execution_count": null,
   "metadata": {},
   "outputs": [],
   "source": [
    "rewards_d, success_rate_d, avg_num_steps_d= agent_play(env_no_slip, q_table=deterministic_q_table)\n",
    "rewards_q, success_rate_q, avg_num_steps_q= agent_play(env_no_slip, q_table=q_table)\n",
    "rewards_q_greedy, success_rate_q_greedy, avg_num_steps_q_greedy= agent_play(env_no_slip, q_table=q_table_greedy)\n",
    "rewards_q_greedy_decay, success_rate_q_greedy_decay, avg_num_steps_q_greedy_decay= agent_play(env_no_slip, q_table=q_table_greedy_decay)\n",
    "rewards_sarsa, success_rate_sarsa, avg_num_steps_sarsa= agent_play(env_no_slip, q_table=sarsa_table)"
   ]
  },
  {
   "cell_type": "markdown",
   "metadata": {},
   "source": [
    "## 3. Conclusion :"
   ]
  }
 ],
 "metadata": {
  "kernelspec": {
   "display_name": "Python 3 (ipykernel)",
   "language": "python",
   "name": "python3"
  },
  "language_info": {
   "codemirror_mode": {
    "name": "ipython",
    "version": 3
   },
   "file_extension": ".py",
   "mimetype": "text/x-python",
   "name": "python",
   "nbconvert_exporter": "python",
   "pygments_lexer": "ipython3",
   "version": "3.10.6"
  },
  "vscode": {
   "interpreter": {
    "hash": "916dbcbb3f70747c44a77c7bcd40155683ae19c65e1c03b4aa3499c5328201f1"
   }
  }
 },
 "nbformat": 4,
 "nbformat_minor": 2
}
