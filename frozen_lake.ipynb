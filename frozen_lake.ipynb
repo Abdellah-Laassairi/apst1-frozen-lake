{
 "cells": [
  {
   "cell_type": "markdown",
   "metadata": {},
   "source": [
    "# Frozen lake : Reinforcement Learning\n",
    "![ Frozen lake](images/frozen_lake.gif) \n",
    "\n",
    "For the first part of the project we will tackle the frozen lake Envirement which involves crossing a frozen lake from the start position to a predetermined goal without falling into any holes. The solution isn't deterministic as the player can slip on the ice.\n",
    " \n",
    "## Envirement description : \n",
    "\n",
    "### 1. Action Space\n",
    "The action shape is as follows : \n",
    "- 0: Move left\n",
    "- 1: Move down\n",
    "- 2: Move right\n",
    "- 3: Move up\n",
    "\n",
    "### 2. Observation Space\n",
    "The observation is a value representing the player’s current position= and it ranges from 0 to the map's width*height-1.\n",
    "\n",
    "### 3. Starting State\n",
    "The episode starts with the player in state [0] at the location [0, 0] in the map.\n",
    "\n",
    "### 4. Rewards : \n",
    "Reward can be defined as follows : \n",
    "- Reach goal: +1\n",
    "- Reach hole: 0\n",
    "- Reach frozen: 0\n",
    "\n",
    "### 5. Episode End : \n",
    "The episode ends if the following happens:\n",
    "- Termination:\n",
    "    - The player moves into a hole.\n",
    "    - The player reaches the goal at max(width) * max(height) - 1 (location [width-1, height-1]).\n",
    "- Truncation :\n",
    "    - The length of the episode is 100 for 4x4 environment, 200 for 8x8 environment.\n"
   ]
  },
  {
   "cell_type": "markdown",
   "metadata": {},
   "source": [
    "Uploading the necessary libraries and modules needed for our experiment."
   ]
  },
  {
   "cell_type": "code",
   "execution_count": 1,
   "metadata": {},
   "outputs": [],
   "source": [
    "import gymnasium as gym\n",
    "#from tools.qlearning import *\n",
    "import numpy as np\n",
    "import matplotlib.pyplot   as plt\n",
    "import pandas as pd\n",
    "import warnings\n",
    "warnings.filterwarnings(\"ignore\")"
   ]
  },
  {
   "cell_type": "markdown",
   "metadata": {},
   "source": [
    "We will experiment with both conditions `is_slippery=True` and `is_slippery=False`. The last condition means that the agent realizes the action it has decided, and thus that the policy in this case is deterministic. On the contrary, the conditions `is_slippery = True` means that the agent actually has a probability $\\frac{1}{3}$ to go on the direction decided by the action, and a probability $\\frac{1}{3}$ to go on one of the perpendicular direction. In this case, the policy is a stochastic one. We will first start with the deterministic one, and then we will work with the stochastic one."
   ]
  },
  {
   "cell_type": "code",
   "execution_count": 2,
   "metadata": {},
   "outputs": [],
   "source": [
    "# To speed up the process we will set the render_mode as None.\n",
    "env = gym.make(\"FrozenLake-v1\", is_slippery=False, render_mode=None)\n",
    "np.random.seed(42)\n",
    "observation, info = env.reset(seed=42)\n",
    "num_actions = env.action_space.n\n",
    "num_states = env.observation_space.n"
   ]
  },
  {
   "cell_type": "markdown",
   "metadata": {},
   "source": [
    "First, let's upload the optimal policy that we built ourselves, by looking at the map."
   ]
  },
  {
   "cell_type": "code",
   "execution_count": 3,
   "metadata": {},
   "outputs": [
    {
     "data": {
      "text/plain": [
       "array([[0, 1, 0, 0],\n",
       "       [0, 0, 1, 0],\n",
       "       [0, 1, 0, 0],\n",
       "       [1, 0, 0, 0],\n",
       "       [0, 1, 0, 0],\n",
       "       [0, 0, 0, 0],\n",
       "       [0, 1, 0, 0],\n",
       "       [0, 0, 0, 0],\n",
       "       [0, 0, 1, 0],\n",
       "       [0, 1, 0, 0],\n",
       "       [0, 1, 0, 0],\n",
       "       [0, 0, 0, 0],\n",
       "       [0, 0, 0, 0],\n",
       "       [0, 0, 1, 0],\n",
       "       [0, 0, 1, 0],\n",
       "       [0, 0, 0, 0]], dtype=int64)"
      ]
     },
     "execution_count": 3,
     "metadata": {},
     "output_type": "execute_result"
    }
   ],
   "source": [
    "deterministic_q_table = np.load(\".\\data\\deterministic_q_table.npy\")\n",
    "deterministic_q_table"
   ]
  },
  {
   "cell_type": "markdown",
   "metadata": {},
   "source": [
    "# 1. Algorithms"
   ]
  },
  {
   "cell_type": "markdown",
   "metadata": {},
   "source": [
    "We first define a general function here, that will be used in many of our algorithms. As we know, when using the `np.argmax` function in Python, it only returns the first argument maximizing the quantity, even though there may be other arguments also maximizing it. To avoid this thing, we will implement a function that get all the arguments maximizing the quantity, and choose randomly between them all."
   ]
  },
  {
   "cell_type": "code",
   "execution_count": 25,
   "metadata": {},
   "outputs": [],
   "source": [
    "def action_choice_max(tab) :\n",
    "    max_indices = np.argwhere(tab == np.amax(tab))\n",
    "    max_indices = max_indices.reshape(len(max_indices),)\n",
    "    action = np.random.choice(max_indices)\n",
    "    return action"
   ]
  },
  {
   "cell_type": "markdown",
   "metadata": {},
   "source": [
    "### 1.1 Q-Learning"
   ]
  },
  {
   "cell_type": "code",
   "execution_count": 27,
   "metadata": {},
   "outputs": [],
   "source": [
    "import numpy as np\n",
    "from tqdm import *\n",
    "def q_train(env, alpha=0.01, gamma=0.9, max_n_steps=100, n_episodes=10000, weights=None):\n",
    "    \"\"\" Q-learning algorithm \n",
    "    \n",
    "    \"\"\"\n",
    "    rewards =[]\n",
    "    num_actions = env.action_space.n\n",
    "    num_states = env.observation_space.n\n",
    "    \n",
    "    try :\n",
    "        print(\"Loading Q-table saved weights...\")\n",
    "        q_table = np.load(weights)\n",
    "\n",
    "    except :\n",
    "        print(\"Error loading Q-table saved weights\")\n",
    "        print(\"Initiating new Q-table...\")\n",
    "        q_table = np.zeros((num_states, num_actions))\n",
    "\n",
    "    print(\"Starting Q-learning algorithm...\")\n",
    "    for _ in trange(n_episodes):\n",
    "        s = env.reset()[0]\n",
    "        total_reward = 0\n",
    "        for i in range(max_n_steps):\n",
    "            a = action_choice_max(q_table[s]) # Select action a given s (state) following policy derived from q;\n",
    "            \n",
    "            s_new, r, done, truncated , info = env.step(a) # Take action a and observe the reward and next state s_new and reward r\n",
    "            #print(s, a, r, s_new, done)\n",
    "            \n",
    "            # Update Q-table\n",
    "            q_table[s, a] = (1-alpha)*q_table[s, a] + alpha*(r + gamma*np.max(q_table[s_new]))\n",
    "            \n",
    "            # update state and total reward\n",
    "            s = s_new\n",
    "            total_reward = total_reward + r\n",
    "\n",
    "            # if s is a terminal state then go to next episode;\n",
    "            if done or truncated: \n",
    "                rewards.append(total_reward) \n",
    "                break\n",
    "            \n",
    "    env.close()\n",
    "    print(\"Finished Q-learning algorithm.\")\n",
    "    print(\"Average reward is : {}\".format(np.mean(rewards)))\n",
    "\n",
    "    return q_table\n",
    "\n"
   ]
  },
  {
   "cell_type": "code",
   "execution_count": 28,
   "metadata": {},
   "outputs": [
    {
     "name": "stdout",
     "output_type": "stream",
     "text": [
      "Loading Q-table saved weights...\n",
      "Error loading Q-table saved weights\n",
      "Initiating new Q-table...\n",
      "Starting Q-learning algorithm...\n"
     ]
    },
    {
     "name": "stderr",
     "output_type": "stream",
     "text": [
      "100%|██████████| 10000/10000 [00:11<00:00, 873.28it/s]"
     ]
    },
    {
     "name": "stdout",
     "output_type": "stream",
     "text": [
      "Finished Q-learning algorithm.\n",
      "Average reward is : 0.9908\n"
     ]
    },
    {
     "name": "stderr",
     "output_type": "stream",
     "text": [
      "\n"
     ]
    }
   ],
   "source": [
    "q_table = q_train(env)\n",
    "\n",
    "# q_table = q_train(env, weights=\"data/q_table.npy\")\n",
    "# np.save('data/q_table.npy', q_table)"
   ]
  },
  {
   "cell_type": "markdown",
   "metadata": {},
   "source": [
    "### 1.2 Q-Learning ( $\\epsilon-greedy$)\n",
    "\n",
    "$\\epsilon-greedy$ is an good strategy for balancing exploration and exploitation."
   ]
  },
  {
   "cell_type": "code",
   "execution_count": 29,
   "metadata": {},
   "outputs": [],
   "source": [
    "def q_train_greedy(env, alpha=0.99, gamma=0.9, epsilon=0.5, max_n_steps=100, n_episodes=10000, weights=None):\n",
    "    \"\"\" Q-learning algorithm (epsilon-greedy)\n",
    "    \n",
    "    \"\"\"\n",
    "    num_actions = env.action_space.n\n",
    "    num_states = env.observation_space.n\n",
    "    \n",
    "    try :\n",
    "        print(\"Loading Q-table saved weights...\")\n",
    "        q_table = np.load(weights)\n",
    "\n",
    "    except :\n",
    "        print(\"Error loading Q-table saved weights\")\n",
    "        print(\"Initiating new Q-table...\")\n",
    "        q_table = np.zeros((num_states, num_actions))\n",
    "\n",
    "    rewards = []\n",
    "\n",
    "    print(\"Starting Q-learning algorithm...\")\n",
    "    for _ in trange(n_episodes):\n",
    "        s = env.reset()[0]\n",
    "        total_reward = 0\n",
    "        for i in range(max_n_steps):\n",
    "            U = np.random.uniform(0, 1)\n",
    "            if U < epsilon:\n",
    "                a = env.action_space.sample() # selecting action a at random from A \n",
    "            else:\n",
    "                a = action_choice_max(q_table[s]) # Select action a given s (state) following policy derived from q;\n",
    "            \n",
    "            s_new, r, done, _ , _= env.step(a)\n",
    "            \n",
    "            # Update Q-table\n",
    "            q_table[s, a] = (1-alpha)*q_table[s, a] + alpha*(r + gamma*np.max(q_table[s_new]))\n",
    "            \n",
    "            # update state and total reward\n",
    "            s, total_reward = s_new, total_reward+r\n",
    "\n",
    "            # if s is a terminal state then go to next episode;\n",
    "            if done: \n",
    "                rewards.append(total_reward) \n",
    "                break\n",
    "    env.close()\n",
    "    print(\"Finished Q-learning algorithm.\")\n",
    "    print(\"Average reward is : {}\".format(np.mean(rewards)))\n",
    "    return q_table"
   ]
  },
  {
   "cell_type": "code",
   "execution_count": 30,
   "metadata": {},
   "outputs": [
    {
     "name": "stdout",
     "output_type": "stream",
     "text": [
      "Loading Q-table saved weights...\n",
      "Error loading Q-table saved weights\n",
      "Initiating new Q-table...\n",
      "Starting Q-learning algorithm...\n"
     ]
    },
    {
     "name": "stderr",
     "output_type": "stream",
     "text": [
      "100%|██████████| 10000/10000 [00:13<00:00, 752.99it/s]"
     ]
    },
    {
     "name": "stdout",
     "output_type": "stream",
     "text": [
      "Finished Q-learning algorithm.\n",
      "Average reward is : 0.4009\n"
     ]
    },
    {
     "name": "stderr",
     "output_type": "stream",
     "text": [
      "\n"
     ]
    }
   ],
   "source": [
    "q_table_greedy = q_train_greedy(env)\n",
    "# q_table_greedy = q_train_greedy(env,weights=\"data/q_table_greedy.npy\")\n",
    "# np.save('data/q_table_greedy.npy', q_table_greedy)"
   ]
  },
  {
   "cell_type": "markdown",
   "metadata": {},
   "source": [
    "\n",
    "### 1.3 Q-learning epsilon decay\n",
    "The concept of decay : \n",
    "During the lifecycle of an agent that does not have sufficient information on its environment, exploration is more important than exploitation. Once the agent has enough information about the environment, we can then start to exploit that information to improve the agent's performance [Source](https://arxiv.org/pdf/1910.13701.pdf). That's why we'll use the concept of decay by starting with a maximum value of epsilon and then decaying it gradually across every episode. \n",
    "\n"
   ]
  },
  {
   "cell_type": "code",
   "execution_count": 31,
   "metadata": {},
   "outputs": [],
   "source": [
    "def q_train_greedy_decay(env, alpha=0.8, gamma=0.9,min_epsilon=0.005, decay_rate=0.001, max_n_steps=100, n_episodes=10000, weights=None):\n",
    "    \"\"\" Q-learning algorithm (epsilon-greedy) with exponential epsilon decay\n",
    "    \n",
    "    \"\"\"\n",
    "    num_actions = env.action_space.n\n",
    "    num_states = env.observation_space.n\n",
    "    \n",
    "    try :\n",
    "        print(\"Loading Q-table saved weights...\")\n",
    "        q_table = np.load(weights)\n",
    "\n",
    "    except :\n",
    "        print(\"Error loading Q-table saved weights\")\n",
    "        print(\"Initiating new Q-table...\")\n",
    "        q_table = np.zeros((num_states, num_actions))\n",
    "\n",
    "    rewards = []\n",
    "    epsilon = 1\n",
    "    \n",
    "    print(\"Starting Q-learning algorithm...\")\n",
    "    for episode in trange(n_episodes):\n",
    "        s = env.reset()[0]\n",
    "        total_reward = 0\n",
    "        for i in range(max_n_steps):\n",
    "            U = np.random.uniform(0, 1)\n",
    "            if U < epsilon:\n",
    "                a = env.action_space.sample() # selecting action a at random from A \n",
    "            else:\n",
    "                a = action_choice_max(q_table[s]) # Select action a given s (state) following policy derived from q;\n",
    "            \n",
    "            s_new, r, done, _ , _= env.step(a)\n",
    "\n",
    "            # Update Q-table\n",
    "            q_table[s, a] = (1-alpha)*q_table[s, a] + alpha*(r + gamma*np.max(q_table[s_new]))\n",
    "            \n",
    "            # update state and total reward\n",
    "            s, total_reward = s_new, total_reward+r\n",
    "\n",
    "            # if s is a terminal state then go to next episode;\n",
    "            if done: \n",
    "                # Epsilon exponential decay\n",
    "                epsilon = min_epsilon + (1-min_epsilon)*np.exp(-decay_rate*episode)\n",
    "                rewards.append(total_reward) \n",
    "                break\n",
    "            \n",
    "    env.close()\n",
    "    print(\"Finished Q-learning algorithm.\")\n",
    "    print(\"Average reward is : {}\".format(np.mean(rewards)))\n",
    "    return q_table"
   ]
  },
  {
   "cell_type": "code",
   "execution_count": 32,
   "metadata": {},
   "outputs": [
    {
     "name": "stdout",
     "output_type": "stream",
     "text": [
      "Loading Q-table saved weights...\n",
      "Error loading Q-table saved weights\n",
      "Initiating new Q-table...\n",
      "Starting Q-learning algorithm...\n"
     ]
    },
    {
     "name": "stderr",
     "output_type": "stream",
     "text": [
      "100%|██████████| 10000/10000 [00:13<00:00, 752.65it/s]"
     ]
    },
    {
     "name": "stdout",
     "output_type": "stream",
     "text": [
      "Finished Q-learning algorithm.\n",
      "Average reward is : 0.8819\n"
     ]
    },
    {
     "name": "stderr",
     "output_type": "stream",
     "text": [
      "\n"
     ]
    }
   ],
   "source": [
    "q_table_greedy_decay=q_train_greedy_decay(env)\n",
    "# q_table_greedy_decay=q_train_greedy_decay(env, weights=\"data/q_table_greedy_decay.npy\")\n",
    "# np.save(\"data/q_table_greedy_decay.npy\", q_table_greedy)"
   ]
  },
  {
   "cell_type": "markdown",
   "metadata": {},
   "source": [
    "### 1.4 SARSA"
   ]
  },
  {
   "cell_type": "code",
   "execution_count": 33,
   "metadata": {},
   "outputs": [],
   "source": [
    "def sarsa_train(env, alpha=0.1, gamma=1, epsilon=0.5, episodes=10000, steps=1000) :\n",
    "    \"SARSA algorithme : les paramètres par défaut n'ont pas été ajustés.\"\n",
    "    \n",
    "    num_actions = env.action_space.n\n",
    "    num_states = env.observation_space.n\n",
    "    q = np.zeros((num_states, num_actions))\n",
    "\n",
    "    for ep in trange(episodes) : \n",
    "        \n",
    "        env.reset()\n",
    "        state = env.s\n",
    "\n",
    "        if np.random.uniform() < epsilon :\n",
    "            action = env.action_space.sample()\n",
    "        else :\n",
    "            action = action_choice_max(q[state, :])\n",
    "            \n",
    "        for _ in range(steps) :\n",
    "            nw_state, reward, terminated, truncated, info = env.step(action)\n",
    "            \n",
    "            if np.random.uniform() < epsilon :\n",
    "                nw_action = env.action_space.sample()\n",
    "            else :\n",
    "                nw_action = action_choice_max(q[nw_state, :])\n",
    "                \n",
    "            q[state, action] = (1-alpha)*q[state, action] + \\\n",
    "                alpha*(reward + gamma*q[nw_state, nw_action])\n",
    "                \n",
    "            state = nw_state\n",
    "            action = nw_action\n",
    "            \n",
    "            if terminated or truncated :\n",
    "                break\n",
    "    \n",
    "    env.close()\n",
    "    \n",
    "    return q"
   ]
  },
  {
   "cell_type": "code",
   "execution_count": 34,
   "metadata": {},
   "outputs": [
    {
     "name": "stderr",
     "output_type": "stream",
     "text": [
      "100%|██████████| 10000/10000 [00:13<00:00, 764.98it/s]\n"
     ]
    }
   ],
   "source": [
    "sarsa_table = sarsa_train(env)"
   ]
  },
  {
   "cell_type": "markdown",
   "metadata": {},
   "source": [
    "## 2. Results with condition `is_slippery=False`"
   ]
  },
  {
   "cell_type": "markdown",
   "metadata": {},
   "source": [
    "### 2.1. Algorithms' results"
   ]
  },
  {
   "cell_type": "code",
   "execution_count": 35,
   "metadata": {},
   "outputs": [],
   "source": [
    "def agent_play(env,q_table, max_n_episodes=10000, max_steps=100):\n",
    "    count = 0\n",
    "    rewards = []\n",
    "    num_steps = []\n",
    "    for _ in trange(max_n_episodes):\n",
    "        s = env.reset()[0]\n",
    "        total_reward = 0\n",
    "        for i in range(max_steps):\n",
    "            a = np.argmax(q_table[s])\n",
    "            s, r, done, tr,_ = env.step(a)\n",
    "            total_reward+=r\n",
    "            if done or tr: \n",
    "                rewards.append(total_reward)\n",
    "                num_steps.append(i+1)\n",
    "                count+=1\n",
    "                break\n",
    "    success_rate = np.mean(rewards)\n",
    "    avg_num_steps = np.mean(num_steps)\n",
    "    print(f'Success rate is = {100*success_rate} %')\n",
    "    print(f'Average number of steps before end (success or fall) = {avg_num_steps}')\n",
    "    return rewards, success_rate, avg_num_steps"
   ]
  },
  {
   "cell_type": "code",
   "execution_count": 36,
   "metadata": {
    "scrolled": true
   },
   "outputs": [
    {
     "name": "stderr",
     "output_type": "stream",
     "text": [
      "100%|██████████| 10000/10000 [00:03<00:00, 3277.39it/s]\n"
     ]
    },
    {
     "name": "stdout",
     "output_type": "stream",
     "text": [
      "Success rate is = 100.0 %\n",
      "Average number of steps before end (success or fall) = 6.0\n"
     ]
    },
    {
     "name": "stderr",
     "output_type": "stream",
     "text": [
      "100%|██████████| 10000/10000 [00:03<00:00, 3249.66it/s]\n"
     ]
    },
    {
     "name": "stdout",
     "output_type": "stream",
     "text": [
      "Success rate is = 100.0 %\n",
      "Average number of steps before end (success or fall) = 6.0\n"
     ]
    },
    {
     "name": "stderr",
     "output_type": "stream",
     "text": [
      "100%|██████████| 10000/10000 [00:03<00:00, 3222.99it/s]\n"
     ]
    },
    {
     "name": "stdout",
     "output_type": "stream",
     "text": [
      "Success rate is = 100.0 %\n",
      "Average number of steps before end (success or fall) = 6.0\n"
     ]
    },
    {
     "name": "stderr",
     "output_type": "stream",
     "text": [
      "100%|██████████| 10000/10000 [00:03<00:00, 3275.65it/s]\n"
     ]
    },
    {
     "name": "stdout",
     "output_type": "stream",
     "text": [
      "Success rate is = 100.0 %\n",
      "Average number of steps before end (success or fall) = 6.0\n"
     ]
    },
    {
     "name": "stderr",
     "output_type": "stream",
     "text": [
      "100%|██████████| 10000/10000 [00:03<00:00, 3265.35it/s]"
     ]
    },
    {
     "name": "stdout",
     "output_type": "stream",
     "text": [
      "Success rate is = 100.0 %\n",
      "Average number of steps before end (success or fall) = 6.0\n"
     ]
    },
    {
     "name": "stderr",
     "output_type": "stream",
     "text": [
      "\n"
     ]
    }
   ],
   "source": [
    "rewards_d, success_rate_d, avg_num_steps_d= agent_play(env, q_table=deterministic_q_table)\n",
    "rewards_q, success_rate_q, avg_num_steps_q= agent_play(env, q_table=q_table)\n",
    "rewards_q_greedy, success_rate_q_greedy, avg_num_steps_q_greedy= agent_play(env, q_table=q_table_greedy)\n",
    "rewards_q_greedy_decay, success_rate_q_greedy_decay, avg_num_steps_q_greedy_decay= agent_play(env, q_table=q_table_greedy_decay)\n",
    "rewards_sarsa, success_rate_sarsa, avg_num_steps_sarsa= agent_play(env, q_table=sarsa_table)\n"
   ]
  },
  {
   "cell_type": "markdown",
   "metadata": {},
   "source": [
    "> Let's make some comments.\n",
    "\n",
    "In the deterministic case, an optimal policy always exists. \n",
    "There is no surprise that the deterministic table provided at the beginning has a 100% success rate. The agent simply follows the path by selecting the action corresponding to the ones in the table.\n",
    "\n",
    "The basic Q-learning algorithm has a 100% success rate. It is interesting to note that at first, we didn't use the function randomly selecting an action between all the arguments maximizing the state-action value function. In this case, we had a 0% success rate. It would always be this way, as soon as we start with an initial table filled with 0. Indeed, since Python `np.argmax` function always gives the first action maximizing, and since we start with everything at 0, this function will always return 0, meaning that the agent will always try to go left. Due to `is_slippery = False`, the agent will always try to go left, thus it will never move. It will never reach the goal and never get any reward, and the updating policy stage will never modify any value. We also tried to start with a complete random q matrix, but the agent still can't manage : with a complete random policy, the probability to get to the goal is really low. But with the function `action_choice_max`, we include some randomness in the choice of the action, we explore more, and the agent can learn how to reach the goal.\n",
    "\n",
    "This problem is also solved by using the $\\epsilon$-greedy Q-learning algorithms, and also the SARSA algorithm. Since it add some randomness in the actions' choice, the agent won't always try to go the same way and will reach the goal eventually. Once it has, it can start learning. Please note that the $\\epsilon$-greedy Q-learning algorithm, with no decay, is very sensitive to the value of $\\epsilon$. A too small value will hardly change anything, compared to the basic Q-learning, and a too high will only create randomness."
   ]
  },
  {
   "cell_type": "markdown",
   "metadata": {},
   "source": [
    "### 2.2. Comparison"
   ]
  },
  {
   "cell_type": "code",
   "execution_count": 37,
   "metadata": {},
   "outputs": [
    {
     "data": {
      "image/png": "[encoded data removed]",
      "text/plain": [
       "<Figure size 1800x504 with 5 Axes>"
      ]
     },
     "metadata": {
      "needs_background": "light"
     },
     "output_type": "display_data"
    }
   ],
   "source": [
    "deterministic_q_table = np.load(\"data/deterministic_q_table.npy\")\n",
    "\n",
    "fig, ax = plt.subplots(1, 5)\n",
    "fig.suptitle(\"Q-table for is_slippery=False\", fontsize=16)\n",
    "\n",
    "fig.set_size_inches(25, 7)\n",
    "# im = Image.open('images/frozen_lake.jpg')\n",
    "plt.title(\"Q-table of the game\")\n",
    "\n",
    "# Creating the heat maps\n",
    "map_q = np.sum(q_table, axis = 1)\n",
    "map_q= map_q.reshape(4, 4)\n",
    "\n",
    "map_d = np.sum(deterministic_q_table, axis = 1)\n",
    "map_d= map_d.reshape(4, 4)\n",
    "\n",
    "map_g = np.sum(q_table_greedy, axis = 1)\n",
    "map_g= map_g.reshape(4, 4)\n",
    "\n",
    "map_e = np.sum(q_table_greedy_decay, axis = 1)\n",
    "map_e= map_e.reshape(4, 4)\n",
    "\n",
    "map_s = np.sum(sarsa_table, axis = 1)\n",
    "map_s= map_s.reshape(4, 4)\n",
    "\n",
    "\n",
    "# ax[0].imshow(im, alpha=1)\n",
    "# ax[1].imshow(im, alpha=1)\n",
    "\n",
    "ax[0].matshow(map_d, cmap='winter')\n",
    "ax[1].matshow(map_q, cmap='winter')\n",
    "ax[2].matshow(map_g, cmap='winter')\n",
    "ax[3].matshow(map_e, cmap='winter')\n",
    "ax[4].matshow(map_s, cmap='winter')\n",
    "\n",
    "pos=[0,1,2,3]\n",
    "\n",
    "deterministic_q_table_reshaped=deterministic_q_table.reshape((4,4,4))\n",
    "q_table_reshaped=q_table.reshape((4,4,4))\n",
    "greedy_reshaped=q_table_greedy.reshape((4,4,4))\n",
    "q_table_greedy_decay_reshaped =q_table_greedy_decay.reshape((4,4,4))\n",
    "sarsa_reshaped =sarsa_table.reshape((4,4,4))\n",
    "\n",
    "\n",
    "deviation = 0.2\n",
    "for i in pos: # rows\n",
    "    for j in pos: # cols\n",
    "\n",
    "        ax[0].text(j-deviation, i, '{:0.2f}'.format(deterministic_q_table_reshaped[i][j][0]), ha='center', va='center') # 0 Left\n",
    "        ax[0].text(j, i+deviation, '{:0.2f}'.format(deterministic_q_table_reshaped[i][j][1]), ha='center', va='center') # 1 Down\n",
    "        ax[0].text(j+deviation, i, '{:0.2f}'.format(deterministic_q_table_reshaped[i][j][2]), ha='center', va='center') # 2 right\n",
    "        ax[0].text(j, i-deviation, '{:0.2f}'.format(deterministic_q_table_reshaped[i][j][3]), ha='center', va='center') # 3 up\n",
    "        ax[0].set_title(f\"Deterministic Q-table \\n success rate = {100*round(success_rate_d,2)} %\")\n",
    "\n",
    "        ax[1].text(j-deviation, i, '{:0.2f}'.format(q_table_reshaped[i][j][0]), ha='center', va='center') # 0 Left\n",
    "        ax[1].text(j, i+deviation, '{:0.2f}'.format(q_table_reshaped[i][j][1]), ha='center', va='center') # 1 Down\n",
    "        ax[1].text(j+deviation, i, '{:0.2f}'.format(q_table_reshaped[i][j][2]), ha='center', va='center') # 2 right\n",
    "        ax[1].text(j, i-deviation, '{:0.2f}'.format(q_table_reshaped[i][j][3]), ha='center', va='center') # 3 up\n",
    "        ax[1].set_title(f\"Q-learning Q-table \\n success rate = {100*round(success_rate_q,2)} %\")\n",
    "\n",
    "        ax[2].text(j-deviation, i, '{:0.2f}'.format(greedy_reshaped[i][j][0]), ha='center', va='center') # 0 Left\n",
    "        ax[2].text(j, i+deviation, '{:0.2f}'.format(greedy_reshaped[i][j][1]), ha='center', va='center') # 1 Down\n",
    "        ax[2].text(j+deviation, i, '{:0.2f}'.format(greedy_reshaped[i][j][2]), ha='center', va='center') # 2 right\n",
    "        ax[2].text(j, i-deviation, '{:0.2f}'.format(greedy_reshaped[i][j][3]), ha='center', va='center') # 3 up\n",
    "        ax[2].set_title(f\"Eps greedy Q-learning Q-table  \\n success rate = {100*round(success_rate_q_greedy,2)} %\")\n",
    "\n",
    "\n",
    "        ax[3].text(j-deviation, i, '{:0.2f}'.format(q_table_greedy_decay_reshaped[i][j][0]), ha='center', va='center') # 0 Left\n",
    "        ax[3].text(j, i+deviation, '{:0.2f}'.format(q_table_greedy_decay_reshaped[i][j][1]), ha='center', va='center') # 1 Down\n",
    "        ax[3].text(j+deviation, i, '{:0.2f}'.format(q_table_greedy_decay_reshaped[i][j][2]), ha='center', va='center') # 2 right\n",
    "        ax[3].text(j, i-deviation, '{:0.2f}'.format(q_table_greedy_decay_reshaped[i][j][3]), ha='center', va='center') # 3 up\n",
    "        ax[3].set_title(f\"Eps greedy decay Q-learning Q-table \\n success rate = {100*round(success_rate_q_greedy_decay,2)} %\")\n",
    "\n",
    "        ax[4].text(j-deviation, i, '{:0.2f}'.format(sarsa_reshaped[i][j][0]), ha='center', va='center') # 0 Left\n",
    "        ax[4].text(j, i+deviation, '{:0.2f}'.format(sarsa_reshaped[i][j][1]), ha='center', va='center') # 1 Down\n",
    "        ax[4].text(j+deviation, i, '{:0.2f}'.format(sarsa_reshaped[i][j][2]), ha='center', va='center') # 2 right\n",
    "        ax[4].text(j, i-deviation, '{:0.2f}'.format(sarsa_reshaped[i][j][3]), ha='center', va='center') # 3 up\n",
    "        ax[4].set_title(f\"SARSA table \\n success rate = {100*round(success_rate_sarsa,2)} %\")\n",
    "plt.show()"
   ]
  },
  {
   "cell_type": "markdown",
   "metadata": {},
   "source": [
    "Then we'll define a play function for our game to test the performance"
   ]
  },
  {
   "cell_type": "code",
   "execution_count": 38,
   "metadata": {},
   "outputs": [
    {
     "data": {
      "image/png": "[encoded data removed]",
      "text/plain": [
       "<Figure size 1008x432 with 1 Axes>"
      ]
     },
     "metadata": {
      "needs_background": "light"
     },
     "output_type": "display_data"
    }
   ],
   "source": [
    "fig, axes = plt.subplots(figsize=(14, 6))\n",
    "plt.plot(np.arange(len(rewards_d)), np.cumsum(rewards_d)/np.arange(len(rewards_d)), label=\"Cumulative Average success rate for a deterministic policy\")\n",
    "plt.plot(np.arange(len(rewards_q)), np.cumsum(rewards_q)/np.arange(len(rewards_q)), label=\"Cumulative Average success rate for Q-learning\")\n",
    "plt.plot(np.arange(len(rewards_q_greedy)), np.cumsum(rewards_q_greedy)/np.arange(len(rewards_q_greedy)), label=\"Cumulative Average success rate for Q-learning epsilon Greedy\")\n",
    "plt.plot(np.arange(len(rewards_q_greedy_decay)), np.cumsum(rewards_q_greedy_decay)/np.arange(len(rewards_q_greedy_decay)), label=\"Cumulative Average success rate for Q-learning epsilon greedy with decay\")\n",
    "plt.plot(np.arange(len(rewards_sarsa)), np.cumsum(rewards_sarsa)/np.arange(len(rewards_sarsa)), label=\"Cumulative Average success rate for SARSA\")\n",
    "\n",
    "axes.set(xlabel='Episode', ylabel='Success Rate', title='Average Success Rate of Q-learning algorithms for is_learning=False')\n",
    "plt.legend()\n",
    "plt.show()"
   ]
  },
  {
   "cell_type": "markdown",
   "metadata": {},
   "source": [
    "## 3. Results with the condition `is_slippery = True`"
   ]
  },
  {
   "cell_type": "code",
   "execution_count": 39,
   "metadata": {},
   "outputs": [],
   "source": [
    "env_slip = gym.make(\"FrozenLake-v1\", is_slippery=True, render_mode=None)\n",
    "np.random.seed(42)\n",
    "observation, info = env.reset(seed=42)"
   ]
  },
  {
   "cell_type": "markdown",
   "metadata": {},
   "source": [
    "### 3.1. Algorithms' results"
   ]
  },
  {
   "cell_type": "code",
   "execution_count": 40,
   "metadata": {},
   "outputs": [
    {
     "name": "stdout",
     "output_type": "stream",
     "text": [
      "Loading Q-table saved weights...\n",
      "Error loading Q-table saved weights\n",
      "Initiating new Q-table...\n",
      "Starting Q-learning algorithm...\n"
     ]
    },
    {
     "name": "stderr",
     "output_type": "stream",
     "text": [
      "100%|██████████| 10000/10000 [00:12<00:00, 789.30it/s]\n"
     ]
    },
    {
     "name": "stdout",
     "output_type": "stream",
     "text": [
      "Finished Q-learning algorithm.\n",
      "Average reward is : 0.0432\n",
      "Loading Q-table saved weights...\n",
      "Error loading Q-table saved weights\n",
      "Initiating new Q-table...\n",
      "Starting Q-learning algorithm...\n"
     ]
    },
    {
     "name": "stderr",
     "output_type": "stream",
     "text": [
      "100%|██████████| 10000/10000 [00:15<00:00, 630.53it/s]\n"
     ]
    },
    {
     "name": "stdout",
     "output_type": "stream",
     "text": [
      "Finished Q-learning algorithm.\n",
      "Average reward is : 0.0304\n",
      "Loading Q-table saved weights...\n",
      "Error loading Q-table saved weights\n",
      "Initiating new Q-table...\n",
      "Starting Q-learning algorithm...\n"
     ]
    },
    {
     "name": "stderr",
     "output_type": "stream",
     "text": [
      "100%|██████████| 10000/10000 [00:19<00:00, 511.70it/s]\n"
     ]
    },
    {
     "name": "stdout",
     "output_type": "stream",
     "text": [
      "Finished Q-learning algorithm.\n",
      "Average reward is : 0.0564\n"
     ]
    },
    {
     "name": "stderr",
     "output_type": "stream",
     "text": [
      "100%|██████████| 10000/10000 [00:17<00:00, 579.65it/s]\n"
     ]
    }
   ],
   "source": [
    "q_table = q_train(env_slip)\n",
    "q_table_greedy = q_train_greedy(env_slip)\n",
    "q_table_greedy_decay=q_train_greedy_decay(env_slip, alpha = 0.1, gamma = 0.99, min_epsilon=0.5)\n",
    "sarsa_table = sarsa_train(env_slip)"
   ]
  },
  {
   "cell_type": "code",
   "execution_count": 41,
   "metadata": {},
   "outputs": [
    {
     "name": "stderr",
     "output_type": "stream",
     "text": [
      "100%|██████████| 10000/10000 [00:02<00:00, 3487.49it/s]\n"
     ]
    },
    {
     "name": "stdout",
     "output_type": "stream",
     "text": [
      "Success rate is = 4.91 %\n",
      "Average number of steps before end (success or fall) = 5.1212\n"
     ]
    },
    {
     "name": "stderr",
     "output_type": "stream",
     "text": [
      "100%|██████████| 10000/10000 [00:03<00:00, 3003.16it/s]\n"
     ]
    },
    {
     "name": "stdout",
     "output_type": "stream",
     "text": [
      "Success rate is = 4.1000000000000005 %\n",
      "Average number of steps before end (success or fall) = 6.155\n"
     ]
    },
    {
     "name": "stderr",
     "output_type": "stream",
     "text": [
      "100%|██████████| 10000/10000 [00:03<00:00, 2725.33it/s]\n"
     ]
    },
    {
     "name": "stdout",
     "output_type": "stream",
     "text": [
      "Success rate is = 3.9 %\n",
      "Average number of steps before end (success or fall) = 7.2516\n"
     ]
    },
    {
     "name": "stderr",
     "output_type": "stream",
     "text": [
      "100%|██████████| 10000/10000 [00:19<00:00, 525.04it/s]\n"
     ]
    },
    {
     "name": "stdout",
     "output_type": "stream",
     "text": [
      "Success rate is = 70.54 %\n",
      "Average number of steps before end (success or fall) = 41.7833\n"
     ]
    },
    {
     "name": "stderr",
     "output_type": "stream",
     "text": [
      "100%|██████████| 10000/10000 [00:12<00:00, 826.50it/s]"
     ]
    },
    {
     "name": "stdout",
     "output_type": "stream",
     "text": [
      "Success rate is = 39.71 %\n",
      "Average number of steps before end (success or fall) = 24.406\n"
     ]
    },
    {
     "name": "stderr",
     "output_type": "stream",
     "text": [
      "\n"
     ]
    }
   ],
   "source": [
    "rewards_d, success_rate_d, avg_num_steps_d= agent_play(env_slip, q_table=deterministic_q_table)\n",
    "rewards_q, success_rate_q, avg_num_steps_q= agent_play(env_slip, q_table=q_table)\n",
    "rewards_q_greedy, success_rate_q_greedy, avg_num_steps_q_greedy= agent_play(env_slip, q_table=q_table_greedy)\n",
    "rewards_q_greedy_decay, success_rate_q_greedy_decay, avg_num_steps_q_greedy_decay= agent_play(env_slip, q_table=q_table_greedy_decay)\n",
    "rewards_sarsa, success_rate_sarsa, avg_num_steps_sarsa= agent_play(env_slip, q_table=sarsa_table)"
   ]
  },
  {
   "cell_type": "markdown",
   "metadata": {},
   "source": [
    "> Let's make some comments.\n",
    "\n",
    "Keep in mind that we are in the situation where `is_slippery = True`, meaning that when the agent choose to go one way, the probability that he really goes this way is $\\frac{1}{3}$, and he could go on a perpendicular direction with probability $\\frac{1}{3}$, for each perpendicular direction. In this case, it is impossible to reach 100% success. \n",
    "The deterministic table, with only ones or zeros, has no flexibility : the agent always want to use the same path, but due to the randomness, he almost always fails.\n",
    "\n",
    "With the basic Q-learning algorithm, we will always get a 0% success rate if we start with a initial q-table filled with 0. Indeed, since Python `np.argmax` function always give the first action maximizing, and since we start with everything at 0, this function will always return 0, meaning that the agent will always try to go left. Due to `is_slippery = True`, the agent may or may not move (going left, when starting, is not possible), but won't get any reward (no reward are granted until the goal is reached). Thus, at next step, the agent will again try to go left (the q-table updating stage won't modify any values). With such a policy, the agent is unlikely to ever reach the goal. Using the `action_max_function` we implemented earlier add some randomness and increase the probability to reach the goal, but as we can see, it is far from being sufficient.\n",
    "\n",
    "The two other Q-learning algorithms also help avoid this problem, by allowing the agent taking random actions, and not always the same one \"going left\". This increases the probability to reach the goal. The SARSA algorithm also uses randomness to choose actions. The parameters, such as `gamma`, `epsilon` or `alpha` may have great influence on the results. Some parameters tuning may be useful in this case."
   ]
  },
  {
   "cell_type": "markdown",
   "metadata": {},
   "source": [
    "### 3.2. Hyperparameter tuning"
   ]
  },
  {
   "cell_type": "markdown",
   "metadata": {},
   "source": [
    "Considering that the results may be highly influenced by the parameters, let's try some tuning, for the $\\epsilon$-greedy decay Q-learning and SARSA algorithms."
   ]
  },
  {
   "cell_type": "code",
   "execution_count": 42,
   "metadata": {},
   "outputs": [
    {
     "name": "stdout",
     "output_type": "stream",
     "text": [
      "Loading Q-table saved weights...\n",
      "Error loading Q-table saved weights\n",
      "Initiating new Q-table...\n",
      "Starting Q-learning algorithm...\n"
     ]
    },
    {
     "name": "stderr",
     "output_type": "stream",
     "text": [
      "100%|██████████| 10000/10000 [00:15<00:00, 648.34it/s]\n"
     ]
    },
    {
     "name": "stdout",
     "output_type": "stream",
     "text": [
      "Finished Q-learning algorithm.\n",
      "Average reward is : 0.042\n"
     ]
    },
    {
     "name": "stderr",
     "output_type": "stream",
     "text": [
      "100%|██████████| 10000/10000 [00:03<00:00, 2742.52it/s]\n"
     ]
    },
    {
     "name": "stdout",
     "output_type": "stream",
     "text": [
      "Success rate is = 4.5600000000000005 %\n",
      "Average number of steps before end (success or fall) = 5.9176\n",
      "Loading Q-table saved weights...\n",
      "Error loading Q-table saved weights\n",
      "Initiating new Q-table...\n",
      "Starting Q-learning algorithm...\n"
     ]
    },
    {
     "name": "stderr",
     "output_type": "stream",
     "text": [
      "100%|██████████| 10000/10000 [00:27<00:00, 367.81it/s]\n"
     ]
    },
    {
     "name": "stdout",
     "output_type": "stream",
     "text": [
      "Finished Q-learning algorithm.\n",
      "Average reward is : 0.06930693069306931\n"
     ]
    },
    {
     "name": "stderr",
     "output_type": "stream",
     "text": [
      "100%|██████████| 10000/10000 [00:04<00:00, 2139.88it/s]\n"
     ]
    },
    {
     "name": "stdout",
     "output_type": "stream",
     "text": [
      "Success rate is = 5.9799999999999995 %\n",
      "Average number of steps before end (success or fall) = 9.508\n",
      "Loading Q-table saved weights...\n",
      "Error loading Q-table saved weights\n",
      "Initiating new Q-table...\n",
      "Starting Q-learning algorithm...\n"
     ]
    },
    {
     "name": "stderr",
     "output_type": "stream",
     "text": [
      "100%|██████████| 10000/10000 [00:16<00:00, 600.30it/s]\n"
     ]
    },
    {
     "name": "stdout",
     "output_type": "stream",
     "text": [
      "Finished Q-learning algorithm.\n",
      "Average reward is : 0.049\n"
     ]
    },
    {
     "name": "stderr",
     "output_type": "stream",
     "text": [
      "100%|██████████| 10000/10000 [00:07<00:00, 1324.21it/s]\n"
     ]
    },
    {
     "name": "stdout",
     "output_type": "stream",
     "text": [
      "Success rate is = 12.64 %\n",
      "Average number of steps before end (success or fall) = 15.5993\n",
      "Loading Q-table saved weights...\n",
      "Error loading Q-table saved weights\n",
      "Initiating new Q-table...\n",
      "Starting Q-learning algorithm...\n"
     ]
    },
    {
     "name": "stderr",
     "output_type": "stream",
     "text": [
      "100%|██████████| 10000/10000 [00:12<00:00, 779.07it/s]\n"
     ]
    },
    {
     "name": "stdout",
     "output_type": "stream",
     "text": [
      "Finished Q-learning algorithm.\n",
      "Average reward is : 0.0309\n"
     ]
    },
    {
     "name": "stderr",
     "output_type": "stream",
     "text": [
      "100%|██████████| 10000/10000 [00:07<00:00, 1390.52it/s]\n"
     ]
    },
    {
     "name": "stdout",
     "output_type": "stream",
     "text": [
      "Success rate is = 11.84 %\n",
      "Average number of steps before end (success or fall) = 14.6655\n",
      "Loading Q-table saved weights...\n",
      "Error loading Q-table saved weights\n",
      "Initiating new Q-table...\n",
      "Starting Q-learning algorithm...\n"
     ]
    },
    {
     "name": "stderr",
     "output_type": "stream",
     "text": [
      "100%|██████████| 10000/10000 [00:16<00:00, 606.24it/s]\n"
     ]
    },
    {
     "name": "stdout",
     "output_type": "stream",
     "text": [
      "Finished Q-learning algorithm.\n",
      "Average reward is : 0.0614\n"
     ]
    },
    {
     "name": "stderr",
     "output_type": "stream",
     "text": [
      "100%|██████████| 10000/10000 [00:04<00:00, 2340.00it/s]\n"
     ]
    },
    {
     "name": "stdout",
     "output_type": "stream",
     "text": [
      "Success rate is = 7.39 %\n",
      "Average number of steps before end (success or fall) = 8.0571\n",
      "Loading Q-table saved weights...\n",
      "Error loading Q-table saved weights\n",
      "Initiating new Q-table...\n",
      "Starting Q-learning algorithm...\n"
     ]
    },
    {
     "name": "stderr",
     "output_type": "stream",
     "text": [
      "100%|██████████| 10000/10000 [00:15<00:00, 638.21it/s]\n"
     ]
    },
    {
     "name": "stdout",
     "output_type": "stream",
     "text": [
      "Finished Q-learning algorithm.\n",
      "Average reward is : 0.029\n"
     ]
    },
    {
     "name": "stderr",
     "output_type": "stream",
     "text": [
      "100%|██████████| 10000/10000 [00:03<00:00, 2706.75it/s]\n"
     ]
    },
    {
     "name": "stdout",
     "output_type": "stream",
     "text": [
      "Success rate is = 3.05 %\n",
      "Average number of steps before end (success or fall) = 6.9396\n",
      "Loading Q-table saved weights...\n",
      "Error loading Q-table saved weights\n",
      "Initiating new Q-table...\n",
      "Starting Q-learning algorithm...\n"
     ]
    },
    {
     "name": "stderr",
     "output_type": "stream",
     "text": [
      "100%|██████████| 10000/10000 [00:25<00:00, 396.38it/s]\n"
     ]
    },
    {
     "name": "stdout",
     "output_type": "stream",
     "text": [
      "Finished Q-learning algorithm.\n",
      "Average reward is : 0.11122224444888978\n"
     ]
    },
    {
     "name": "stderr",
     "output_type": "stream",
     "text": [
      "100%|██████████| 10000/10000 [00:09<00:00, 1027.68it/s]\n"
     ]
    },
    {
     "name": "stdout",
     "output_type": "stream",
     "text": [
      "Success rate is = 27.21 %\n",
      "Average number of steps before end (success or fall) = 20.453\n",
      "Loading Q-table saved weights...\n",
      "Error loading Q-table saved weights\n",
      "Initiating new Q-table...\n",
      "Starting Q-learning algorithm...\n"
     ]
    },
    {
     "name": "stderr",
     "output_type": "stream",
     "text": [
      "100%|██████████| 10000/10000 [00:15<00:00, 658.43it/s]\n"
     ]
    },
    {
     "name": "stdout",
     "output_type": "stream",
     "text": [
      "Finished Q-learning algorithm.\n",
      "Average reward is : 0.0412\n"
     ]
    },
    {
     "name": "stderr",
     "output_type": "stream",
     "text": [
      "100%|██████████| 10000/10000 [00:18<00:00, 537.88it/s]\n"
     ]
    },
    {
     "name": "stdout",
     "output_type": "stream",
     "text": [
      "Success rate is = 61.47 %\n",
      "Average number of steps before end (success or fall) = 39.0144\n",
      "Loading Q-table saved weights...\n",
      "Error loading Q-table saved weights\n",
      "Initiating new Q-table...\n",
      "Starting Q-learning algorithm...\n"
     ]
    },
    {
     "name": "stderr",
     "output_type": "stream",
     "text": [
      "100%|██████████| 10000/10000 [00:11<00:00, 906.09it/s]\n"
     ]
    },
    {
     "name": "stdout",
     "output_type": "stream",
     "text": [
      "Finished Q-learning algorithm.\n",
      "Average reward is : 0.0398\n"
     ]
    },
    {
     "name": "stderr",
     "output_type": "stream",
     "text": [
      "100%|██████████| 10000/10000 [00:02<00:00, 3618.68it/s]\n"
     ]
    },
    {
     "name": "stdout",
     "output_type": "stream",
     "text": [
      "Success rate is = 4.68 %\n",
      "Average number of steps before end (success or fall) = 5.2768\n",
      "Loading Q-table saved weights...\n",
      "Error loading Q-table saved weights\n",
      "Initiating new Q-table...\n",
      "Starting Q-learning algorithm...\n"
     ]
    },
    {
     "name": "stderr",
     "output_type": "stream",
     "text": [
      "100%|██████████| 10000/10000 [00:14<00:00, 702.00it/s]\n"
     ]
    },
    {
     "name": "stdout",
     "output_type": "stream",
     "text": [
      "Finished Q-learning algorithm.\n",
      "Average reward is : 0.0254\n"
     ]
    },
    {
     "name": "stderr",
     "output_type": "stream",
     "text": [
      "100%|██████████| 10000/10000 [00:03<00:00, 2687.22it/s]\n"
     ]
    },
    {
     "name": "stdout",
     "output_type": "stream",
     "text": [
      "Success rate is = 2.67 %\n",
      "Average number of steps before end (success or fall) = 7.3304\n",
      "Loading Q-table saved weights...\n",
      "Error loading Q-table saved weights\n",
      "Initiating new Q-table...\n",
      "Starting Q-learning algorithm...\n"
     ]
    },
    {
     "name": "stderr",
     "output_type": "stream",
     "text": [
      "100%|██████████| 10000/10000 [00:12<00:00, 802.12it/s]\n"
     ]
    },
    {
     "name": "stdout",
     "output_type": "stream",
     "text": [
      "Finished Q-learning algorithm.\n",
      "Average reward is : 0.0357\n"
     ]
    },
    {
     "name": "stderr",
     "output_type": "stream",
     "text": [
      "100%|██████████| 10000/10000 [00:06<00:00, 1549.75it/s]\n"
     ]
    },
    {
     "name": "stdout",
     "output_type": "stream",
     "text": [
      "Success rate is = 9.43 %\n",
      "Average number of steps before end (success or fall) = 12.5471\n",
      "Loading Q-table saved weights...\n",
      "Error loading Q-table saved weights\n",
      "Initiating new Q-table...\n",
      "Starting Q-learning algorithm...\n"
     ]
    },
    {
     "name": "stderr",
     "output_type": "stream",
     "text": [
      "100%|██████████| 10000/10000 [00:15<00:00, 641.57it/s]\n"
     ]
    },
    {
     "name": "stdout",
     "output_type": "stream",
     "text": [
      "Finished Q-learning algorithm.\n",
      "Average reward is : 0.0447\n"
     ]
    },
    {
     "name": "stderr",
     "output_type": "stream",
     "text": [
      "100%|██████████| 10000/10000 [00:13<00:00, 758.11it/s]\n"
     ]
    },
    {
     "name": "stdout",
     "output_type": "stream",
     "text": [
      "Success rate is = 34.06 %\n",
      "Average number of steps before end (success or fall) = 28.0587\n",
      "Loading Q-table saved weights...\n",
      "Error loading Q-table saved weights\n",
      "Initiating new Q-table...\n",
      "Starting Q-learning algorithm...\n"
     ]
    },
    {
     "name": "stderr",
     "output_type": "stream",
     "text": [
      "100%|██████████| 10000/10000 [00:25<00:00, 395.14it/s]\n"
     ]
    },
    {
     "name": "stdout",
     "output_type": "stream",
     "text": [
      "Finished Q-learning algorithm.\n",
      "Average reward is : 0.1164\n"
     ]
    },
    {
     "name": "stderr",
     "output_type": "stream",
     "text": [
      "100%|██████████| 10000/10000 [00:06<00:00, 1437.46it/s]\n"
     ]
    },
    {
     "name": "stdout",
     "output_type": "stream",
     "text": [
      "Success rate is = 13.65 %\n",
      "Average number of steps before end (success or fall) = 13.4917\n",
      "Loading Q-table saved weights...\n",
      "Error loading Q-table saved weights\n",
      "Initiating new Q-table...\n",
      "Starting Q-learning algorithm...\n"
     ]
    },
    {
     "name": "stderr",
     "output_type": "stream",
     "text": [
      "100%|██████████| 10000/10000 [00:13<00:00, 725.59it/s]\n"
     ]
    },
    {
     "name": "stdout",
     "output_type": "stream",
     "text": [
      "Finished Q-learning algorithm.\n",
      "Average reward is : 0.0521\n"
     ]
    },
    {
     "name": "stderr",
     "output_type": "stream",
     "text": [
      "100%|██████████| 10000/10000 [00:03<00:00, 2724.30it/s]\n"
     ]
    },
    {
     "name": "stdout",
     "output_type": "stream",
     "text": [
      "Success rate is = 6.03 %\n",
      "Average number of steps before end (success or fall) = 7.3348\n",
      "Loading Q-table saved weights...\n",
      "Error loading Q-table saved weights\n",
      "Initiating new Q-table...\n",
      "Starting Q-learning algorithm...\n"
     ]
    },
    {
     "name": "stderr",
     "output_type": "stream",
     "text": [
      "100%|██████████| 10000/10000 [00:20<00:00, 494.74it/s]\n"
     ]
    },
    {
     "name": "stdout",
     "output_type": "stream",
     "text": [
      "Finished Q-learning algorithm.\n",
      "Average reward is : 0.082\n"
     ]
    },
    {
     "name": "stderr",
     "output_type": "stream",
     "text": [
      "100%|██████████| 10000/10000 [00:08<00:00, 1169.32it/s]\n"
     ]
    },
    {
     "name": "stdout",
     "output_type": "stream",
     "text": [
      "Success rate is = 18.42 %\n",
      "Average number of steps before end (success or fall) = 18.152\n",
      "Loading Q-table saved weights...\n",
      "Error loading Q-table saved weights\n",
      "Initiating new Q-table...\n",
      "Starting Q-learning algorithm...\n"
     ]
    },
    {
     "name": "stderr",
     "output_type": "stream",
     "text": [
      "100%|██████████| 10000/10000 [00:17<00:00, 565.51it/s]\n"
     ]
    },
    {
     "name": "stdout",
     "output_type": "stream",
     "text": [
      "Finished Q-learning algorithm.\n",
      "Average reward is : 0.0353\n"
     ]
    },
    {
     "name": "stderr",
     "output_type": "stream",
     "text": [
      "100%|██████████| 10000/10000 [00:17<00:00, 581.67it/s]\n"
     ]
    },
    {
     "name": "stdout",
     "output_type": "stream",
     "text": [
      "Success rate is = 39.0 %\n",
      "Average number of steps before end (success or fall) = 33.6676\n",
      "Loading Q-table saved weights...\n",
      "Error loading Q-table saved weights\n",
      "Initiating new Q-table...\n",
      "Starting Q-learning algorithm...\n"
     ]
    },
    {
     "name": "stderr",
     "output_type": "stream",
     "text": [
      "100%|██████████| 10000/10000 [00:23<00:00, 433.43it/s]\n"
     ]
    },
    {
     "name": "stdout",
     "output_type": "stream",
     "text": [
      "Finished Q-learning algorithm.\n",
      "Average reward is : 0.0805\n"
     ]
    },
    {
     "name": "stderr",
     "output_type": "stream",
     "text": [
      "100%|██████████| 10000/10000 [00:06<00:00, 1625.92it/s]\n"
     ]
    },
    {
     "name": "stdout",
     "output_type": "stream",
     "text": [
      "Success rate is = 10.13 %\n",
      "Average number of steps before end (success or fall) = 12.3642\n",
      "Loading Q-table saved weights...\n",
      "Error loading Q-table saved weights\n",
      "Initiating new Q-table...\n",
      "Starting Q-learning algorithm...\n"
     ]
    },
    {
     "name": "stderr",
     "output_type": "stream",
     "text": [
      "100%|██████████| 10000/10000 [00:15<00:00, 644.40it/s]\n"
     ]
    },
    {
     "name": "stdout",
     "output_type": "stream",
     "text": [
      "Finished Q-learning algorithm.\n",
      "Average reward is : 0.0626\n"
     ]
    },
    {
     "name": "stderr",
     "output_type": "stream",
     "text": [
      "100%|██████████| 10000/10000 [00:04<00:00, 2407.14it/s]\n"
     ]
    },
    {
     "name": "stdout",
     "output_type": "stream",
     "text": [
      "Success rate is = 8.200000000000001 %\n",
      "Average number of steps before end (success or fall) = 8.1339\n",
      "Loading Q-table saved weights...\n",
      "Error loading Q-table saved weights\n",
      "Initiating new Q-table...\n",
      "Starting Q-learning algorithm...\n"
     ]
    },
    {
     "name": "stderr",
     "output_type": "stream",
     "text": [
      "100%|██████████| 10000/10000 [00:10<00:00, 979.89it/s]\n"
     ]
    },
    {
     "name": "stdout",
     "output_type": "stream",
     "text": [
      "Finished Q-learning algorithm.\n",
      "Average reward is : 0.0244\n"
     ]
    },
    {
     "name": "stderr",
     "output_type": "stream",
     "text": [
      "100%|██████████| 10000/10000 [00:02<00:00, 3973.74it/s]\n"
     ]
    },
    {
     "name": "stdout",
     "output_type": "stream",
     "text": [
      "Success rate is = 2.59 %\n",
      "Average number of steps before end (success or fall) = 4.7197\n",
      "Loading Q-table saved weights...\n",
      "Error loading Q-table saved weights\n",
      "Initiating new Q-table...\n",
      "Starting Q-learning algorithm...\n"
     ]
    },
    {
     "name": "stderr",
     "output_type": "stream",
     "text": [
      "100%|██████████| 10000/10000 [00:16<00:00, 614.23it/s]\n"
     ]
    },
    {
     "name": "stdout",
     "output_type": "stream",
     "text": [
      "Finished Q-learning algorithm.\n",
      "Average reward is : 0.0425\n"
     ]
    },
    {
     "name": "stderr",
     "output_type": "stream",
     "text": [
      "100%|██████████| 10000/10000 [00:16<00:00, 611.33it/s]\n"
     ]
    },
    {
     "name": "stdout",
     "output_type": "stream",
     "text": [
      "Success rate is = 41.370000000000005 %\n",
      "Average number of steps before end (success or fall) = 32.8726\n",
      "Loading Q-table saved weights...\n",
      "Error loading Q-table saved weights\n",
      "Initiating new Q-table...\n",
      "Starting Q-learning algorithm...\n"
     ]
    },
    {
     "name": "stderr",
     "output_type": "stream",
     "text": [
      "100%|██████████| 10000/10000 [00:17<00:00, 560.71it/s]\n"
     ]
    },
    {
     "name": "stdout",
     "output_type": "stream",
     "text": [
      "Finished Q-learning algorithm.\n",
      "Average reward is : 0.0765\n"
     ]
    },
    {
     "name": "stderr",
     "output_type": "stream",
     "text": [
      "100%|██████████| 10000/10000 [00:05<00:00, 1982.43it/s]\n"
     ]
    },
    {
     "name": "stdout",
     "output_type": "stream",
     "text": [
      "Success rate is = 8.85 %\n",
      "Average number of steps before end (success or fall) = 8.2032\n",
      "Loading Q-table saved weights...\n",
      "Error loading Q-table saved weights\n",
      "Initiating new Q-table...\n",
      "Starting Q-learning algorithm...\n"
     ]
    },
    {
     "name": "stderr",
     "output_type": "stream",
     "text": [
      "100%|██████████| 10000/10000 [00:13<00:00, 742.95it/s]\n"
     ]
    },
    {
     "name": "stdout",
     "output_type": "stream",
     "text": [
      "Finished Q-learning algorithm.\n",
      "Average reward is : 0.0447\n"
     ]
    },
    {
     "name": "stderr",
     "output_type": "stream",
     "text": [
      "100%|██████████| 10000/10000 [00:03<00:00, 3139.41it/s]\n"
     ]
    },
    {
     "name": "stdout",
     "output_type": "stream",
     "text": [
      "Success rate is = 5.319999999999999 %\n",
      "Average number of steps before end (success or fall) = 6.2037\n",
      "Loading Q-table saved weights...\n",
      "Error loading Q-table saved weights\n",
      "Initiating new Q-table...\n",
      "Starting Q-learning algorithm...\n"
     ]
    },
    {
     "name": "stderr",
     "output_type": "stream",
     "text": [
      "100%|██████████| 10000/10000 [00:16<00:00, 618.77it/s]\n"
     ]
    },
    {
     "name": "stdout",
     "output_type": "stream",
     "text": [
      "Finished Q-learning algorithm.\n",
      "Average reward is : 0.0599\n"
     ]
    },
    {
     "name": "stderr",
     "output_type": "stream",
     "text": [
      "100%|██████████| 10000/10000 [00:05<00:00, 1685.75it/s]\n"
     ]
    },
    {
     "name": "stdout",
     "output_type": "stream",
     "text": [
      "Success rate is = 11.14 %\n",
      "Average number of steps before end (success or fall) = 11.7151\n",
      "Loading Q-table saved weights...\n",
      "Error loading Q-table saved weights\n",
      "Initiating new Q-table...\n",
      "Starting Q-learning algorithm...\n"
     ]
    },
    {
     "name": "stderr",
     "output_type": "stream",
     "text": [
      "100%|██████████| 10000/10000 [00:17<00:00, 571.69it/s]\n"
     ]
    },
    {
     "name": "stdout",
     "output_type": "stream",
     "text": [
      "Finished Q-learning algorithm.\n",
      "Average reward is : 0.039\n"
     ]
    },
    {
     "name": "stderr",
     "output_type": "stream",
     "text": [
      "100%|██████████| 10000/10000 [00:17<00:00, 576.93it/s]\n"
     ]
    },
    {
     "name": "stdout",
     "output_type": "stream",
     "text": [
      "Success rate is = 31.230000000000004 %\n",
      "Average number of steps before end (success or fall) = 36.0228\n",
      "Loading Q-table saved weights...\n",
      "Error loading Q-table saved weights\n",
      "Initiating new Q-table...\n",
      "Starting Q-learning algorithm...\n"
     ]
    },
    {
     "name": "stderr",
     "output_type": "stream",
     "text": [
      "100%|██████████| 10000/10000 [00:22<00:00, 443.12it/s]\n"
     ]
    },
    {
     "name": "stdout",
     "output_type": "stream",
     "text": [
      "Finished Q-learning algorithm.\n",
      "Average reward is : 0.09340934093409341\n"
     ]
    },
    {
     "name": "stderr",
     "output_type": "stream",
     "text": [
      "100%|██████████| 10000/10000 [00:04<00:00, 2179.34it/s]\n"
     ]
    },
    {
     "name": "stdout",
     "output_type": "stream",
     "text": [
      "Success rate is = 6.4399999999999995 %\n",
      "Average number of steps before end (success or fall) = 8.923\n",
      "Loading Q-table saved weights...\n",
      "Error loading Q-table saved weights\n",
      "Initiating new Q-table...\n",
      "Starting Q-learning algorithm...\n"
     ]
    },
    {
     "name": "stderr",
     "output_type": "stream",
     "text": [
      "100%|██████████| 10000/10000 [00:22<00:00, 435.05it/s]\n"
     ]
    },
    {
     "name": "stdout",
     "output_type": "stream",
     "text": [
      "Finished Q-learning algorithm.\n",
      "Average reward is : 0.09810981098109811\n"
     ]
    },
    {
     "name": "stderr",
     "output_type": "stream",
     "text": [
      "100%|██████████| 10000/10000 [00:03<00:00, 2623.60it/s]\n"
     ]
    },
    {
     "name": "stdout",
     "output_type": "stream",
     "text": [
      "Success rate is = 6.419999999999999 %\n",
      "Average number of steps before end (success or fall) = 7.2054\n",
      "Loading Q-table saved weights...\n",
      "Error loading Q-table saved weights\n",
      "Initiating new Q-table...\n",
      "Starting Q-learning algorithm...\n"
     ]
    },
    {
     "name": "stderr",
     "output_type": "stream",
     "text": [
      "100%|██████████| 10000/10000 [00:17<00:00, 573.15it/s]\n"
     ]
    },
    {
     "name": "stdout",
     "output_type": "stream",
     "text": [
      "Finished Q-learning algorithm.\n",
      "Average reward is : 0.0735073507350735\n"
     ]
    },
    {
     "name": "stderr",
     "output_type": "stream",
     "text": [
      "100%|██████████| 10000/10000 [00:03<00:00, 3293.03it/s]\n"
     ]
    },
    {
     "name": "stdout",
     "output_type": "stream",
     "text": [
      "Success rate is = 6.08 %\n",
      "Average number of steps before end (success or fall) = 5.58\n",
      "Loading Q-table saved weights...\n",
      "Error loading Q-table saved weights\n",
      "Initiating new Q-table...\n",
      "Starting Q-learning algorithm...\n"
     ]
    },
    {
     "name": "stderr",
     "output_type": "stream",
     "text": [
      "100%|██████████| 10000/10000 [00:12<00:00, 781.92it/s]\n"
     ]
    },
    {
     "name": "stdout",
     "output_type": "stream",
     "text": [
      "Finished Q-learning algorithm.\n",
      "Average reward is : 0.0319\n"
     ]
    },
    {
     "name": "stderr",
     "output_type": "stream",
     "text": [
      "100%|██████████| 10000/10000 [00:12<00:00, 799.68it/s]\n"
     ]
    },
    {
     "name": "stdout",
     "output_type": "stream",
     "text": [
      "Success rate is = 40.1 %\n",
      "Average number of steps before end (success or fall) = 26.6069\n",
      "Loading Q-table saved weights...\n",
      "Error loading Q-table saved weights\n",
      "Initiating new Q-table...\n",
      "Starting Q-learning algorithm...\n"
     ]
    },
    {
     "name": "stderr",
     "output_type": "stream",
     "text": [
      "100%|██████████| 10000/10000 [00:44<00:00, 226.30it/s]\n"
     ]
    },
    {
     "name": "stdout",
     "output_type": "stream",
     "text": [
      "Finished Q-learning algorithm.\n",
      "Average reward is : 0.28522440746343924\n"
     ]
    },
    {
     "name": "stderr",
     "output_type": "stream",
     "text": [
      "100%|██████████| 10000/10000 [00:14<00:00, 704.18it/s]\n"
     ]
    },
    {
     "name": "stdout",
     "output_type": "stream",
     "text": [
      "Success rate is = 43.81 %\n",
      "Average number of steps before end (success or fall) = 30.0201\n",
      "Loading Q-table saved weights...\n",
      "Error loading Q-table saved weights\n",
      "Initiating new Q-table...\n",
      "Starting Q-learning algorithm...\n"
     ]
    },
    {
     "name": "stderr",
     "output_type": "stream",
     "text": [
      "100%|██████████| 10000/10000 [00:38<00:00, 260.68it/s]\n"
     ]
    },
    {
     "name": "stdout",
     "output_type": "stream",
     "text": [
      "Finished Q-learning algorithm.\n",
      "Average reward is : 0.21768775694374812\n"
     ]
    },
    {
     "name": "stderr",
     "output_type": "stream",
     "text": [
      "100%|██████████| 10000/10000 [00:08<00:00, 1157.33it/s]\n"
     ]
    },
    {
     "name": "stdout",
     "output_type": "stream",
     "text": [
      "Success rate is = 17.119999999999997 %\n",
      "Average number of steps before end (success or fall) = 16.7545\n",
      "Loading Q-table saved weights...\n",
      "Error loading Q-table saved weights\n",
      "Initiating new Q-table...\n",
      "Starting Q-learning algorithm...\n"
     ]
    },
    {
     "name": "stderr",
     "output_type": "stream",
     "text": [
      "100%|██████████| 10000/10000 [00:34<00:00, 286.11it/s]\n"
     ]
    },
    {
     "name": "stdout",
     "output_type": "stream",
     "text": [
      "Finished Q-learning algorithm.\n",
      "Average reward is : 0.16753402722177743\n"
     ]
    },
    {
     "name": "stderr",
     "output_type": "stream",
     "text": [
      "100%|██████████| 10000/10000 [00:12<00:00, 823.49it/s]\n"
     ]
    },
    {
     "name": "stdout",
     "output_type": "stream",
     "text": [
      "Success rate is = 35.67 %\n",
      "Average number of steps before end (success or fall) = 24.1611\n",
      "Loading Q-table saved weights...\n",
      "Error loading Q-table saved weights\n",
      "Initiating new Q-table...\n",
      "Starting Q-learning algorithm...\n"
     ]
    },
    {
     "name": "stderr",
     "output_type": "stream",
     "text": [
      "100%|██████████| 10000/10000 [00:20<00:00, 495.69it/s]\n"
     ]
    },
    {
     "name": "stdout",
     "output_type": "stream",
     "text": [
      "Finished Q-learning algorithm.\n",
      "Average reward is : 0.0493\n"
     ]
    },
    {
     "name": "stderr",
     "output_type": "stream",
     "text": [
      "100%|██████████| 10000/10000 [00:14<00:00, 693.60it/s]\n"
     ]
    },
    {
     "name": "stdout",
     "output_type": "stream",
     "text": [
      "Success rate is = 41.07 %\n",
      "Average number of steps before end (success or fall) = 26.6265\n",
      "Loading Q-table saved weights...\n",
      "Error loading Q-table saved weights\n",
      "Initiating new Q-table...\n",
      "Starting Q-learning algorithm...\n"
     ]
    },
    {
     "name": "stderr",
     "output_type": "stream",
     "text": [
      "100%|██████████| 10000/10000 [00:55<00:00, 180.82it/s]\n"
     ]
    },
    {
     "name": "stdout",
     "output_type": "stream",
     "text": [
      "Finished Q-learning algorithm.\n",
      "Average reward is : 0.4283379303299622\n"
     ]
    },
    {
     "name": "stderr",
     "output_type": "stream",
     "text": [
      "100%|██████████| 10000/10000 [00:14<00:00, 690.90it/s]\n"
     ]
    },
    {
     "name": "stdout",
     "output_type": "stream",
     "text": [
      "Success rate is = 51.519999999999996 %\n",
      "Average number of steps before end (success or fall) = 30.5142\n",
      "Loading Q-table saved weights...\n",
      "Error loading Q-table saved weights\n",
      "Initiating new Q-table...\n",
      "Starting Q-learning algorithm...\n"
     ]
    },
    {
     "name": "stderr",
     "output_type": "stream",
     "text": [
      "100%|██████████| 10000/10000 [00:49<00:00, 202.80it/s]\n"
     ]
    },
    {
     "name": "stdout",
     "output_type": "stream",
     "text": [
      "Finished Q-learning algorithm.\n",
      "Average reward is : 0.332020202020202\n"
     ]
    },
    {
     "name": "stderr",
     "output_type": "stream",
     "text": [
      "100%|██████████| 10000/10000 [00:08<00:00, 1203.95it/s]\n"
     ]
    },
    {
     "name": "stdout",
     "output_type": "stream",
     "text": [
      "Success rate is = 21.21 %\n",
      "Average number of steps before end (success or fall) = 15.8951\n",
      "Loading Q-table saved weights...\n",
      "Error loading Q-table saved weights\n",
      "Initiating new Q-table...\n",
      "Starting Q-learning algorithm...\n"
     ]
    },
    {
     "name": "stderr",
     "output_type": "stream",
     "text": [
      "100%|██████████| 10000/10000 [00:40<00:00, 247.10it/s]\n"
     ]
    },
    {
     "name": "stdout",
     "output_type": "stream",
     "text": [
      "Finished Q-learning algorithm.\n",
      "Average reward is : 0.25858606145812413\n"
     ]
    },
    {
     "name": "stderr",
     "output_type": "stream",
     "text": [
      "100%|██████████| 10000/10000 [00:18<00:00, 526.98it/s]\n"
     ]
    },
    {
     "name": "stdout",
     "output_type": "stream",
     "text": [
      "Success rate is = 64.22 %\n",
      "Average number of steps before end (success or fall) = 40.4973\n",
      "Loading Q-table saved weights...\n",
      "Error loading Q-table saved weights\n",
      "Initiating new Q-table...\n",
      "Starting Q-learning algorithm...\n"
     ]
    },
    {
     "name": "stderr",
     "output_type": "stream",
     "text": [
      "100%|██████████| 10000/10000 [00:18<00:00, 551.88it/s]\n"
     ]
    },
    {
     "name": "stdout",
     "output_type": "stream",
     "text": [
      "Finished Q-learning algorithm.\n",
      "Average reward is : 0.0603\n"
     ]
    },
    {
     "name": "stderr",
     "output_type": "stream",
     "text": [
      "100%|██████████| 10000/10000 [00:21<00:00, 472.13it/s]\n"
     ]
    },
    {
     "name": "stdout",
     "output_type": "stream",
     "text": [
      "Success rate is = 63.83 %\n",
      "Average number of steps before end (success or fall) = 41.3405\n",
      "Loading Q-table saved weights...\n",
      "Error loading Q-table saved weights\n",
      "Initiating new Q-table...\n",
      "Starting Q-learning algorithm...\n"
     ]
    },
    {
     "name": "stderr",
     "output_type": "stream",
     "text": [
      "100%|██████████| 10000/10000 [01:07<00:00, 148.23it/s]\n"
     ]
    },
    {
     "name": "stdout",
     "output_type": "stream",
     "text": [
      "Finished Q-learning algorithm.\n",
      "Average reward is : 0.5226755021743632\n"
     ]
    },
    {
     "name": "stderr",
     "output_type": "stream",
     "text": [
      "100%|██████████| 10000/10000 [00:19<00:00, 522.41it/s]\n"
     ]
    },
    {
     "name": "stdout",
     "output_type": "stream",
     "text": [
      "Success rate is = 73.07000000000001 %\n",
      "Average number of steps before end (success or fall) = 41.2805\n",
      "Loading Q-table saved weights...\n",
      "Error loading Q-table saved weights\n",
      "Initiating new Q-table...\n",
      "Starting Q-learning algorithm...\n"
     ]
    },
    {
     "name": "stderr",
     "output_type": "stream",
     "text": [
      "100%|██████████| 10000/10000 [00:56<00:00, 178.06it/s]\n"
     ]
    },
    {
     "name": "stdout",
     "output_type": "stream",
     "text": [
      "Finished Q-learning algorithm.\n",
      "Average reward is : 0.4006109979633401\n"
     ]
    },
    {
     "name": "stderr",
     "output_type": "stream",
     "text": [
      "100%|██████████| 10000/10000 [00:15<00:00, 661.35it/s]\n"
     ]
    },
    {
     "name": "stdout",
     "output_type": "stream",
     "text": [
      "Success rate is = 44.6 %\n",
      "Average number of steps before end (success or fall) = 30.0613\n",
      "Loading Q-table saved weights...\n",
      "Error loading Q-table saved weights\n",
      "Initiating new Q-table...\n",
      "Starting Q-learning algorithm...\n"
     ]
    },
    {
     "name": "stderr",
     "output_type": "stream",
     "text": [
      "100%|██████████| 10000/10000 [00:45<00:00, 219.40it/s]\n"
     ]
    },
    {
     "name": "stdout",
     "output_type": "stream",
     "text": [
      "Finished Q-learning algorithm.\n",
      "Average reward is : 0.2976058187695727\n"
     ]
    },
    {
     "name": "stderr",
     "output_type": "stream",
     "text": [
      "100%|██████████| 10000/10000 [00:19<00:00, 508.25it/s]\n"
     ]
    },
    {
     "name": "stdout",
     "output_type": "stream",
     "text": [
      "Success rate is = 73.88 %\n",
      "Average number of steps before end (success or fall) = 40.8473\n",
      "Loading Q-table saved weights...\n",
      "Error loading Q-table saved weights\n",
      "Initiating new Q-table...\n",
      "Starting Q-learning algorithm...\n"
     ]
    },
    {
     "name": "stderr",
     "output_type": "stream",
     "text": [
      "100%|██████████| 10000/10000 [00:20<00:00, 495.72it/s]\n"
     ]
    },
    {
     "name": "stdout",
     "output_type": "stream",
     "text": [
      "Finished Q-learning algorithm.\n",
      "Average reward is : 0.0597\n"
     ]
    },
    {
     "name": "stderr",
     "output_type": "stream",
     "text": [
      "100%|██████████| 10000/10000 [00:19<00:00, 522.16it/s]\n"
     ]
    },
    {
     "name": "stdout",
     "output_type": "stream",
     "text": [
      "Success rate is = 67.08 %\n",
      "Average number of steps before end (success or fall) = 37.775\n",
      "Loading Q-table saved weights...\n",
      "Error loading Q-table saved weights\n",
      "Initiating new Q-table...\n",
      "Starting Q-learning algorithm...\n"
     ]
    },
    {
     "name": "stderr",
     "output_type": "stream",
     "text": [
      "100%|██████████| 10000/10000 [01:03<00:00, 158.71it/s]\n"
     ]
    },
    {
     "name": "stdout",
     "output_type": "stream",
     "text": [
      "Finished Q-learning algorithm.\n",
      "Average reward is : 0.5340037321169396\n"
     ]
    },
    {
     "name": "stderr",
     "output_type": "stream",
     "text": [
      "100%|██████████| 10000/10000 [00:20<00:00, 499.60it/s]\n"
     ]
    },
    {
     "name": "stdout",
     "output_type": "stream",
     "text": [
      "Success rate is = 72.88 %\n",
      "Average number of steps before end (success or fall) = 41.59\n",
      "Loading Q-table saved weights...\n",
      "Error loading Q-table saved weights\n",
      "Initiating new Q-table...\n",
      "Starting Q-learning algorithm...\n"
     ]
    },
    {
     "name": "stderr",
     "output_type": "stream",
     "text": [
      "100%|██████████| 10000/10000 [01:01<00:00, 161.31it/s]\n"
     ]
    },
    {
     "name": "stdout",
     "output_type": "stream",
     "text": [
      "Finished Q-learning algorithm.\n",
      "Average reward is : 0.4287186887949696\n"
     ]
    },
    {
     "name": "stderr",
     "output_type": "stream",
     "text": [
      "100%|██████████| 10000/10000 [00:20<00:00, 484.74it/s]\n"
     ]
    },
    {
     "name": "stdout",
     "output_type": "stream",
     "text": [
      "Success rate is = 73.44000000000001 %\n",
      "Average number of steps before end (success or fall) = 44.7621\n",
      "Loading Q-table saved weights...\n",
      "Error loading Q-table saved weights\n",
      "Initiating new Q-table...\n",
      "Starting Q-learning algorithm...\n"
     ]
    },
    {
     "name": "stderr",
     "output_type": "stream",
     "text": [
      "100%|██████████| 10000/10000 [00:52<00:00, 190.75it/s]\n"
     ]
    },
    {
     "name": "stdout",
     "output_type": "stream",
     "text": [
      "Finished Q-learning algorithm.\n",
      "Average reward is : 0.3225511138236192\n"
     ]
    },
    {
     "name": "stderr",
     "output_type": "stream",
     "text": [
      "100%|██████████| 10000/10000 [00:23<00:00, 425.29it/s]\n"
     ]
    },
    {
     "name": "stdout",
     "output_type": "stream",
     "text": [
      "Success rate is = 74.88 %\n",
      "Average number of steps before end (success or fall) = 44.8105\n",
      "Loading Q-table saved weights...\n",
      "Error loading Q-table saved weights\n",
      "Initiating new Q-table...\n",
      "Starting Q-learning algorithm...\n"
     ]
    },
    {
     "name": "stderr",
     "output_type": "stream",
     "text": [
      "100%|██████████| 10000/10000 [00:25<00:00, 391.87it/s]\n"
     ]
    },
    {
     "name": "stdout",
     "output_type": "stream",
     "text": [
      "Finished Q-learning algorithm.\n",
      "Average reward is : 0.058005800580058005\n"
     ]
    },
    {
     "name": "stderr",
     "output_type": "stream",
     "text": [
      "100%|██████████| 10000/10000 [00:25<00:00, 395.92it/s]\n"
     ]
    },
    {
     "name": "stdout",
     "output_type": "stream",
     "text": [
      "Success rate is = 73.87 %\n",
      "Average number of steps before end (success or fall) = 44.563\n",
      "Loading Q-table saved weights...\n",
      "Error loading Q-table saved weights\n",
      "Initiating new Q-table...\n",
      "Starting Q-learning algorithm...\n"
     ]
    },
    {
     "name": "stderr",
     "output_type": "stream",
     "text": [
      "100%|██████████| 10000/10000 [01:06<00:00, 149.72it/s]\n"
     ]
    },
    {
     "name": "stdout",
     "output_type": "stream",
     "text": [
      "Finished Q-learning algorithm.\n",
      "Average reward is : 0.5474929928371224\n"
     ]
    },
    {
     "name": "stderr",
     "output_type": "stream",
     "text": [
      "100%|██████████| 10000/10000 [00:21<00:00, 462.67it/s]\n"
     ]
    },
    {
     "name": "stdout",
     "output_type": "stream",
     "text": [
      "Success rate is = 72.5 %\n",
      "Average number of steps before end (success or fall) = 41.5071\n",
      "Loading Q-table saved weights...\n",
      "Error loading Q-table saved weights\n",
      "Initiating new Q-table...\n",
      "Starting Q-learning algorithm...\n"
     ]
    },
    {
     "name": "stderr",
     "output_type": "stream",
     "text": [
      "100%|██████████| 10000/10000 [01:21<00:00, 123.24it/s]\n"
     ]
    },
    {
     "name": "stdout",
     "output_type": "stream",
     "text": [
      "Finished Q-learning algorithm.\n",
      "Average reward is : 0.3165400350672122\n"
     ]
    },
    {
     "name": "stderr",
     "output_type": "stream",
     "text": [
      "100%|██████████| 10000/10000 [00:47<00:00, 211.09it/s]\n"
     ]
    },
    {
     "name": "stdout",
     "output_type": "stream",
     "text": [
      "Success rate is = 0.0 %\n",
      "Average number of steps before end (success or fall) = 100.0\n",
      "Loading Q-table saved weights...\n",
      "Error loading Q-table saved weights\n",
      "Initiating new Q-table...\n",
      "Starting Q-learning algorithm...\n"
     ]
    },
    {
     "name": "stderr",
     "output_type": "stream",
     "text": [
      "100%|██████████| 10000/10000 [00:55<00:00, 181.23it/s]\n"
     ]
    },
    {
     "name": "stdout",
     "output_type": "stream",
     "text": [
      "Finished Q-learning algorithm.\n",
      "Average reward is : 0.2576533277609445\n"
     ]
    },
    {
     "name": "stderr",
     "output_type": "stream",
     "text": [
      "100%|██████████| 10000/10000 [00:48<00:00, 207.78it/s]\n"
     ]
    },
    {
     "name": "stdout",
     "output_type": "stream",
     "text": [
      "Success rate is = 0.0 %\n",
      "Average number of steps before end (success or fall) = 100.0\n",
      "Loading Q-table saved weights...\n",
      "Error loading Q-table saved weights\n",
      "Initiating new Q-table...\n",
      "Starting Q-learning algorithm...\n"
     ]
    },
    {
     "name": "stderr",
     "output_type": "stream",
     "text": [
      "100%|██████████| 10000/10000 [00:20<00:00, 480.59it/s]\n"
     ]
    },
    {
     "name": "stdout",
     "output_type": "stream",
     "text": [
      "Finished Q-learning algorithm.\n",
      "Average reward is : 0.0554\n"
     ]
    },
    {
     "name": "stderr",
     "output_type": "stream",
     "text": [
      "100%|██████████| 10000/10000 [00:47<00:00, 209.12it/s]\n"
     ]
    },
    {
     "name": "stdout",
     "output_type": "stream",
     "text": [
      "Success rate is = 0.0 %\n",
      "Average number of steps before end (success or fall) = 100.0\n",
      "Loading Q-table saved weights...\n",
      "Error loading Q-table saved weights\n",
      "Initiating new Q-table...\n",
      "Starting Q-learning algorithm...\n"
     ]
    },
    {
     "name": "stderr",
     "output_type": "stream",
     "text": [
      "100%|██████████| 10000/10000 [00:20<00:00, 489.61it/s]\n"
     ]
    },
    {
     "name": "stdout",
     "output_type": "stream",
     "text": [
      "Finished Q-learning algorithm.\n",
      "Average reward is : 0.09641928385677136\n"
     ]
    },
    {
     "name": "stderr",
     "output_type": "stream",
     "text": [
      "100%|██████████| 10000/10000 [00:03<00:00, 2539.79it/s]\n"
     ]
    },
    {
     "name": "stdout",
     "output_type": "stream",
     "text": [
      "Success rate is = 12.690000000000001 %\n",
      "Average number of steps before end (success or fall) = 7.3901\n",
      "Loading Q-table saved weights...\n",
      "Error loading Q-table saved weights\n",
      "Initiating new Q-table...\n",
      "Starting Q-learning algorithm...\n"
     ]
    },
    {
     "name": "stderr",
     "output_type": "stream",
     "text": [
      "100%|██████████| 10000/10000 [00:20<00:00, 497.34it/s]\n"
     ]
    },
    {
     "name": "stdout",
     "output_type": "stream",
     "text": [
      "Finished Q-learning algorithm.\n",
      "Average reward is : 0.0819\n"
     ]
    },
    {
     "name": "stderr",
     "output_type": "stream",
     "text": [
      "100%|██████████| 10000/10000 [00:08<00:00, 1221.91it/s]\n"
     ]
    },
    {
     "name": "stdout",
     "output_type": "stream",
     "text": [
      "Success rate is = 17.82 %\n",
      "Average number of steps before end (success or fall) = 16.3234\n",
      "Loading Q-table saved weights...\n",
      "Error loading Q-table saved weights\n",
      "Initiating new Q-table...\n",
      "Starting Q-learning algorithm...\n"
     ]
    },
    {
     "name": "stderr",
     "output_type": "stream",
     "text": [
      "100%|██████████| 10000/10000 [00:18<00:00, 527.78it/s]\n"
     ]
    },
    {
     "name": "stdout",
     "output_type": "stream",
     "text": [
      "Finished Q-learning algorithm.\n",
      "Average reward is : 0.0794\n"
     ]
    },
    {
     "name": "stderr",
     "output_type": "stream",
     "text": [
      "100%|██████████| 10000/10000 [00:09<00:00, 1059.19it/s]\n"
     ]
    },
    {
     "name": "stdout",
     "output_type": "stream",
     "text": [
      "Success rate is = 16.43 %\n",
      "Average number of steps before end (success or fall) = 18.2378\n",
      "Loading Q-table saved weights...\n",
      "Error loading Q-table saved weights\n",
      "Initiating new Q-table...\n",
      "Starting Q-learning algorithm...\n"
     ]
    },
    {
     "name": "stderr",
     "output_type": "stream",
     "text": [
      "100%|██████████| 10000/10000 [00:11<00:00, 902.31it/s]\n"
     ]
    },
    {
     "name": "stdout",
     "output_type": "stream",
     "text": [
      "Finished Q-learning algorithm.\n",
      "Average reward is : 0.0359\n"
     ]
    },
    {
     "name": "stderr",
     "output_type": "stream",
     "text": [
      "100%|██████████| 10000/10000 [00:03<00:00, 2968.99it/s]\n"
     ]
    },
    {
     "name": "stdout",
     "output_type": "stream",
     "text": [
      "Success rate is = 6.08 %\n",
      "Average number of steps before end (success or fall) = 8.821\n",
      "Loading Q-table saved weights...\n",
      "Error loading Q-table saved weights\n",
      "Initiating new Q-table...\n",
      "Starting Q-learning algorithm...\n"
     ]
    },
    {
     "name": "stderr",
     "output_type": "stream",
     "text": [
      "100%|██████████| 10000/10000 [00:42<00:00, 236.85it/s]\n"
     ]
    },
    {
     "name": "stdout",
     "output_type": "stream",
     "text": [
      "Finished Q-learning algorithm.\n",
      "Average reward is : 0.24344945286617808\n"
     ]
    },
    {
     "name": "stderr",
     "output_type": "stream",
     "text": [
      "100%|██████████| 10000/10000 [00:11<00:00, 883.50it/s]\n"
     ]
    },
    {
     "name": "stdout",
     "output_type": "stream",
     "text": [
      "Success rate is = 22.33 %\n",
      "Average number of steps before end (success or fall) = 24.5961\n",
      "Loading Q-table saved weights...\n",
      "Error loading Q-table saved weights\n",
      "Initiating new Q-table...\n",
      "Starting Q-learning algorithm...\n"
     ]
    },
    {
     "name": "stderr",
     "output_type": "stream",
     "text": [
      "100%|██████████| 10000/10000 [00:31<00:00, 314.43it/s]\n"
     ]
    },
    {
     "name": "stdout",
     "output_type": "stream",
     "text": [
      "Finished Q-learning algorithm.\n",
      "Average reward is : 0.1933546837469976\n"
     ]
    },
    {
     "name": "stderr",
     "output_type": "stream",
     "text": [
      "100%|██████████| 10000/10000 [00:19<00:00, 516.15it/s]\n"
     ]
    },
    {
     "name": "stdout",
     "output_type": "stream",
     "text": [
      "Success rate is = 63.580000000000005 %\n",
      "Average number of steps before end (success or fall) = 40.7686\n",
      "Loading Q-table saved weights...\n",
      "Error loading Q-table saved weights\n",
      "Initiating new Q-table...\n",
      "Starting Q-learning algorithm...\n"
     ]
    },
    {
     "name": "stderr",
     "output_type": "stream",
     "text": [
      "100%|██████████| 10000/10000 [00:29<00:00, 344.44it/s]\n"
     ]
    },
    {
     "name": "stdout",
     "output_type": "stream",
     "text": [
      "Finished Q-learning algorithm.\n",
      "Average reward is : 0.15017508754377187\n"
     ]
    },
    {
     "name": "stderr",
     "output_type": "stream",
     "text": [
      "100%|██████████| 10000/10000 [00:06<00:00, 1530.96it/s]\n"
     ]
    },
    {
     "name": "stdout",
     "output_type": "stream",
     "text": [
      "Success rate is = 11.24 %\n",
      "Average number of steps before end (success or fall) = 13.2572\n",
      "Loading Q-table saved weights...\n",
      "Error loading Q-table saved weights\n",
      "Initiating new Q-table...\n",
      "Starting Q-learning algorithm...\n"
     ]
    },
    {
     "name": "stderr",
     "output_type": "stream",
     "text": [
      "100%|██████████| 10000/10000 [00:18<00:00, 545.08it/s]\n"
     ]
    },
    {
     "name": "stdout",
     "output_type": "stream",
     "text": [
      "Finished Q-learning algorithm.\n",
      "Average reward is : 0.0472\n"
     ]
    },
    {
     "name": "stderr",
     "output_type": "stream",
     "text": [
      "100%|██████████| 10000/10000 [00:12<00:00, 770.31it/s]\n"
     ]
    },
    {
     "name": "stdout",
     "output_type": "stream",
     "text": [
      "Success rate is = 45.15 %\n",
      "Average number of steps before end (success or fall) = 27.3138\n",
      "Loading Q-table saved weights...\n",
      "Error loading Q-table saved weights\n",
      "Initiating new Q-table...\n",
      "Starting Q-learning algorithm...\n"
     ]
    },
    {
     "name": "stderr",
     "output_type": "stream",
     "text": [
      "100%|██████████| 10000/10000 [00:52<00:00, 189.95it/s]\n"
     ]
    },
    {
     "name": "stdout",
     "output_type": "stream",
     "text": [
      "Finished Q-learning algorithm.\n",
      "Average reward is : 0.39601342418387064\n"
     ]
    },
    {
     "name": "stderr",
     "output_type": "stream",
     "text": [
      "100%|██████████| 10000/10000 [00:19<00:00, 503.58it/s]\n"
     ]
    },
    {
     "name": "stdout",
     "output_type": "stream",
     "text": [
      "Success rate is = 72.02 %\n",
      "Average number of steps before end (success or fall) = 41.9564\n",
      "Loading Q-table saved weights...\n",
      "Error loading Q-table saved weights\n",
      "Initiating new Q-table...\n",
      "Starting Q-learning algorithm...\n"
     ]
    },
    {
     "name": "stderr",
     "output_type": "stream",
     "text": [
      "100%|██████████| 10000/10000 [00:44<00:00, 223.21it/s]\n"
     ]
    },
    {
     "name": "stdout",
     "output_type": "stream",
     "text": [
      "Finished Q-learning algorithm.\n",
      "Average reward is : 0.2907058705064948\n"
     ]
    },
    {
     "name": "stderr",
     "output_type": "stream",
     "text": [
      "100%|██████████| 10000/10000 [00:14<00:00, 701.10it/s]\n"
     ]
    },
    {
     "name": "stdout",
     "output_type": "stream",
     "text": [
      "Success rate is = 44.85 %\n",
      "Average number of steps before end (success or fall) = 29.7356\n",
      "Loading Q-table saved weights...\n",
      "Error loading Q-table saved weights\n",
      "Initiating new Q-table...\n",
      "Starting Q-learning algorithm...\n"
     ]
    },
    {
     "name": "stderr",
     "output_type": "stream",
     "text": [
      "100%|██████████| 10000/10000 [00:37<00:00, 269.57it/s]\n"
     ]
    },
    {
     "name": "stdout",
     "output_type": "stream",
     "text": [
      "Finished Q-learning algorithm.\n",
      "Average reward is : 0.23099297893681042\n"
     ]
    },
    {
     "name": "stderr",
     "output_type": "stream",
     "text": [
      "100%|██████████| 10000/10000 [00:17<00:00, 561.95it/s]\n"
     ]
    },
    {
     "name": "stdout",
     "output_type": "stream",
     "text": [
      "Success rate is = 61.6 %\n",
      "Average number of steps before end (success or fall) = 38.9274\n",
      "Loading Q-table saved weights...\n",
      "Error loading Q-table saved weights\n",
      "Initiating new Q-table...\n",
      "Starting Q-learning algorithm...\n"
     ]
    },
    {
     "name": "stderr",
     "output_type": "stream",
     "text": [
      "100%|██████████| 10000/10000 [00:17<00:00, 579.90it/s]\n"
     ]
    },
    {
     "name": "stdout",
     "output_type": "stream",
     "text": [
      "Finished Q-learning algorithm.\n",
      "Average reward is : 0.0536\n"
     ]
    },
    {
     "name": "stderr",
     "output_type": "stream",
     "text": [
      "100%|██████████| 10000/10000 [00:19<00:00, 515.86it/s]\n"
     ]
    },
    {
     "name": "stdout",
     "output_type": "stream",
     "text": [
      "Success rate is = 59.419999999999995 %\n",
      "Average number of steps before end (success or fall) = 36.5652\n",
      "Loading Q-table saved weights...\n",
      "Error loading Q-table saved weights\n",
      "Initiating new Q-table...\n",
      "Starting Q-learning algorithm...\n"
     ]
    },
    {
     "name": "stderr",
     "output_type": "stream",
     "text": [
      "100%|██████████| 10000/10000 [01:00<00:00, 164.39it/s]\n"
     ]
    },
    {
     "name": "stdout",
     "output_type": "stream",
     "text": [
      "Finished Q-learning algorithm.\n",
      "Average reward is : 0.48053553038105046\n"
     ]
    },
    {
     "name": "stderr",
     "output_type": "stream",
     "text": [
      "100%|██████████| 10000/10000 [00:14<00:00, 704.09it/s]\n"
     ]
    },
    {
     "name": "stdout",
     "output_type": "stream",
     "text": [
      "Success rate is = 50.42 %\n",
      "Average number of steps before end (success or fall) = 30.4314\n",
      "Loading Q-table saved weights...\n",
      "Error loading Q-table saved weights\n",
      "Initiating new Q-table...\n",
      "Starting Q-learning algorithm...\n"
     ]
    },
    {
     "name": "stderr",
     "output_type": "stream",
     "text": [
      "100%|██████████| 10000/10000 [00:53<00:00, 188.61it/s]\n"
     ]
    },
    {
     "name": "stdout",
     "output_type": "stream",
     "text": [
      "Finished Q-learning algorithm.\n",
      "Average reward is : 0.37497462959204386\n"
     ]
    },
    {
     "name": "stderr",
     "output_type": "stream",
     "text": [
      "100%|██████████| 10000/10000 [00:06<00:00, 1510.99it/s]\n"
     ]
    },
    {
     "name": "stdout",
     "output_type": "stream",
     "text": [
      "Success rate is = 16.5 %\n",
      "Average number of steps before end (success or fall) = 11.8152\n",
      "Loading Q-table saved weights...\n",
      "Error loading Q-table saved weights\n",
      "Initiating new Q-table...\n",
      "Starting Q-learning algorithm...\n"
     ]
    },
    {
     "name": "stderr",
     "output_type": "stream",
     "text": [
      "100%|██████████| 10000/10000 [00:42<00:00, 233.18it/s]\n"
     ]
    },
    {
     "name": "stdout",
     "output_type": "stream",
     "text": [
      "Finished Q-learning algorithm.\n",
      "Average reward is : 0.2804387200643993\n"
     ]
    },
    {
     "name": "stderr",
     "output_type": "stream",
     "text": [
      "100%|██████████| 10000/10000 [00:19<00:00, 517.93it/s]\n"
     ]
    },
    {
     "name": "stdout",
     "output_type": "stream",
     "text": [
      "Success rate is = 72.50999999999999 %\n",
      "Average number of steps before end (success or fall) = 41.3368\n",
      "Loading Q-table saved weights...\n",
      "Error loading Q-table saved weights\n",
      "Initiating new Q-table...\n",
      "Starting Q-learning algorithm...\n"
     ]
    },
    {
     "name": "stderr",
     "output_type": "stream",
     "text": [
      "100%|██████████| 10000/10000 [00:18<00:00, 547.63it/s]\n"
     ]
    },
    {
     "name": "stdout",
     "output_type": "stream",
     "text": [
      "Finished Q-learning algorithm.\n",
      "Average reward is : 0.0592\n"
     ]
    },
    {
     "name": "stderr",
     "output_type": "stream",
     "text": [
      "100%|██████████| 10000/10000 [00:06<00:00, 1454.94it/s]\n"
     ]
    },
    {
     "name": "stdout",
     "output_type": "stream",
     "text": [
      "Success rate is = 17.31 %\n",
      "Average number of steps before end (success or fall) = 13.0511\n",
      "Loading Q-table saved weights...\n",
      "Error loading Q-table saved weights\n",
      "Initiating new Q-table...\n",
      "Starting Q-learning algorithm...\n"
     ]
    },
    {
     "name": "stderr",
     "output_type": "stream",
     "text": [
      "100%|██████████| 10000/10000 [01:10<00:00, 141.34it/s]\n"
     ]
    },
    {
     "name": "stdout",
     "output_type": "stream",
     "text": [
      "Finished Q-learning algorithm.\n",
      "Average reward is : 0.5586914688903143\n"
     ]
    },
    {
     "name": "stderr",
     "output_type": "stream",
     "text": [
      "100%|██████████| 10000/10000 [00:20<00:00, 488.58it/s]\n"
     ]
    },
    {
     "name": "stdout",
     "output_type": "stream",
     "text": [
      "Success rate is = 73.89 %\n",
      "Average number of steps before end (success or fall) = 44.6688\n",
      "Loading Q-table saved weights...\n",
      "Error loading Q-table saved weights\n",
      "Initiating new Q-table...\n",
      "Starting Q-learning algorithm...\n"
     ]
    },
    {
     "name": "stderr",
     "output_type": "stream",
     "text": [
      "100%|██████████| 10000/10000 [00:48<00:00, 206.02it/s]\n"
     ]
    },
    {
     "name": "stdout",
     "output_type": "stream",
     "text": [
      "Finished Q-learning algorithm.\n",
      "Average reward is : 0.4285862354892206\n"
     ]
    },
    {
     "name": "stderr",
     "output_type": "stream",
     "text": [
      "100%|██████████| 10000/10000 [00:09<00:00, 1067.75it/s]\n"
     ]
    },
    {
     "name": "stdout",
     "output_type": "stream",
     "text": [
      "Success rate is = 65.10000000000001 %\n",
      "Average number of steps before end (success or fall) = 45.4498\n",
      "Loading Q-table saved weights...\n",
      "Error loading Q-table saved weights\n",
      "Initiating new Q-table...\n",
      "Starting Q-learning algorithm...\n"
     ]
    },
    {
     "name": "stderr",
     "output_type": "stream",
     "text": [
      "100%|██████████| 10000/10000 [00:21<00:00, 467.59it/s]\n"
     ]
    },
    {
     "name": "stdout",
     "output_type": "stream",
     "text": [
      "Finished Q-learning algorithm.\n",
      "Average reward is : 0.31529051987767587\n"
     ]
    },
    {
     "name": "stderr",
     "output_type": "stream",
     "text": [
      "100%|██████████| 10000/10000 [00:09<00:00, 1100.89it/s]\n"
     ]
    },
    {
     "name": "stdout",
     "output_type": "stream",
     "text": [
      "Success rate is = 74.25 %\n",
      "Average number of steps before end (success or fall) = 44.6953\n",
      "Loading Q-table saved weights...\n",
      "Error loading Q-table saved weights\n",
      "Initiating new Q-table...\n",
      "Starting Q-learning algorithm...\n"
     ]
    },
    {
     "name": "stderr",
     "output_type": "stream",
     "text": [
      "100%|██████████| 10000/10000 [00:07<00:00, 1314.62it/s]\n"
     ]
    },
    {
     "name": "stdout",
     "output_type": "stream",
     "text": [
      "Finished Q-learning algorithm.\n",
      "Average reward is : 0.0586\n"
     ]
    },
    {
     "name": "stderr",
     "output_type": "stream",
     "text": [
      "100%|██████████| 10000/10000 [00:09<00:00, 1069.69it/s]\n"
     ]
    },
    {
     "name": "stdout",
     "output_type": "stream",
     "text": [
      "Success rate is = 74.49 %\n",
      "Average number of steps before end (success or fall) = 44.1619\n",
      "Loading Q-table saved weights...\n",
      "Error loading Q-table saved weights\n",
      "Initiating new Q-table...\n",
      "Starting Q-learning algorithm...\n"
     ]
    },
    {
     "name": "stderr",
     "output_type": "stream",
     "text": [
      "100%|██████████| 10000/10000 [00:26<00:00, 373.01it/s]\n"
     ]
    },
    {
     "name": "stdout",
     "output_type": "stream",
     "text": [
      "Finished Q-learning algorithm.\n",
      "Average reward is : 0.5451901101184292\n"
     ]
    },
    {
     "name": "stderr",
     "output_type": "stream",
     "text": [
      "100%|██████████| 10000/10000 [00:08<00:00, 1243.48it/s]\n"
     ]
    },
    {
     "name": "stdout",
     "output_type": "stream",
     "text": [
      "Success rate is = 73.7 %\n",
      "Average number of steps before end (success or fall) = 41.2446\n",
      "Loading Q-table saved weights...\n",
      "Error loading Q-table saved weights\n",
      "Initiating new Q-table...\n",
      "Starting Q-learning algorithm...\n"
     ]
    },
    {
     "name": "stderr",
     "output_type": "stream",
     "text": [
      "100%|██████████| 10000/10000 [00:42<00:00, 232.58it/s]\n"
     ]
    },
    {
     "name": "stdout",
     "output_type": "stream",
     "text": [
      "Finished Q-learning algorithm.\n",
      "Average reward is : 0.15826463035545343\n"
     ]
    },
    {
     "name": "stderr",
     "output_type": "stream",
     "text": [
      "100%|██████████| 10000/10000 [00:19<00:00, 507.45it/s]\n"
     ]
    },
    {
     "name": "stdout",
     "output_type": "stream",
     "text": [
      "Success rate is = 0.0 %\n",
      "Average number of steps before end (success or fall) = 100.0\n",
      "Loading Q-table saved weights...\n",
      "Error loading Q-table saved weights\n",
      "Initiating new Q-table...\n",
      "Starting Q-learning algorithm...\n"
     ]
    },
    {
     "name": "stderr",
     "output_type": "stream",
     "text": [
      "100%|██████████| 10000/10000 [00:24<00:00, 414.84it/s]\n"
     ]
    },
    {
     "name": "stdout",
     "output_type": "stream",
     "text": [
      "Finished Q-learning algorithm.\n",
      "Average reward is : 0.25394986307141354\n"
     ]
    },
    {
     "name": "stderr",
     "output_type": "stream",
     "text": [
      "100%|██████████| 10000/10000 [00:19<00:00, 523.09it/s]\n"
     ]
    },
    {
     "name": "stdout",
     "output_type": "stream",
     "text": [
      "Success rate is = 0.0 %\n",
      "Average number of steps before end (success or fall) = 100.0\n",
      "Loading Q-table saved weights...\n",
      "Error loading Q-table saved weights\n",
      "Initiating new Q-table...\n",
      "Starting Q-learning algorithm...\n"
     ]
    },
    {
     "name": "stderr",
     "output_type": "stream",
     "text": [
      "100%|██████████| 10000/10000 [00:08<00:00, 1225.91it/s]\n"
     ]
    },
    {
     "name": "stdout",
     "output_type": "stream",
     "text": [
      "Finished Q-learning algorithm.\n",
      "Average reward is : 0.0482\n"
     ]
    },
    {
     "name": "stderr",
     "output_type": "stream",
     "text": [
      "100%|██████████| 10000/10000 [00:20<00:00, 489.45it/s]\n"
     ]
    },
    {
     "name": "stdout",
     "output_type": "stream",
     "text": [
      "Success rate is = 0.0 %\n",
      "Average number of steps before end (success or fall) = 100.0\n",
      "Loading Q-table saved weights...\n",
      "Error loading Q-table saved weights\n",
      "Initiating new Q-table...\n",
      "Starting Q-learning algorithm...\n"
     ]
    },
    {
     "name": "stderr",
     "output_type": "stream",
     "text": [
      "100%|██████████| 10000/10000 [00:09<00:00, 1005.50it/s]\n"
     ]
    },
    {
     "name": "stdout",
     "output_type": "stream",
     "text": [
      "Finished Q-learning algorithm.\n",
      "Average reward is : 0.09412823847154146\n"
     ]
    },
    {
     "name": "stderr",
     "output_type": "stream",
     "text": [
      "100%|██████████| 10000/10000 [00:02<00:00, 3391.73it/s]\n"
     ]
    },
    {
     "name": "stdout",
     "output_type": "stream",
     "text": [
      "Success rate is = 10.31 %\n",
      "Average number of steps before end (success or fall) = 13.3865\n",
      "Loading Q-table saved weights...\n",
      "Error loading Q-table saved weights\n",
      "Initiating new Q-table...\n",
      "Starting Q-learning algorithm...\n"
     ]
    },
    {
     "name": "stderr",
     "output_type": "stream",
     "text": [
      "100%|██████████| 10000/10000 [00:08<00:00, 1123.08it/s]\n"
     ]
    },
    {
     "name": "stdout",
     "output_type": "stream",
     "text": [
      "Finished Q-learning algorithm.\n",
      "Average reward is : 0.0747\n"
     ]
    },
    {
     "name": "stderr",
     "output_type": "stream",
     "text": [
      "100%|██████████| 10000/10000 [00:01<00:00, 5361.77it/s]\n"
     ]
    },
    {
     "name": "stdout",
     "output_type": "stream",
     "text": [
      "Success rate is = 12.23 %\n",
      "Average number of steps before end (success or fall) = 8.2526\n",
      "Loading Q-table saved weights...\n",
      "Error loading Q-table saved weights\n",
      "Initiating new Q-table...\n",
      "Starting Q-learning algorithm...\n"
     ]
    },
    {
     "name": "stderr",
     "output_type": "stream",
     "text": [
      "100%|██████████| 10000/10000 [00:07<00:00, 1306.50it/s]\n"
     ]
    },
    {
     "name": "stdout",
     "output_type": "stream",
     "text": [
      "Finished Q-learning algorithm.\n",
      "Average reward is : 0.0623\n"
     ]
    },
    {
     "name": "stderr",
     "output_type": "stream",
     "text": [
      "100%|██████████| 10000/10000 [00:02<00:00, 3581.37it/s]\n"
     ]
    },
    {
     "name": "stdout",
     "output_type": "stream",
     "text": [
      "Success rate is = 13.26 %\n",
      "Average number of steps before end (success or fall) = 12.12\n",
      "Loading Q-table saved weights...\n",
      "Error loading Q-table saved weights\n",
      "Initiating new Q-table...\n",
      "Starting Q-learning algorithm...\n"
     ]
    },
    {
     "name": "stderr",
     "output_type": "stream",
     "text": [
      "100%|██████████| 10000/10000 [00:05<00:00, 1996.12it/s]\n"
     ]
    },
    {
     "name": "stdout",
     "output_type": "stream",
     "text": [
      "Finished Q-learning algorithm.\n",
      "Average reward is : 0.0276\n"
     ]
    },
    {
     "name": "stderr",
     "output_type": "stream",
     "text": [
      "100%|██████████| 10000/10000 [00:02<00:00, 4105.33it/s]\n"
     ]
    },
    {
     "name": "stdout",
     "output_type": "stream",
     "text": [
      "Success rate is = 0.0 %\n",
      "Average number of steps before end (success or fall) = 12.1057\n",
      "Loading Q-table saved weights...\n",
      "Error loading Q-table saved weights\n",
      "Initiating new Q-table...\n",
      "Starting Q-learning algorithm...\n"
     ]
    },
    {
     "name": "stderr",
     "output_type": "stream",
     "text": [
      "100%|██████████| 10000/10000 [00:15<00:00, 665.99it/s]\n"
     ]
    },
    {
     "name": "stdout",
     "output_type": "stream",
     "text": [
      "Finished Q-learning algorithm.\n",
      "Average reward is : 0.20865548749874485\n"
     ]
    },
    {
     "name": "stderr",
     "output_type": "stream",
     "text": [
      "100%|██████████| 10000/10000 [00:03<00:00, 3309.23it/s]\n"
     ]
    },
    {
     "name": "stdout",
     "output_type": "stream",
     "text": [
      "Success rate is = 21.15 %\n",
      "Average number of steps before end (success or fall) = 15.894\n",
      "Loading Q-table saved weights...\n",
      "Error loading Q-table saved weights\n",
      "Initiating new Q-table...\n",
      "Starting Q-learning algorithm...\n"
     ]
    },
    {
     "name": "stderr",
     "output_type": "stream",
     "text": [
      "100%|██████████| 10000/10000 [00:12<00:00, 793.36it/s]\n"
     ]
    },
    {
     "name": "stdout",
     "output_type": "stream",
     "text": [
      "Finished Q-learning algorithm.\n",
      "Average reward is : 0.14264279283785136\n"
     ]
    },
    {
     "name": "stderr",
     "output_type": "stream",
     "text": [
      "100%|██████████| 10000/10000 [00:03<00:00, 3049.29it/s]\n"
     ]
    },
    {
     "name": "stdout",
     "output_type": "stream",
     "text": [
      "Success rate is = 20.18 %\n",
      "Average number of steps before end (success or fall) = 17.1054\n",
      "Loading Q-table saved weights...\n",
      "Error loading Q-table saved weights\n",
      "Initiating new Q-table...\n",
      "Starting Q-learning algorithm...\n"
     ]
    },
    {
     "name": "stderr",
     "output_type": "stream",
     "text": [
      "100%|██████████| 10000/10000 [00:10<00:00, 942.67it/s]\n"
     ]
    },
    {
     "name": "stdout",
     "output_type": "stream",
     "text": [
      "Finished Q-learning algorithm.\n",
      "Average reward is : 0.10102020404080816\n"
     ]
    },
    {
     "name": "stderr",
     "output_type": "stream",
     "text": [
      "100%|██████████| 10000/10000 [00:03<00:00, 2799.38it/s]\n"
     ]
    },
    {
     "name": "stdout",
     "output_type": "stream",
     "text": [
      "Success rate is = 5.28 %\n",
      "Average number of steps before end (success or fall) = 18.0392\n",
      "Loading Q-table saved weights...\n",
      "Error loading Q-table saved weights\n",
      "Initiating new Q-table...\n",
      "Starting Q-learning algorithm...\n"
     ]
    },
    {
     "name": "stderr",
     "output_type": "stream",
     "text": [
      "100%|██████████| 10000/10000 [00:05<00:00, 1716.47it/s]\n"
     ]
    },
    {
     "name": "stdout",
     "output_type": "stream",
     "text": [
      "Finished Q-learning algorithm.\n",
      "Average reward is : 0.037\n"
     ]
    },
    {
     "name": "stderr",
     "output_type": "stream",
     "text": [
      "100%|██████████| 10000/10000 [00:02<00:00, 4232.39it/s]\n"
     ]
    },
    {
     "name": "stdout",
     "output_type": "stream",
     "text": [
      "Success rate is = 8.05 %\n",
      "Average number of steps before end (success or fall) = 9.4595\n",
      "Loading Q-table saved weights...\n",
      "Error loading Q-table saved weights\n",
      "Initiating new Q-table...\n",
      "Starting Q-learning algorithm...\n"
     ]
    },
    {
     "name": "stderr",
     "output_type": "stream",
     "text": [
      "100%|██████████| 10000/10000 [00:19<00:00, 508.03it/s]\n"
     ]
    },
    {
     "name": "stdout",
     "output_type": "stream",
     "text": [
      "Finished Q-learning algorithm.\n",
      "Average reward is : 0.29613125379785293\n"
     ]
    },
    {
     "name": "stderr",
     "output_type": "stream",
     "text": [
      "100%|██████████| 10000/10000 [00:06<00:00, 1429.90it/s]\n"
     ]
    },
    {
     "name": "stdout",
     "output_type": "stream",
     "text": [
      "Success rate is = 50.470000000000006 %\n",
      "Average number of steps before end (success or fall) = 30.5289\n",
      "Loading Q-table saved weights...\n",
      "Error loading Q-table saved weights\n",
      "Initiating new Q-table...\n",
      "Starting Q-learning algorithm...\n"
     ]
    },
    {
     "name": "stderr",
     "output_type": "stream",
     "text": [
      "100%|██████████| 10000/10000 [00:16<00:00, 623.15it/s]\n"
     ]
    },
    {
     "name": "stdout",
     "output_type": "stream",
     "text": [
      "Finished Q-learning algorithm.\n",
      "Average reward is : 0.1982361194628182\n"
     ]
    },
    {
     "name": "stderr",
     "output_type": "stream",
     "text": [
      "100%|██████████| 10000/10000 [00:08<00:00, 1174.13it/s]\n"
     ]
    },
    {
     "name": "stdout",
     "output_type": "stream",
     "text": [
      "Success rate is = 64.67 %\n",
      "Average number of steps before end (success or fall) = 41.0902\n",
      "Loading Q-table saved weights...\n",
      "Error loading Q-table saved weights\n",
      "Initiating new Q-table...\n",
      "Starting Q-learning algorithm...\n"
     ]
    },
    {
     "name": "stderr",
     "output_type": "stream",
     "text": [
      "100%|██████████| 10000/10000 [00:12<00:00, 785.31it/s]\n"
     ]
    },
    {
     "name": "stdout",
     "output_type": "stream",
     "text": [
      "Finished Q-learning algorithm.\n",
      "Average reward is : 0.15086034413765506\n"
     ]
    },
    {
     "name": "stderr",
     "output_type": "stream",
     "text": [
      "100%|██████████| 10000/10000 [00:09<00:00, 1059.09it/s]\n"
     ]
    },
    {
     "name": "stdout",
     "output_type": "stream",
     "text": [
      "Success rate is = 59.51 %\n",
      "Average number of steps before end (success or fall) = 49.3973\n",
      "Loading Q-table saved weights...\n",
      "Error loading Q-table saved weights\n",
      "Initiating new Q-table...\n",
      "Starting Q-learning algorithm...\n"
     ]
    },
    {
     "name": "stderr",
     "output_type": "stream",
     "text": [
      "100%|██████████| 10000/10000 [00:06<00:00, 1480.25it/s]\n"
     ]
    },
    {
     "name": "stdout",
     "output_type": "stream",
     "text": [
      "Finished Q-learning algorithm.\n",
      "Average reward is : 0.0408\n"
     ]
    },
    {
     "name": "stderr",
     "output_type": "stream",
     "text": [
      "100%|██████████| 10000/10000 [00:08<00:00, 1235.21it/s]\n"
     ]
    },
    {
     "name": "stdout",
     "output_type": "stream",
     "text": [
      "Success rate is = 61.5 %\n",
      "Average number of steps before end (success or fall) = 40.4903\n",
      "Loading Q-table saved weights...\n",
      "Error loading Q-table saved weights\n",
      "Initiating new Q-table...\n",
      "Starting Q-learning algorithm...\n"
     ]
    },
    {
     "name": "stderr",
     "output_type": "stream",
     "text": [
      "100%|██████████| 10000/10000 [00:23<00:00, 429.29it/s]\n"
     ]
    },
    {
     "name": "stdout",
     "output_type": "stream",
     "text": [
      "Finished Q-learning algorithm.\n",
      "Average reward is : 0.3867635024549918\n"
     ]
    },
    {
     "name": "stderr",
     "output_type": "stream",
     "text": [
      "100%|██████████| 10000/10000 [00:08<00:00, 1218.03it/s]\n"
     ]
    },
    {
     "name": "stdout",
     "output_type": "stream",
     "text": [
      "Success rate is = 71.05 %\n",
      "Average number of steps before end (success or fall) = 40.4439\n",
      "Loading Q-table saved weights...\n",
      "Error loading Q-table saved weights\n",
      "Initiating new Q-table...\n",
      "Starting Q-learning algorithm...\n"
     ]
    },
    {
     "name": "stderr",
     "output_type": "stream",
     "text": [
      "100%|██████████| 10000/10000 [00:18<00:00, 539.48it/s]\n"
     ]
    },
    {
     "name": "stdout",
     "output_type": "stream",
     "text": [
      "Finished Q-learning algorithm.\n",
      "Average reward is : 0.25700181341930284\n"
     ]
    },
    {
     "name": "stderr",
     "output_type": "stream",
     "text": [
      "100%|██████████| 10000/10000 [00:07<00:00, 1406.71it/s]\n"
     ]
    },
    {
     "name": "stdout",
     "output_type": "stream",
     "text": [
      "Success rate is = 50.57000000000001 %\n",
      "Average number of steps before end (success or fall) = 30.4925\n",
      "Loading Q-table saved weights...\n",
      "Error loading Q-table saved weights\n",
      "Initiating new Q-table...\n",
      "Starting Q-learning algorithm...\n"
     ]
    },
    {
     "name": "stderr",
     "output_type": "stream",
     "text": [
      "100%|██████████| 10000/10000 [00:15<00:00, 656.51it/s]\n"
     ]
    },
    {
     "name": "stdout",
     "output_type": "stream",
     "text": [
      "Finished Q-learning algorithm.\n",
      "Average reward is : 0.17950515876990886\n"
     ]
    },
    {
     "name": "stderr",
     "output_type": "stream",
     "text": [
      "100%|██████████| 10000/10000 [00:06<00:00, 1647.88it/s]\n"
     ]
    },
    {
     "name": "stdout",
     "output_type": "stream",
     "text": [
      "Success rate is = 51.519999999999996 %\n",
      "Average number of steps before end (success or fall) = 33.243\n",
      "Loading Q-table saved weights...\n",
      "Error loading Q-table saved weights\n",
      "Initiating new Q-table...\n",
      "Starting Q-learning algorithm...\n"
     ]
    },
    {
     "name": "stderr",
     "output_type": "stream",
     "text": [
      "100%|██████████| 10000/10000 [00:06<00:00, 1617.55it/s]\n"
     ]
    },
    {
     "name": "stdout",
     "output_type": "stream",
     "text": [
      "Finished Q-learning algorithm.\n",
      "Average reward is : 0.0403\n"
     ]
    },
    {
     "name": "stderr",
     "output_type": "stream",
     "text": [
      "100%|██████████| 10000/10000 [00:06<00:00, 1655.60it/s]\n"
     ]
    },
    {
     "name": "stdout",
     "output_type": "stream",
     "text": [
      "Success rate is = 24.169999999999998 %\n",
      "Average number of steps before end (success or fall) = 28.8405\n",
      "Loading Q-table saved weights...\n",
      "Error loading Q-table saved weights\n",
      "Initiating new Q-table...\n",
      "Starting Q-learning algorithm...\n"
     ]
    },
    {
     "name": "stderr",
     "output_type": "stream",
     "text": [
      "100%|██████████| 10000/10000 [00:28<00:00, 344.88it/s]\n"
     ]
    },
    {
     "name": "stdout",
     "output_type": "stream",
     "text": [
      "Finished Q-learning algorithm.\n",
      "Average reward is : 0.4755169827493839\n"
     ]
    },
    {
     "name": "stderr",
     "output_type": "stream",
     "text": [
      "100%|██████████| 10000/10000 [00:12<00:00, 803.71it/s]\n"
     ]
    },
    {
     "name": "stdout",
     "output_type": "stream",
     "text": [
      "Success rate is = 53.239999999999995 %\n",
      "Average number of steps before end (success or fall) = 63.2122\n",
      "Loading Q-table saved weights...\n",
      "Error loading Q-table saved weights\n",
      "Initiating new Q-table...\n",
      "Starting Q-learning algorithm...\n"
     ]
    },
    {
     "name": "stderr",
     "output_type": "stream",
     "text": [
      "100%|██████████| 10000/10000 [00:23<00:00, 426.30it/s]\n"
     ]
    },
    {
     "name": "stdout",
     "output_type": "stream",
     "text": [
      "Finished Q-learning algorithm.\n",
      "Average reward is : 0.3114923522116577\n"
     ]
    },
    {
     "name": "stderr",
     "output_type": "stream",
     "text": [
      "100%|██████████| 10000/10000 [00:12<00:00, 809.70it/s]\n"
     ]
    },
    {
     "name": "stdout",
     "output_type": "stream",
     "text": [
      "Success rate is = 54.39000000000001 %\n",
      "Average number of steps before end (success or fall) = 62.932\n",
      "Loading Q-table saved weights...\n",
      "Error loading Q-table saved weights\n",
      "Initiating new Q-table...\n",
      "Starting Q-learning algorithm...\n"
     ]
    },
    {
     "name": "stderr",
     "output_type": "stream",
     "text": [
      "100%|██████████| 10000/10000 [00:19<00:00, 511.64it/s]\n"
     ]
    },
    {
     "name": "stdout",
     "output_type": "stream",
     "text": [
      "Finished Q-learning algorithm.\n",
      "Average reward is : 0.22751643904906424\n"
     ]
    },
    {
     "name": "stderr",
     "output_type": "stream",
     "text": [
      "100%|██████████| 10000/10000 [00:08<00:00, 1193.00it/s]\n"
     ]
    },
    {
     "name": "stdout",
     "output_type": "stream",
     "text": [
      "Success rate is = 73.72999999999999 %\n",
      "Average number of steps before end (success or fall) = 44.3687\n",
      "Loading Q-table saved weights...\n",
      "Error loading Q-table saved weights\n",
      "Initiating new Q-table...\n",
      "Starting Q-learning algorithm...\n"
     ]
    },
    {
     "name": "stderr",
     "output_type": "stream",
     "text": [
      "100%|██████████| 10000/10000 [00:07<00:00, 1348.73it/s]\n"
     ]
    },
    {
     "name": "stdout",
     "output_type": "stream",
     "text": [
      "Finished Q-learning algorithm.\n",
      "Average reward is : 0.043\n"
     ]
    },
    {
     "name": "stderr",
     "output_type": "stream",
     "text": [
      "100%|██████████| 10000/10000 [00:08<00:00, 1126.08it/s]\n"
     ]
    },
    {
     "name": "stdout",
     "output_type": "stream",
     "text": [
      "Success rate is = 74.44 %\n",
      "Average number of steps before end (success or fall) = 44.7098\n",
      "Loading Q-table saved weights...\n",
      "Error loading Q-table saved weights\n",
      "Initiating new Q-table...\n",
      "Starting Q-learning algorithm...\n"
     ]
    },
    {
     "name": "stderr",
     "output_type": "stream",
     "text": [
      "100%|██████████| 10000/10000 [00:58<00:00, 169.76it/s]\n"
     ]
    },
    {
     "name": "stdout",
     "output_type": "stream",
     "text": [
      "Finished Q-learning algorithm.\n",
      "Average reward is : 0.0851835070231083\n"
     ]
    },
    {
     "name": "stderr",
     "output_type": "stream",
     "text": [
      "100%|██████████| 10000/10000 [00:19<00:00, 503.11it/s]\n"
     ]
    },
    {
     "name": "stdout",
     "output_type": "stream",
     "text": [
      "Success rate is = 0.0 %\n",
      "Average number of steps before end (success or fall) = 100.0\n",
      "Loading Q-table saved weights...\n",
      "Error loading Q-table saved weights\n",
      "Initiating new Q-table...\n",
      "Starting Q-learning algorithm...\n"
     ]
    },
    {
     "name": "stderr",
     "output_type": "stream",
     "text": [
      "100%|██████████| 10000/10000 [00:44<00:00, 224.23it/s]\n"
     ]
    },
    {
     "name": "stdout",
     "output_type": "stream",
     "text": [
      "Finished Q-learning algorithm.\n",
      "Average reward is : 0.08020644441344678\n"
     ]
    },
    {
     "name": "stderr",
     "output_type": "stream",
     "text": [
      "100%|██████████| 10000/10000 [00:19<00:00, 517.25it/s]\n"
     ]
    },
    {
     "name": "stdout",
     "output_type": "stream",
     "text": [
      "Success rate is = 0.0 %\n",
      "Average number of steps before end (success or fall) = 100.0\n",
      "Loading Q-table saved weights...\n",
      "Error loading Q-table saved weights\n",
      "Initiating new Q-table...\n",
      "Starting Q-learning algorithm...\n"
     ]
    },
    {
     "name": "stderr",
     "output_type": "stream",
     "text": [
      "100%|██████████| 10000/10000 [00:31<00:00, 313.91it/s]\n"
     ]
    },
    {
     "name": "stdout",
     "output_type": "stream",
     "text": [
      "Finished Q-learning algorithm.\n",
      "Average reward is : 0.07657350602135878\n"
     ]
    },
    {
     "name": "stderr",
     "output_type": "stream",
     "text": [
      "100%|██████████| 10000/10000 [00:19<00:00, 516.91it/s]\n"
     ]
    },
    {
     "name": "stdout",
     "output_type": "stream",
     "text": [
      "Success rate is = 0.0 %\n",
      "Average number of steps before end (success or fall) = 100.0\n",
      "Loading Q-table saved weights...\n",
      "Error loading Q-table saved weights\n",
      "Initiating new Q-table...\n",
      "Starting Q-learning algorithm...\n"
     ]
    },
    {
     "name": "stderr",
     "output_type": "stream",
     "text": [
      "100%|██████████| 10000/10000 [00:09<00:00, 1105.25it/s]\n"
     ]
    },
    {
     "name": "stdout",
     "output_type": "stream",
     "text": [
      "Finished Q-learning algorithm.\n",
      "Average reward is : 0.034410323096929075\n"
     ]
    },
    {
     "name": "stderr",
     "output_type": "stream",
     "text": [
      "100%|██████████| 10000/10000 [00:20<00:00, 478.42it/s]\n"
     ]
    },
    {
     "name": "stdout",
     "output_type": "stream",
     "text": [
      "Success rate is = 0.0 %\n",
      "Average number of steps before end (success or fall) = 100.0\n",
      "Loading Q-table saved weights...\n",
      "Error loading Q-table saved weights\n",
      "Initiating new Q-table...\n",
      "Starting Q-learning algorithm...\n"
     ]
    },
    {
     "name": "stderr",
     "output_type": "stream",
     "text": [
      "100%|██████████| 10000/10000 [00:11<00:00, 847.06it/s]\n"
     ]
    },
    {
     "name": "stdout",
     "output_type": "stream",
     "text": [
      "Finished Q-learning algorithm.\n",
      "Average reward is : 0.13745119631594754\n"
     ]
    },
    {
     "name": "stderr",
     "output_type": "stream",
     "text": [
      "100%|██████████| 10000/10000 [00:02<00:00, 3451.78it/s]\n"
     ]
    },
    {
     "name": "stdout",
     "output_type": "stream",
     "text": [
      "Success rate is = 14.6 %\n",
      "Average number of steps before end (success or fall) = 13.3892\n",
      "Loading Q-table saved weights...\n",
      "Error loading Q-table saved weights\n",
      "Initiating new Q-table...\n",
      "Starting Q-learning algorithm...\n"
     ]
    },
    {
     "name": "stderr",
     "output_type": "stream",
     "text": [
      "100%|██████████| 10000/10000 [00:10<00:00, 978.16it/s]\n"
     ]
    },
    {
     "name": "stdout",
     "output_type": "stream",
     "text": [
      "Finished Q-learning algorithm.\n",
      "Average reward is : 0.07620762076207621\n"
     ]
    },
    {
     "name": "stderr",
     "output_type": "stream",
     "text": [
      "100%|██████████| 10000/10000 [00:02<00:00, 4497.07it/s]\n"
     ]
    },
    {
     "name": "stdout",
     "output_type": "stream",
     "text": [
      "Success rate is = 10.75 %\n",
      "Average number of steps before end (success or fall) = 10.7138\n",
      "Loading Q-table saved weights...\n",
      "Error loading Q-table saved weights\n",
      "Initiating new Q-table...\n",
      "Starting Q-learning algorithm...\n"
     ]
    },
    {
     "name": "stderr",
     "output_type": "stream",
     "text": [
      "100%|██████████| 10000/10000 [00:08<00:00, 1215.24it/s]\n"
     ]
    },
    {
     "name": "stdout",
     "output_type": "stream",
     "text": [
      "Finished Q-learning algorithm.\n",
      "Average reward is : 0.0592\n"
     ]
    },
    {
     "name": "stderr",
     "output_type": "stream",
     "text": [
      "100%|██████████| 10000/10000 [00:01<00:00, 5110.55it/s]\n"
     ]
    },
    {
     "name": "stdout",
     "output_type": "stream",
     "text": [
      "Success rate is = 3.52 %\n",
      "Average number of steps before end (success or fall) = 9.0462\n",
      "Loading Q-table saved weights...\n",
      "Error loading Q-table saved weights\n",
      "Initiating new Q-table...\n",
      "Starting Q-learning algorithm...\n"
     ]
    },
    {
     "name": "stderr",
     "output_type": "stream",
     "text": [
      "100%|██████████| 10000/10000 [00:07<00:00, 1392.54it/s]\n"
     ]
    },
    {
     "name": "stdout",
     "output_type": "stream",
     "text": [
      "Finished Q-learning algorithm.\n",
      "Average reward is : 0.0248\n"
     ]
    },
    {
     "name": "stderr",
     "output_type": "stream",
     "text": [
      "100%|██████████| 10000/10000 [00:01<00:00, 5341.94it/s]\n"
     ]
    },
    {
     "name": "stdout",
     "output_type": "stream",
     "text": [
      "Success rate is = 3.92 %\n",
      "Average number of steps before end (success or fall) = 8.6393\n",
      "Loading Q-table saved weights...\n",
      "Error loading Q-table saved weights\n",
      "Initiating new Q-table...\n",
      "Starting Q-learning algorithm...\n"
     ]
    },
    {
     "name": "stderr",
     "output_type": "stream",
     "text": [
      "100%|██████████| 10000/10000 [00:17<00:00, 581.92it/s]\n"
     ]
    },
    {
     "name": "stdout",
     "output_type": "stream",
     "text": [
      "Finished Q-learning algorithm.\n",
      "Average reward is : 0.23443481765061455\n"
     ]
    },
    {
     "name": "stderr",
     "output_type": "stream",
     "text": [
      "100%|██████████| 10000/10000 [00:02<00:00, 3913.87it/s]\n"
     ]
    },
    {
     "name": "stdout",
     "output_type": "stream",
     "text": [
      "Success rate is = 12.870000000000001 %\n",
      "Average number of steps before end (success or fall) = 12.0944\n",
      "Loading Q-table saved weights...\n",
      "Error loading Q-table saved weights\n",
      "Initiating new Q-table...\n",
      "Starting Q-learning algorithm...\n"
     ]
    },
    {
     "name": "stderr",
     "output_type": "stream",
     "text": [
      "100%|██████████| 10000/10000 [00:12<00:00, 788.63it/s]\n"
     ]
    },
    {
     "name": "stdout",
     "output_type": "stream",
     "text": [
      "Finished Q-learning algorithm.\n",
      "Average reward is : 0.14397354974451457\n"
     ]
    },
    {
     "name": "stderr",
     "output_type": "stream",
     "text": [
      "100%|██████████| 10000/10000 [00:08<00:00, 1116.96it/s]\n"
     ]
    },
    {
     "name": "stdout",
     "output_type": "stream",
     "text": [
      "Success rate is = 58.06 %\n",
      "Average number of steps before end (success or fall) = 44.883\n",
      "Loading Q-table saved weights...\n",
      "Error loading Q-table saved weights\n",
      "Initiating new Q-table...\n",
      "Starting Q-learning algorithm...\n"
     ]
    },
    {
     "name": "stderr",
     "output_type": "stream",
     "text": [
      "100%|██████████| 10000/10000 [00:10<00:00, 914.75it/s]\n"
     ]
    },
    {
     "name": "stdout",
     "output_type": "stream",
     "text": [
      "Finished Q-learning algorithm.\n",
      "Average reward is : 0.09511902380476095\n"
     ]
    },
    {
     "name": "stderr",
     "output_type": "stream",
     "text": [
      "100%|██████████| 10000/10000 [00:07<00:00, 1389.01it/s]\n"
     ]
    },
    {
     "name": "stdout",
     "output_type": "stream",
     "text": [
      "Success rate is = 40.07 %\n",
      "Average number of steps before end (success or fall) = 35.7824\n",
      "Loading Q-table saved weights...\n",
      "Error loading Q-table saved weights\n",
      "Initiating new Q-table...\n",
      "Starting Q-learning algorithm...\n"
     ]
    },
    {
     "name": "stderr",
     "output_type": "stream",
     "text": [
      "100%|██████████| 10000/10000 [00:05<00:00, 1830.62it/s]\n"
     ]
    },
    {
     "name": "stdout",
     "output_type": "stream",
     "text": [
      "Finished Q-learning algorithm.\n",
      "Average reward is : 0.0282\n"
     ]
    },
    {
     "name": "stderr",
     "output_type": "stream",
     "text": [
      "100%|██████████| 10000/10000 [00:04<00:00, 2243.25it/s]\n"
     ]
    },
    {
     "name": "stdout",
     "output_type": "stream",
     "text": [
      "Success rate is = 12.34 %\n",
      "Average number of steps before end (success or fall) = 21.1528\n",
      "Loading Q-table saved weights...\n",
      "Error loading Q-table saved weights\n",
      "Initiating new Q-table...\n",
      "Starting Q-learning algorithm...\n"
     ]
    },
    {
     "name": "stderr",
     "output_type": "stream",
     "text": [
      "100%|██████████| 10000/10000 [00:20<00:00, 487.75it/s]\n"
     ]
    },
    {
     "name": "stdout",
     "output_type": "stream",
     "text": [
      "Finished Q-learning algorithm.\n",
      "Average reward is : 0.303280358598207\n"
     ]
    },
    {
     "name": "stderr",
     "output_type": "stream",
     "text": [
      "100%|██████████| 10000/10000 [00:07<00:00, 1401.72it/s]\n"
     ]
    },
    {
     "name": "stdout",
     "output_type": "stream",
     "text": [
      "Success rate is = 66.96 %\n",
      "Average number of steps before end (success or fall) = 37.9906\n",
      "Loading Q-table saved weights...\n",
      "Error loading Q-table saved weights\n",
      "Initiating new Q-table...\n",
      "Starting Q-learning algorithm...\n"
     ]
    },
    {
     "name": "stderr",
     "output_type": "stream",
     "text": [
      "100%|██████████| 10000/10000 [00:14<00:00, 685.02it/s]\n"
     ]
    },
    {
     "name": "stdout",
     "output_type": "stream",
     "text": [
      "Finished Q-learning algorithm.\n",
      "Average reward is : 0.17835993174746562\n"
     ]
    },
    {
     "name": "stderr",
     "output_type": "stream",
     "text": [
      "100%|██████████| 10000/10000 [00:03<00:00, 2524.32it/s]\n"
     ]
    },
    {
     "name": "stdout",
     "output_type": "stream",
     "text": [
      "Success rate is = 23.080000000000002 %\n",
      "Average number of steps before end (success or fall) = 19.4664\n",
      "Loading Q-table saved weights...\n",
      "Error loading Q-table saved weights\n",
      "Initiating new Q-table...\n",
      "Starting Q-learning algorithm...\n"
     ]
    },
    {
     "name": "stderr",
     "output_type": "stream",
     "text": [
      "100%|██████████| 10000/10000 [00:11<00:00, 839.16it/s]\n"
     ]
    },
    {
     "name": "stdout",
     "output_type": "stream",
     "text": [
      "Finished Q-learning algorithm.\n",
      "Average reward is : 0.12409927942353884\n"
     ]
    },
    {
     "name": "stderr",
     "output_type": "stream",
     "text": [
      "100%|██████████| 10000/10000 [00:04<00:00, 2445.19it/s]\n"
     ]
    },
    {
     "name": "stdout",
     "output_type": "stream",
     "text": [
      "Success rate is = 29.37 %\n",
      "Average number of steps before end (success or fall) = 20.7999\n",
      "Loading Q-table saved weights...\n",
      "Error loading Q-table saved weights\n",
      "Initiating new Q-table...\n",
      "Starting Q-learning algorithm...\n"
     ]
    },
    {
     "name": "stderr",
     "output_type": "stream",
     "text": [
      "100%|██████████| 10000/10000 [00:05<00:00, 1725.36it/s]\n"
     ]
    },
    {
     "name": "stdout",
     "output_type": "stream",
     "text": [
      "Finished Q-learning algorithm.\n",
      "Average reward is : 0.0314\n"
     ]
    },
    {
     "name": "stderr",
     "output_type": "stream",
     "text": [
      "100%|██████████| 10000/10000 [00:03<00:00, 2528.01it/s]\n"
     ]
    },
    {
     "name": "stdout",
     "output_type": "stream",
     "text": [
      "Success rate is = 3.1199999999999997 %\n",
      "Average number of steps before end (success or fall) = 20.7172\n",
      "Loading Q-table saved weights...\n",
      "Error loading Q-table saved weights\n",
      "Initiating new Q-table...\n",
      "Starting Q-learning algorithm...\n"
     ]
    },
    {
     "name": "stderr",
     "output_type": "stream",
     "text": [
      "100%|██████████| 10000/10000 [00:23<00:00, 426.53it/s]\n"
     ]
    },
    {
     "name": "stdout",
     "output_type": "stream",
     "text": [
      "Finished Q-learning algorithm.\n",
      "Average reward is : 0.36189882621792874\n"
     ]
    },
    {
     "name": "stderr",
     "output_type": "stream",
     "text": [
      "100%|██████████| 10000/10000 [00:09<00:00, 1042.31it/s]\n"
     ]
    },
    {
     "name": "stdout",
     "output_type": "stream",
     "text": [
      "Success rate is = 74.51 %\n",
      "Average number of steps before end (success or fall) = 44.4279\n",
      "Loading Q-table saved weights...\n",
      "Error loading Q-table saved weights\n",
      "Initiating new Q-table...\n",
      "Starting Q-learning algorithm...\n"
     ]
    },
    {
     "name": "stderr",
     "output_type": "stream",
     "text": [
      "100%|██████████| 10000/10000 [00:16<00:00, 592.11it/s]\n"
     ]
    },
    {
     "name": "stdout",
     "output_type": "stream",
     "text": [
      "Finished Q-learning algorithm.\n",
      "Average reward is : 0.2064867042707494\n"
     ]
    },
    {
     "name": "stderr",
     "output_type": "stream",
     "text": [
      "100%|██████████| 10000/10000 [00:06<00:00, 1628.93it/s]\n"
     ]
    },
    {
     "name": "stdout",
     "output_type": "stream",
     "text": [
      "Success rate is = 24.82 %\n",
      "Average number of steps before end (success or fall) = 29.1797\n",
      "Loading Q-table saved weights...\n",
      "Error loading Q-table saved weights\n",
      "Initiating new Q-table...\n",
      "Starting Q-learning algorithm...\n"
     ]
    },
    {
     "name": "stderr",
     "output_type": "stream",
     "text": [
      "100%|██████████| 10000/10000 [00:12<00:00, 787.77it/s]\n"
     ]
    },
    {
     "name": "stdout",
     "output_type": "stream",
     "text": [
      "Finished Q-learning algorithm.\n",
      "Average reward is : 0.13259281497047934\n"
     ]
    },
    {
     "name": "stderr",
     "output_type": "stream",
     "text": [
      "100%|██████████| 10000/10000 [00:03<00:00, 2743.71it/s]\n"
     ]
    },
    {
     "name": "stdout",
     "output_type": "stream",
     "text": [
      "Success rate is = 24.279999999999998 %\n",
      "Average number of steps before end (success or fall) = 16.0492\n",
      "Loading Q-table saved weights...\n",
      "Error loading Q-table saved weights\n",
      "Initiating new Q-table...\n",
      "Starting Q-learning algorithm...\n"
     ]
    },
    {
     "name": "stderr",
     "output_type": "stream",
     "text": [
      "100%|██████████| 10000/10000 [00:05<00:00, 1749.21it/s]\n"
     ]
    },
    {
     "name": "stdout",
     "output_type": "stream",
     "text": [
      "Finished Q-learning algorithm.\n",
      "Average reward is : 0.028\n"
     ]
    },
    {
     "name": "stderr",
     "output_type": "stream",
     "text": [
      "100%|██████████| 10000/10000 [00:05<00:00, 1847.09it/s]\n"
     ]
    },
    {
     "name": "stdout",
     "output_type": "stream",
     "text": [
      "Success rate is = 38.72 %\n",
      "Average number of steps before end (success or fall) = 27.0365\n",
      "Loading Q-table saved weights...\n",
      "Error loading Q-table saved weights\n",
      "Initiating new Q-table...\n",
      "Starting Q-learning algorithm...\n"
     ]
    },
    {
     "name": "stderr",
     "output_type": "stream",
     "text": [
      "100%|██████████| 10000/10000 [00:28<00:00, 352.85it/s]\n"
     ]
    },
    {
     "name": "stdout",
     "output_type": "stream",
     "text": [
      "Finished Q-learning algorithm.\n",
      "Average reward is : 0.37556658752428235\n"
     ]
    },
    {
     "name": "stderr",
     "output_type": "stream",
     "text": [
      "100%|██████████| 10000/10000 [00:09<00:00, 1084.75it/s]\n"
     ]
    },
    {
     "name": "stdout",
     "output_type": "stream",
     "text": [
      "Success rate is = 73.78 %\n",
      "Average number of steps before end (success or fall) = 44.7723\n",
      "Loading Q-table saved weights...\n",
      "Error loading Q-table saved weights\n",
      "Initiating new Q-table...\n",
      "Starting Q-learning algorithm...\n"
     ]
    },
    {
     "name": "stderr",
     "output_type": "stream",
     "text": [
      "100%|██████████| 10000/10000 [00:19<00:00, 503.07it/s]\n"
     ]
    },
    {
     "name": "stdout",
     "output_type": "stream",
     "text": [
      "Finished Q-learning algorithm.\n",
      "Average reward is : 0.22074468085106383\n"
     ]
    },
    {
     "name": "stderr",
     "output_type": "stream",
     "text": [
      "100%|██████████| 10000/10000 [00:20<00:00, 484.82it/s]\n"
     ]
    },
    {
     "name": "stdout",
     "output_type": "stream",
     "text": [
      "Success rate is = 0.0 %\n",
      "Average number of steps before end (success or fall) = 100.0\n",
      "Loading Q-table saved weights...\n",
      "Error loading Q-table saved weights\n",
      "Initiating new Q-table...\n",
      "Starting Q-learning algorithm...\n"
     ]
    },
    {
     "name": "stderr",
     "output_type": "stream",
     "text": [
      "100%|██████████| 10000/10000 [00:15<00:00, 655.00it/s]\n"
     ]
    },
    {
     "name": "stdout",
     "output_type": "stream",
     "text": [
      "Finished Q-learning algorithm.\n",
      "Average reward is : 0.14567008237894313\n"
     ]
    },
    {
     "name": "stderr",
     "output_type": "stream",
     "text": [
      "100%|██████████| 10000/10000 [00:07<00:00, 1410.90it/s]\n"
     ]
    },
    {
     "name": "stdout",
     "output_type": "stream",
     "text": [
      "Success rate is = 49.11 %\n",
      "Average number of steps before end (success or fall) = 33.8483\n",
      "Loading Q-table saved weights...\n",
      "Error loading Q-table saved weights\n",
      "Initiating new Q-table...\n",
      "Starting Q-learning algorithm...\n"
     ]
    },
    {
     "name": "stderr",
     "output_type": "stream",
     "text": [
      "100%|██████████| 10000/10000 [00:05<00:00, 1667.11it/s]\n"
     ]
    },
    {
     "name": "stdout",
     "output_type": "stream",
     "text": [
      "Finished Q-learning algorithm.\n",
      "Average reward is : 0.0358\n"
     ]
    },
    {
     "name": "stderr",
     "output_type": "stream",
     "text": [
      "100%|██████████| 10000/10000 [00:11<00:00, 857.47it/s]\n"
     ]
    },
    {
     "name": "stdout",
     "output_type": "stream",
     "text": [
      "Success rate is = 11.66 %\n",
      "Average number of steps before end (success or fall) = 59.1598\n",
      "Loading Q-table saved weights...\n",
      "Error loading Q-table saved weights\n",
      "Initiating new Q-table...\n",
      "Starting Q-learning algorithm...\n"
     ]
    },
    {
     "name": "stderr",
     "output_type": "stream",
     "text": [
      "100%|██████████| 10000/10000 [00:55<00:00, 179.30it/s]\n"
     ]
    },
    {
     "name": "stdout",
     "output_type": "stream",
     "text": [
      "Finished Q-learning algorithm.\n",
      "Average reward is : 0.07748830995323981\n"
     ]
    },
    {
     "name": "stderr",
     "output_type": "stream",
     "text": [
      "100%|██████████| 10000/10000 [00:20<00:00, 485.89it/s]\n"
     ]
    },
    {
     "name": "stdout",
     "output_type": "stream",
     "text": [
      "Success rate is = 0.0 %\n",
      "Average number of steps before end (success or fall) = 100.0\n",
      "Loading Q-table saved weights...\n",
      "Error loading Q-table saved weights\n",
      "Initiating new Q-table...\n",
      "Starting Q-learning algorithm...\n"
     ]
    },
    {
     "name": "stderr",
     "output_type": "stream",
     "text": [
      "100%|██████████| 10000/10000 [00:42<00:00, 237.01it/s]\n"
     ]
    },
    {
     "name": "stdout",
     "output_type": "stream",
     "text": [
      "Finished Q-learning algorithm.\n",
      "Average reward is : 0.0724276416008863\n"
     ]
    },
    {
     "name": "stderr",
     "output_type": "stream",
     "text": [
      "100%|██████████| 10000/10000 [00:19<00:00, 502.49it/s]\n"
     ]
    },
    {
     "name": "stdout",
     "output_type": "stream",
     "text": [
      "Success rate is = 0.0 %\n",
      "Average number of steps before end (success or fall) = 100.0\n",
      "Loading Q-table saved weights...\n",
      "Error loading Q-table saved weights\n",
      "Initiating new Q-table...\n",
      "Starting Q-learning algorithm...\n"
     ]
    },
    {
     "name": "stderr",
     "output_type": "stream",
     "text": [
      "100%|██████████| 10000/10000 [00:30<00:00, 324.03it/s]\n"
     ]
    },
    {
     "name": "stdout",
     "output_type": "stream",
     "text": [
      "Finished Q-learning algorithm.\n",
      "Average reward is : 0.060002251491613194\n"
     ]
    },
    {
     "name": "stderr",
     "output_type": "stream",
     "text": [
      "100%|██████████| 10000/10000 [00:21<00:00, 466.87it/s]\n"
     ]
    },
    {
     "name": "stdout",
     "output_type": "stream",
     "text": [
      "Success rate is = 0.0 %\n",
      "Average number of steps before end (success or fall) = 100.0\n",
      "Loading Q-table saved weights...\n",
      "Error loading Q-table saved weights\n",
      "Initiating new Q-table...\n",
      "Starting Q-learning algorithm...\n"
     ]
    },
    {
     "name": "stderr",
     "output_type": "stream",
     "text": [
      "100%|██████████| 10000/10000 [00:08<00:00, 1174.13it/s]\n"
     ]
    },
    {
     "name": "stdout",
     "output_type": "stream",
     "text": [
      "Finished Q-learning algorithm.\n",
      "Average reward is : 0.031203120312031204\n"
     ]
    },
    {
     "name": "stderr",
     "output_type": "stream",
     "text": [
      "100%|██████████| 10000/10000 [00:25<00:00, 399.67it/s]\n"
     ]
    },
    {
     "name": "stdout",
     "output_type": "stream",
     "text": [
      "Success rate is = 0.0 %\n",
      "Average number of steps before end (success or fall) = 100.0\n",
      "Loading Q-table saved weights...\n",
      "Error loading Q-table saved weights\n",
      "Initiating new Q-table...\n",
      "Starting Q-learning algorithm...\n"
     ]
    },
    {
     "name": "stderr",
     "output_type": "stream",
     "text": [
      "100%|██████████| 10000/10000 [00:11<00:00, 847.96it/s]\n"
     ]
    },
    {
     "name": "stdout",
     "output_type": "stream",
     "text": [
      "Finished Q-learning algorithm.\n",
      "Average reward is : 0.13332665531403387\n"
     ]
    },
    {
     "name": "stderr",
     "output_type": "stream",
     "text": [
      "100%|██████████| 10000/10000 [00:03<00:00, 2854.70it/s]\n"
     ]
    },
    {
     "name": "stdout",
     "output_type": "stream",
     "text": [
      "Success rate is = 20.18 %\n",
      "Average number of steps before end (success or fall) = 16.0271\n",
      "Loading Q-table saved weights...\n",
      "Error loading Q-table saved weights\n",
      "Initiating new Q-table...\n",
      "Starting Q-learning algorithm...\n"
     ]
    },
    {
     "name": "stderr",
     "output_type": "stream",
     "text": [
      "100%|██████████| 10000/10000 [00:08<00:00, 1150.92it/s]\n"
     ]
    },
    {
     "name": "stdout",
     "output_type": "stream",
     "text": [
      "Finished Q-learning algorithm.\n",
      "Average reward is : 0.0819081908190819\n"
     ]
    },
    {
     "name": "stderr",
     "output_type": "stream",
     "text": [
      "100%|██████████| 10000/10000 [00:03<00:00, 3328.78it/s]\n"
     ]
    },
    {
     "name": "stdout",
     "output_type": "stream",
     "text": [
      "Success rate is = 20.39 %\n",
      "Average number of steps before end (success or fall) = 15.4973\n",
      "Loading Q-table saved weights...\n",
      "Error loading Q-table saved weights\n",
      "Initiating new Q-table...\n",
      "Starting Q-learning algorithm...\n"
     ]
    },
    {
     "name": "stderr",
     "output_type": "stream",
     "text": [
      "100%|██████████| 10000/10000 [00:08<00:00, 1141.99it/s]\n"
     ]
    },
    {
     "name": "stdout",
     "output_type": "stream",
     "text": [
      "Finished Q-learning algorithm.\n",
      "Average reward is : 0.0587\n"
     ]
    },
    {
     "name": "stderr",
     "output_type": "stream",
     "text": [
      "100%|██████████| 10000/10000 [00:03<00:00, 3038.60it/s]\n"
     ]
    },
    {
     "name": "stdout",
     "output_type": "stream",
     "text": [
      "Success rate is = 13.239999999999998 %\n",
      "Average number of steps before end (success or fall) = 17.103\n",
      "Loading Q-table saved weights...\n",
      "Error loading Q-table saved weights\n",
      "Initiating new Q-table...\n",
      "Starting Q-learning algorithm...\n"
     ]
    },
    {
     "name": "stderr",
     "output_type": "stream",
     "text": [
      "100%|██████████| 10000/10000 [00:05<00:00, 1860.38it/s]\n"
     ]
    },
    {
     "name": "stdout",
     "output_type": "stream",
     "text": [
      "Finished Q-learning algorithm.\n",
      "Average reward is : 0.0277\n"
     ]
    },
    {
     "name": "stderr",
     "output_type": "stream",
     "text": [
      "100%|██████████| 10000/10000 [00:02<00:00, 3926.01it/s]\n"
     ]
    },
    {
     "name": "stdout",
     "output_type": "stream",
     "text": [
      "Success rate is = 0.0 %\n",
      "Average number of steps before end (success or fall) = 10.3984\n",
      "Loading Q-table saved weights...\n",
      "Error loading Q-table saved weights\n",
      "Initiating new Q-table...\n",
      "Starting Q-learning algorithm...\n"
     ]
    },
    {
     "name": "stderr",
     "output_type": "stream",
     "text": [
      "100%|██████████| 10000/10000 [00:17<00:00, 576.16it/s]\n"
     ]
    },
    {
     "name": "stdout",
     "output_type": "stream",
     "text": [
      "Finished Q-learning algorithm.\n",
      "Average reward is : 0.24324050632911393\n"
     ]
    },
    {
     "name": "stderr",
     "output_type": "stream",
     "text": [
      "100%|██████████| 10000/10000 [00:07<00:00, 1297.30it/s]\n"
     ]
    },
    {
     "name": "stdout",
     "output_type": "stream",
     "text": [
      "Success rate is = 63.72 %\n",
      "Average number of steps before end (success or fall) = 41.4089\n",
      "Loading Q-table saved weights...\n",
      "Error loading Q-table saved weights\n",
      "Initiating new Q-table...\n",
      "Starting Q-learning algorithm...\n"
     ]
    },
    {
     "name": "stderr",
     "output_type": "stream",
     "text": [
      "100%|██████████| 10000/10000 [00:14<00:00, 691.35it/s]\n"
     ]
    },
    {
     "name": "stdout",
     "output_type": "stream",
     "text": [
      "Finished Q-learning algorithm.\n",
      "Average reward is : 0.14345822480464837\n"
     ]
    },
    {
     "name": "stderr",
     "output_type": "stream",
     "text": [
      "100%|██████████| 10000/10000 [00:06<00:00, 1568.90it/s]\n"
     ]
    },
    {
     "name": "stdout",
     "output_type": "stream",
     "text": [
      "Success rate is = 0.0 %\n",
      "Average number of steps before end (success or fall) = 30.1586\n",
      "Loading Q-table saved weights...\n",
      "Error loading Q-table saved weights\n",
      "Initiating new Q-table...\n",
      "Starting Q-learning algorithm...\n"
     ]
    },
    {
     "name": "stderr",
     "output_type": "stream",
     "text": [
      "100%|██████████| 10000/10000 [00:10<00:00, 949.77it/s]\n"
     ]
    },
    {
     "name": "stdout",
     "output_type": "stream",
     "text": [
      "Finished Q-learning algorithm.\n",
      "Average reward is : 0.09790979097909791\n"
     ]
    },
    {
     "name": "stderr",
     "output_type": "stream",
     "text": [
      "100%|██████████| 10000/10000 [00:07<00:00, 1337.79it/s]\n"
     ]
    },
    {
     "name": "stdout",
     "output_type": "stream",
     "text": [
      "Success rate is = 60.040000000000006 %\n",
      "Average number of steps before end (success or fall) = 36.12\n",
      "Loading Q-table saved weights...\n",
      "Error loading Q-table saved weights\n",
      "Initiating new Q-table...\n",
      "Starting Q-learning algorithm...\n"
     ]
    },
    {
     "name": "stderr",
     "output_type": "stream",
     "text": [
      "100%|██████████| 10000/10000 [00:05<00:00, 1864.43it/s]\n"
     ]
    },
    {
     "name": "stdout",
     "output_type": "stream",
     "text": [
      "Finished Q-learning algorithm.\n",
      "Average reward is : 0.0249\n"
     ]
    },
    {
     "name": "stderr",
     "output_type": "stream",
     "text": [
      "100%|██████████| 10000/10000 [00:04<00:00, 2151.96it/s]\n"
     ]
    },
    {
     "name": "stdout",
     "output_type": "stream",
     "text": [
      "Success rate is = 17.64 %\n",
      "Average number of steps before end (success or fall) = 24.3975\n",
      "Loading Q-table saved weights...\n",
      "Error loading Q-table saved weights\n",
      "Initiating new Q-table...\n",
      "Starting Q-learning algorithm...\n"
     ]
    },
    {
     "name": "stderr",
     "output_type": "stream",
     "text": [
      "100%|██████████| 10000/10000 [00:21<00:00, 469.39it/s]\n"
     ]
    },
    {
     "name": "stdout",
     "output_type": "stream",
     "text": [
      "Finished Q-learning algorithm.\n",
      "Average reward is : 0.312825221916131\n"
     ]
    },
    {
     "name": "stderr",
     "output_type": "stream",
     "text": [
      "100%|██████████| 10000/10000 [00:06<00:00, 1537.05it/s]\n"
     ]
    },
    {
     "name": "stdout",
     "output_type": "stream",
     "text": [
      "Success rate is = 51.2 %\n",
      "Average number of steps before end (success or fall) = 33.6381\n",
      "Loading Q-table saved weights...\n",
      "Error loading Q-table saved weights\n",
      "Initiating new Q-table...\n",
      "Starting Q-learning algorithm...\n"
     ]
    },
    {
     "name": "stderr",
     "output_type": "stream",
     "text": [
      "100%|██████████| 10000/10000 [00:15<00:00, 640.31it/s]\n"
     ]
    },
    {
     "name": "stdout",
     "output_type": "stream",
     "text": [
      "Finished Q-learning algorithm.\n",
      "Average reward is : 0.16921068487648122\n"
     ]
    },
    {
     "name": "stderr",
     "output_type": "stream",
     "text": [
      "100%|██████████| 10000/10000 [00:09<00:00, 1083.13it/s]\n"
     ]
    },
    {
     "name": "stdout",
     "output_type": "stream",
     "text": [
      "Success rate is = 57.940000000000005 %\n",
      "Average number of steps before end (success or fall) = 44.7816\n",
      "Loading Q-table saved weights...\n",
      "Error loading Q-table saved weights\n",
      "Initiating new Q-table...\n",
      "Starting Q-learning algorithm...\n"
     ]
    },
    {
     "name": "stderr",
     "output_type": "stream",
     "text": [
      "100%|██████████| 10000/10000 [00:12<00:00, 798.30it/s]\n"
     ]
    },
    {
     "name": "stdout",
     "output_type": "stream",
     "text": [
      "Finished Q-learning algorithm.\n",
      "Average reward is : 0.11046627976786072\n"
     ]
    },
    {
     "name": "stderr",
     "output_type": "stream",
     "text": [
      "100%|██████████| 10000/10000 [00:05<00:00, 1765.01it/s]\n"
     ]
    },
    {
     "name": "stdout",
     "output_type": "stream",
     "text": [
      "Success rate is = 26.790000000000003 %\n",
      "Average number of steps before end (success or fall) = 25.4997\n",
      "Loading Q-table saved weights...\n",
      "Error loading Q-table saved weights\n",
      "Initiating new Q-table...\n",
      "Starting Q-learning algorithm...\n"
     ]
    },
    {
     "name": "stderr",
     "output_type": "stream",
     "text": [
      "100%|██████████| 10000/10000 [00:05<00:00, 1778.20it/s]\n"
     ]
    },
    {
     "name": "stdout",
     "output_type": "stream",
     "text": [
      "Finished Q-learning algorithm.\n",
      "Average reward is : 0.0274\n"
     ]
    },
    {
     "name": "stderr",
     "output_type": "stream",
     "text": [
      "100%|██████████| 10000/10000 [00:04<00:00, 2486.92it/s]\n"
     ]
    },
    {
     "name": "stdout",
     "output_type": "stream",
     "text": [
      "Success rate is = 17.66 %\n",
      "Average number of steps before end (success or fall) = 18.0403\n",
      "Loading Q-table saved weights...\n",
      "Error loading Q-table saved weights\n",
      "Initiating new Q-table...\n",
      "Starting Q-learning algorithm...\n"
     ]
    },
    {
     "name": "stderr",
     "output_type": "stream",
     "text": [
      "100%|██████████| 10000/10000 [00:25<00:00, 387.74it/s]\n"
     ]
    },
    {
     "name": "stdout",
     "output_type": "stream",
     "text": [
      "Finished Q-learning algorithm.\n",
      "Average reward is : 0.33848080133555924\n"
     ]
    },
    {
     "name": "stderr",
     "output_type": "stream",
     "text": [
      "100%|██████████| 10000/10000 [00:07<00:00, 1384.94it/s]\n"
     ]
    },
    {
     "name": "stdout",
     "output_type": "stream",
     "text": [
      "Success rate is = 60.17 %\n",
      "Average number of steps before end (success or fall) = 36.1198\n",
      "Loading Q-table saved weights...\n",
      "Error loading Q-table saved weights\n",
      "Initiating new Q-table...\n",
      "Starting Q-learning algorithm...\n"
     ]
    },
    {
     "name": "stderr",
     "output_type": "stream",
     "text": [
      "100%|██████████| 10000/10000 [00:17<00:00, 566.55it/s]\n"
     ]
    },
    {
     "name": "stdout",
     "output_type": "stream",
     "text": [
      "Finished Q-learning algorithm.\n",
      "Average reward is : 0.1913904607922393\n"
     ]
    },
    {
     "name": "stderr",
     "output_type": "stream",
     "text": [
      "100%|██████████| 10000/10000 [00:08<00:00, 1158.01it/s]\n"
     ]
    },
    {
     "name": "stdout",
     "output_type": "stream",
     "text": [
      "Success rate is = 72.78 %\n",
      "Average number of steps before end (success or fall) = 41.9104\n",
      "Loading Q-table saved weights...\n",
      "Error loading Q-table saved weights\n",
      "Initiating new Q-table...\n",
      "Starting Q-learning algorithm...\n"
     ]
    },
    {
     "name": "stderr",
     "output_type": "stream",
     "text": [
      "100%|██████████| 10000/10000 [00:14<00:00, 708.63it/s]\n"
     ]
    },
    {
     "name": "stdout",
     "output_type": "stream",
     "text": [
      "Finished Q-learning algorithm.\n",
      "Average reward is : 0.11269015212169736\n"
     ]
    },
    {
     "name": "stderr",
     "output_type": "stream",
     "text": [
      "100%|██████████| 10000/10000 [00:11<00:00, 906.49it/s]\n"
     ]
    },
    {
     "name": "stdout",
     "output_type": "stream",
     "text": [
      "Success rate is = 0.0 %\n",
      "Average number of steps before end (success or fall) = 54.0841\n",
      "Loading Q-table saved weights...\n",
      "Error loading Q-table saved weights\n",
      "Initiating new Q-table...\n",
      "Starting Q-learning algorithm...\n"
     ]
    },
    {
     "name": "stderr",
     "output_type": "stream",
     "text": [
      "100%|██████████| 10000/10000 [00:05<00:00, 1767.80it/s]\n"
     ]
    },
    {
     "name": "stdout",
     "output_type": "stream",
     "text": [
      "Finished Q-learning algorithm.\n",
      "Average reward is : 0.0285\n"
     ]
    },
    {
     "name": "stderr",
     "output_type": "stream",
     "text": [
      "100%|██████████| 10000/10000 [00:03<00:00, 2679.84it/s]\n"
     ]
    },
    {
     "name": "stdout",
     "output_type": "stream",
     "text": [
      "Success rate is = 6.9 %\n",
      "Average number of steps before end (success or fall) = 18.5764\n",
      "Loading Q-table saved weights...\n",
      "Error loading Q-table saved weights\n",
      "Initiating new Q-table...\n",
      "Starting Q-learning algorithm...\n"
     ]
    },
    {
     "name": "stderr",
     "output_type": "stream",
     "text": [
      "100%|██████████| 10000/10000 [00:29<00:00, 337.60it/s]\n"
     ]
    },
    {
     "name": "stdout",
     "output_type": "stream",
     "text": [
      "Finished Q-learning algorithm.\n",
      "Average reward is : 0.334807118381784\n"
     ]
    },
    {
     "name": "stderr",
     "output_type": "stream",
     "text": [
      "100%|██████████| 10000/10000 [00:20<00:00, 483.86it/s]\n"
     ]
    },
    {
     "name": "stdout",
     "output_type": "stream",
     "text": [
      "Success rate is = 0.0 %\n",
      "Average number of steps before end (success or fall) = 100.0\n",
      "Loading Q-table saved weights...\n",
      "Error loading Q-table saved weights\n",
      "Initiating new Q-table...\n",
      "Starting Q-learning algorithm...\n"
     ]
    },
    {
     "name": "stderr",
     "output_type": "stream",
     "text": [
      "100%|██████████| 10000/10000 [00:23<00:00, 424.64it/s]\n"
     ]
    },
    {
     "name": "stdout",
     "output_type": "stream",
     "text": [
      "Finished Q-learning algorithm.\n",
      "Average reward is : 0.19688644688644688\n"
     ]
    },
    {
     "name": "stderr",
     "output_type": "stream",
     "text": [
      "100%|██████████| 10000/10000 [00:07<00:00, 1259.72it/s]\n"
     ]
    },
    {
     "name": "stdout",
     "output_type": "stream",
     "text": [
      "Success rate is = 50.019999999999996 %\n",
      "Average number of steps before end (success or fall) = 33.166\n",
      "Loading Q-table saved weights...\n",
      "Error loading Q-table saved weights\n",
      "Initiating new Q-table...\n",
      "Starting Q-learning algorithm...\n"
     ]
    },
    {
     "name": "stderr",
     "output_type": "stream",
     "text": [
      "100%|██████████| 10000/10000 [00:14<00:00, 667.89it/s]\n"
     ]
    },
    {
     "name": "stdout",
     "output_type": "stream",
     "text": [
      "Finished Q-learning algorithm.\n",
      "Average reward is : 0.12545162585307107\n"
     ]
    },
    {
     "name": "stderr",
     "output_type": "stream",
     "text": [
      "100%|██████████| 10000/10000 [00:12<00:00, 790.38it/s]\n"
     ]
    },
    {
     "name": "stdout",
     "output_type": "stream",
     "text": [
      "Success rate is = 54.459999999999994 %\n",
      "Average number of steps before end (success or fall) = 63.4094\n",
      "Loading Q-table saved weights...\n",
      "Error loading Q-table saved weights\n",
      "Initiating new Q-table...\n",
      "Starting Q-learning algorithm...\n"
     ]
    },
    {
     "name": "stderr",
     "output_type": "stream",
     "text": [
      "100%|██████████| 10000/10000 [00:05<00:00, 1703.44it/s]\n"
     ]
    },
    {
     "name": "stdout",
     "output_type": "stream",
     "text": [
      "Finished Q-learning algorithm.\n",
      "Average reward is : 0.0308\n"
     ]
    },
    {
     "name": "stderr",
     "output_type": "stream",
     "text": [
      "100%|██████████| 10000/10000 [00:03<00:00, 2570.23it/s]\n"
     ]
    },
    {
     "name": "stdout",
     "output_type": "stream",
     "text": [
      "Success rate is = 20.05 %\n",
      "Average number of steps before end (success or fall) = 17.0387\n",
      "Loading Q-table saved weights...\n",
      "Error loading Q-table saved weights\n",
      "Initiating new Q-table...\n",
      "Starting Q-learning algorithm...\n"
     ]
    },
    {
     "name": "stderr",
     "output_type": "stream",
     "text": [
      "100%|██████████| 10000/10000 [00:55<00:00, 180.38it/s]\n"
     ]
    },
    {
     "name": "stdout",
     "output_type": "stream",
     "text": [
      "Finished Q-learning algorithm.\n",
      "Average reward is : 0.0735195530726257\n"
     ]
    },
    {
     "name": "stderr",
     "output_type": "stream",
     "text": [
      "100%|██████████| 10000/10000 [00:19<00:00, 518.30it/s]\n"
     ]
    },
    {
     "name": "stdout",
     "output_type": "stream",
     "text": [
      "Success rate is = 0.0 %\n",
      "Average number of steps before end (success or fall) = 100.0\n",
      "Loading Q-table saved weights...\n",
      "Error loading Q-table saved weights\n",
      "Initiating new Q-table...\n",
      "Starting Q-learning algorithm...\n"
     ]
    },
    {
     "name": "stderr",
     "output_type": "stream",
     "text": [
      "100%|██████████| 10000/10000 [00:43<00:00, 231.97it/s]\n"
     ]
    },
    {
     "name": "stdout",
     "output_type": "stream",
     "text": [
      "Finished Q-learning algorithm.\n",
      "Average reward is : 0.06910400221575959\n"
     ]
    },
    {
     "name": "stderr",
     "output_type": "stream",
     "text": [
      "100%|██████████| 10000/10000 [00:20<00:00, 479.33it/s]\n"
     ]
    },
    {
     "name": "stdout",
     "output_type": "stream",
     "text": [
      "Success rate is = 0.0 %\n",
      "Average number of steps before end (success or fall) = 100.0\n",
      "Loading Q-table saved weights...\n",
      "Error loading Q-table saved weights\n",
      "Initiating new Q-table...\n",
      "Starting Q-learning algorithm...\n"
     ]
    },
    {
     "name": "stderr",
     "output_type": "stream",
     "text": [
      "100%|██████████| 10000/10000 [00:37<00:00, 268.17it/s]\n"
     ]
    },
    {
     "name": "stdout",
     "output_type": "stream",
     "text": [
      "Finished Q-learning algorithm.\n",
      "Average reward is : 0.0618918307309346\n"
     ]
    },
    {
     "name": "stderr",
     "output_type": "stream",
     "text": [
      "100%|██████████| 10000/10000 [00:20<00:00, 476.89it/s]\n"
     ]
    },
    {
     "name": "stdout",
     "output_type": "stream",
     "text": [
      "Success rate is = 0.0 %\n",
      "Average number of steps before end (success or fall) = 100.0\n",
      "Loading Q-table saved weights...\n",
      "Error loading Q-table saved weights\n",
      "Initiating new Q-table...\n",
      "Starting Q-learning algorithm...\n"
     ]
    },
    {
     "name": "stderr",
     "output_type": "stream",
     "text": [
      "100%|██████████| 10000/10000 [00:09<00:00, 1041.09it/s]\n"
     ]
    },
    {
     "name": "stdout",
     "output_type": "stream",
     "text": [
      "Finished Q-learning algorithm.\n",
      "Average reward is : 0.0301\n"
     ]
    },
    {
     "name": "stderr",
     "output_type": "stream",
     "text": [
      "100%|██████████| 10000/10000 [00:20<00:00, 495.49it/s]\n"
     ]
    },
    {
     "name": "stdout",
     "output_type": "stream",
     "text": [
      "Success rate is = 0.0 %\n",
      "Average number of steps before end (success or fall) = 100.0\n",
      "Loading Q-table saved weights...\n",
      "Error loading Q-table saved weights\n",
      "Initiating new Q-table...\n",
      "Starting Q-learning algorithm...\n"
     ]
    },
    {
     "name": "stderr",
     "output_type": "stream",
     "text": [
      "100%|██████████| 10000/10000 [00:16<00:00, 620.98it/s]\n"
     ]
    },
    {
     "name": "stdout",
     "output_type": "stream",
     "text": [
      "Finished Q-learning algorithm.\n",
      "Average reward is : 0.19644113803156732\n"
     ]
    },
    {
     "name": "stderr",
     "output_type": "stream",
     "text": [
      "100%|██████████| 10000/10000 [00:02<00:00, 3612.70it/s]\n"
     ]
    },
    {
     "name": "stdout",
     "output_type": "stream",
     "text": [
      "Success rate is = 8.75 %\n",
      "Average number of steps before end (success or fall) = 13.4993\n",
      "Loading Q-table saved weights...\n",
      "Error loading Q-table saved weights\n",
      "Initiating new Q-table...\n",
      "Starting Q-learning algorithm...\n"
     ]
    },
    {
     "name": "stderr",
     "output_type": "stream",
     "text": [
      "100%|██████████| 10000/10000 [00:11<00:00, 871.36it/s]\n"
     ]
    },
    {
     "name": "stdout",
     "output_type": "stream",
     "text": [
      "Finished Q-learning algorithm.\n",
      "Average reward is : 0.11126676005603361\n"
     ]
    },
    {
     "name": "stderr",
     "output_type": "stream",
     "text": [
      "100%|██████████| 10000/10000 [00:03<00:00, 3264.40it/s]\n"
     ]
    },
    {
     "name": "stdout",
     "output_type": "stream",
     "text": [
      "Success rate is = 8.88 %\n",
      "Average number of steps before end (success or fall) = 14.5854\n",
      "Loading Q-table saved weights...\n",
      "Error loading Q-table saved weights\n",
      "Initiating new Q-table...\n",
      "Starting Q-learning algorithm...\n"
     ]
    },
    {
     "name": "stderr",
     "output_type": "stream",
     "text": [
      "100%|██████████| 10000/10000 [00:12<00:00, 800.07it/s]\n"
     ]
    },
    {
     "name": "stdout",
     "output_type": "stream",
     "text": [
      "Finished Q-learning algorithm.\n",
      "Average reward is : 0.0809080908090809\n"
     ]
    },
    {
     "name": "stderr",
     "output_type": "stream",
     "text": [
      "100%|██████████| 10000/10000 [00:08<00:00, 1127.25it/s]\n"
     ]
    },
    {
     "name": "stdout",
     "output_type": "stream",
     "text": [
      "Success rate is = 57.75 %\n",
      "Average number of steps before end (success or fall) = 44.7247\n",
      "Loading Q-table saved weights...\n",
      "Error loading Q-table saved weights\n",
      "Initiating new Q-table...\n",
      "Starting Q-learning algorithm...\n"
     ]
    },
    {
     "name": "stderr",
     "output_type": "stream",
     "text": [
      "100%|██████████| 10000/10000 [00:05<00:00, 1710.81it/s]\n"
     ]
    },
    {
     "name": "stdout",
     "output_type": "stream",
     "text": [
      "Finished Q-learning algorithm.\n",
      "Average reward is : 0.0235\n"
     ]
    },
    {
     "name": "stderr",
     "output_type": "stream",
     "text": [
      "100%|██████████| 10000/10000 [00:03<00:00, 2553.66it/s]\n"
     ]
    },
    {
     "name": "stdout",
     "output_type": "stream",
     "text": [
      "Success rate is = 9.120000000000001 %\n",
      "Average number of steps before end (success or fall) = 20.1215\n",
      "Loading Q-table saved weights...\n",
      "Error loading Q-table saved weights\n",
      "Initiating new Q-table...\n",
      "Starting Q-learning algorithm...\n"
     ]
    },
    {
     "name": "stderr",
     "output_type": "stream",
     "text": [
      "100%|██████████| 10000/10000 [00:22<00:00, 443.72it/s]\n"
     ]
    },
    {
     "name": "stdout",
     "output_type": "stream",
     "text": [
      "Finished Q-learning algorithm.\n",
      "Average reward is : 0.2896001636159116\n"
     ]
    },
    {
     "name": "stderr",
     "output_type": "stream",
     "text": [
      "100%|██████████| 10000/10000 [00:08<00:00, 1239.43it/s]\n"
     ]
    },
    {
     "name": "stdout",
     "output_type": "stream",
     "text": [
      "Success rate is = 24.69 %\n",
      "Average number of steps before end (success or fall) = 35.1398\n",
      "Loading Q-table saved weights...\n",
      "Error loading Q-table saved weights\n",
      "Initiating new Q-table...\n",
      "Starting Q-learning algorithm...\n"
     ]
    },
    {
     "name": "stderr",
     "output_type": "stream",
     "text": [
      "100%|██████████| 10000/10000 [00:15<00:00, 633.52it/s]\n"
     ]
    },
    {
     "name": "stdout",
     "output_type": "stream",
     "text": [
      "Finished Q-learning algorithm.\n",
      "Average reward is : 0.1554440541896638\n"
     ]
    },
    {
     "name": "stderr",
     "output_type": "stream",
     "text": [
      "100%|██████████| 10000/10000 [00:08<00:00, 1235.98it/s]\n"
     ]
    },
    {
     "name": "stdout",
     "output_type": "stream",
     "text": [
      "Success rate is = 61.42999999999999 %\n",
      "Average number of steps before end (success or fall) = 39.1159\n",
      "Loading Q-table saved weights...\n",
      "Error loading Q-table saved weights\n",
      "Initiating new Q-table...\n",
      "Starting Q-learning algorithm...\n"
     ]
    },
    {
     "name": "stderr",
     "output_type": "stream",
     "text": [
      "100%|██████████| 10000/10000 [00:12<00:00, 803.06it/s]\n"
     ]
    },
    {
     "name": "stdout",
     "output_type": "stream",
     "text": [
      "Finished Q-learning algorithm.\n",
      "Average reward is : 0.09833933573429372\n"
     ]
    },
    {
     "name": "stderr",
     "output_type": "stream",
     "text": [
      "100%|██████████| 10000/10000 [00:10<00:00, 996.71it/s]\n"
     ]
    },
    {
     "name": "stdout",
     "output_type": "stream",
     "text": [
      "Success rate is = 22.45 %\n",
      "Average number of steps before end (success or fall) = 47.5622\n",
      "Loading Q-table saved weights...\n",
      "Error loading Q-table saved weights\n",
      "Initiating new Q-table...\n",
      "Starting Q-learning algorithm...\n"
     ]
    },
    {
     "name": "stderr",
     "output_type": "stream",
     "text": [
      "100%|██████████| 10000/10000 [00:05<00:00, 1807.07it/s]\n"
     ]
    },
    {
     "name": "stdout",
     "output_type": "stream",
     "text": [
      "Finished Q-learning algorithm.\n",
      "Average reward is : 0.0256\n"
     ]
    },
    {
     "name": "stderr",
     "output_type": "stream",
     "text": [
      "100%|██████████| 10000/10000 [00:01<00:00, 7413.95it/s]\n"
     ]
    },
    {
     "name": "stdout",
     "output_type": "stream",
     "text": [
      "Success rate is = 0.0 %\n",
      "Average number of steps before end (success or fall) = 6.0213\n",
      "Loading Q-table saved weights...\n",
      "Error loading Q-table saved weights\n",
      "Initiating new Q-table...\n",
      "Starting Q-learning algorithm...\n"
     ]
    },
    {
     "name": "stderr",
     "output_type": "stream",
     "text": [
      "100%|██████████| 10000/10000 [00:25<00:00, 399.83it/s]\n"
     ]
    },
    {
     "name": "stdout",
     "output_type": "stream",
     "text": [
      "Finished Q-learning algorithm.\n",
      "Average reward is : 0.29786124152321336\n"
     ]
    },
    {
     "name": "stderr",
     "output_type": "stream",
     "text": [
      "100%|██████████| 10000/10000 [00:08<00:00, 1149.93it/s]\n"
     ]
    },
    {
     "name": "stdout",
     "output_type": "stream",
     "text": [
      "Success rate is = 72.42 %\n",
      "Average number of steps before end (success or fall) = 41.8877\n",
      "Loading Q-table saved weights...\n",
      "Error loading Q-table saved weights\n",
      "Initiating new Q-table...\n",
      "Starting Q-learning algorithm...\n"
     ]
    },
    {
     "name": "stderr",
     "output_type": "stream",
     "text": [
      "100%|██████████| 10000/10000 [00:19<00:00, 519.69it/s]\n"
     ]
    },
    {
     "name": "stdout",
     "output_type": "stream",
     "text": [
      "Finished Q-learning algorithm.\n",
      "Average reward is : 0.16303146044828626\n"
     ]
    },
    {
     "name": "stderr",
     "output_type": "stream",
     "text": [
      "100%|██████████| 10000/10000 [00:12<00:00, 789.25it/s]\n"
     ]
    },
    {
     "name": "stdout",
     "output_type": "stream",
     "text": [
      "Success rate is = 32.86 %\n",
      "Average number of steps before end (success or fall) = 56.7509\n",
      "Loading Q-table saved weights...\n",
      "Error loading Q-table saved weights\n",
      "Initiating new Q-table...\n",
      "Starting Q-learning algorithm...\n"
     ]
    },
    {
     "name": "stderr",
     "output_type": "stream",
     "text": [
      "100%|██████████| 10000/10000 [00:12<00:00, 775.38it/s]\n"
     ]
    },
    {
     "name": "stdout",
     "output_type": "stream",
     "text": [
      "Finished Q-learning algorithm.\n",
      "Average reward is : 0.10426255753452071\n"
     ]
    },
    {
     "name": "stderr",
     "output_type": "stream",
     "text": [
      "100%|██████████| 10000/10000 [00:09<00:00, 1102.28it/s]\n"
     ]
    },
    {
     "name": "stdout",
     "output_type": "stream",
     "text": [
      "Success rate is = 63.72 %\n",
      "Average number of steps before end (success or fall) = 41.3897\n",
      "Loading Q-table saved weights...\n",
      "Error loading Q-table saved weights\n",
      "Initiating new Q-table...\n",
      "Starting Q-learning algorithm...\n"
     ]
    },
    {
     "name": "stderr",
     "output_type": "stream",
     "text": [
      "100%|██████████| 10000/10000 [00:05<00:00, 1845.06it/s]\n"
     ]
    },
    {
     "name": "stdout",
     "output_type": "stream",
     "text": [
      "Finished Q-learning algorithm.\n",
      "Average reward is : 0.0268\n"
     ]
    },
    {
     "name": "stderr",
     "output_type": "stream",
     "text": [
      "100%|██████████| 10000/10000 [00:02<00:00, 4208.95it/s]\n"
     ]
    },
    {
     "name": "stdout",
     "output_type": "stream",
     "text": [
      "Success rate is = 0.0 %\n",
      "Average number of steps before end (success or fall) = 11.7238\n",
      "Loading Q-table saved weights...\n",
      "Error loading Q-table saved weights\n",
      "Initiating new Q-table...\n",
      "Starting Q-learning algorithm...\n"
     ]
    },
    {
     "name": "stderr",
     "output_type": "stream",
     "text": [
      "100%|██████████| 10000/10000 [00:23<00:00, 420.76it/s]\n"
     ]
    },
    {
     "name": "stdout",
     "output_type": "stream",
     "text": [
      "Finished Q-learning algorithm.\n",
      "Average reward is : 0.30952380952380953\n"
     ]
    },
    {
     "name": "stderr",
     "output_type": "stream",
     "text": [
      "100%|██████████| 10000/10000 [00:06<00:00, 1579.18it/s]\n"
     ]
    },
    {
     "name": "stdout",
     "output_type": "stream",
     "text": [
      "Success rate is = 28.939999999999998 %\n",
      "Average number of steps before end (success or fall) = 31.7947\n",
      "Loading Q-table saved weights...\n",
      "Error loading Q-table saved weights\n",
      "Initiating new Q-table...\n",
      "Starting Q-learning algorithm...\n"
     ]
    },
    {
     "name": "stderr",
     "output_type": "stream",
     "text": [
      "100%|██████████| 10000/10000 [00:18<00:00, 541.21it/s]\n"
     ]
    },
    {
     "name": "stdout",
     "output_type": "stream",
     "text": [
      "Finished Q-learning algorithm.\n",
      "Average reward is : 0.16268958543983822\n"
     ]
    },
    {
     "name": "stderr",
     "output_type": "stream",
     "text": [
      "100%|██████████| 10000/10000 [00:03<00:00, 2817.91it/s]\n"
     ]
    },
    {
     "name": "stdout",
     "output_type": "stream",
     "text": [
      "Success rate is = 12.23 %\n",
      "Average number of steps before end (success or fall) = 17.4409\n",
      "Loading Q-table saved weights...\n",
      "Error loading Q-table saved weights\n",
      "Initiating new Q-table...\n",
      "Starting Q-learning algorithm...\n"
     ]
    },
    {
     "name": "stderr",
     "output_type": "stream",
     "text": [
      "100%|██████████| 10000/10000 [00:12<00:00, 790.32it/s]\n"
     ]
    },
    {
     "name": "stdout",
     "output_type": "stream",
     "text": [
      "Finished Q-learning algorithm.\n",
      "Average reward is : 0.11002102312543798\n"
     ]
    },
    {
     "name": "stderr",
     "output_type": "stream",
     "text": [
      "100%|██████████| 10000/10000 [00:03<00:00, 2502.62it/s]\n"
     ]
    },
    {
     "name": "stdout",
     "output_type": "stream",
     "text": [
      "Success rate is = 20.150000000000002 %\n",
      "Average number of steps before end (success or fall) = 17.355\n",
      "Loading Q-table saved weights...\n",
      "Error loading Q-table saved weights\n",
      "Initiating new Q-table...\n",
      "Starting Q-learning algorithm...\n"
     ]
    },
    {
     "name": "stderr",
     "output_type": "stream",
     "text": [
      "100%|██████████| 10000/10000 [00:05<00:00, 1724.91it/s]\n"
     ]
    },
    {
     "name": "stdout",
     "output_type": "stream",
     "text": [
      "Finished Q-learning algorithm.\n",
      "Average reward is : 0.0257\n"
     ]
    },
    {
     "name": "stderr",
     "output_type": "stream",
     "text": [
      "100%|██████████| 10000/10000 [00:03<00:00, 3060.48it/s]\n"
     ]
    },
    {
     "name": "stdout",
     "output_type": "stream",
     "text": [
      "Success rate is = 12.790000000000001 %\n",
      "Average number of steps before end (success or fall) = 16.1616\n",
      "Loading Q-table saved weights...\n",
      "Error loading Q-table saved weights\n",
      "Initiating new Q-table...\n",
      "Starting Q-learning algorithm...\n"
     ]
    },
    {
     "name": "stderr",
     "output_type": "stream",
     "text": [
      "100%|██████████| 10000/10000 [00:28<00:00, 351.20it/s]\n"
     ]
    },
    {
     "name": "stdout",
     "output_type": "stream",
     "text": [
      "Finished Q-learning algorithm.\n",
      "Average reward is : 0.26083001705514497\n"
     ]
    },
    {
     "name": "stderr",
     "output_type": "stream",
     "text": [
      "100%|██████████| 10000/10000 [00:08<00:00, 1163.08it/s]\n"
     ]
    },
    {
     "name": "stdout",
     "output_type": "stream",
     "text": [
      "Success rate is = 74.55000000000001 %\n",
      "Average number of steps before end (success or fall) = 44.5292\n",
      "Loading Q-table saved weights...\n",
      "Error loading Q-table saved weights\n",
      "Initiating new Q-table...\n",
      "Starting Q-learning algorithm...\n"
     ]
    },
    {
     "name": "stderr",
     "output_type": "stream",
     "text": [
      "100%|██████████| 10000/10000 [00:18<00:00, 554.56it/s]\n"
     ]
    },
    {
     "name": "stdout",
     "output_type": "stream",
     "text": [
      "Finished Q-learning algorithm.\n",
      "Average reward is : 0.15074202073592194\n"
     ]
    },
    {
     "name": "stderr",
     "output_type": "stream",
     "text": [
      "100%|██████████| 10000/10000 [00:11<00:00, 884.34it/s]\n"
     ]
    },
    {
     "name": "stdout",
     "output_type": "stream",
     "text": [
      "Success rate is = 30.86 %\n",
      "Average number of steps before end (success or fall) = 56.9883\n",
      "Loading Q-table saved weights...\n",
      "Error loading Q-table saved weights\n",
      "Initiating new Q-table...\n",
      "Starting Q-learning algorithm...\n"
     ]
    },
    {
     "name": "stderr",
     "output_type": "stream",
     "text": [
      "100%|██████████| 10000/10000 [00:13<00:00, 760.42it/s]\n"
     ]
    },
    {
     "name": "stdout",
     "output_type": "stream",
     "text": [
      "Finished Q-learning algorithm.\n",
      "Average reward is : 0.1047466453034248\n"
     ]
    },
    {
     "name": "stderr",
     "output_type": "stream",
     "text": [
      "100%|██████████| 10000/10000 [00:09<00:00, 1083.27it/s]\n"
     ]
    },
    {
     "name": "stdout",
     "output_type": "stream",
     "text": [
      "Success rate is = 0.0 %\n",
      "Average number of steps before end (success or fall) = 43.3245\n",
      "Loading Q-table saved weights...\n",
      "Error loading Q-table saved weights\n",
      "Initiating new Q-table...\n",
      "Starting Q-learning algorithm...\n"
     ]
    },
    {
     "name": "stderr",
     "output_type": "stream",
     "text": [
      "100%|██████████| 10000/10000 [00:05<00:00, 1684.72it/s]\n"
     ]
    },
    {
     "name": "stdout",
     "output_type": "stream",
     "text": [
      "Finished Q-learning algorithm.\n",
      "Average reward is : 0.0274\n"
     ]
    },
    {
     "name": "stderr",
     "output_type": "stream",
     "text": [
      "100%|██████████| 10000/10000 [00:03<00:00, 2524.46it/s]\n"
     ]
    },
    {
     "name": "stdout",
     "output_type": "stream",
     "text": [
      "Success rate is = 9.1 %\n",
      "Average number of steps before end (success or fall) = 20.3547\n",
      "Loading Q-table saved weights...\n",
      "Error loading Q-table saved weights\n",
      "Initiating new Q-table...\n",
      "Starting Q-learning algorithm...\n"
     ]
    },
    {
     "name": "stderr",
     "output_type": "stream",
     "text": [
      "100%|██████████| 10000/10000 [00:54<00:00, 182.11it/s]\n"
     ]
    },
    {
     "name": "stdout",
     "output_type": "stream",
     "text": [
      "Finished Q-learning algorithm.\n",
      "Average reward is : 0.067598017124831\n"
     ]
    },
    {
     "name": "stderr",
     "output_type": "stream",
     "text": [
      "100%|██████████| 10000/10000 [00:18<00:00, 536.52it/s]\n"
     ]
    },
    {
     "name": "stdout",
     "output_type": "stream",
     "text": [
      "Success rate is = 0.0 %\n",
      "Average number of steps before end (success or fall) = 100.0\n",
      "Loading Q-table saved weights...\n",
      "Error loading Q-table saved weights\n",
      "Initiating new Q-table...\n",
      "Starting Q-learning algorithm...\n"
     ]
    },
    {
     "name": "stderr",
     "output_type": "stream",
     "text": [
      "100%|██████████| 10000/10000 [00:39<00:00, 250.10it/s]\n"
     ]
    },
    {
     "name": "stdout",
     "output_type": "stream",
     "text": [
      "Finished Q-learning algorithm.\n",
      "Average reward is : 0.06807576173483393\n"
     ]
    },
    {
     "name": "stderr",
     "output_type": "stream",
     "text": [
      "100%|██████████| 10000/10000 [00:19<00:00, 509.27it/s]\n"
     ]
    },
    {
     "name": "stdout",
     "output_type": "stream",
     "text": [
      "Success rate is = 0.0 %\n",
      "Average number of steps before end (success or fall) = 100.0\n",
      "Loading Q-table saved weights...\n",
      "Error loading Q-table saved weights\n",
      "Initiating new Q-table...\n",
      "Starting Q-learning algorithm...\n"
     ]
    },
    {
     "name": "stderr",
     "output_type": "stream",
     "text": [
      "100%|██████████| 10000/10000 [00:28<00:00, 346.74it/s]\n"
     ]
    },
    {
     "name": "stdout",
     "output_type": "stream",
     "text": [
      "Finished Q-learning algorithm.\n",
      "Average reward is : 0.06076914452292858\n"
     ]
    },
    {
     "name": "stderr",
     "output_type": "stream",
     "text": [
      "100%|██████████| 10000/10000 [00:18<00:00, 530.34it/s]\n"
     ]
    },
    {
     "name": "stdout",
     "output_type": "stream",
     "text": [
      "Success rate is = 0.0 %\n",
      "Average number of steps before end (success or fall) = 100.0\n",
      "Loading Q-table saved weights...\n",
      "Error loading Q-table saved weights\n",
      "Initiating new Q-table...\n",
      "Starting Q-learning algorithm...\n"
     ]
    },
    {
     "name": "stderr",
     "output_type": "stream",
     "text": [
      "100%|██████████| 10000/10000 [00:07<00:00, 1262.49it/s]\n"
     ]
    },
    {
     "name": "stdout",
     "output_type": "stream",
     "text": [
      "Finished Q-learning algorithm.\n",
      "Average reward is : 0.0317031703170317\n"
     ]
    },
    {
     "name": "stderr",
     "output_type": "stream",
     "text": [
      "100%|██████████| 10000/10000 [00:19<00:00, 526.13it/s]"
     ]
    },
    {
     "name": "stdout",
     "output_type": "stream",
     "text": [
      "Success rate is = 0.0 %\n",
      "Average number of steps before end (success or fall) = 100.0\n"
     ]
    },
    {
     "name": "stderr",
     "output_type": "stream",
     "text": [
      "\n"
     ]
    }
   ],
   "source": [
    "# Qlearning optimization\n",
    "alpha = [0.01, 0.05, 0.1, 0.5, 0.8, 0.9, 0.99]\n",
    "gamma = [0.5, 0.8, 0.9, 0.95, 0.99, 1]\n",
    "epsilon = [0.01, 0.05, 0.1, 0.5]\n",
    "\n",
    "alphas=[]\n",
    "success_rates = []\n",
    "gammas=[]\n",
    "epsilons=[]\n",
    "rewards =[]\n",
    "for al in alpha :\n",
    "    for ga in gamma :\n",
    "        for ep in epsilon :\n",
    "            q_table = q_train_greedy_decay(env_slip, alpha=al, gamma=ga, min_epsilon=ep)\n",
    "            reward, success_rate, avg_nb_steps = agent_play(env_slip, q_table)\n",
    "            success_rates.append(success_rate)\n",
    "            alphas.append(al)\n",
    "            gammas.append(ga)\n",
    "            epsilons.append(ep)\n",
    "            rewards.append(reward)"
   ]
  },
  {
   "cell_type": "code",
   "execution_count": 43,
   "metadata": {},
   "outputs": [
    {
     "data": {
      "text/html": [
       "<div>\n",
       "<style scoped>\n",
       "    .dataframe tbody tr th:only-of-type {\n",
       "        vertical-align: middle;\n",
       "    }\n",
       "\n",
       "    .dataframe tbody tr th {\n",
       "        vertical-align: top;\n",
       "    }\n",
       "\n",
       "    .dataframe thead th {\n",
       "        text-align: right;\n",
       "    }\n",
       "</style>\n",
       "<table border=\"1\" class=\"dataframe\">\n",
       "  <thead>\n",
       "    <tr style=\"text-align: right;\">\n",
       "      <th></th>\n",
       "      <th>alpha</th>\n",
       "      <th>gamma</th>\n",
       "      <th>epsilon</th>\n",
       "      <th>success_rate</th>\n",
       "    </tr>\n",
       "  </thead>\n",
       "  <tbody>\n",
       "    <tr>\n",
       "      <th>42</th>\n",
       "      <td>0.05</td>\n",
       "      <td>0.99</td>\n",
       "      <td>0.10</td>\n",
       "      <td>0.7488</td>\n",
       "    </tr>\n",
       "    <tr>\n",
       "      <th>160</th>\n",
       "      <td>0.99</td>\n",
       "      <td>0.99</td>\n",
       "      <td>0.01</td>\n",
       "      <td>0.7455</td>\n",
       "    </tr>\n",
       "    <tr>\n",
       "      <th>108</th>\n",
       "      <td>0.80</td>\n",
       "      <td>0.95</td>\n",
       "      <td>0.01</td>\n",
       "      <td>0.7451</td>\n",
       "    </tr>\n",
       "    <tr>\n",
       "      <th>67</th>\n",
       "      <td>0.10</td>\n",
       "      <td>0.99</td>\n",
       "      <td>0.50</td>\n",
       "      <td>0.7449</td>\n",
       "    </tr>\n",
       "    <tr>\n",
       "      <th>91</th>\n",
       "      <td>0.50</td>\n",
       "      <td>0.99</td>\n",
       "      <td>0.50</td>\n",
       "      <td>0.7444</td>\n",
       "    </tr>\n",
       "    <tr>\n",
       "      <th>...</th>\n",
       "      <td>...</td>\n",
       "      <td>...</td>\n",
       "      <td>...</td>\n",
       "      <td>...</td>\n",
       "    </tr>\n",
       "    <tr>\n",
       "      <th>136</th>\n",
       "      <td>0.90</td>\n",
       "      <td>0.99</td>\n",
       "      <td>0.01</td>\n",
       "      <td>0.0000</td>\n",
       "    </tr>\n",
       "    <tr>\n",
       "      <th>118</th>\n",
       "      <td>0.80</td>\n",
       "      <td>1.00</td>\n",
       "      <td>0.10</td>\n",
       "      <td>0.0000</td>\n",
       "    </tr>\n",
       "    <tr>\n",
       "      <th>134</th>\n",
       "      <td>0.90</td>\n",
       "      <td>0.95</td>\n",
       "      <td>0.10</td>\n",
       "      <td>0.0000</td>\n",
       "    </tr>\n",
       "    <tr>\n",
       "      <th>119</th>\n",
       "      <td>0.80</td>\n",
       "      <td>1.00</td>\n",
       "      <td>0.50</td>\n",
       "      <td>0.0000</td>\n",
       "    </tr>\n",
       "    <tr>\n",
       "      <th>167</th>\n",
       "      <td>0.99</td>\n",
       "      <td>1.00</td>\n",
       "      <td>0.50</td>\n",
       "      <td>0.0000</td>\n",
       "    </tr>\n",
       "  </tbody>\n",
       "</table>\n",
       "<p>168 rows × 4 columns</p>\n",
       "</div>"
      ],
      "text/plain": [
       "     alpha  gamma  epsilon  success_rate\n",
       "42    0.05   0.99     0.10        0.7488\n",
       "160   0.99   0.99     0.01        0.7455\n",
       "108   0.80   0.95     0.01        0.7451\n",
       "67    0.10   0.99     0.50        0.7449\n",
       "91    0.50   0.99     0.50        0.7444\n",
       "..     ...    ...      ...           ...\n",
       "136   0.90   0.99     0.01        0.0000\n",
       "118   0.80   1.00     0.10        0.0000\n",
       "134   0.90   0.95     0.10        0.0000\n",
       "119   0.80   1.00     0.50        0.0000\n",
       "167   0.99   1.00     0.50        0.0000\n",
       "\n",
       "[168 rows x 4 columns]"
      ]
     },
     "execution_count": 43,
     "metadata": {},
     "output_type": "execute_result"
    }
   ],
   "source": [
    "df = pd.DataFrame()\n",
    "df[\"alpha\"]=alphas\n",
    "df[\"gamma\"]=gammas\n",
    "df[\"epsilon\"]=epsilons\n",
    "df[\"success_rate\"]=success_rates\n",
    "df = df.sort_values(by=\"success_rate\", ascending=False)\n",
    "df"
   ]
  },
  {
   "cell_type": "code",
   "execution_count": 45,
   "metadata": {},
   "outputs": [
    {
     "name": "stderr",
     "output_type": "stream",
     "text": [
      "No artists with labels found to put in legend.  Note that artists whose label start with an underscore are ignored when legend() is called with no argument.\n"
     ]
    },
    {
     "data": {
      "image/png": "[encoded data removed]",
      "text/plain": [
       "<Figure size 1008x432 with 1 Axes>"
      ]
     },
     "metadata": {
      "needs_background": "light"
     },
     "output_type": "display_data"
    }
   ],
   "source": [
    "fig, axes = plt.subplots(figsize=(14, 6))\n",
    "title = f\"Cummulative Average reward for Q-epsilon greedy decay for different parameters \\n best success rate : {round(100*df.iloc[0]['success_rate'],2)} % \\n best parameters : alpha = {df.iloc[0]['alpha']}, epsilon = {df.iloc[0]['epsilon']}, gamma = {df.iloc[0]['gamma']} \"\n",
    "plt.title(title)\n",
    "for i in range(len(df)):\n",
    "    plt.plot(np.arange(len(rewards[i])), np.cumsum(rewards[i])/np.arange(len(rewards[i])))\n",
    "plt.legend()\n",
    "plt.show();"
   ]
  },
  {
   "cell_type": "markdown",
   "metadata": {},
   "source": [
    "![images/output0.png](images/output0.png)"
   ]
  },
  {
   "cell_type": "code",
   "execution_count": 46,
   "metadata": {},
   "outputs": [
    {
     "name": "stdout",
     "output_type": "stream",
     "text": [
      "Loading Q-table saved weights...\n",
      "Error loading Q-table saved weights\n",
      "Initiating new Q-table...\n",
      "Starting Q-learning algorithm...\n"
     ]
    },
    {
     "name": "stderr",
     "output_type": "stream",
     "text": [
      "100%|██████████| 10000/10000 [00:07<00:00, 1327.37it/s]"
     ]
    },
    {
     "name": "stdout",
     "output_type": "stream",
     "text": [
      "Finished Q-learning algorithm.\n",
      "Average reward is : 0.06\n"
     ]
    },
    {
     "name": "stderr",
     "output_type": "stream",
     "text": [
      "\n"
     ]
    }
   ],
   "source": [
    "q_table_greedy_decay = q_train_greedy_decay(env_slip, alpha = 0.1, gamma = 0.99, min_epsilon=0.5)"
   ]
  },
  {
   "cell_type": "code",
   "execution_count": 47,
   "metadata": {},
   "outputs": [
    {
     "name": "stderr",
     "output_type": "stream",
     "text": [
      "100%|██████████| 10000/10000 [00:07<00:00, 1398.47it/s]\n",
      "100%|██████████| 10000/10000 [00:01<00:00, 5034.43it/s]\n"
     ]
    },
    {
     "name": "stdout",
     "output_type": "stream",
     "text": [
      "Success rate is = 3.6700000000000004 %\n",
      "Average number of steps before end (success or fall) = 9.6424\n"
     ]
    },
    {
     "name": "stderr",
     "output_type": "stream",
     "text": [
      "100%|██████████| 10000/10000 [00:12<00:00, 797.61it/s]\n",
      "100%|██████████| 10000/10000 [00:02<00:00, 3918.73it/s]\n"
     ]
    },
    {
     "name": "stdout",
     "output_type": "stream",
     "text": [
      "Success rate is = 13.370000000000001 %\n",
      "Average number of steps before end (success or fall) = 13.3416\n"
     ]
    },
    {
     "name": "stderr",
     "output_type": "stream",
     "text": [
      "100%|██████████| 10000/10000 [00:08<00:00, 1141.09it/s]\n",
      "100%|██████████| 10000/10000 [00:05<00:00, 1996.45it/s]\n"
     ]
    },
    {
     "name": "stdout",
     "output_type": "stream",
     "text": [
      "Success rate is = 44.47 %\n",
      "Average number of steps before end (success or fall) = 27.4835\n"
     ]
    },
    {
     "name": "stderr",
     "output_type": "stream",
     "text": [
      "100%|██████████| 10000/10000 [00:06<00:00, 1494.09it/s]\n",
      "100%|██████████| 10000/10000 [00:02<00:00, 3672.38it/s]\n"
     ]
    },
    {
     "name": "stdout",
     "output_type": "stream",
     "text": [
      "Success rate is = 14.87 %\n",
      "Average number of steps before end (success or fall) = 12.4823\n"
     ]
    },
    {
     "name": "stderr",
     "output_type": "stream",
     "text": [
      "100%|██████████| 10000/10000 [00:04<00:00, 2038.71it/s]\n",
      "100%|██████████| 10000/10000 [00:01<00:00, 7766.99it/s]\n"
     ]
    },
    {
     "name": "stdout",
     "output_type": "stream",
     "text": [
      "Success rate is = 2.68 %\n",
      "Average number of steps before end (success or fall) = 6.0079\n"
     ]
    },
    {
     "name": "stderr",
     "output_type": "stream",
     "text": [
      "100%|██████████| 10000/10000 [00:06<00:00, 1513.49it/s]\n",
      "100%|██████████| 10000/10000 [00:01<00:00, 6154.16it/s]\n"
     ]
    },
    {
     "name": "stdout",
     "output_type": "stream",
     "text": [
      "Success rate is = 5.82 %\n",
      "Average number of steps before end (success or fall) = 8.0639\n"
     ]
    },
    {
     "name": "stderr",
     "output_type": "stream",
     "text": [
      "100%|██████████| 10000/10000 [00:07<00:00, 1363.77it/s]\n",
      "100%|██████████| 10000/10000 [00:06<00:00, 1641.76it/s]\n"
     ]
    },
    {
     "name": "stdout",
     "output_type": "stream",
     "text": [
      "Success rate is = 38.17 %\n",
      "Average number of steps before end (success or fall) = 29.8259\n"
     ]
    },
    {
     "name": "stderr",
     "output_type": "stream",
     "text": [
      "100%|██████████| 10000/10000 [00:06<00:00, 1597.01it/s]\n",
      "100%|██████████| 10000/10000 [00:04<00:00, 2349.78it/s]\n"
     ]
    },
    {
     "name": "stdout",
     "output_type": "stream",
     "text": [
      "Success rate is = 23.59 %\n",
      "Average number of steps before end (success or fall) = 22.9847\n"
     ]
    },
    {
     "name": "stderr",
     "output_type": "stream",
     "text": [
      "100%|██████████| 10000/10000 [00:08<00:00, 1248.28it/s]\n",
      "100%|██████████| 10000/10000 [00:01<00:00, 5107.63it/s]\n"
     ]
    },
    {
     "name": "stdout",
     "output_type": "stream",
     "text": [
      "Success rate is = 7.580000000000001 %\n",
      "Average number of steps before end (success or fall) = 10.1944\n"
     ]
    },
    {
     "name": "stderr",
     "output_type": "stream",
     "text": [
      "100%|██████████| 10000/10000 [00:06<00:00, 1610.73it/s]\n",
      "100%|██████████| 10000/10000 [00:02<00:00, 3562.79it/s]\n"
     ]
    },
    {
     "name": "stdout",
     "output_type": "stream",
     "text": [
      "Success rate is = 6.64 %\n",
      "Average number of steps before end (success or fall) = 14.6822\n"
     ]
    },
    {
     "name": "stderr",
     "output_type": "stream",
     "text": [
      "100%|██████████| 10000/10000 [00:08<00:00, 1209.73it/s]\n",
      "100%|██████████| 10000/10000 [00:02<00:00, 3525.67it/s]\n"
     ]
    },
    {
     "name": "stdout",
     "output_type": "stream",
     "text": [
      "Success rate is = 4.68 %\n",
      "Average number of steps before end (success or fall) = 14.7403\n"
     ]
    },
    {
     "name": "stderr",
     "output_type": "stream",
     "text": [
      "100%|██████████| 10000/10000 [00:05<00:00, 1953.78it/s]\n",
      "100%|██████████| 10000/10000 [00:04<00:00, 2326.86it/s]\n"
     ]
    },
    {
     "name": "stdout",
     "output_type": "stream",
     "text": [
      "Success rate is = 15.620000000000001 %\n",
      "Average number of steps before end (success or fall) = 20.8752\n"
     ]
    },
    {
     "name": "stderr",
     "output_type": "stream",
     "text": [
      "100%|██████████| 10000/10000 [00:05<00:00, 1783.68it/s]\n",
      "100%|██████████| 10000/10000 [00:01<00:00, 6657.84it/s]\n"
     ]
    },
    {
     "name": "stdout",
     "output_type": "stream",
     "text": [
      "Success rate is = 3.52 %\n",
      "Average number of steps before end (success or fall) = 7.3385\n"
     ]
    },
    {
     "name": "stderr",
     "output_type": "stream",
     "text": [
      "100%|██████████| 10000/10000 [00:10<00:00, 954.44it/s]\n",
      "100%|██████████| 10000/10000 [00:05<00:00, 1962.91it/s]\n"
     ]
    },
    {
     "name": "stdout",
     "output_type": "stream",
     "text": [
      "Success rate is = 25.09 %\n",
      "Average number of steps before end (success or fall) = 28.1575\n"
     ]
    },
    {
     "name": "stderr",
     "output_type": "stream",
     "text": [
      "100%|██████████| 10000/10000 [00:11<00:00, 864.14it/s]\n",
      "100%|██████████| 10000/10000 [00:07<00:00, 1367.30it/s]\n"
     ]
    },
    {
     "name": "stdout",
     "output_type": "stream",
     "text": [
      "Success rate is = 60.57 %\n",
      "Average number of steps before end (success or fall) = 35.8276\n"
     ]
    },
    {
     "name": "stderr",
     "output_type": "stream",
     "text": [
      "100%|██████████| 10000/10000 [00:06<00:00, 1552.48it/s]\n",
      "100%|██████████| 10000/10000 [00:04<00:00, 2134.99it/s]\n"
     ]
    },
    {
     "name": "stdout",
     "output_type": "stream",
     "text": [
      "Success rate is = 33.28 %\n",
      "Average number of steps before end (success or fall) = 23.8343\n"
     ]
    },
    {
     "name": "stderr",
     "output_type": "stream",
     "text": [
      "100%|██████████| 10000/10000 [00:04<00:00, 2131.88it/s]\n",
      "100%|██████████| 10000/10000 [00:01<00:00, 8628.52it/s]\n"
     ]
    },
    {
     "name": "stdout",
     "output_type": "stream",
     "text": [
      "Success rate is = 1.5699999999999998 %\n",
      "Average number of steps before end (success or fall) = 5.6561\n"
     ]
    },
    {
     "name": "stderr",
     "output_type": "stream",
     "text": [
      "100%|██████████| 10000/10000 [00:10<00:00, 980.93it/s]\n",
      "100%|██████████| 10000/10000 [00:05<00:00, 1765.13it/s]\n"
     ]
    },
    {
     "name": "stdout",
     "output_type": "stream",
     "text": [
      "Success rate is = 32.96 %\n",
      "Average number of steps before end (success or fall) = 30.391\n"
     ]
    },
    {
     "name": "stderr",
     "output_type": "stream",
     "text": [
      "100%|██████████| 10000/10000 [00:08<00:00, 1216.58it/s]\n",
      "100%|██████████| 10000/10000 [00:06<00:00, 1507.26it/s]\n"
     ]
    },
    {
     "name": "stdout",
     "output_type": "stream",
     "text": [
      "Success rate is = 59.85 %\n",
      "Average number of steps before end (success or fall) = 36.0605\n"
     ]
    },
    {
     "name": "stderr",
     "output_type": "stream",
     "text": [
      "100%|██████████| 10000/10000 [00:05<00:00, 1669.40it/s]\n",
      "100%|██████████| 10000/10000 [00:06<00:00, 1660.24it/s]\n"
     ]
    },
    {
     "name": "stdout",
     "output_type": "stream",
     "text": [
      "Success rate is = 36.44 %\n",
      "Average number of steps before end (success or fall) = 31.781\n"
     ]
    },
    {
     "name": "stderr",
     "output_type": "stream",
     "text": [
      "100%|██████████| 10000/10000 [00:05<00:00, 1722.12it/s]\n",
      "100%|██████████| 10000/10000 [00:01<00:00, 5832.38it/s]\n"
     ]
    },
    {
     "name": "stdout",
     "output_type": "stream",
     "text": [
      "Success rate is = 2.11 %\n",
      "Average number of steps before end (success or fall) = 7.5227\n"
     ]
    },
    {
     "name": "stderr",
     "output_type": "stream",
     "text": [
      "100%|██████████| 10000/10000 [00:04<00:00, 2011.65it/s]\n",
      "100%|██████████| 10000/10000 [00:01<00:00, 7254.09it/s]\n"
     ]
    },
    {
     "name": "stdout",
     "output_type": "stream",
     "text": [
      "Success rate is = 4.65 %\n",
      "Average number of steps before end (success or fall) = 6.2869\n"
     ]
    },
    {
     "name": "stderr",
     "output_type": "stream",
     "text": [
      "100%|██████████| 10000/10000 [00:08<00:00, 1137.72it/s]\n",
      "100%|██████████| 10000/10000 [00:09<00:00, 1055.28it/s]\n"
     ]
    },
    {
     "name": "stdout",
     "output_type": "stream",
     "text": [
      "Success rate is = 22.91 %\n",
      "Average number of steps before end (success or fall) = 27.4723\n"
     ]
    },
    {
     "name": "stderr",
     "output_type": "stream",
     "text": [
      "100%|██████████| 10000/10000 [00:11<00:00, 841.59it/s]\n",
      "100%|██████████| 10000/10000 [00:12<00:00, 771.76it/s]\n"
     ]
    },
    {
     "name": "stdout",
     "output_type": "stream",
     "text": [
      "Success rate is = 59.38 %\n",
      "Average number of steps before end (success or fall) = 36.4191\n"
     ]
    },
    {
     "name": "stderr",
     "output_type": "stream",
     "text": [
      "100%|██████████| 10000/10000 [00:10<00:00, 975.49it/s]\n",
      "100%|██████████| 10000/10000 [00:02<00:00, 3413.32it/s]\n"
     ]
    },
    {
     "name": "stdout",
     "output_type": "stream",
     "text": [
      "Success rate is = 4.02 %\n",
      "Average number of steps before end (success or fall) = 5.7007\n"
     ]
    },
    {
     "name": "stderr",
     "output_type": "stream",
     "text": [
      "100%|██████████| 10000/10000 [00:16<00:00, 593.30it/s]\n",
      "100%|██████████| 10000/10000 [00:03<00:00, 2644.34it/s]\n"
     ]
    },
    {
     "name": "stdout",
     "output_type": "stream",
     "text": [
      "Success rate is = 10.03 %\n",
      "Average number of steps before end (success or fall) = 8.8141\n"
     ]
    },
    {
     "name": "stderr",
     "output_type": "stream",
     "text": [
      "100%|██████████| 10000/10000 [00:10<00:00, 990.46it/s]\n",
      "100%|██████████| 10000/10000 [00:02<00:00, 4733.68it/s]\n"
     ]
    },
    {
     "name": "stdout",
     "output_type": "stream",
     "text": [
      "Success rate is = 5.7 %\n",
      "Average number of steps before end (success or fall) = 7.242\n"
     ]
    },
    {
     "name": "stderr",
     "output_type": "stream",
     "text": [
      "100%|██████████| 10000/10000 [00:05<00:00, 1752.62it/s]\n",
      "100%|██████████| 10000/10000 [00:03<00:00, 2578.57it/s]\n"
     ]
    },
    {
     "name": "stdout",
     "output_type": "stream",
     "text": [
      "Success rate is = 13.200000000000001 %\n",
      "Average number of steps before end (success or fall) = 15.825\n"
     ]
    },
    {
     "name": "stderr",
     "output_type": "stream",
     "text": [
      "100%|██████████| 10000/10000 [00:11<00:00, 865.60it/s]\n",
      "100%|██████████| 10000/10000 [00:02<00:00, 4769.54it/s]\n"
     ]
    },
    {
     "name": "stdout",
     "output_type": "stream",
     "text": [
      "Success rate is = 6.239999999999999 %\n",
      "Average number of steps before end (success or fall) = 10.2872\n"
     ]
    },
    {
     "name": "stderr",
     "output_type": "stream",
     "text": [
      "100%|██████████| 10000/10000 [00:14<00:00, 702.39it/s]\n",
      "100%|██████████| 10000/10000 [00:05<00:00, 1724.11it/s]\n"
     ]
    },
    {
     "name": "stdout",
     "output_type": "stream",
     "text": [
      "Success rate is = 44.230000000000004 %\n",
      "Average number of steps before end (success or fall) = 30.0975\n"
     ]
    },
    {
     "name": "stderr",
     "output_type": "stream",
     "text": [
      "100%|██████████| 10000/10000 [00:12<00:00, 819.45it/s]\n",
      "100%|██████████| 10000/10000 [00:05<00:00, 1727.65it/s]\n"
     ]
    },
    {
     "name": "stdout",
     "output_type": "stream",
     "text": [
      "Success rate is = 37.419999999999995 %\n",
      "Average number of steps before end (success or fall) = 30.1191\n"
     ]
    },
    {
     "name": "stderr",
     "output_type": "stream",
     "text": [
      "100%|██████████| 10000/10000 [00:06<00:00, 1637.18it/s]\n",
      "100%|██████████| 10000/10000 [00:04<00:00, 2176.75it/s]\n"
     ]
    },
    {
     "name": "stdout",
     "output_type": "stream",
     "text": [
      "Success rate is = 34.64 %\n",
      "Average number of steps before end (success or fall) = 21.6076\n"
     ]
    },
    {
     "name": "stderr",
     "output_type": "stream",
     "text": [
      "100%|██████████| 10000/10000 [00:11<00:00, 872.73it/s]\n",
      "100%|██████████| 10000/10000 [00:05<00:00, 1852.32it/s]\n"
     ]
    },
    {
     "name": "stdout",
     "output_type": "stream",
     "text": [
      "Success rate is = 15.64 %\n",
      "Average number of steps before end (success or fall) = 27.3655\n"
     ]
    },
    {
     "name": "stderr",
     "output_type": "stream",
     "text": [
      "100%|██████████| 10000/10000 [00:18<00:00, 538.01it/s]\n",
      "100%|██████████| 10000/10000 [00:06<00:00, 1471.17it/s]\n"
     ]
    },
    {
     "name": "stdout",
     "output_type": "stream",
     "text": [
      "Success rate is = 49.66 %\n",
      "Average number of steps before end (success or fall) = 33.8707\n"
     ]
    },
    {
     "name": "stderr",
     "output_type": "stream",
     "text": [
      "100%|██████████| 10000/10000 [00:14<00:00, 675.65it/s]\n",
      "100%|██████████| 10000/10000 [00:05<00:00, 1718.82it/s]\n"
     ]
    },
    {
     "name": "stdout",
     "output_type": "stream",
     "text": [
      "Success rate is = 51.470000000000006 %\n",
      "Average number of steps before end (success or fall) = 30.5981\n"
     ]
    },
    {
     "name": "stderr",
     "output_type": "stream",
     "text": [
      "100%|██████████| 10000/10000 [00:05<00:00, 1725.61it/s]\n",
      "100%|██████████| 10000/10000 [00:02<00:00, 3868.22it/s]\n"
     ]
    },
    {
     "name": "stdout",
     "output_type": "stream",
     "text": [
      "Success rate is = 19.07 %\n",
      "Average number of steps before end (success or fall) = 13.4413\n"
     ]
    },
    {
     "name": "stderr",
     "output_type": "stream",
     "text": [
      "100%|██████████| 10000/10000 [00:09<00:00, 1069.21it/s]\n",
      "100%|██████████| 10000/10000 [00:06<00:00, 1586.24it/s]\n"
     ]
    },
    {
     "name": "stdout",
     "output_type": "stream",
     "text": [
      "Success rate is = 39.68 %\n",
      "Average number of steps before end (success or fall) = 33.9489\n"
     ]
    },
    {
     "name": "stderr",
     "output_type": "stream",
     "text": [
      "100%|██████████| 10000/10000 [00:17<00:00, 572.17it/s]\n",
      "100%|██████████| 10000/10000 [00:07<00:00, 1310.38it/s]\n"
     ]
    },
    {
     "name": "stdout",
     "output_type": "stream",
     "text": [
      "Success rate is = 73.2 %\n",
      "Average number of steps before end (success or fall) = 40.9841\n"
     ]
    },
    {
     "name": "stderr",
     "output_type": "stream",
     "text": [
      "100%|██████████| 10000/10000 [00:18<00:00, 536.32it/s]\n",
      "100%|██████████| 10000/10000 [00:11<00:00, 850.61it/s]\n"
     ]
    },
    {
     "name": "stdout",
     "output_type": "stream",
     "text": [
      "Success rate is = 58.9 %\n",
      "Average number of steps before end (success or fall) = 44.2413\n"
     ]
    },
    {
     "name": "stderr",
     "output_type": "stream",
     "text": [
      "100%|██████████| 10000/10000 [00:07<00:00, 1361.39it/s]\n",
      "100%|██████████| 10000/10000 [00:10<00:00, 931.39it/s]\n"
     ]
    },
    {
     "name": "stdout",
     "output_type": "stream",
     "text": [
      "Success rate is = 55.97 %\n",
      "Average number of steps before end (success or fall) = 43.8028\n"
     ]
    },
    {
     "name": "stderr",
     "output_type": "stream",
     "text": [
      "100%|██████████| 10000/10000 [00:06<00:00, 1516.83it/s]\n",
      "100%|██████████| 10000/10000 [00:03<00:00, 3249.16it/s]\n"
     ]
    },
    {
     "name": "stdout",
     "output_type": "stream",
     "text": [
      "Success rate is = 11.49 %\n",
      "Average number of steps before end (success or fall) = 12.5585\n"
     ]
    },
    {
     "name": "stderr",
     "output_type": "stream",
     "text": [
      "100%|██████████| 10000/10000 [00:17<00:00, 559.37it/s]\n",
      "100%|██████████| 10000/10000 [00:07<00:00, 1266.13it/s]\n"
     ]
    },
    {
     "name": "stdout",
     "output_type": "stream",
     "text": [
      "Success rate is = 72.2 %\n",
      "Average number of steps before end (success or fall) = 40.9885\n"
     ]
    },
    {
     "name": "stderr",
     "output_type": "stream",
     "text": [
      "100%|██████████| 10000/10000 [00:17<00:00, 562.35it/s]\n",
      "100%|██████████| 10000/10000 [00:08<00:00, 1178.28it/s]\n"
     ]
    },
    {
     "name": "stdout",
     "output_type": "stream",
     "text": [
      "Success rate is = 72.47 %\n",
      "Average number of steps before end (success or fall) = 41.307\n"
     ]
    },
    {
     "name": "stderr",
     "output_type": "stream",
     "text": [
      "100%|██████████| 10000/10000 [00:06<00:00, 1501.39it/s]\n",
      "100%|██████████| 10000/10000 [00:04<00:00, 2119.25it/s]\n"
     ]
    },
    {
     "name": "stdout",
     "output_type": "stream",
     "text": [
      "Success rate is = 15.160000000000002 %\n",
      "Average number of steps before end (success or fall) = 21.9242\n"
     ]
    },
    {
     "name": "stderr",
     "output_type": "stream",
     "text": [
      "100%|██████████| 10000/10000 [00:07<00:00, 1275.23it/s]\n",
      "100%|██████████| 10000/10000 [00:05<00:00, 1678.18it/s]\n"
     ]
    },
    {
     "name": "stdout",
     "output_type": "stream",
     "text": [
      "Success rate is = 12.45 %\n",
      "Average number of steps before end (success or fall) = 30.9013\n"
     ]
    },
    {
     "name": "stderr",
     "output_type": "stream",
     "text": [
      "100%|██████████| 10000/10000 [00:14<00:00, 709.30it/s]\n",
      "100%|██████████| 10000/10000 [00:06<00:00, 1639.13it/s]\n"
     ]
    },
    {
     "name": "stdout",
     "output_type": "stream",
     "text": [
      "Success rate is = 21.19 %\n",
      "Average number of steps before end (success or fall) = 27.9545\n"
     ]
    },
    {
     "name": "stderr",
     "output_type": "stream",
     "text": [
      "100%|██████████| 10000/10000 [00:16<00:00, 595.71it/s]\n",
      "100%|██████████| 10000/10000 [00:07<00:00, 1306.74it/s]\n"
     ]
    },
    {
     "name": "stdout",
     "output_type": "stream",
     "text": [
      "Success rate is = 63.53 %\n",
      "Average number of steps before end (success or fall) = 40.6152\n"
     ]
    },
    {
     "name": "stderr",
     "output_type": "stream",
     "text": [
      "100%|██████████| 10000/10000 [00:07<00:00, 1326.14it/s]\n",
      "100%|██████████| 10000/10000 [00:07<00:00, 1284.73it/s]\n"
     ]
    },
    {
     "name": "stdout",
     "output_type": "stream",
     "text": [
      "Success rate is = 64.51 %\n",
      "Average number of steps before end (success or fall) = 41.1817\n"
     ]
    },
    {
     "name": "stderr",
     "output_type": "stream",
     "text": [
      "100%|██████████| 10000/10000 [00:08<00:00, 1172.18it/s]\n",
      "100%|██████████| 10000/10000 [00:04<00:00, 2300.34it/s]\n"
     ]
    },
    {
     "name": "stdout",
     "output_type": "stream",
     "text": [
      "Success rate is = 29.4 %\n",
      "Average number of steps before end (success or fall) = 22.2399\n"
     ]
    },
    {
     "name": "stderr",
     "output_type": "stream",
     "text": [
      "100%|██████████| 10000/10000 [00:07<00:00, 1339.76it/s]\n",
      "100%|██████████| 10000/10000 [00:01<00:00, 6210.08it/s]\n"
     ]
    },
    {
     "name": "stdout",
     "output_type": "stream",
     "text": [
      "Success rate is = 5.09 %\n",
      "Average number of steps before end (success or fall) = 5.4263\n"
     ]
    },
    {
     "name": "stderr",
     "output_type": "stream",
     "text": [
      "100%|██████████| 10000/10000 [00:06<00:00, 1482.43it/s]\n",
      "100%|██████████| 10000/10000 [00:02<00:00, 3702.79it/s]\n"
     ]
    },
    {
     "name": "stdout",
     "output_type": "stream",
     "text": [
      "Success rate is = 19.21 %\n",
      "Average number of steps before end (success or fall) = 14.6311\n"
     ]
    },
    {
     "name": "stderr",
     "output_type": "stream",
     "text": [
      "100%|██████████| 10000/10000 [00:04<00:00, 2067.13it/s]\n",
      "100%|██████████| 10000/10000 [00:02<00:00, 4530.49it/s]\n"
     ]
    },
    {
     "name": "stdout",
     "output_type": "stream",
     "text": [
      "Success rate is = 3.5000000000000004 %\n",
      "Average number of steps before end (success or fall) = 8.4507\n"
     ]
    },
    {
     "name": "stderr",
     "output_type": "stream",
     "text": [
      "100%|██████████| 10000/10000 [00:18<00:00, 547.88it/s]\n",
      "100%|██████████| 10000/10000 [00:07<00:00, 1371.87it/s]\n"
     ]
    },
    {
     "name": "stdout",
     "output_type": "stream",
     "text": [
      "Success rate is = 56.13 %\n",
      "Average number of steps before end (success or fall) = 35.95\n"
     ]
    },
    {
     "name": "stderr",
     "output_type": "stream",
     "text": [
      "100%|██████████| 10000/10000 [00:12<00:00, 784.65it/s]\n",
      "100%|██████████| 10000/10000 [00:02<00:00, 3775.39it/s]\n"
     ]
    },
    {
     "name": "stdout",
     "output_type": "stream",
     "text": [
      "Success rate is = 13.950000000000001 %\n",
      "Average number of steps before end (success or fall) = 11.4319\n"
     ]
    },
    {
     "name": "stderr",
     "output_type": "stream",
     "text": [
      "100%|██████████| 10000/10000 [00:11<00:00, 845.60it/s]\n",
      "100%|██████████| 10000/10000 [00:05<00:00, 1677.97it/s]\n"
     ]
    },
    {
     "name": "stdout",
     "output_type": "stream",
     "text": [
      "Success rate is = 51.31 %\n",
      "Average number of steps before end (success or fall) = 30.9994\n"
     ]
    },
    {
     "name": "stderr",
     "output_type": "stream",
     "text": [
      "100%|██████████| 10000/10000 [00:06<00:00, 1642.30it/s]\n",
      "100%|██████████| 10000/10000 [00:02<00:00, 3807.27it/s]\n"
     ]
    },
    {
     "name": "stdout",
     "output_type": "stream",
     "text": [
      "Success rate is = 12.45 %\n",
      "Average number of steps before end (success or fall) = 13.2401\n"
     ]
    },
    {
     "name": "stderr",
     "output_type": "stream",
     "text": [
      "100%|██████████| 10000/10000 [00:19<00:00, 518.78it/s]\n",
      "100%|██████████| 10000/10000 [00:07<00:00, 1314.16it/s]\n"
     ]
    },
    {
     "name": "stdout",
     "output_type": "stream",
     "text": [
      "Success rate is = 61.21 %\n",
      "Average number of steps before end (success or fall) = 39.2655\n"
     ]
    },
    {
     "name": "stderr",
     "output_type": "stream",
     "text": [
      "100%|██████████| 10000/10000 [00:18<00:00, 535.56it/s]\n",
      "100%|██████████| 10000/10000 [00:05<00:00, 1732.27it/s]\n"
     ]
    },
    {
     "name": "stdout",
     "output_type": "stream",
     "text": [
      "Success rate is = 44.92 %\n",
      "Average number of steps before end (success or fall) = 30.2273\n"
     ]
    },
    {
     "name": "stderr",
     "output_type": "stream",
     "text": [
      "100%|██████████| 10000/10000 [00:15<00:00, 644.91it/s]\n",
      "100%|██████████| 10000/10000 [00:06<00:00, 1552.92it/s]\n"
     ]
    },
    {
     "name": "stdout",
     "output_type": "stream",
     "text": [
      "Success rate is = 51.300000000000004 %\n",
      "Average number of steps before end (success or fall) = 30.8473\n"
     ]
    },
    {
     "name": "stderr",
     "output_type": "stream",
     "text": [
      "100%|██████████| 10000/10000 [00:06<00:00, 1640.46it/s]\n",
      "100%|██████████| 10000/10000 [00:07<00:00, 1386.21it/s]\n"
     ]
    },
    {
     "name": "stdout",
     "output_type": "stream",
     "text": [
      "Success rate is = 67.86 %\n",
      "Average number of steps before end (success or fall) = 37.7724\n"
     ]
    },
    {
     "name": "stderr",
     "output_type": "stream",
     "text": [
      "100%|██████████| 10000/10000 [00:21<00:00, 456.37it/s]\n",
      "100%|██████████| 10000/10000 [00:07<00:00, 1255.76it/s]\n"
     ]
    },
    {
     "name": "stdout",
     "output_type": "stream",
     "text": [
      "Success rate is = 72.45 %\n",
      "Average number of steps before end (success or fall) = 41.3827\n"
     ]
    },
    {
     "name": "stderr",
     "output_type": "stream",
     "text": [
      "100%|██████████| 10000/10000 [00:20<00:00, 481.46it/s]\n",
      "100%|██████████| 10000/10000 [00:08<00:00, 1205.58it/s]\n"
     ]
    },
    {
     "name": "stdout",
     "output_type": "stream",
     "text": [
      "Success rate is = 72.99 %\n",
      "Average number of steps before end (success or fall) = 41.1907\n"
     ]
    },
    {
     "name": "stderr",
     "output_type": "stream",
     "text": [
      "100%|██████████| 10000/10000 [00:16<00:00, 605.83it/s]\n",
      "100%|██████████| 10000/10000 [00:07<00:00, 1342.75it/s]\n"
     ]
    },
    {
     "name": "stdout",
     "output_type": "stream",
     "text": [
      "Success rate is = 67.25 %\n",
      "Average number of steps before end (success or fall) = 37.8872\n"
     ]
    },
    {
     "name": "stderr",
     "output_type": "stream",
     "text": [
      "100%|██████████| 10000/10000 [00:06<00:00, 1431.40it/s]\n",
      "100%|██████████| 10000/10000 [00:02<00:00, 3604.68it/s]\n"
     ]
    },
    {
     "name": "stdout",
     "output_type": "stream",
     "text": [
      "Success rate is = 15.040000000000001 %\n",
      "Average number of steps before end (success or fall) = 13.7806\n"
     ]
    },
    {
     "name": "stderr",
     "output_type": "stream",
     "text": [
      "100%|██████████| 10000/10000 [00:27<00:00, 364.03it/s]\n",
      "100%|██████████| 10000/10000 [00:08<00:00, 1113.27it/s]\n"
     ]
    },
    {
     "name": "stdout",
     "output_type": "stream",
     "text": [
      "Success rate is = 73.55000000000001 %\n",
      "Average number of steps before end (success or fall) = 41.2627\n"
     ]
    },
    {
     "name": "stderr",
     "output_type": "stream",
     "text": [
      "100%|██████████| 10000/10000 [00:25<00:00, 399.02it/s]\n",
      "100%|██████████| 10000/10000 [00:08<00:00, 1165.39it/s]\n"
     ]
    },
    {
     "name": "stdout",
     "output_type": "stream",
     "text": [
      "Success rate is = 73.88 %\n",
      "Average number of steps before end (success or fall) = 44.7813\n"
     ]
    },
    {
     "name": "stderr",
     "output_type": "stream",
     "text": [
      "100%|██████████| 10000/10000 [00:19<00:00, 503.29it/s]\n",
      "100%|██████████| 10000/10000 [00:07<00:00, 1268.46it/s]\n"
     ]
    },
    {
     "name": "stdout",
     "output_type": "stream",
     "text": [
      "Success rate is = 71.97 %\n",
      "Average number of steps before end (success or fall) = 41.9072\n"
     ]
    },
    {
     "name": "stderr",
     "output_type": "stream",
     "text": [
      "100%|██████████| 10000/10000 [00:06<00:00, 1497.59it/s]\n",
      "100%|██████████| 10000/10000 [00:02<00:00, 3562.18it/s]\n"
     ]
    },
    {
     "name": "stdout",
     "output_type": "stream",
     "text": [
      "Success rate is = 20.46 %\n",
      "Average number of steps before end (success or fall) = 13.8373\n"
     ]
    },
    {
     "name": "stderr",
     "output_type": "stream",
     "text": [
      "100%|██████████| 10000/10000 [00:16<00:00, 596.59it/s]\n",
      "100%|██████████| 10000/10000 [00:08<00:00, 1140.14it/s]\n"
     ]
    },
    {
     "name": "stdout",
     "output_type": "stream",
     "text": [
      "Success rate is = 71.48 %\n",
      "Average number of steps before end (success or fall) = 40.4355\n"
     ]
    },
    {
     "name": "stderr",
     "output_type": "stream",
     "text": [
      "100%|██████████| 10000/10000 [00:22<00:00, 449.32it/s]\n",
      "100%|██████████| 10000/10000 [00:08<00:00, 1197.37it/s]\n"
     ]
    },
    {
     "name": "stdout",
     "output_type": "stream",
     "text": [
      "Success rate is = 72.69 %\n",
      "Average number of steps before end (success or fall) = 41.383\n"
     ]
    },
    {
     "name": "stderr",
     "output_type": "stream",
     "text": [
      "100%|██████████| 10000/10000 [00:19<00:00, 510.63it/s]\n",
      "100%|██████████| 10000/10000 [00:08<00:00, 1244.02it/s]\n"
     ]
    },
    {
     "name": "stdout",
     "output_type": "stream",
     "text": [
      "Success rate is = 72.76 %\n",
      "Average number of steps before end (success or fall) = 41.4011\n"
     ]
    },
    {
     "name": "stderr",
     "output_type": "stream",
     "text": [
      "100%|██████████| 10000/10000 [00:06<00:00, 1578.49it/s]\n",
      "100%|██████████| 10000/10000 [00:07<00:00, 1309.70it/s]\n"
     ]
    },
    {
     "name": "stdout",
     "output_type": "stream",
     "text": [
      "Success rate is = 58.79 %\n",
      "Average number of steps before end (success or fall) = 36.233\n"
     ]
    },
    {
     "name": "stderr",
     "output_type": "stream",
     "text": [
      "100%|██████████| 10000/10000 [00:09<00:00, 1098.96it/s]\n",
      "100%|██████████| 10000/10000 [00:01<00:00, 5065.65it/s]\n"
     ]
    },
    {
     "name": "stdout",
     "output_type": "stream",
     "text": [
      "Success rate is = 11.67 %\n",
      "Average number of steps before end (success or fall) = 7.3105\n"
     ]
    },
    {
     "name": "stderr",
     "output_type": "stream",
     "text": [
      "100%|██████████| 10000/10000 [00:07<00:00, 1250.81it/s]\n",
      "100%|██████████| 10000/10000 [00:01<00:00, 5811.32it/s]\n"
     ]
    },
    {
     "name": "stdout",
     "output_type": "stream",
     "text": [
      "Success rate is = 9.65 %\n",
      "Average number of steps before end (success or fall) = 8.7544\n"
     ]
    },
    {
     "name": "stderr",
     "output_type": "stream",
     "text": [
      "100%|██████████| 10000/10000 [00:07<00:00, 1389.82it/s]\n",
      "100%|██████████| 10000/10000 [00:01<00:00, 6248.08it/s]\n"
     ]
    },
    {
     "name": "stdout",
     "output_type": "stream",
     "text": [
      "Success rate is = 4.0 %\n",
      "Average number of steps before end (success or fall) = 7.3877\n"
     ]
    },
    {
     "name": "stderr",
     "output_type": "stream",
     "text": [
      "100%|██████████| 10000/10000 [00:04<00:00, 2161.54it/s]\n",
      "100%|██████████| 10000/10000 [00:01<00:00, 8857.33it/s]\n"
     ]
    },
    {
     "name": "stdout",
     "output_type": "stream",
     "text": [
      "Success rate is = 3.64 %\n",
      "Average number of steps before end (success or fall) = 5.4399\n"
     ]
    },
    {
     "name": "stderr",
     "output_type": "stream",
     "text": [
      "100%|██████████| 10000/10000 [00:17<00:00, 560.08it/s]\n",
      "100%|██████████| 10000/10000 [00:02<00:00, 3817.82it/s]\n"
     ]
    },
    {
     "name": "stdout",
     "output_type": "stream",
     "text": [
      "Success rate is = 17.51 %\n",
      "Average number of steps before end (success or fall) = 12.1201\n"
     ]
    },
    {
     "name": "stderr",
     "output_type": "stream",
     "text": [
      "100%|██████████| 10000/10000 [00:12<00:00, 804.56it/s]\n",
      "100%|██████████| 10000/10000 [00:05<00:00, 1886.72it/s]\n"
     ]
    },
    {
     "name": "stdout",
     "output_type": "stream",
     "text": [
      "Success rate is = 24.16 %\n",
      "Average number of steps before end (success or fall) = 24.2954\n"
     ]
    },
    {
     "name": "stderr",
     "output_type": "stream",
     "text": [
      "100%|██████████| 10000/10000 [00:09<00:00, 1006.45it/s]\n",
      "100%|██████████| 10000/10000 [00:08<00:00, 1229.84it/s]\n"
     ]
    },
    {
     "name": "stdout",
     "output_type": "stream",
     "text": [
      "Success rate is = 69.93 %\n",
      "Average number of steps before end (success or fall) = 39.6876\n"
     ]
    },
    {
     "name": "stderr",
     "output_type": "stream",
     "text": [
      "100%|██████████| 10000/10000 [00:04<00:00, 2015.63it/s]\n",
      "100%|██████████| 10000/10000 [00:06<00:00, 1530.68it/s]\n"
     ]
    },
    {
     "name": "stdout",
     "output_type": "stream",
     "text": [
      "Success rate is = 20.1 %\n",
      "Average number of steps before end (success or fall) = 35.0392\n"
     ]
    },
    {
     "name": "stderr",
     "output_type": "stream",
     "text": [
      "100%|██████████| 10000/10000 [00:19<00:00, 521.69it/s]\n",
      "100%|██████████| 10000/10000 [00:04<00:00, 2284.72it/s]\n"
     ]
    },
    {
     "name": "stdout",
     "output_type": "stream",
     "text": [
      "Success rate is = 25.95 %\n",
      "Average number of steps before end (success or fall) = 21.9593\n"
     ]
    },
    {
     "name": "stderr",
     "output_type": "stream",
     "text": [
      "100%|██████████| 10000/10000 [00:14<00:00, 667.62it/s]\n",
      "100%|██████████| 10000/10000 [00:05<00:00, 1759.70it/s]\n"
     ]
    },
    {
     "name": "stdout",
     "output_type": "stream",
     "text": [
      "Success rate is = 22.12 %\n",
      "Average number of steps before end (success or fall) = 29.4736\n"
     ]
    },
    {
     "name": "stderr",
     "output_type": "stream",
     "text": [
      "100%|██████████| 10000/10000 [00:12<00:00, 830.01it/s]\n",
      "100%|██████████| 10000/10000 [00:08<00:00, 1242.39it/s]\n"
     ]
    },
    {
     "name": "stdout",
     "output_type": "stream",
     "text": [
      "Success rate is = 21.349999999999998 %\n",
      "Average number of steps before end (success or fall) = 37.274\n"
     ]
    },
    {
     "name": "stderr",
     "output_type": "stream",
     "text": [
      "100%|██████████| 10000/10000 [00:06<00:00, 1470.95it/s]\n",
      "100%|██████████| 10000/10000 [00:01<00:00, 8165.20it/s]\n"
     ]
    },
    {
     "name": "stdout",
     "output_type": "stream",
     "text": [
      "Success rate is = 6.65 %\n",
      "Average number of steps before end (success or fall) = 5.9549\n"
     ]
    },
    {
     "name": "stderr",
     "output_type": "stream",
     "text": [
      "100%|██████████| 10000/10000 [00:26<00:00, 377.66it/s]\n",
      "100%|██████████| 10000/10000 [00:08<00:00, 1241.49it/s]\n"
     ]
    },
    {
     "name": "stdout",
     "output_type": "stream",
     "text": [
      "Success rate is = 70.55 %\n",
      "Average number of steps before end (success or fall) = 40.3319\n"
     ]
    },
    {
     "name": "stderr",
     "output_type": "stream",
     "text": [
      "100%|██████████| 10000/10000 [00:17<00:00, 572.15it/s]\n",
      "100%|██████████| 10000/10000 [00:08<00:00, 1218.93it/s]\n"
     ]
    },
    {
     "name": "stdout",
     "output_type": "stream",
     "text": [
      "Success rate is = 72.97 %\n",
      "Average number of steps before end (success or fall) = 41.2493\n"
     ]
    },
    {
     "name": "stderr",
     "output_type": "stream",
     "text": [
      "100%|██████████| 10000/10000 [00:12<00:00, 784.51it/s]\n",
      "100%|██████████| 10000/10000 [00:07<00:00, 1410.29it/s]\n"
     ]
    },
    {
     "name": "stdout",
     "output_type": "stream",
     "text": [
      "Success rate is = 44.1 %\n",
      "Average number of steps before end (success or fall) = 35.8516\n"
     ]
    },
    {
     "name": "stderr",
     "output_type": "stream",
     "text": [
      "100%|██████████| 10000/10000 [00:05<00:00, 1874.37it/s]\n",
      "100%|██████████| 10000/10000 [00:02<00:00, 3889.20it/s]\n"
     ]
    },
    {
     "name": "stdout",
     "output_type": "stream",
     "text": [
      "Success rate is = 20.76 %\n",
      "Average number of steps before end (success or fall) = 12.9637\n"
     ]
    },
    {
     "name": "stderr",
     "output_type": "stream",
     "text": [
      "100%|██████████| 10000/10000 [00:30<00:00, 330.04it/s]\n",
      "100%|██████████| 10000/10000 [00:09<00:00, 1109.14it/s]\n"
     ]
    },
    {
     "name": "stdout",
     "output_type": "stream",
     "text": [
      "Success rate is = 74.15 %\n",
      "Average number of steps before end (success or fall) = 44.6619\n"
     ]
    },
    {
     "name": "stderr",
     "output_type": "stream",
     "text": [
      "100%|██████████| 10000/10000 [00:20<00:00, 495.75it/s]\n",
      "100%|██████████| 10000/10000 [00:09<00:00, 1089.52it/s]\n"
     ]
    },
    {
     "name": "stdout",
     "output_type": "stream",
     "text": [
      "Success rate is = 70.28 %\n",
      "Average number of steps before end (success or fall) = 40.4745\n"
     ]
    },
    {
     "name": "stderr",
     "output_type": "stream",
     "text": [
      "100%|██████████| 10000/10000 [00:16<00:00, 593.60it/s]\n",
      "100%|██████████| 10000/10000 [00:09<00:00, 1029.51it/s]\n"
     ]
    },
    {
     "name": "stdout",
     "output_type": "stream",
     "text": [
      "Success rate is = 58.86 %\n",
      "Average number of steps before end (success or fall) = 50.1223\n"
     ]
    },
    {
     "name": "stderr",
     "output_type": "stream",
     "text": [
      "100%|██████████| 10000/10000 [00:06<00:00, 1564.06it/s]\n",
      "100%|██████████| 10000/10000 [00:01<00:00, 5099.35it/s]\n"
     ]
    },
    {
     "name": "stdout",
     "output_type": "stream",
     "text": [
      "Success rate is = 8.84 %\n",
      "Average number of steps before end (success or fall) = 9.5118\n"
     ]
    },
    {
     "name": "stderr",
     "output_type": "stream",
     "text": [
      "100%|██████████| 10000/10000 [00:34<00:00, 291.19it/s]\n",
      "100%|██████████| 10000/10000 [00:10<00:00, 973.90it/s]\n"
     ]
    },
    {
     "name": "stdout",
     "output_type": "stream",
     "text": [
      "Success rate is = 73.52 %\n",
      "Average number of steps before end (success or fall) = 44.6591\n"
     ]
    },
    {
     "name": "stderr",
     "output_type": "stream",
     "text": [
      "100%|██████████| 10000/10000 [00:21<00:00, 466.69it/s]\n",
      "100%|██████████| 10000/10000 [00:08<00:00, 1217.54it/s]\n"
     ]
    },
    {
     "name": "stdout",
     "output_type": "stream",
     "text": [
      "Success rate is = 72.81 %\n",
      "Average number of steps before end (success or fall) = 41.7333\n"
     ]
    },
    {
     "name": "stderr",
     "output_type": "stream",
     "text": [
      "100%|██████████| 10000/10000 [00:14<00:00, 666.91it/s]\n",
      "100%|██████████| 10000/10000 [00:04<00:00, 2161.46it/s]\n"
     ]
    },
    {
     "name": "stdout",
     "output_type": "stream",
     "text": [
      "Success rate is = 6.239999999999999 %\n",
      "Average number of steps before end (success or fall) = 21.7834\n"
     ]
    },
    {
     "name": "stderr",
     "output_type": "stream",
     "text": [
      "100%|██████████| 10000/10000 [00:05<00:00, 1882.13it/s]\n",
      "100%|██████████| 10000/10000 [00:02<00:00, 4196.39it/s]\n"
     ]
    },
    {
     "name": "stdout",
     "output_type": "stream",
     "text": [
      "Success rate is = 4.36 %\n",
      "Average number of steps before end (success or fall) = 11.2947\n"
     ]
    },
    {
     "name": "stderr",
     "output_type": "stream",
     "text": [
      "100%|██████████| 10000/10000 [00:12<00:00, 819.83it/s]\n",
      "100%|██████████| 10000/10000 [00:05<00:00, 1710.76it/s]\n"
     ]
    },
    {
     "name": "stdout",
     "output_type": "stream",
     "text": [
      "Success rate is = 44.74 %\n",
      "Average number of steps before end (success or fall) = 30.2312\n"
     ]
    },
    {
     "name": "stderr",
     "output_type": "stream",
     "text": [
      "100%|██████████| 10000/10000 [00:09<00:00, 1066.88it/s]\n",
      "100%|██████████| 10000/10000 [00:05<00:00, 1730.93it/s]\n"
     ]
    },
    {
     "name": "stdout",
     "output_type": "stream",
     "text": [
      "Success rate is = 19.96 %\n",
      "Average number of steps before end (success or fall) = 30.0579\n"
     ]
    },
    {
     "name": "stderr",
     "output_type": "stream",
     "text": [
      "100%|██████████| 10000/10000 [00:08<00:00, 1195.56it/s]\n",
      "100%|██████████| 10000/10000 [00:03<00:00, 2518.21it/s]\n"
     ]
    },
    {
     "name": "stdout",
     "output_type": "stream",
     "text": [
      "Success rate is = 8.93 %\n",
      "Average number of steps before end (success or fall) = 20.1293\n"
     ]
    },
    {
     "name": "stderr",
     "output_type": "stream",
     "text": [
      "100%|██████████| 10000/10000 [00:04<00:00, 2004.69it/s]\n",
      "100%|██████████| 10000/10000 [00:01<00:00, 6932.94it/s]\n"
     ]
    },
    {
     "name": "stdout",
     "output_type": "stream",
     "text": [
      "Success rate is = 0.0 %\n",
      "Average number of steps before end (success or fall) = 5.977\n"
     ]
    },
    {
     "name": "stderr",
     "output_type": "stream",
     "text": [
      "100%|██████████| 10000/10000 [00:19<00:00, 503.32it/s]\n",
      "100%|██████████| 10000/10000 [00:08<00:00, 1238.67it/s]\n"
     ]
    },
    {
     "name": "stdout",
     "output_type": "stream",
     "text": [
      "Success rate is = 70.21 %\n",
      "Average number of steps before end (success or fall) = 40.4719\n"
     ]
    },
    {
     "name": "stderr",
     "output_type": "stream",
     "text": [
      "100%|██████████| 10000/10000 [00:14<00:00, 712.54it/s]\n",
      "100%|██████████| 10000/10000 [00:04<00:00, 2164.57it/s]\n"
     ]
    },
    {
     "name": "stdout",
     "output_type": "stream",
     "text": [
      "Success rate is = 28.48 %\n",
      "Average number of steps before end (success or fall) = 23.5682\n"
     ]
    },
    {
     "name": "stderr",
     "output_type": "stream",
     "text": [
      "100%|██████████| 10000/10000 [00:10<00:00, 960.76it/s]\n",
      "100%|██████████| 10000/10000 [00:01<00:00, 5444.62it/s]\n"
     ]
    },
    {
     "name": "stdout",
     "output_type": "stream",
     "text": [
      "Success rate is = 9.370000000000001 %\n",
      "Average number of steps before end (success or fall) = 9.0533\n"
     ]
    },
    {
     "name": "stderr",
     "output_type": "stream",
     "text": [
      "100%|██████████| 10000/10000 [00:05<00:00, 1952.02it/s]\n",
      "100%|██████████| 10000/10000 [00:01<00:00, 5057.86it/s]\n"
     ]
    },
    {
     "name": "stdout",
     "output_type": "stream",
     "text": [
      "Success rate is = 7.489999999999999 %\n",
      "Average number of steps before end (success or fall) = 8.8086\n"
     ]
    },
    {
     "name": "stderr",
     "output_type": "stream",
     "text": [
      "100%|██████████| 10000/10000 [00:19<00:00, 503.99it/s]\n",
      "100%|██████████| 10000/10000 [00:07<00:00, 1254.81it/s]\n"
     ]
    },
    {
     "name": "stdout",
     "output_type": "stream",
     "text": [
      "Success rate is = 70.97 %\n",
      "Average number of steps before end (success or fall) = 40.6789\n"
     ]
    },
    {
     "name": "stderr",
     "output_type": "stream",
     "text": [
      "100%|██████████| 10000/10000 [00:14<00:00, 667.33it/s]\n",
      "100%|██████████| 10000/10000 [00:09<00:00, 1073.99it/s]\n"
     ]
    },
    {
     "name": "stdout",
     "output_type": "stream",
     "text": [
      "Success rate is = 0.0 %\n",
      "Average number of steps before end (success or fall) = 47.3011\n"
     ]
    },
    {
     "name": "stderr",
     "output_type": "stream",
     "text": [
      "100%|██████████| 10000/10000 [00:12<00:00, 797.79it/s]\n",
      "100%|██████████| 10000/10000 [00:07<00:00, 1307.58it/s]\n"
     ]
    },
    {
     "name": "stdout",
     "output_type": "stream",
     "text": [
      "Success rate is = 61.4 %\n",
      "Average number of steps before end (success or fall) = 39.3541\n"
     ]
    },
    {
     "name": "stderr",
     "output_type": "stream",
     "text": [
      "100%|██████████| 10000/10000 [00:05<00:00, 1967.96it/s]\n",
      "100%|██████████| 10000/10000 [00:01<00:00, 5263.07it/s]\n"
     ]
    },
    {
     "name": "stdout",
     "output_type": "stream",
     "text": [
      "Success rate is = 0.0 %\n",
      "Average number of steps before end (success or fall) = 8.9464\n"
     ]
    },
    {
     "name": "stderr",
     "output_type": "stream",
     "text": [
      "100%|██████████| 10000/10000 [00:26<00:00, 380.56it/s]\n",
      "100%|██████████| 10000/10000 [00:03<00:00, 2879.33it/s]\n"
     ]
    },
    {
     "name": "stdout",
     "output_type": "stream",
     "text": [
      "Success rate is = 0.0 %\n",
      "Average number of steps before end (success or fall) = 17.9942\n"
     ]
    },
    {
     "name": "stderr",
     "output_type": "stream",
     "text": [
      "100%|██████████| 10000/10000 [00:15<00:00, 634.48it/s]\n",
      "100%|██████████| 10000/10000 [00:03<00:00, 2866.03it/s]\n"
     ]
    },
    {
     "name": "stdout",
     "output_type": "stream",
     "text": [
      "Success rate is = 23.86 %\n",
      "Average number of steps before end (success or fall) = 15.9873\n"
     ]
    },
    {
     "name": "stderr",
     "output_type": "stream",
     "text": [
      "100%|██████████| 10000/10000 [00:11<00:00, 901.11it/s]\n",
      "100%|██████████| 10000/10000 [00:05<00:00, 1699.68it/s]\n"
     ]
    },
    {
     "name": "stdout",
     "output_type": "stream",
     "text": [
      "Success rate is = 32.79 %\n",
      "Average number of steps before end (success or fall) = 27.7416\n"
     ]
    },
    {
     "name": "stderr",
     "output_type": "stream",
     "text": [
      "100%|██████████| 10000/10000 [00:05<00:00, 1943.90it/s]\n",
      "100%|██████████| 10000/10000 [00:04<00:00, 2256.90it/s]\n"
     ]
    },
    {
     "name": "stdout",
     "output_type": "stream",
     "text": [
      "Success rate is = 25.56 %\n",
      "Average number of steps before end (success or fall) = 23.4846\n"
     ]
    },
    {
     "name": "stderr",
     "output_type": "stream",
     "text": [
      "100%|██████████| 10000/10000 [00:22<00:00, 448.22it/s]\n",
      "100%|██████████| 10000/10000 [00:03<00:00, 3131.23it/s]\n"
     ]
    },
    {
     "name": "stdout",
     "output_type": "stream",
     "text": [
      "Success rate is = 27.41 %\n",
      "Average number of steps before end (success or fall) = 15.7815\n"
     ]
    },
    {
     "name": "stderr",
     "output_type": "stream",
     "text": [
      "100%|██████████| 10000/10000 [00:16<00:00, 606.44it/s]\n",
      "100%|██████████| 10000/10000 [00:02<00:00, 3930.56it/s]\n"
     ]
    },
    {
     "name": "stdout",
     "output_type": "stream",
     "text": [
      "Success rate is = 5.609999999999999 %\n",
      "Average number of steps before end (success or fall) = 12.9473\n"
     ]
    },
    {
     "name": "stderr",
     "output_type": "stream",
     "text": [
      "100%|██████████| 10000/10000 [00:13<00:00, 744.16it/s]\n",
      "100%|██████████| 10000/10000 [00:05<00:00, 1824.52it/s]\n"
     ]
    },
    {
     "name": "stdout",
     "output_type": "stream",
     "text": [
      "Success rate is = 17.96 %\n",
      "Average number of steps before end (success or fall) = 27.9923\n"
     ]
    },
    {
     "name": "stderr",
     "output_type": "stream",
     "text": [
      "100%|██████████| 10000/10000 [00:05<00:00, 1793.05it/s]\n",
      "100%|██████████| 10000/10000 [00:02<00:00, 4032.12it/s]\n"
     ]
    },
    {
     "name": "stdout",
     "output_type": "stream",
     "text": [
      "Success rate is = 11.51 %\n",
      "Average number of steps before end (success or fall) = 11.485\n"
     ]
    },
    {
     "name": "stderr",
     "output_type": "stream",
     "text": [
      "100%|██████████| 10000/10000 [00:22<00:00, 451.02it/s]\n",
      "100%|██████████| 10000/10000 [00:04<00:00, 2089.88it/s]\n"
     ]
    },
    {
     "name": "stdout",
     "output_type": "stream",
     "text": [
      "Success rate is = 25.09 %\n",
      "Average number of steps before end (success or fall) = 24.6384\n"
     ]
    },
    {
     "name": "stderr",
     "output_type": "stream",
     "text": [
      "100%|██████████| 10000/10000 [00:16<00:00, 593.30it/s]\n",
      "100%|██████████| 10000/10000 [00:06<00:00, 1464.97it/s]\n"
     ]
    },
    {
     "name": "stdout",
     "output_type": "stream",
     "text": [
      "Success rate is = 32.12 %\n",
      "Average number of steps before end (success or fall) = 30.8029\n"
     ]
    },
    {
     "name": "stderr",
     "output_type": "stream",
     "text": [
      "100%|██████████| 10000/10000 [00:12<00:00, 778.69it/s]\n",
      "100%|██████████| 10000/10000 [00:02<00:00, 3542.54it/s]\n"
     ]
    },
    {
     "name": "stdout",
     "output_type": "stream",
     "text": [
      "Success rate is = 21.59 %\n",
      "Average number of steps before end (success or fall) = 14.5536\n"
     ]
    },
    {
     "name": "stderr",
     "output_type": "stream",
     "text": [
      "100%|██████████| 10000/10000 [00:06<00:00, 1600.59it/s]\n",
      "100%|██████████| 10000/10000 [00:01<00:00, 7263.01it/s]\n"
     ]
    },
    {
     "name": "stdout",
     "output_type": "stream",
     "text": [
      "Success rate is = 0.0 %\n",
      "Average number of steps before end (success or fall) = 6.0221\n"
     ]
    },
    {
     "name": "stderr",
     "output_type": "stream",
     "text": [
      "100%|██████████| 10000/10000 [00:14<00:00, 675.26it/s]\n",
      "100%|██████████| 10000/10000 [00:02<00:00, 4369.05it/s]\n"
     ]
    },
    {
     "name": "stdout",
     "output_type": "stream",
     "text": [
      "Success rate is = 15.42 %\n",
      "Average number of steps before end (success or fall) = 11.3817\n"
     ]
    },
    {
     "name": "stderr",
     "output_type": "stream",
     "text": [
      "100%|██████████| 10000/10000 [00:10<00:00, 915.29it/s]\n",
      "100%|██████████| 10000/10000 [00:03<00:00, 2656.00it/s]\n"
     ]
    },
    {
     "name": "stdout",
     "output_type": "stream",
     "text": [
      "Success rate is = 16.89 %\n",
      "Average number of steps before end (success or fall) = 18.8803\n"
     ]
    },
    {
     "name": "stderr",
     "output_type": "stream",
     "text": [
      "100%|██████████| 10000/10000 [00:08<00:00, 1184.39it/s]\n",
      "100%|██████████| 10000/10000 [00:01<00:00, 6082.85it/s]\n"
     ]
    },
    {
     "name": "stdout",
     "output_type": "stream",
     "text": [
      "Success rate is = 3.9800000000000004 %\n",
      "Average number of steps before end (success or fall) = 8.4058\n"
     ]
    },
    {
     "name": "stderr",
     "output_type": "stream",
     "text": [
      "100%|██████████| 10000/10000 [00:04<00:00, 2071.45it/s]\n",
      "100%|██████████| 10000/10000 [00:01<00:00, 5656.59it/s]\n"
     ]
    },
    {
     "name": "stdout",
     "output_type": "stream",
     "text": [
      "Success rate is = 0.0 %\n",
      "Average number of steps before end (success or fall) = 8.5337\n"
     ]
    },
    {
     "name": "stderr",
     "output_type": "stream",
     "text": [
      "100%|██████████| 10000/10000 [00:20<00:00, 486.74it/s]\n",
      "100%|██████████| 10000/10000 [00:07<00:00, 1264.04it/s]\n"
     ]
    },
    {
     "name": "stdout",
     "output_type": "stream",
     "text": [
      "Success rate is = 72.57000000000001 %\n",
      "Average number of steps before end (success or fall) = 41.9031\n"
     ]
    },
    {
     "name": "stderr",
     "output_type": "stream",
     "text": [
      "100%|██████████| 10000/10000 [00:12<00:00, 777.28it/s]\n",
      "100%|██████████| 10000/10000 [00:06<00:00, 1480.44it/s]\n"
     ]
    },
    {
     "name": "stdout",
     "output_type": "stream",
     "text": [
      "Success rate is = 59.29 %\n",
      "Average number of steps before end (success or fall) = 35.8945\n"
     ]
    },
    {
     "name": "stderr",
     "output_type": "stream",
     "text": [
      "100%|██████████| 10000/10000 [00:10<00:00, 952.79it/s]\n",
      "100%|██████████| 10000/10000 [00:04<00:00, 2321.05it/s]\n"
     ]
    },
    {
     "name": "stdout",
     "output_type": "stream",
     "text": [
      "Success rate is = 18.9 %\n",
      "Average number of steps before end (success or fall) = 21.6996\n"
     ]
    },
    {
     "name": "stderr",
     "output_type": "stream",
     "text": [
      "100%|██████████| 10000/10000 [00:06<00:00, 1541.67it/s]\n",
      "100%|██████████| 10000/10000 [00:19<00:00, 512.64it/s]\n"
     ]
    },
    {
     "name": "stdout",
     "output_type": "stream",
     "text": [
      "Success rate is = 0.0 %\n",
      "Average number of steps before end (success or fall) = 100.0\n"
     ]
    },
    {
     "name": "stderr",
     "output_type": "stream",
     "text": [
      "100%|██████████| 10000/10000 [00:24<00:00, 405.45it/s]\n",
      "100%|██████████| 10000/10000 [00:08<00:00, 1227.09it/s]\n"
     ]
    },
    {
     "name": "stdout",
     "output_type": "stream",
     "text": [
      "Success rate is = 63.88 %\n",
      "Average number of steps before end (success or fall) = 40.6159\n"
     ]
    },
    {
     "name": "stderr",
     "output_type": "stream",
     "text": [
      "100%|██████████| 10000/10000 [00:14<00:00, 705.30it/s]\n",
      "100%|██████████| 10000/10000 [00:01<00:00, 5647.61it/s]\n"
     ]
    },
    {
     "name": "stdout",
     "output_type": "stream",
     "text": [
      "Success rate is = 4.99 %\n",
      "Average number of steps before end (success or fall) = 8.6914\n"
     ]
    },
    {
     "name": "stderr",
     "output_type": "stream",
     "text": [
      "100%|██████████| 10000/10000 [00:11<00:00, 896.85it/s]\n",
      "100%|██████████| 10000/10000 [00:02<00:00, 4281.79it/s]\n"
     ]
    },
    {
     "name": "stdout",
     "output_type": "stream",
     "text": [
      "Success rate is = 6.5 %\n",
      "Average number of steps before end (success or fall) = 12.0879\n"
     ]
    },
    {
     "name": "stderr",
     "output_type": "stream",
     "text": [
      "100%|██████████| 10000/10000 [00:05<00:00, 1924.94it/s]\n",
      "100%|██████████| 10000/10000 [00:02<00:00, 4170.85it/s]\n"
     ]
    },
    {
     "name": "stdout",
     "output_type": "stream",
     "text": [
      "Success rate is = 7.95 %\n",
      "Average number of steps before end (success or fall) = 12.9322\n"
     ]
    },
    {
     "name": "stderr",
     "output_type": "stream",
     "text": [
      "100%|██████████| 10000/10000 [00:24<00:00, 413.55it/s]\n",
      "100%|██████████| 10000/10000 [00:08<00:00, 1130.81it/s]\n"
     ]
    },
    {
     "name": "stdout",
     "output_type": "stream",
     "text": [
      "Success rate is = 74.35000000000001 %\n",
      "Average number of steps before end (success or fall) = 43.9788\n"
     ]
    },
    {
     "name": "stderr",
     "output_type": "stream",
     "text": [
      "100%|██████████| 10000/10000 [00:14<00:00, 666.80it/s]\n",
      "100%|██████████| 10000/10000 [00:09<00:00, 1080.69it/s]\n"
     ]
    },
    {
     "name": "stdout",
     "output_type": "stream",
     "text": [
      "Success rate is = 74.88 %\n",
      "Average number of steps before end (success or fall) = 44.214\n"
     ]
    },
    {
     "name": "stderr",
     "output_type": "stream",
     "text": [
      "100%|██████████| 10000/10000 [00:10<00:00, 911.33it/s]\n",
      "100%|██████████| 10000/10000 [00:02<00:00, 4436.08it/s]\n"
     ]
    },
    {
     "name": "stdout",
     "output_type": "stream",
     "text": [
      "Success rate is = 0.0 %\n",
      "Average number of steps before end (success or fall) = 8.8972\n"
     ]
    },
    {
     "name": "stderr",
     "output_type": "stream",
     "text": [
      "100%|██████████| 10000/10000 [00:05<00:00, 1979.57it/s]\n",
      "100%|██████████| 10000/10000 [00:01<00:00, 5899.59it/s]\n"
     ]
    },
    {
     "name": "stdout",
     "output_type": "stream",
     "text": [
      "Success rate is = 0.0 %\n",
      "Average number of steps before end (success or fall) = 7.444\n"
     ]
    },
    {
     "name": "stderr",
     "output_type": "stream",
     "text": [
      "100%|██████████| 10000/10000 [00:26<00:00, 382.12it/s]\n",
      "100%|██████████| 10000/10000 [00:19<00:00, 522.24it/s]\n"
     ]
    },
    {
     "name": "stdout",
     "output_type": "stream",
     "text": [
      "Success rate is = 0.0 %\n",
      "Average number of steps before end (success or fall) = 100.0\n"
     ]
    },
    {
     "name": "stderr",
     "output_type": "stream",
     "text": [
      "100%|██████████| 10000/10000 [00:15<00:00, 627.26it/s]\n",
      "100%|██████████| 10000/10000 [00:07<00:00, 1416.30it/s]\n"
     ]
    },
    {
     "name": "stdout",
     "output_type": "stream",
     "text": [
      "Success rate is = 48.93 %\n",
      "Average number of steps before end (success or fall) = 35.9169\n"
     ]
    },
    {
     "name": "stderr",
     "output_type": "stream",
     "text": [
      "100%|██████████| 10000/10000 [00:13<00:00, 755.61it/s]\n",
      "100%|██████████| 10000/10000 [00:04<00:00, 2216.76it/s]\n"
     ]
    },
    {
     "name": "stdout",
     "output_type": "stream",
     "text": [
      "Success rate is = 29.04 %\n",
      "Average number of steps before end (success or fall) = 22.8664\n"
     ]
    },
    {
     "name": "stderr",
     "output_type": "stream",
     "text": [
      "100%|██████████| 10000/10000 [00:07<00:00, 1354.82it/s]\n",
      "100%|██████████| 10000/10000 [00:02<00:00, 4568.33it/s]\n"
     ]
    },
    {
     "name": "stdout",
     "output_type": "stream",
     "text": [
      "Success rate is = 0.0 %\n",
      "Average number of steps before end (success or fall) = 8.9195\n"
     ]
    },
    {
     "name": "stderr",
     "output_type": "stream",
     "text": [
      "100%|██████████| 10000/10000 [00:32<00:00, 309.46it/s]\n",
      "100%|██████████| 10000/10000 [00:09<00:00, 1092.44it/s]\n"
     ]
    },
    {
     "name": "stdout",
     "output_type": "stream",
     "text": [
      "Success rate is = 73.94 %\n",
      "Average number of steps before end (success or fall) = 44.2089\n"
     ]
    },
    {
     "name": "stderr",
     "output_type": "stream",
     "text": [
      "100%|██████████| 10000/10000 [00:16<00:00, 616.31it/s]\n",
      "100%|██████████| 10000/10000 [00:05<00:00, 1701.94it/s]\n"
     ]
    },
    {
     "name": "stdout",
     "output_type": "stream",
     "text": [
      "Success rate is = 6.05 %\n",
      "Average number of steps before end (success or fall) = 29.3166\n"
     ]
    },
    {
     "name": "stderr",
     "output_type": "stream",
     "text": [
      "100%|██████████| 10000/10000 [00:12<00:00, 809.39it/s]\n",
      "100%|██████████| 10000/10000 [00:04<00:00, 2363.76it/s]\n"
     ]
    },
    {
     "name": "stdout",
     "output_type": "stream",
     "text": [
      "Success rate is = 25.56 %\n",
      "Average number of steps before end (success or fall) = 21.783\n"
     ]
    },
    {
     "name": "stderr",
     "output_type": "stream",
     "text": [
      "100%|██████████| 10000/10000 [00:04<00:00, 2045.83it/s]\n",
      "100%|██████████| 10000/10000 [00:04<00:00, 2159.44it/s]\n"
     ]
    },
    {
     "name": "stdout",
     "output_type": "stream",
     "text": [
      "Success rate is = 19.24 %\n",
      "Average number of steps before end (success or fall) = 21.0242\n"
     ]
    },
    {
     "name": "stderr",
     "output_type": "stream",
     "text": [
      "100%|██████████| 10000/10000 [00:18<00:00, 550.37it/s]\n",
      "100%|██████████| 10000/10000 [00:04<00:00, 2296.70it/s]\n"
     ]
    },
    {
     "name": "stdout",
     "output_type": "stream",
     "text": [
      "Success rate is = 31.0 %\n",
      "Average number of steps before end (success or fall) = 20.8885\n"
     ]
    },
    {
     "name": "stderr",
     "output_type": "stream",
     "text": [
      "100%|██████████| 10000/10000 [00:12<00:00, 790.80it/s]\n",
      "100%|██████████| 10000/10000 [00:02<00:00, 3361.55it/s]\n"
     ]
    },
    {
     "name": "stdout",
     "output_type": "stream",
     "text": [
      "Success rate is = 17.95 %\n",
      "Average number of steps before end (success or fall) = 14.0534\n"
     ]
    },
    {
     "name": "stderr",
     "output_type": "stream",
     "text": [
      "100%|██████████| 10000/10000 [00:09<00:00, 1052.20it/s]\n",
      "100%|██████████| 10000/10000 [00:02<00:00, 3977.91it/s]\n"
     ]
    },
    {
     "name": "stdout",
     "output_type": "stream",
     "text": [
      "Success rate is = 6.2700000000000005 %\n",
      "Average number of steps before end (success or fall) = 12.4844\n"
     ]
    },
    {
     "name": "stderr",
     "output_type": "stream",
     "text": [
      "100%|██████████| 10000/10000 [00:05<00:00, 1952.79it/s]\n",
      "100%|██████████| 10000/10000 [00:01<00:00, 5875.87it/s]\n"
     ]
    },
    {
     "name": "stdout",
     "output_type": "stream",
     "text": [
      "Success rate is = 7.46 %\n",
      "Average number of steps before end (success or fall) = 7.8265\n"
     ]
    },
    {
     "name": "stderr",
     "output_type": "stream",
     "text": [
      "100%|██████████| 10000/10000 [00:20<00:00, 488.27it/s]\n",
      "100%|██████████| 10000/10000 [00:06<00:00, 1565.25it/s]\n"
     ]
    },
    {
     "name": "stdout",
     "output_type": "stream",
     "text": [
      "Success rate is = 24.83 %\n",
      "Average number of steps before end (success or fall) = 28.6545\n"
     ]
    },
    {
     "name": "stderr",
     "output_type": "stream",
     "text": [
      "100%|██████████| 10000/10000 [00:13<00:00, 729.14it/s]\n",
      "100%|██████████| 10000/10000 [00:05<00:00, 1844.78it/s]\n"
     ]
    },
    {
     "name": "stdout",
     "output_type": "stream",
     "text": [
      "Success rate is = 21.21 %\n",
      "Average number of steps before end (success or fall) = 27.7778\n"
     ]
    },
    {
     "name": "stderr",
     "output_type": "stream",
     "text": [
      "100%|██████████| 10000/10000 [00:10<00:00, 919.89it/s]\n",
      "100%|██████████| 10000/10000 [00:04<00:00, 2385.45it/s]\n"
     ]
    },
    {
     "name": "stdout",
     "output_type": "stream",
     "text": [
      "Success rate is = 0.0 %\n",
      "Average number of steps before end (success or fall) = 19.1711\n"
     ]
    },
    {
     "name": "stderr",
     "output_type": "stream",
     "text": [
      "100%|██████████| 10000/10000 [00:05<00:00, 1988.86it/s]\n",
      "100%|██████████| 10000/10000 [00:02<00:00, 3662.89it/s]\n"
     ]
    },
    {
     "name": "stdout",
     "output_type": "stream",
     "text": [
      "Success rate is = 2.34 %\n",
      "Average number of steps before end (success or fall) = 9.1451\n"
     ]
    },
    {
     "name": "stderr",
     "output_type": "stream",
     "text": [
      "100%|██████████| 10000/10000 [00:24<00:00, 416.43it/s]\n",
      "100%|██████████| 10000/10000 [00:08<00:00, 1149.18it/s]\n"
     ]
    },
    {
     "name": "stdout",
     "output_type": "stream",
     "text": [
      "Success rate is = 61.809999999999995 %\n",
      "Average number of steps before end (success or fall) = 39.086\n"
     ]
    },
    {
     "name": "stderr",
     "output_type": "stream",
     "text": [
      "100%|██████████| 10000/10000 [00:14<00:00, 709.76it/s]\n",
      "100%|██████████| 10000/10000 [00:06<00:00, 1493.11it/s]\n"
     ]
    },
    {
     "name": "stdout",
     "output_type": "stream",
     "text": [
      "Success rate is = 22.09 %\n",
      "Average number of steps before end (success or fall) = 32.5176\n"
     ]
    },
    {
     "name": "stderr",
     "output_type": "stream",
     "text": [
      "100%|██████████| 10000/10000 [00:10<00:00, 917.95it/s]\n",
      "100%|██████████| 10000/10000 [00:08<00:00, 1154.49it/s]\n"
     ]
    },
    {
     "name": "stdout",
     "output_type": "stream",
     "text": [
      "Success rate is = 58.5 %\n",
      "Average number of steps before end (success or fall) = 45.1286\n"
     ]
    },
    {
     "name": "stderr",
     "output_type": "stream",
     "text": [
      "100%|██████████| 10000/10000 [00:04<00:00, 2093.77it/s]\n",
      "100%|██████████| 10000/10000 [00:02<00:00, 4858.40it/s]\n"
     ]
    },
    {
     "name": "stdout",
     "output_type": "stream",
     "text": [
      "Success rate is = 7.8 %\n",
      "Average number of steps before end (success or fall) = 8.7281\n"
     ]
    },
    {
     "name": "stderr",
     "output_type": "stream",
     "text": [
      "100%|██████████| 10000/10000 [00:25<00:00, 397.84it/s]\n",
      "100%|██████████| 10000/10000 [00:01<00:00, 5372.86it/s]\n"
     ]
    },
    {
     "name": "stdout",
     "output_type": "stream",
     "text": [
      "Success rate is = 9.42 %\n",
      "Average number of steps before end (success or fall) = 9.2569\n"
     ]
    },
    {
     "name": "stderr",
     "output_type": "stream",
     "text": [
      "100%|██████████| 10000/10000 [00:15<00:00, 631.47it/s]\n",
      "100%|██████████| 10000/10000 [00:02<00:00, 3432.33it/s]\n"
     ]
    },
    {
     "name": "stdout",
     "output_type": "stream",
     "text": [
      "Success rate is = 22.1 %\n",
      "Average number of steps before end (success or fall) = 14.645\n"
     ]
    },
    {
     "name": "stderr",
     "output_type": "stream",
     "text": [
      "100%|██████████| 10000/10000 [00:11<00:00, 894.83it/s]\n",
      "100%|██████████| 10000/10000 [00:07<00:00, 1323.48it/s]\n"
     ]
    },
    {
     "name": "stdout",
     "output_type": "stream",
     "text": [
      "Success rate is = 0.0 %\n",
      "Average number of steps before end (success or fall) = 37.8588\n"
     ]
    },
    {
     "name": "stderr",
     "output_type": "stream",
     "text": [
      "100%|██████████| 10000/10000 [00:06<00:00, 1566.31it/s]\n",
      "100%|██████████| 10000/10000 [00:05<00:00, 1745.67it/s]\n"
     ]
    },
    {
     "name": "stdout",
     "output_type": "stream",
     "text": [
      "Success rate is = 13.41 %\n",
      "Average number of steps before end (success or fall) = 29.0168\n"
     ]
    },
    {
     "name": "stderr",
     "output_type": "stream",
     "text": [
      "100%|██████████| 10000/10000 [00:28<00:00, 344.90it/s]\n",
      "100%|██████████| 10000/10000 [00:10<00:00, 966.26it/s]\n"
     ]
    },
    {
     "name": "stdout",
     "output_type": "stream",
     "text": [
      "Success rate is = 58.79 %\n",
      "Average number of steps before end (success or fall) = 49.5639\n"
     ]
    },
    {
     "name": "stderr",
     "output_type": "stream",
     "text": [
      "100%|██████████| 10000/10000 [00:15<00:00, 640.95it/s]\n",
      "100%|██████████| 10000/10000 [00:08<00:00, 1135.21it/s]\n"
     ]
    },
    {
     "name": "stdout",
     "output_type": "stream",
     "text": [
      "Success rate is = 58.78 %\n",
      "Average number of steps before end (success or fall) = 45.1381\n"
     ]
    },
    {
     "name": "stderr",
     "output_type": "stream",
     "text": [
      "100%|██████████| 10000/10000 [00:11<00:00, 854.22it/s]\n",
      "100%|██████████| 10000/10000 [00:01<00:00, 5809.19it/s]\n"
     ]
    },
    {
     "name": "stdout",
     "output_type": "stream",
     "text": [
      "Success rate is = 0.0 %\n",
      "Average number of steps before end (success or fall) = 8.8791\n"
     ]
    },
    {
     "name": "stderr",
     "output_type": "stream",
     "text": [
      "100%|██████████| 10000/10000 [00:05<00:00, 1742.32it/s]\n",
      "100%|██████████| 10000/10000 [00:06<00:00, 1525.40it/s]\n"
     ]
    },
    {
     "name": "stdout",
     "output_type": "stream",
     "text": [
      "Success rate is = 0.0 %\n",
      "Average number of steps before end (success or fall) = 29.8537\n"
     ]
    },
    {
     "name": "stderr",
     "output_type": "stream",
     "text": [
      "100%|██████████| 10000/10000 [00:25<00:00, 391.49it/s]\n",
      "100%|██████████| 10000/10000 [00:12<00:00, 829.72it/s]\n"
     ]
    },
    {
     "name": "stdout",
     "output_type": "stream",
     "text": [
      "Success rate is = 54.82 %\n",
      "Average number of steps before end (success or fall) = 62.5503\n"
     ]
    },
    {
     "name": "stderr",
     "output_type": "stream",
     "text": [
      "100%|██████████| 10000/10000 [00:14<00:00, 667.22it/s]\n",
      "100%|██████████| 10000/10000 [00:06<00:00, 1567.57it/s]\n"
     ]
    },
    {
     "name": "stdout",
     "output_type": "stream",
     "text": [
      "Success rate is = 20.5 %\n",
      "Average number of steps before end (success or fall) = 30.1077\n"
     ]
    },
    {
     "name": "stderr",
     "output_type": "stream",
     "text": [
      "100%|██████████| 10000/10000 [00:11<00:00, 903.66it/s]\n",
      "100%|██████████| 10000/10000 [00:04<00:00, 2289.70it/s]\n"
     ]
    },
    {
     "name": "stdout",
     "output_type": "stream",
     "text": [
      "Success rate is = 21.67 %\n",
      "Average number of steps before end (success or fall) = 20.2421\n"
     ]
    },
    {
     "name": "stderr",
     "output_type": "stream",
     "text": [
      "100%|██████████| 10000/10000 [00:05<00:00, 1868.46it/s]\n",
      "100%|██████████| 10000/10000 [00:02<00:00, 4435.93it/s]"
     ]
    },
    {
     "name": "stdout",
     "output_type": "stream",
     "text": [
      "Success rate is = 6.18 %\n",
      "Average number of steps before end (success or fall) = 10.3969\n"
     ]
    },
    {
     "name": "stderr",
     "output_type": "stream",
     "text": [
      "\n"
     ]
    }
   ],
   "source": [
    "# SARSA optimization\n",
    "alpha = [0.01, 0.05, 0.1, 0.5, 0.8, 0.9, 0.99]\n",
    "gamma = [0.5, 0.8, 0.9, 0.95, 0.99, 1]\n",
    "epsilon = [0.01, 0.05, 0.1, 0.5]\n",
    "alphas=[]\n",
    "success_rates = []\n",
    "gammas=[]\n",
    "epsilons=[]\n",
    "rewards=[]\n",
    "for al in alpha :\n",
    "    for ga in gamma :\n",
    "        for eps in epsilon :\n",
    "            sarsa_table = sarsa_train(env_slip, al, ga, eps, episodes = 10000, steps = 100)\n",
    "            reward, success_rate, avg_nb_steps = agent_play(env_slip, sarsa_table)\n",
    "            success_rates.append(success_rate)\n",
    "            alphas.append(al)\n",
    "            gammas.append(ga)\n",
    "            epsilons.append(eps)\n",
    "            rewards.append(reward)\n"
   ]
  },
  {
   "cell_type": "code",
   "execution_count": 48,
   "metadata": {},
   "outputs": [
    {
     "data": {
      "text/html": [
       "<div>\n",
       "<style scoped>\n",
       "    .dataframe tbody tr th:only-of-type {\n",
       "        vertical-align: middle;\n",
       "    }\n",
       "\n",
       "    .dataframe tbody tr th {\n",
       "        vertical-align: top;\n",
       "    }\n",
       "\n",
       "    .dataframe thead th {\n",
       "        text-align: right;\n",
       "    }\n",
       "</style>\n",
       "<table border=\"1\" class=\"dataframe\">\n",
       "  <thead>\n",
       "    <tr style=\"text-align: right;\">\n",
       "      <th></th>\n",
       "      <th>epsilon</th>\n",
       "      <th>alpha</th>\n",
       "      <th>gamma</th>\n",
       "      <th>success_rate</th>\n",
       "    </tr>\n",
       "  </thead>\n",
       "  <tbody>\n",
       "    <tr>\n",
       "      <th>133</th>\n",
       "      <td>0.05</td>\n",
       "      <td>0.90</td>\n",
       "      <td>0.95</td>\n",
       "      <td>0.7488</td>\n",
       "    </tr>\n",
       "    <tr>\n",
       "      <th>132</th>\n",
       "      <td>0.01</td>\n",
       "      <td>0.90</td>\n",
       "      <td>0.95</td>\n",
       "      <td>0.7435</td>\n",
       "    </tr>\n",
       "    <tr>\n",
       "      <th>88</th>\n",
       "      <td>0.01</td>\n",
       "      <td>0.50</td>\n",
       "      <td>0.99</td>\n",
       "      <td>0.7415</td>\n",
       "    </tr>\n",
       "    <tr>\n",
       "      <th>140</th>\n",
       "      <td>0.01</td>\n",
       "      <td>0.90</td>\n",
       "      <td>1.00</td>\n",
       "      <td>0.7394</td>\n",
       "    </tr>\n",
       "    <tr>\n",
       "      <th>65</th>\n",
       "      <td>0.05</td>\n",
       "      <td>0.10</td>\n",
       "      <td>0.99</td>\n",
       "      <td>0.7388</td>\n",
       "    </tr>\n",
       "    <tr>\n",
       "      <th>...</th>\n",
       "      <td>...</td>\n",
       "      <td>...</td>\n",
       "      <td>...</td>\n",
       "      <td>...</td>\n",
       "    </tr>\n",
       "    <tr>\n",
       "      <th>119</th>\n",
       "      <td>0.50</td>\n",
       "      <td>0.80</td>\n",
       "      <td>1.00</td>\n",
       "      <td>0.0000</td>\n",
       "    </tr>\n",
       "    <tr>\n",
       "      <th>108</th>\n",
       "      <td>0.01</td>\n",
       "      <td>0.80</td>\n",
       "      <td>0.95</td>\n",
       "      <td>0.0000</td>\n",
       "    </tr>\n",
       "    <tr>\n",
       "      <th>134</th>\n",
       "      <td>0.10</td>\n",
       "      <td>0.90</td>\n",
       "      <td>0.95</td>\n",
       "      <td>0.0000</td>\n",
       "    </tr>\n",
       "    <tr>\n",
       "      <th>107</th>\n",
       "      <td>0.50</td>\n",
       "      <td>0.80</td>\n",
       "      <td>0.90</td>\n",
       "      <td>0.0000</td>\n",
       "    </tr>\n",
       "    <tr>\n",
       "      <th>150</th>\n",
       "      <td>0.10</td>\n",
       "      <td>0.99</td>\n",
       "      <td>0.80</td>\n",
       "      <td>0.0000</td>\n",
       "    </tr>\n",
       "  </tbody>\n",
       "</table>\n",
       "<p>168 rows × 4 columns</p>\n",
       "</div>"
      ],
      "text/plain": [
       "     epsilon  alpha  gamma  success_rate\n",
       "133     0.05   0.90   0.95        0.7488\n",
       "132     0.01   0.90   0.95        0.7435\n",
       "88      0.01   0.50   0.99        0.7415\n",
       "140     0.01   0.90   1.00        0.7394\n",
       "65      0.05   0.10   0.99        0.7388\n",
       "..       ...    ...    ...           ...\n",
       "119     0.50   0.80   1.00        0.0000\n",
       "108     0.01   0.80   0.95        0.0000\n",
       "134     0.10   0.90   0.95        0.0000\n",
       "107     0.50   0.80   0.90        0.0000\n",
       "150     0.10   0.99   0.80        0.0000\n",
       "\n",
       "[168 rows x 4 columns]"
      ]
     },
     "execution_count": 48,
     "metadata": {},
     "output_type": "execute_result"
    }
   ],
   "source": [
    "df = pd.DataFrame()\n",
    "\n",
    "df[\"epsilon\"]=epsilons\n",
    "df[\"alpha\"]=alphas\n",
    "df[\"gamma\"]=gammas\n",
    "df[\"success_rate\"]=success_rates\n",
    "df = df.sort_values(by=\"success_rate\", ascending=False)\n",
    "df"
   ]
  },
  {
   "cell_type": "code",
   "execution_count": 49,
   "metadata": {},
   "outputs": [
    {
     "name": "stderr",
     "output_type": "stream",
     "text": [
      "No artists with labels found to put in legend.  Note that artists whose label start with an underscore are ignored when legend() is called with no argument.\n"
     ]
    },
    {
     "data": {
      "image/png": "[encoded data removed]",
      "text/plain": [
       "<Figure size 1008x432 with 1 Axes>"
      ]
     },
     "metadata": {
      "needs_background": "light"
     },
     "output_type": "display_data"
    }
   ],
   "source": [
    "fig, axes = plt.subplots(figsize=(14, 6))\n",
    "title = f\"Cummulative Average reward for SARSA for different parameters \\n best success rate : {round(100*df.iloc[0]['success_rate'],2)} % \\n best parameters : alpha = {df.iloc[0]['alpha']}, epsilon = {df.iloc[0]['epsilon']}, gamma = {df.iloc[0]['gamma']} \"\n",
    "plt.title(title)\n",
    "for i in range(len(df)):\n",
    "    plt.plot(np.arange(len(rewards[i])), np.cumsum(rewards[i])/np.arange(len(rewards[i])))\n",
    "plt.legend()\n",
    "plt.show()"
   ]
  },
  {
   "cell_type": "markdown",
   "metadata": {},
   "source": [
    "![images/output.png](images/output.png)"
   ]
  },
  {
   "cell_type": "code",
   "execution_count": 50,
   "metadata": {},
   "outputs": [
    {
     "name": "stderr",
     "output_type": "stream",
     "text": [
      "100%|██████████| 10000/10000 [00:19<00:00, 520.97it/s]\n"
     ]
    }
   ],
   "source": [
    "sarsa_table = sarsa_train(env_slip, alpha = 0.1, gamma = 0.99, epsilon = 0.1, episodes = 10000, steps = 100)"
   ]
  },
  {
   "cell_type": "markdown",
   "metadata": {},
   "source": [
    "Recalculting the performances..."
   ]
  },
  {
   "cell_type": "code",
   "execution_count": 51,
   "metadata": {},
   "outputs": [
    {
     "name": "stderr",
     "output_type": "stream",
     "text": [
      "100%|██████████| 10000/10000 [00:01<00:00, 6786.09it/s]\n"
     ]
    },
    {
     "name": "stdout",
     "output_type": "stream",
     "text": [
      "Success rate is = 4.6 %\n",
      "Average number of steps before end (success or fall) = 5.0582\n"
     ]
    },
    {
     "name": "stderr",
     "output_type": "stream",
     "text": [
      "100%|██████████| 10000/10000 [00:22<00:00, 451.58it/s]\n"
     ]
    },
    {
     "name": "stdout",
     "output_type": "stream",
     "text": [
      "Success rate is = 0.0 %\n",
      "Average number of steps before end (success or fall) = 100.0\n"
     ]
    },
    {
     "name": "stderr",
     "output_type": "stream",
     "text": [
      "100%|██████████| 10000/10000 [00:01<00:00, 6515.66it/s]\n"
     ]
    },
    {
     "name": "stdout",
     "output_type": "stream",
     "text": [
      "Success rate is = 3.62 %\n",
      "Average number of steps before end (success or fall) = 7.3836\n"
     ]
    },
    {
     "name": "stderr",
     "output_type": "stream",
     "text": [
      "100%|██████████| 10000/10000 [00:13<00:00, 725.58it/s]\n"
     ]
    },
    {
     "name": "stdout",
     "output_type": "stream",
     "text": [
      "Success rate is = 48.96 %\n",
      "Average number of steps before end (success or fall) = 63.4323\n"
     ]
    },
    {
     "name": "stderr",
     "output_type": "stream",
     "text": [
      "100%|██████████| 10000/10000 [00:07<00:00, 1426.91it/s]"
     ]
    },
    {
     "name": "stdout",
     "output_type": "stream",
     "text": [
      "Success rate is = 60.029999999999994 %\n",
      "Average number of steps before end (success or fall) = 36.2349\n"
     ]
    },
    {
     "name": "stderr",
     "output_type": "stream",
     "text": [
      "\n"
     ]
    }
   ],
   "source": [
    "rewards_d, success_rate_d, avg_num_steps_d= agent_play(env_slip, q_table=deterministic_q_table)\n",
    "rewards_q, success_rate_q, avg_num_steps_q= agent_play(env_slip, q_table=q_table)\n",
    "rewards_q_greedy, success_rate_q_greedy, avg_num_steps_q_greedy= agent_play(env_slip, q_table=q_table_greedy)\n",
    "rewards_q_greedy_decay, success_rate_q_greedy_decay, avg_num_steps_q_greedy_decay= agent_play(env_slip, q_table=q_table_greedy_decay)\n",
    "rewards_sarsa, success_rate_sarsa, avg_num_steps_sarsa= agent_play(env_slip, q_table=sarsa_table)"
   ]
  },
  {
   "cell_type": "markdown",
   "metadata": {},
   "source": [
    "As we can, the performances of both the $\\epsilon$-greedy decay Q-learning algorithm and the SARSA algorithm have been increased."
   ]
  },
  {
   "cell_type": "markdown",
   "metadata": {},
   "source": [
    "### 3.3. Comparison"
   ]
  },
  {
   "cell_type": "code",
   "execution_count": 52,
   "metadata": {},
   "outputs": [
    {
     "data": {
      "image/png": "[encoded data removed]",
      "text/plain": [
       "<Figure size 1800x504 with 5 Axes>"
      ]
     },
     "metadata": {
      "needs_background": "light"
     },
     "output_type": "display_data"
    }
   ],
   "source": [
    "fig, ax = plt.subplots(1, 5)\n",
    "fig.set_size_inches(25, 7)\n",
    "# im = Image.open('images/frozen_lake.jpg')\n",
    "fig.suptitle(\"Q-table for is_slippery=True\", fontsize=16)\n",
    "\n",
    "# Creating the heat maps\n",
    "map_q = np.sum(q_table, axis = 1)\n",
    "map_q= map_q.reshape(4, 4)\n",
    "\n",
    "map_d = np.sum(deterministic_q_table, axis = 1)\n",
    "map_d= map_d.reshape(4, 4)\n",
    "\n",
    "map_g = np.sum(q_table_greedy, axis = 1)\n",
    "map_g= map_g.reshape(4, 4)\n",
    "\n",
    "map_e = np.sum(q_table_greedy_decay, axis = 1)\n",
    "map_e= map_e.reshape(4, 4)\n",
    "\n",
    "map_s = np.sum(sarsa_table, axis = 1)\n",
    "map_s= map_s.reshape(4, 4)\n",
    "\n",
    "\n",
    "# ax[0].imshow(im, alpha=1)\n",
    "# ax[1].imshow(im, alpha=1)\n",
    "\n",
    "ax[0].matshow(map_d, cmap='winter')\n",
    "ax[1].matshow(map_q, cmap='winter')\n",
    "ax[2].matshow(map_g, cmap='winter')\n",
    "ax[3].matshow(map_e, cmap='winter')\n",
    "ax[4].matshow(map_s, cmap='winter')\n",
    "\n",
    "pos=[0,1,2,3]\n",
    "\n",
    "deterministic_q_table_reshaped=deterministic_q_table.reshape((4,4,4))\n",
    "q_table_reshaped=q_table.reshape((4,4,4))\n",
    "greedy_reshaped=q_table_greedy.reshape((4,4,4))\n",
    "q_table_greedy_decay_reshaped =q_table_greedy_decay.reshape((4,4,4))\n",
    "sarsa_reshaped =sarsa_table.reshape((4,4,4))\n",
    "\n",
    "\n",
    "deviation = 0.2\n",
    "for i in pos: # rows\n",
    "    for j in pos: # cols\n",
    "\n",
    "        ax[0].text(j-deviation, i, '{:0.2f}'.format(deterministic_q_table_reshaped[i][j][0]), ha='center', va='center') # 0 Left\n",
    "        ax[0].text(j, i+deviation, '{:0.2f}'.format(deterministic_q_table_reshaped[i][j][1]), ha='center', va='center') # 1 Down\n",
    "        ax[0].text(j+deviation, i, '{:0.2f}'.format(deterministic_q_table_reshaped[i][j][2]), ha='center', va='center') # 2 right\n",
    "        ax[0].text(j, i-deviation, '{:0.2f}'.format(deterministic_q_table_reshaped[i][j][3]), ha='center', va='center') # 3 up\n",
    "        ax[0].set_title(f\"Deterministic Q-table \\n success rate = {round(100*success_rate_d,2)} %\")\n",
    "\n",
    "        ax[1].text(j-deviation, i, '{:0.2f}'.format(q_table_reshaped[i][j][0]), ha='center', va='center') # 0 Left\n",
    "        ax[1].text(j, i+deviation, '{:0.2f}'.format(q_table_reshaped[i][j][1]), ha='center', va='center') # 1 Down\n",
    "        ax[1].text(j+deviation, i, '{:0.2f}'.format(q_table_reshaped[i][j][2]), ha='center', va='center') # 2 right\n",
    "        ax[1].text(j, i-deviation, '{:0.2f}'.format(q_table_reshaped[i][j][3]), ha='center', va='center') # 3 up\n",
    "        ax[1].set_title(f\"Q-learning Q-table \\n success rate = {round(100*success_rate_q,2)} %\")\n",
    "\n",
    "        ax[2].text(j-deviation, i, '{:0.2f}'.format(greedy_reshaped[i][j][0]), ha='center', va='center') # 0 Left\n",
    "        ax[2].text(j, i+deviation, '{:0.2f}'.format(greedy_reshaped[i][j][1]), ha='center', va='center') # 1 Down\n",
    "        ax[2].text(j+deviation, i, '{:0.2f}'.format(greedy_reshaped[i][j][2]), ha='center', va='center') # 2 right\n",
    "        ax[2].text(j, i-deviation, '{:0.2f}'.format(greedy_reshaped[i][j][3]), ha='center', va='center') # 3 up\n",
    "        ax[2].set_title(f\"Eps greedy Q-learning Q-table  \\n success rate = {round(100*success_rate_q_greedy,2)} %\")\n",
    "\n",
    "\n",
    "        ax[3].text(j-deviation, i, '{:0.2f}'.format(q_table_greedy_decay_reshaped[i][j][0]), ha='center', va='center') # 0 Left\n",
    "        ax[3].text(j, i+deviation, '{:0.2f}'.format(q_table_greedy_decay_reshaped[i][j][1]), ha='center', va='center') # 1 Down\n",
    "        ax[3].text(j+deviation, i, '{:0.2f}'.format(q_table_greedy_decay_reshaped[i][j][2]), ha='center', va='center') # 2 right\n",
    "        ax[3].text(j, i-deviation, '{:0.2f}'.format(q_table_greedy_decay_reshaped[i][j][3]), ha='center', va='center') # 3 up\n",
    "        ax[3].set_title(f\"Eps greedy decay Q-learning Q-table \\n success rate = {round(100*success_rate_q_greedy_decay,2)} %\")\n",
    "\n",
    "        ax[4].text(j-deviation, i, '{:0.2f}'.format(sarsa_reshaped[i][j][0]), ha='center', va='center') # 0 Left\n",
    "        ax[4].text(j, i+deviation, '{:0.2f}'.format(sarsa_reshaped[i][j][1]), ha='center', va='center') # 1 Down\n",
    "        ax[4].text(j+deviation, i, '{:0.2f}'.format(sarsa_reshaped[i][j][2]), ha='center', va='center') # 2 right\n",
    "        ax[4].text(j, i-deviation, '{:0.2f}'.format(sarsa_reshaped[i][j][3]), ha='center', va='center') # 3 up\n",
    "        ax[4].set_title(f\"SARSA table \\n success rate = {round(100*success_rate_sarsa,2)} %\")\n",
    "plt.show()"
   ]
  },
  {
   "cell_type": "code",
   "execution_count": 53,
   "metadata": {
    "scrolled": false
   },
   "outputs": [
    {
     "data": {
      "image/png": "[encoded data removed]",
      "text/plain": [
       "<Figure size 1008x432 with 1 Axes>"
      ]
     },
     "metadata": {
      "needs_background": "light"
     },
     "output_type": "display_data"
    }
   ],
   "source": [
    "fig, axes = plt.subplots(figsize=(14, 6))\n",
    "plt.plot(np.arange(len(rewards_d)), np.cumsum(rewards_d)/np.arange(len(rewards_d)), label=\"Cumulative Average success rate for a deterministic policy\")\n",
    "plt.plot(np.arange(len(rewards_q)), np.cumsum(rewards_q)/np.arange(len(rewards_q)), label=\"Cumulative Average success rate for Q-learning\")\n",
    "plt.plot(np.arange(len(rewards_q_greedy)), np.cumsum(rewards_q_greedy)/np.arange(len(rewards_q_greedy)), label=\"Cumulative Average success rate for Q-learning epsilon Greedy\")\n",
    "plt.plot(np.arange(len(rewards_q_greedy_decay)), np.cumsum(rewards_q_greedy_decay)/np.arange(len(rewards_q_greedy_decay)), label=\"Cumulative Average success rate for Q-learning epsilon greedy with decay\")\n",
    "plt.plot(np.arange(len(rewards_sarsa)), np.cumsum(rewards_sarsa)/np.arange(len(rewards_sarsa)), label=\"Cumulative Average success rate for SARSA\")\n",
    "\n",
    "axes.set(xlabel='Episode', ylabel='Success Rate', title='Average Success Rate of Q-learning algorithms for is_learning=True')\n",
    "plt.legend()\n",
    "plt.show()"
   ]
  },
  {
   "cell_type": "markdown",
   "metadata": {},
   "source": [
    "## 4. Conclusion :\n",
    "We've established 3 variations of the Q-learning algorithm. As well as the SARSA algorithm, we've benchmarked their performance for both `slippery` and `non-slippery` environments. Furthermore, we've optimized their performance through a manual grid search of the hyperparameters."
   ]
  }
 ],
 "metadata": {
  "kernelspec": {
   "display_name": "Python 3 (ipykernel)",
   "language": "python",
   "name": "python3"
  },
  "language_info": {
   "codemirror_mode": {
    "name": "ipython",
    "version": 3
   },
   "file_extension": ".py",
   "mimetype": "text/x-python",
   "name": "python",
   "nbconvert_exporter": "python",
   "pygments_lexer": "ipython3",
   "version": "3.9.12"
  },
  "vscode": {
   "interpreter": {
    "hash": "916dbcbb3f70747c44a77c7bcd40155683ae19c65e1c03b4aa3499c5328201f1"
   }
  }
 },
 "nbformat": 4,
 "nbformat_minor": 2
}
